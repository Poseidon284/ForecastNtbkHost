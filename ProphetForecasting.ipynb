{
 "cells": [
  {
   "cell_type": "code",
   "execution_count": 233,
   "id": "6999c836",
   "metadata": {},
   "outputs": [],
   "source": [
    "import pandas as pd\n",
    "import numpy as np\n",
    "import plotly.express as px\n",
    "import plotly.io as pio\n",
    "from prophet import Prophet\n",
    "from prophet import Prophet\n",
    "from prophet.make_holidays import make_holidays_df\n",
    "from sklearn.metrics import r2_score, mean_absolute_error, mean_absolute_percentage_error\n",
    "from prophet.diagnostics import cross_validation, performance_metrics\n",
    "from prophet.plot import plot_cross_validation_metric, plot_components_plotly\n",
    "from sklearn.metrics import mean_absolute_error, mean_absolute_percentage_error, r2_score"
   ]
  },
  {
   "cell_type": "markdown",
   "id": "ae9d7a23",
   "metadata": {},
   "source": [
    "## Dataset and Analysis - For Sales Forecasting"
   ]
  },
  {
   "cell_type": "markdown",
   "id": "ef010a97",
   "metadata": {},
   "source": [
    "The dataset is loaded and head is visualized"
   ]
  },
  {
   "cell_type": "code",
   "execution_count": 234,
   "id": "f719d897",
   "metadata": {},
   "outputs": [
    {
     "data": {
      "text/html": [
       "<div>\n",
       "<style scoped>\n",
       "    .dataframe tbody tr th:only-of-type {\n",
       "        vertical-align: middle;\n",
       "    }\n",
       "\n",
       "    .dataframe tbody tr th {\n",
       "        vertical-align: top;\n",
       "    }\n",
       "\n",
       "    .dataframe thead th {\n",
       "        text-align: right;\n",
       "    }\n",
       "</style>\n",
       "<table border=\"1\" class=\"dataframe\">\n",
       "  <thead>\n",
       "    <tr style=\"text-align: right;\">\n",
       "      <th></th>\n",
       "      <th>date</th>\n",
       "      <th>time</th>\n",
       "      <th>ticket_number</th>\n",
       "      <th>article</th>\n",
       "      <th>Quantity</th>\n",
       "      <th>unit_price</th>\n",
       "    </tr>\n",
       "  </thead>\n",
       "  <tbody>\n",
       "    <tr>\n",
       "      <th>0</th>\n",
       "      <td>2021-01-02</td>\n",
       "      <td>08:38</td>\n",
       "      <td>150040.0</td>\n",
       "      <td>BAGUETTE</td>\n",
       "      <td>1.0</td>\n",
       "      <td>0,90 €</td>\n",
       "    </tr>\n",
       "    <tr>\n",
       "      <th>1</th>\n",
       "      <td>2021-01-02</td>\n",
       "      <td>08:38</td>\n",
       "      <td>150040.0</td>\n",
       "      <td>PAIN AU CHOCOLAT</td>\n",
       "      <td>3.0</td>\n",
       "      <td>1,20 €</td>\n",
       "    </tr>\n",
       "    <tr>\n",
       "      <th>4</th>\n",
       "      <td>2021-01-02</td>\n",
       "      <td>09:14</td>\n",
       "      <td>150041.0</td>\n",
       "      <td>PAIN AU CHOCOLAT</td>\n",
       "      <td>2.0</td>\n",
       "      <td>1,20 €</td>\n",
       "    </tr>\n",
       "    <tr>\n",
       "      <th>5</th>\n",
       "      <td>2021-01-02</td>\n",
       "      <td>09:14</td>\n",
       "      <td>150041.0</td>\n",
       "      <td>PAIN</td>\n",
       "      <td>1.0</td>\n",
       "      <td>1,15 €</td>\n",
       "    </tr>\n",
       "    <tr>\n",
       "      <th>8</th>\n",
       "      <td>2021-01-02</td>\n",
       "      <td>09:25</td>\n",
       "      <td>150042.0</td>\n",
       "      <td>TRADITIONAL BAGUETTE</td>\n",
       "      <td>5.0</td>\n",
       "      <td>1,20 €</td>\n",
       "    </tr>\n",
       "  </tbody>\n",
       "</table>\n",
       "</div>"
      ],
      "text/plain": [
       "         date   time  ticket_number               article  Quantity unit_price\n",
       "0  2021-01-02  08:38       150040.0              BAGUETTE       1.0     0,90 €\n",
       "1  2021-01-02  08:38       150040.0      PAIN AU CHOCOLAT       3.0     1,20 €\n",
       "4  2021-01-02  09:14       150041.0      PAIN AU CHOCOLAT       2.0     1,20 €\n",
       "5  2021-01-02  09:14       150041.0                  PAIN       1.0     1,15 €\n",
       "8  2021-01-02  09:25       150042.0  TRADITIONAL BAGUETTE       5.0     1,20 €"
      ]
     },
     "execution_count": 234,
     "metadata": {},
     "output_type": "execute_result"
    }
   ],
   "source": [
    "df = pd.read_csv('D:/datasets/Bakery sales.csv', index_col=0)\n",
    "df.head()"
   ]
  },
  {
   "cell_type": "markdown",
   "id": "30945796",
   "metadata": {},
   "source": [
    "## Data Cleaning"
   ]
  },
  {
   "cell_type": "markdown",
   "id": "61361dcd",
   "metadata": {},
   "source": [
    "Looking at dataset information and missing values are checked and some fields are formatted"
   ]
  },
  {
   "cell_type": "code",
   "execution_count": 235,
   "id": "f33d3929",
   "metadata": {},
   "outputs": [
    {
     "name": "stdout",
     "output_type": "stream",
     "text": [
      "<class 'pandas.core.frame.DataFrame'>\n",
      "Index: 234005 entries, 0 to 511395\n",
      "Data columns (total 6 columns):\n",
      " #   Column         Non-Null Count   Dtype  \n",
      "---  ------         --------------   -----  \n",
      " 0   date           234005 non-null  object \n",
      " 1   time           234005 non-null  object \n",
      " 2   ticket_number  234005 non-null  float64\n",
      " 3   article        234005 non-null  object \n",
      " 4   Quantity       234005 non-null  float64\n",
      " 5   unit_price     234005 non-null  object \n",
      "dtypes: float64(2), object(4)\n",
      "memory usage: 12.5+ MB\n"
     ]
    }
   ],
   "source": [
    "df.info()"
   ]
  },
  {
   "cell_type": "code",
   "execution_count": 236,
   "id": "3ca4f34d",
   "metadata": {},
   "outputs": [
    {
     "data": {
      "text/plain": [
       "date             0\n",
       "time             0\n",
       "ticket_number    0\n",
       "article          0\n",
       "Quantity         0\n",
       "unit_price       0\n",
       "dtype: int64"
      ]
     },
     "execution_count": 236,
     "metadata": {},
     "output_type": "execute_result"
    }
   ],
   "source": [
    "df.isnull().sum()"
   ]
  },
  {
   "cell_type": "code",
   "execution_count": 237,
   "id": "fb05d7cc",
   "metadata": {},
   "outputs": [],
   "source": [
    "df['Quantity'] = abs(df['Quantity'])"
   ]
  },
  {
   "cell_type": "code",
   "execution_count": 238,
   "id": "da5e7a68",
   "metadata": {},
   "outputs": [
    {
     "name": "stdout",
     "output_type": "stream",
     "text": [
      "Dataset Description :\n",
      " count    234005.000000\n",
      "mean          1.557189\n",
      "std           1.266824\n",
      "min           1.000000\n",
      "25%           1.000000\n",
      "50%           1.000000\n",
      "75%           2.000000\n",
      "max         200.000000\n",
      "Name: Quantity, dtype: float64\n"
     ]
    }
   ],
   "source": [
    "print(\"Dataset Description :\\n\", df['Quantity'].describe())"
   ]
  },
  {
   "cell_type": "code",
   "execution_count": 239,
   "id": "503db9cc",
   "metadata": {},
   "outputs": [],
   "source": [
    "df['unit_price'] = (\n",
    "    df['unit_price']\n",
    "    .str.replace('€', '', regex=False)\n",
    "    .str.replace('.', '', regex=False) \n",
    "    .str.replace(',', '.', regex=False)\n",
    "    .astype(float))\n",
    "\n",
    "df[\"date\"] = pd.to_datetime(df[\"date\"], errors=\"coerce\", dayfirst=False)"
   ]
  },
  {
   "cell_type": "code",
   "execution_count": 240,
   "id": "940818db",
   "metadata": {},
   "outputs": [],
   "source": [
    "df['Sales'] = df['Quantity']*df['unit_price']"
   ]
  },
  {
   "cell_type": "code",
   "execution_count": 241,
   "id": "b843613b",
   "metadata": {},
   "outputs": [
    {
     "data": {
      "text/plain": [
       "count    234005.000000\n",
       "mean          2.422139\n",
       "std           2.603056\n",
       "min           0.000000\n",
       "25%           1.200000\n",
       "50%           1.600000\n",
       "75%           2.600000\n",
       "max         200.000000\n",
       "Name: Sales, dtype: float64"
      ]
     },
     "execution_count": 241,
     "metadata": {},
     "output_type": "execute_result"
    }
   ],
   "source": [
    "df['Sales'].describe()"
   ]
  },
  {
   "cell_type": "code",
   "execution_count": 242,
   "id": "4cfe80ae",
   "metadata": {},
   "outputs": [],
   "source": [
    "# df"
   ]
  },
  {
   "cell_type": "markdown",
   "id": "4397148f",
   "metadata": {},
   "source": [
    "## Final Dataset used for Training"
   ]
  },
  {
   "cell_type": "code",
   "execution_count": 243,
   "id": "bd857d74",
   "metadata": {},
   "outputs": [],
   "source": [
    "final_df = df.groupby('date', as_index=False)['Sales'].sum()"
   ]
  },
  {
   "cell_type": "code",
   "execution_count": 244,
   "id": "e190b6b8",
   "metadata": {},
   "outputs": [
    {
     "name": "stdout",
     "output_type": "stream",
     "text": [
      "<class 'pandas.core.frame.DataFrame'>\n",
      "RangeIndex: 600 entries, 0 to 599\n",
      "Data columns (total 2 columns):\n",
      " #   Column  Non-Null Count  Dtype         \n",
      "---  ------  --------------  -----         \n",
      " 0   date    600 non-null    datetime64[ns]\n",
      " 1   Sales   600 non-null    float64       \n",
      "dtypes: datetime64[ns](1), float64(1)\n",
      "memory usage: 9.5 KB\n"
     ]
    }
   ],
   "source": [
    "final_df.info()"
   ]
  },
  {
   "cell_type": "code",
   "execution_count": 245,
   "id": "42ba46da",
   "metadata": {},
   "outputs": [
    {
     "data": {
      "text/plain": [
       "DatetimeIndex(['2021-01-01', '2021-01-06', '2021-01-13', '2021-01-20',\n",
       "               '2021-01-27', '2021-02-03', '2021-02-10', '2021-02-17',\n",
       "               '2021-02-24', '2021-03-03', '2021-03-10', '2021-03-17',\n",
       "               '2021-03-24', '2021-03-31', '2021-04-07', '2021-05-17',\n",
       "               '2021-05-18', '2021-05-19', '2021-05-20', '2021-11-17',\n",
       "               '2021-11-24', '2021-12-01', '2021-12-06', '2021-12-07',\n",
       "               '2021-12-08', '2021-12-15', '2022-01-01', '2022-01-05',\n",
       "               '2022-01-12', '2022-01-19', '2022-01-26', '2022-02-02',\n",
       "               '2022-02-09', '2022-02-16', '2022-02-23', '2022-05-04',\n",
       "               '2022-09-01', '2022-09-19'],\n",
       "              dtype='datetime64[ns]', freq=None)"
      ]
     },
     "execution_count": 245,
     "metadata": {},
     "output_type": "execute_result"
    }
   ],
   "source": [
    "full_range = pd.date_range(start='2021-01-01', end=final_df[\"date\"].max())\n",
    "\n",
    "missing_dates = full_range.difference(final_df[\"date\"])\n",
    "missing_dates"
   ]
  },
  {
   "cell_type": "markdown",
   "id": "fa244ae3",
   "metadata": {},
   "source": [
    "We find some missing dates in the sales data"
   ]
  },
  {
   "cell_type": "markdown",
   "id": "68b34475",
   "metadata": {},
   "source": [
    "## Holiday Analysis"
   ]
  },
  {
   "cell_type": "markdown",
   "id": "6de806e1",
   "metadata": {},
   "source": [
    "This is a dataset that has bakery sales from from France. French holidays correlate to higher sales."
   ]
  },
  {
   "cell_type": "code",
   "execution_count": 246,
   "id": "edafce8a",
   "metadata": {},
   "outputs": [],
   "source": [
    "years = [2021,2022,2023]\n",
    "holidays_df = make_holidays_df(year_list=years, country='FR')"
   ]
  },
  {
   "cell_type": "code",
   "execution_count": 247,
   "id": "352fa204",
   "metadata": {},
   "outputs": [
    {
     "name": "stdout",
     "output_type": "stream",
     "text": [
      "[Timestamp('2021-01-01 00:00:00'), Timestamp('2022-01-01 00:00:00')]\n"
     ]
    }
   ],
   "source": [
    "import holidays\n",
    "fr_holidays = holidays.FR()\n",
    "holidays_missing = []\n",
    "for date in missing_dates:\n",
    "    if date in fr_holidays:\n",
    "        holidays_missing.append(date)\n",
    "\n",
    "print(holidays_missing)"
   ]
  },
  {
   "cell_type": "markdown",
   "id": "95d48091",
   "metadata": {},
   "source": [
    "We see that some holidays are missing in either 2022 or 2021 and it can be filled with the data for previous years. Here, I have used the 2022 dates for 2021(not commonly a good practice yet used here since we have no other similar measure) Other data could be filled with the median amount made. "
   ]
  },
  {
   "cell_type": "code",
   "execution_count": 248,
   "id": "13fd6718",
   "metadata": {},
   "outputs": [
    {
     "data": {
      "text/plain": [
       "Timestamp('2021-01-02 00:00:00')"
      ]
     },
     "execution_count": 248,
     "metadata": {},
     "output_type": "execute_result"
    }
   ],
   "source": [
    "final_df['date'].min()"
   ]
  },
  {
   "cell_type": "code",
   "execution_count": 249,
   "id": "b6a822d0",
   "metadata": {},
   "outputs": [
    {
     "data": {
      "text/plain": [
       "Timestamp('2022-09-30 00:00:00')"
      ]
     },
     "execution_count": 249,
     "metadata": {},
     "output_type": "execute_result"
    }
   ],
   "source": [
    "final_df['date'].max()"
   ]
  },
  {
   "cell_type": "markdown",
   "id": "56f7db7b",
   "metadata": {},
   "source": [
    "We do not have the data for New Year's day 2021 either as our data begins with Jan 2, 2021. So, we have no estimate for the amount of cakes sold on new year's day. So it is better to treat these two dates as special holidays and input the 85% Sales value by manual estimate and input the other dates with available values at previous year"
   ]
  },
  {
   "cell_type": "markdown",
   "id": "7c3fa3e3",
   "metadata": {},
   "source": [
    "#### Add the missing dates"
   ]
  },
  {
   "cell_type": "code",
   "execution_count": 250,
   "id": "e5012c00",
   "metadata": {},
   "outputs": [],
   "source": [
    "final_df = final_df.set_index(\"date\").reindex(full_range)\n",
    "final_df.index.name = \"date\"\n",
    "final_df = final_df.reset_index().rename(columns={\"index\": \"date\"})"
   ]
  },
  {
   "cell_type": "code",
   "execution_count": 251,
   "id": "02ada804",
   "metadata": {},
   "outputs": [
    {
     "data": {
      "text/plain": [
       "np.int64(38)"
      ]
     },
     "execution_count": 251,
     "metadata": {},
     "output_type": "execute_result"
    }
   ],
   "source": [
    "final_df['Sales'].isnull().sum()"
   ]
  },
  {
   "cell_type": "code",
   "execution_count": 252,
   "id": "840de24c",
   "metadata": {},
   "outputs": [
    {
     "data": {
      "text/html": [
       "<div>\n",
       "<style scoped>\n",
       "    .dataframe tbody tr th:only-of-type {\n",
       "        vertical-align: middle;\n",
       "    }\n",
       "\n",
       "    .dataframe tbody tr th {\n",
       "        vertical-align: top;\n",
       "    }\n",
       "\n",
       "    .dataframe thead th {\n",
       "        text-align: right;\n",
       "    }\n",
       "</style>\n",
       "<table border=\"1\" class=\"dataframe\">\n",
       "  <thead>\n",
       "    <tr style=\"text-align: right;\">\n",
       "      <th></th>\n",
       "      <th>date</th>\n",
       "      <th>Sales</th>\n",
       "    </tr>\n",
       "  </thead>\n",
       "  <tbody>\n",
       "    <tr>\n",
       "      <th>32</th>\n",
       "      <td>2021-02-02</td>\n",
       "      <td>411.35</td>\n",
       "    </tr>\n",
       "  </tbody>\n",
       "</table>\n",
       "</div>"
      ],
      "text/plain": [
       "         date   Sales\n",
       "32 2021-02-02  411.35"
      ]
     },
     "execution_count": 252,
     "metadata": {},
     "output_type": "execute_result"
    }
   ],
   "source": [
    "final_df[final_df['date'] == '2021-02-02']"
   ]
  },
  {
   "cell_type": "code",
   "execution_count": 253,
   "id": "eafa3fc1",
   "metadata": {},
   "outputs": [],
   "source": [
    "final_df[\"sales_last_year\"] = final_df[\"Sales\"].shift(365)"
   ]
  },
  {
   "cell_type": "code",
   "execution_count": 254,
   "id": "90bbb090",
   "metadata": {},
   "outputs": [],
   "source": [
    "final_df[\"filled_sales\"] = final_df[\"Sales\"].fillna(final_df[\"sales_last_year\"])\n",
    "final_df['Sales'] = final_df['filled_sales']\n",
    "final_df = final_df.drop('filled_sales', axis=1)\n",
    "final_df = final_df.drop('sales_last_year', axis=1)"
   ]
  },
  {
   "cell_type": "code",
   "execution_count": 255,
   "id": "84c359ee",
   "metadata": {},
   "outputs": [],
   "source": [
    "final_df.loc[final_df['date']=='2021-01-01', 'Sales'] = final_df[\"Sales\"].quantile(0.95)\n",
    "final_df.loc[final_df['date']=='2022-01-01', 'Sales'] = final_df[\"Sales\"].quantile(0.95)"
   ]
  },
  {
   "cell_type": "code",
   "execution_count": 256,
   "id": "22500322",
   "metadata": {},
   "outputs": [
    {
     "data": {
      "text/html": [
       "<div>\n",
       "<style scoped>\n",
       "    .dataframe tbody tr th:only-of-type {\n",
       "        vertical-align: middle;\n",
       "    }\n",
       "\n",
       "    .dataframe tbody tr th {\n",
       "        vertical-align: top;\n",
       "    }\n",
       "\n",
       "    .dataframe thead th {\n",
       "        text-align: right;\n",
       "    }\n",
       "</style>\n",
       "<table border=\"1\" class=\"dataframe\">\n",
       "  <thead>\n",
       "    <tr style=\"text-align: right;\">\n",
       "      <th></th>\n",
       "      <th>date</th>\n",
       "      <th>Sales</th>\n",
       "    </tr>\n",
       "  </thead>\n",
       "  <tbody>\n",
       "    <tr>\n",
       "      <th>0</th>\n",
       "      <td>2021-01-01</td>\n",
       "      <td>1918.2000</td>\n",
       "    </tr>\n",
       "    <tr>\n",
       "      <th>365</th>\n",
       "      <td>2022-01-01</td>\n",
       "      <td>1918.3575</td>\n",
       "    </tr>\n",
       "  </tbody>\n",
       "</table>\n",
       "</div>"
      ],
      "text/plain": [
       "          date      Sales\n",
       "0   2021-01-01  1918.2000\n",
       "365 2022-01-01  1918.3575"
      ]
     },
     "execution_count": 256,
     "metadata": {},
     "output_type": "execute_result"
    }
   ],
   "source": [
    "final_df[(final_df['date']=='2022-01-01') | (final_df['date']=='2021-01-01')]"
   ]
  },
  {
   "cell_type": "code",
   "execution_count": 257,
   "id": "0f13516e",
   "metadata": {},
   "outputs": [
    {
     "data": {
      "text/plain": [
       "np.int64(25)"
      ]
     },
     "execution_count": 257,
     "metadata": {},
     "output_type": "execute_result"
    }
   ],
   "source": [
    "final_df['Sales'].isnull().sum()"
   ]
  },
  {
   "cell_type": "markdown",
   "id": "d753af09",
   "metadata": {},
   "source": [
    "We filled 11 values for 2022 using 2021's data and 2 values using the Holiday estimate of 95th percentile. The rest can be handled by median filling"
   ]
  },
  {
   "cell_type": "code",
   "execution_count": 258,
   "id": "314d9621",
   "metadata": {},
   "outputs": [],
   "source": [
    "final_df['Sales'] = final_df['Sales'].fillna(final_df[\"Sales\"].quantile(0.50))"
   ]
  },
  {
   "cell_type": "code",
   "execution_count": 259,
   "id": "15347811",
   "metadata": {},
   "outputs": [
    {
     "data": {
      "text/plain": [
       "date     0\n",
       "Sales    0\n",
       "dtype: int64"
      ]
     },
     "execution_count": 259,
     "metadata": {},
     "output_type": "execute_result"
    }
   ],
   "source": [
    "final_df.isnull().sum()"
   ]
  },
  {
   "cell_type": "code",
   "execution_count": 260,
   "id": "f634f876",
   "metadata": {},
   "outputs": [
    {
     "data": {
      "text/plain": [
       "np.float64(767.4)"
      ]
     },
     "execution_count": 260,
     "metadata": {},
     "output_type": "execute_result"
    }
   ],
   "source": [
    "final_df['Sales'].median()"
   ]
  },
  {
   "cell_type": "code",
   "execution_count": 261,
   "id": "34faac49",
   "metadata": {},
   "outputs": [
    {
     "data": {
      "text/plain": [
       "np.int64(638)"
      ]
     },
     "execution_count": 261,
     "metadata": {},
     "output_type": "execute_result"
    }
   ],
   "source": [
    "final_df.value_counts().sum()"
   ]
  },
  {
   "cell_type": "markdown",
   "id": "aabe2e40",
   "metadata": {},
   "source": [
    "## Visualization of Sales"
   ]
  },
  {
   "cell_type": "code",
   "execution_count": 262,
   "id": "78476479",
   "metadata": {},
   "outputs": [
    {
     "data": {
      "application/vnd.plotly.v1+json": {
       "config": {
        "plotlyServerURL": "https://plot.ly"
       },
       "data": [
        {
         "fillpattern": {
          "shape": ""
         },
         "hovertemplate": "date=%{x}<br>Sales=%{y}<extra></extra>",
         "legendgroup": "",
         "line": {
          "color": "#636efa"
         },
         "marker": {
          "symbol": "circle"
         },
         "mode": "lines",
         "name": "",
         "orientation": "v",
         "showlegend": false,
         "stackgroup": "1",
         "type": "scatter",
         "x": [
          "2021-01-01T00:00:00",
          "2021-01-02T00:00:00",
          "2021-01-03T00:00:00",
          "2021-01-04T00:00:00",
          "2021-01-05T00:00:00",
          "2021-01-06T00:00:00",
          "2021-01-07T00:00:00",
          "2021-01-08T00:00:00",
          "2021-01-09T00:00:00",
          "2021-01-10T00:00:00",
          "2021-01-11T00:00:00",
          "2021-01-12T00:00:00",
          "2021-01-13T00:00:00",
          "2021-01-14T00:00:00",
          "2021-01-15T00:00:00",
          "2021-01-16T00:00:00",
          "2021-01-17T00:00:00",
          "2021-01-18T00:00:00",
          "2021-01-19T00:00:00",
          "2021-01-20T00:00:00",
          "2021-01-21T00:00:00",
          "2021-01-22T00:00:00",
          "2021-01-23T00:00:00",
          "2021-01-24T00:00:00",
          "2021-01-25T00:00:00",
          "2021-01-26T00:00:00",
          "2021-01-27T00:00:00",
          "2021-01-28T00:00:00",
          "2021-01-29T00:00:00",
          "2021-01-30T00:00:00",
          "2021-01-31T00:00:00",
          "2021-02-01T00:00:00",
          "2021-02-02T00:00:00",
          "2021-02-03T00:00:00",
          "2021-02-04T00:00:00",
          "2021-02-05T00:00:00",
          "2021-02-06T00:00:00",
          "2021-02-07T00:00:00",
          "2021-02-08T00:00:00",
          "2021-02-09T00:00:00",
          "2021-02-10T00:00:00",
          "2021-02-11T00:00:00",
          "2021-02-12T00:00:00",
          "2021-02-13T00:00:00",
          "2021-02-14T00:00:00",
          "2021-02-15T00:00:00",
          "2021-02-16T00:00:00",
          "2021-02-17T00:00:00",
          "2021-02-18T00:00:00",
          "2021-02-19T00:00:00",
          "2021-02-20T00:00:00",
          "2021-02-21T00:00:00",
          "2021-02-22T00:00:00",
          "2021-02-23T00:00:00",
          "2021-02-24T00:00:00",
          "2021-02-25T00:00:00",
          "2021-02-26T00:00:00",
          "2021-02-27T00:00:00",
          "2021-02-28T00:00:00",
          "2021-03-01T00:00:00",
          "2021-03-02T00:00:00",
          "2021-03-03T00:00:00",
          "2021-03-04T00:00:00",
          "2021-03-05T00:00:00",
          "2021-03-06T00:00:00",
          "2021-03-07T00:00:00",
          "2021-03-08T00:00:00",
          "2021-03-09T00:00:00",
          "2021-03-10T00:00:00",
          "2021-03-11T00:00:00",
          "2021-03-12T00:00:00",
          "2021-03-13T00:00:00",
          "2021-03-14T00:00:00",
          "2021-03-15T00:00:00",
          "2021-03-16T00:00:00",
          "2021-03-17T00:00:00",
          "2021-03-18T00:00:00",
          "2021-03-19T00:00:00",
          "2021-03-20T00:00:00",
          "2021-03-21T00:00:00",
          "2021-03-22T00:00:00",
          "2021-03-23T00:00:00",
          "2021-03-24T00:00:00",
          "2021-03-25T00:00:00",
          "2021-03-26T00:00:00",
          "2021-03-27T00:00:00",
          "2021-03-28T00:00:00",
          "2021-03-29T00:00:00",
          "2021-03-30T00:00:00",
          "2021-03-31T00:00:00",
          "2021-04-01T00:00:00",
          "2021-04-02T00:00:00",
          "2021-04-03T00:00:00",
          "2021-04-04T00:00:00",
          "2021-04-05T00:00:00",
          "2021-04-06T00:00:00",
          "2021-04-07T00:00:00",
          "2021-04-08T00:00:00",
          "2021-04-09T00:00:00",
          "2021-04-10T00:00:00",
          "2021-04-11T00:00:00",
          "2021-04-12T00:00:00",
          "2021-04-13T00:00:00",
          "2021-04-14T00:00:00",
          "2021-04-15T00:00:00",
          "2021-04-16T00:00:00",
          "2021-04-17T00:00:00",
          "2021-04-18T00:00:00",
          "2021-04-19T00:00:00",
          "2021-04-20T00:00:00",
          "2021-04-21T00:00:00",
          "2021-04-22T00:00:00",
          "2021-04-23T00:00:00",
          "2021-04-24T00:00:00",
          "2021-04-25T00:00:00",
          "2021-04-26T00:00:00",
          "2021-04-27T00:00:00",
          "2021-04-28T00:00:00",
          "2021-04-29T00:00:00",
          "2021-04-30T00:00:00",
          "2021-05-01T00:00:00",
          "2021-05-02T00:00:00",
          "2021-05-03T00:00:00",
          "2021-05-04T00:00:00",
          "2021-05-05T00:00:00",
          "2021-05-06T00:00:00",
          "2021-05-07T00:00:00",
          "2021-05-08T00:00:00",
          "2021-05-09T00:00:00",
          "2021-05-10T00:00:00",
          "2021-05-11T00:00:00",
          "2021-05-12T00:00:00",
          "2021-05-13T00:00:00",
          "2021-05-14T00:00:00",
          "2021-05-15T00:00:00",
          "2021-05-16T00:00:00",
          "2021-05-17T00:00:00",
          "2021-05-18T00:00:00",
          "2021-05-19T00:00:00",
          "2021-05-20T00:00:00",
          "2021-05-21T00:00:00",
          "2021-05-22T00:00:00",
          "2021-05-23T00:00:00",
          "2021-05-24T00:00:00",
          "2021-05-25T00:00:00",
          "2021-05-26T00:00:00",
          "2021-05-27T00:00:00",
          "2021-05-28T00:00:00",
          "2021-05-29T00:00:00",
          "2021-05-30T00:00:00",
          "2021-05-31T00:00:00",
          "2021-06-01T00:00:00",
          "2021-06-02T00:00:00",
          "2021-06-03T00:00:00",
          "2021-06-04T00:00:00",
          "2021-06-05T00:00:00",
          "2021-06-06T00:00:00",
          "2021-06-07T00:00:00",
          "2021-06-08T00:00:00",
          "2021-06-09T00:00:00",
          "2021-06-10T00:00:00",
          "2021-06-11T00:00:00",
          "2021-06-12T00:00:00",
          "2021-06-13T00:00:00",
          "2021-06-14T00:00:00",
          "2021-06-15T00:00:00",
          "2021-06-16T00:00:00",
          "2021-06-17T00:00:00",
          "2021-06-18T00:00:00",
          "2021-06-19T00:00:00",
          "2021-06-20T00:00:00",
          "2021-06-21T00:00:00",
          "2021-06-22T00:00:00",
          "2021-06-23T00:00:00",
          "2021-06-24T00:00:00",
          "2021-06-25T00:00:00",
          "2021-06-26T00:00:00",
          "2021-06-27T00:00:00",
          "2021-06-28T00:00:00",
          "2021-06-29T00:00:00",
          "2021-06-30T00:00:00",
          "2021-07-01T00:00:00",
          "2021-07-02T00:00:00",
          "2021-07-03T00:00:00",
          "2021-07-04T00:00:00",
          "2021-07-05T00:00:00",
          "2021-07-06T00:00:00",
          "2021-07-07T00:00:00",
          "2021-07-08T00:00:00",
          "2021-07-09T00:00:00",
          "2021-07-10T00:00:00",
          "2021-07-11T00:00:00",
          "2021-07-12T00:00:00",
          "2021-07-13T00:00:00",
          "2021-07-14T00:00:00",
          "2021-07-15T00:00:00",
          "2021-07-16T00:00:00",
          "2021-07-17T00:00:00",
          "2021-07-18T00:00:00",
          "2021-07-19T00:00:00",
          "2021-07-20T00:00:00",
          "2021-07-21T00:00:00",
          "2021-07-22T00:00:00",
          "2021-07-23T00:00:00",
          "2021-07-24T00:00:00",
          "2021-07-25T00:00:00",
          "2021-07-26T00:00:00",
          "2021-07-27T00:00:00",
          "2021-07-28T00:00:00",
          "2021-07-29T00:00:00",
          "2021-07-30T00:00:00",
          "2021-07-31T00:00:00",
          "2021-08-01T00:00:00",
          "2021-08-02T00:00:00",
          "2021-08-03T00:00:00",
          "2021-08-04T00:00:00",
          "2021-08-05T00:00:00",
          "2021-08-06T00:00:00",
          "2021-08-07T00:00:00",
          "2021-08-08T00:00:00",
          "2021-08-09T00:00:00",
          "2021-08-10T00:00:00",
          "2021-08-11T00:00:00",
          "2021-08-12T00:00:00",
          "2021-08-13T00:00:00",
          "2021-08-14T00:00:00",
          "2021-08-15T00:00:00",
          "2021-08-16T00:00:00",
          "2021-08-17T00:00:00",
          "2021-08-18T00:00:00",
          "2021-08-19T00:00:00",
          "2021-08-20T00:00:00",
          "2021-08-21T00:00:00",
          "2021-08-22T00:00:00",
          "2021-08-23T00:00:00",
          "2021-08-24T00:00:00",
          "2021-08-25T00:00:00",
          "2021-08-26T00:00:00",
          "2021-08-27T00:00:00",
          "2021-08-28T00:00:00",
          "2021-08-29T00:00:00",
          "2021-08-30T00:00:00",
          "2021-08-31T00:00:00",
          "2021-09-01T00:00:00",
          "2021-09-02T00:00:00",
          "2021-09-03T00:00:00",
          "2021-09-04T00:00:00",
          "2021-09-05T00:00:00",
          "2021-09-06T00:00:00",
          "2021-09-07T00:00:00",
          "2021-09-08T00:00:00",
          "2021-09-09T00:00:00",
          "2021-09-10T00:00:00",
          "2021-09-11T00:00:00",
          "2021-09-12T00:00:00",
          "2021-09-13T00:00:00",
          "2021-09-14T00:00:00",
          "2021-09-15T00:00:00",
          "2021-09-16T00:00:00",
          "2021-09-17T00:00:00",
          "2021-09-18T00:00:00",
          "2021-09-19T00:00:00",
          "2021-09-20T00:00:00",
          "2021-09-21T00:00:00",
          "2021-09-22T00:00:00",
          "2021-09-23T00:00:00",
          "2021-09-24T00:00:00",
          "2021-09-25T00:00:00",
          "2021-09-26T00:00:00",
          "2021-09-27T00:00:00",
          "2021-09-28T00:00:00",
          "2021-09-29T00:00:00",
          "2021-09-30T00:00:00",
          "2021-10-01T00:00:00",
          "2021-10-02T00:00:00",
          "2021-10-03T00:00:00",
          "2021-10-04T00:00:00",
          "2021-10-05T00:00:00",
          "2021-10-06T00:00:00",
          "2021-10-07T00:00:00",
          "2021-10-08T00:00:00",
          "2021-10-09T00:00:00",
          "2021-10-10T00:00:00",
          "2021-10-11T00:00:00",
          "2021-10-12T00:00:00",
          "2021-10-13T00:00:00",
          "2021-10-14T00:00:00",
          "2021-10-15T00:00:00",
          "2021-10-16T00:00:00",
          "2021-10-17T00:00:00",
          "2021-10-18T00:00:00",
          "2021-10-19T00:00:00",
          "2021-10-20T00:00:00",
          "2021-10-21T00:00:00",
          "2021-10-22T00:00:00",
          "2021-10-23T00:00:00",
          "2021-10-24T00:00:00",
          "2021-10-25T00:00:00",
          "2021-10-26T00:00:00",
          "2021-10-27T00:00:00",
          "2021-10-28T00:00:00",
          "2021-10-29T00:00:00",
          "2021-10-30T00:00:00",
          "2021-10-31T00:00:00",
          "2021-11-01T00:00:00",
          "2021-11-02T00:00:00",
          "2021-11-03T00:00:00",
          "2021-11-04T00:00:00",
          "2021-11-05T00:00:00",
          "2021-11-06T00:00:00",
          "2021-11-07T00:00:00",
          "2021-11-08T00:00:00",
          "2021-11-09T00:00:00",
          "2021-11-10T00:00:00",
          "2021-11-11T00:00:00",
          "2021-11-12T00:00:00",
          "2021-11-13T00:00:00",
          "2021-11-14T00:00:00",
          "2021-11-15T00:00:00",
          "2021-11-16T00:00:00",
          "2021-11-17T00:00:00",
          "2021-11-18T00:00:00",
          "2021-11-19T00:00:00",
          "2021-11-20T00:00:00",
          "2021-11-21T00:00:00",
          "2021-11-22T00:00:00",
          "2021-11-23T00:00:00",
          "2021-11-24T00:00:00",
          "2021-11-25T00:00:00",
          "2021-11-26T00:00:00",
          "2021-11-27T00:00:00",
          "2021-11-28T00:00:00",
          "2021-11-29T00:00:00",
          "2021-11-30T00:00:00",
          "2021-12-01T00:00:00",
          "2021-12-02T00:00:00",
          "2021-12-03T00:00:00",
          "2021-12-04T00:00:00",
          "2021-12-05T00:00:00",
          "2021-12-06T00:00:00",
          "2021-12-07T00:00:00",
          "2021-12-08T00:00:00",
          "2021-12-09T00:00:00",
          "2021-12-10T00:00:00",
          "2021-12-11T00:00:00",
          "2021-12-12T00:00:00",
          "2021-12-13T00:00:00",
          "2021-12-14T00:00:00",
          "2021-12-15T00:00:00",
          "2021-12-16T00:00:00",
          "2021-12-17T00:00:00",
          "2021-12-18T00:00:00",
          "2021-12-19T00:00:00",
          "2021-12-20T00:00:00",
          "2021-12-21T00:00:00",
          "2021-12-22T00:00:00",
          "2021-12-23T00:00:00",
          "2021-12-24T00:00:00",
          "2021-12-25T00:00:00",
          "2021-12-26T00:00:00",
          "2021-12-27T00:00:00",
          "2021-12-28T00:00:00",
          "2021-12-29T00:00:00",
          "2021-12-30T00:00:00",
          "2021-12-31T00:00:00",
          "2022-01-01T00:00:00",
          "2022-01-02T00:00:00",
          "2022-01-03T00:00:00",
          "2022-01-04T00:00:00",
          "2022-01-05T00:00:00",
          "2022-01-06T00:00:00",
          "2022-01-07T00:00:00",
          "2022-01-08T00:00:00",
          "2022-01-09T00:00:00",
          "2022-01-10T00:00:00",
          "2022-01-11T00:00:00",
          "2022-01-12T00:00:00",
          "2022-01-13T00:00:00",
          "2022-01-14T00:00:00",
          "2022-01-15T00:00:00",
          "2022-01-16T00:00:00",
          "2022-01-17T00:00:00",
          "2022-01-18T00:00:00",
          "2022-01-19T00:00:00",
          "2022-01-20T00:00:00",
          "2022-01-21T00:00:00",
          "2022-01-22T00:00:00",
          "2022-01-23T00:00:00",
          "2022-01-24T00:00:00",
          "2022-01-25T00:00:00",
          "2022-01-26T00:00:00",
          "2022-01-27T00:00:00",
          "2022-01-28T00:00:00",
          "2022-01-29T00:00:00",
          "2022-01-30T00:00:00",
          "2022-01-31T00:00:00",
          "2022-02-01T00:00:00",
          "2022-02-02T00:00:00",
          "2022-02-03T00:00:00",
          "2022-02-04T00:00:00",
          "2022-02-05T00:00:00",
          "2022-02-06T00:00:00",
          "2022-02-07T00:00:00",
          "2022-02-08T00:00:00",
          "2022-02-09T00:00:00",
          "2022-02-10T00:00:00",
          "2022-02-11T00:00:00",
          "2022-02-12T00:00:00",
          "2022-02-13T00:00:00",
          "2022-02-14T00:00:00",
          "2022-02-15T00:00:00",
          "2022-02-16T00:00:00",
          "2022-02-17T00:00:00",
          "2022-02-18T00:00:00",
          "2022-02-19T00:00:00",
          "2022-02-20T00:00:00",
          "2022-02-21T00:00:00",
          "2022-02-22T00:00:00",
          "2022-02-23T00:00:00",
          "2022-02-24T00:00:00",
          "2022-02-25T00:00:00",
          "2022-02-26T00:00:00",
          "2022-02-27T00:00:00",
          "2022-02-28T00:00:00",
          "2022-03-01T00:00:00",
          "2022-03-02T00:00:00",
          "2022-03-03T00:00:00",
          "2022-03-04T00:00:00",
          "2022-03-05T00:00:00",
          "2022-03-06T00:00:00",
          "2022-03-07T00:00:00",
          "2022-03-08T00:00:00",
          "2022-03-09T00:00:00",
          "2022-03-10T00:00:00",
          "2022-03-11T00:00:00",
          "2022-03-12T00:00:00",
          "2022-03-13T00:00:00",
          "2022-03-14T00:00:00",
          "2022-03-15T00:00:00",
          "2022-03-16T00:00:00",
          "2022-03-17T00:00:00",
          "2022-03-18T00:00:00",
          "2022-03-19T00:00:00",
          "2022-03-20T00:00:00",
          "2022-03-21T00:00:00",
          "2022-03-22T00:00:00",
          "2022-03-23T00:00:00",
          "2022-03-24T00:00:00",
          "2022-03-25T00:00:00",
          "2022-03-26T00:00:00",
          "2022-03-27T00:00:00",
          "2022-03-28T00:00:00",
          "2022-03-29T00:00:00",
          "2022-03-30T00:00:00",
          "2022-03-31T00:00:00",
          "2022-04-01T00:00:00",
          "2022-04-02T00:00:00",
          "2022-04-03T00:00:00",
          "2022-04-04T00:00:00",
          "2022-04-05T00:00:00",
          "2022-04-06T00:00:00",
          "2022-04-07T00:00:00",
          "2022-04-08T00:00:00",
          "2022-04-09T00:00:00",
          "2022-04-10T00:00:00",
          "2022-04-11T00:00:00",
          "2022-04-12T00:00:00",
          "2022-04-13T00:00:00",
          "2022-04-14T00:00:00",
          "2022-04-15T00:00:00",
          "2022-04-16T00:00:00",
          "2022-04-17T00:00:00",
          "2022-04-18T00:00:00",
          "2022-04-19T00:00:00",
          "2022-04-20T00:00:00",
          "2022-04-21T00:00:00",
          "2022-04-22T00:00:00",
          "2022-04-23T00:00:00",
          "2022-04-24T00:00:00",
          "2022-04-25T00:00:00",
          "2022-04-26T00:00:00",
          "2022-04-27T00:00:00",
          "2022-04-28T00:00:00",
          "2022-04-29T00:00:00",
          "2022-04-30T00:00:00",
          "2022-05-01T00:00:00",
          "2022-05-02T00:00:00",
          "2022-05-03T00:00:00",
          "2022-05-04T00:00:00",
          "2022-05-05T00:00:00",
          "2022-05-06T00:00:00",
          "2022-05-07T00:00:00",
          "2022-05-08T00:00:00",
          "2022-05-09T00:00:00",
          "2022-05-10T00:00:00",
          "2022-05-11T00:00:00",
          "2022-05-12T00:00:00",
          "2022-05-13T00:00:00",
          "2022-05-14T00:00:00",
          "2022-05-15T00:00:00",
          "2022-05-16T00:00:00",
          "2022-05-17T00:00:00",
          "2022-05-18T00:00:00",
          "2022-05-19T00:00:00",
          "2022-05-20T00:00:00",
          "2022-05-21T00:00:00",
          "2022-05-22T00:00:00",
          "2022-05-23T00:00:00",
          "2022-05-24T00:00:00",
          "2022-05-25T00:00:00",
          "2022-05-26T00:00:00",
          "2022-05-27T00:00:00",
          "2022-05-28T00:00:00",
          "2022-05-29T00:00:00",
          "2022-05-30T00:00:00",
          "2022-05-31T00:00:00",
          "2022-06-01T00:00:00",
          "2022-06-02T00:00:00",
          "2022-06-03T00:00:00",
          "2022-06-04T00:00:00",
          "2022-06-05T00:00:00",
          "2022-06-06T00:00:00",
          "2022-06-07T00:00:00",
          "2022-06-08T00:00:00",
          "2022-06-09T00:00:00",
          "2022-06-10T00:00:00",
          "2022-06-11T00:00:00",
          "2022-06-12T00:00:00",
          "2022-06-13T00:00:00",
          "2022-06-14T00:00:00",
          "2022-06-15T00:00:00",
          "2022-06-16T00:00:00",
          "2022-06-17T00:00:00",
          "2022-06-18T00:00:00",
          "2022-06-19T00:00:00",
          "2022-06-20T00:00:00",
          "2022-06-21T00:00:00",
          "2022-06-22T00:00:00",
          "2022-06-23T00:00:00",
          "2022-06-24T00:00:00",
          "2022-06-25T00:00:00",
          "2022-06-26T00:00:00",
          "2022-06-27T00:00:00",
          "2022-06-28T00:00:00",
          "2022-06-29T00:00:00",
          "2022-06-30T00:00:00",
          "2022-07-01T00:00:00",
          "2022-07-02T00:00:00",
          "2022-07-03T00:00:00",
          "2022-07-04T00:00:00",
          "2022-07-05T00:00:00",
          "2022-07-06T00:00:00",
          "2022-07-07T00:00:00",
          "2022-07-08T00:00:00",
          "2022-07-09T00:00:00",
          "2022-07-10T00:00:00",
          "2022-07-11T00:00:00",
          "2022-07-12T00:00:00",
          "2022-07-13T00:00:00",
          "2022-07-14T00:00:00",
          "2022-07-15T00:00:00",
          "2022-07-16T00:00:00",
          "2022-07-17T00:00:00",
          "2022-07-18T00:00:00",
          "2022-07-19T00:00:00",
          "2022-07-20T00:00:00",
          "2022-07-21T00:00:00",
          "2022-07-22T00:00:00",
          "2022-07-23T00:00:00",
          "2022-07-24T00:00:00",
          "2022-07-25T00:00:00",
          "2022-07-26T00:00:00",
          "2022-07-27T00:00:00",
          "2022-07-28T00:00:00",
          "2022-07-29T00:00:00",
          "2022-07-30T00:00:00",
          "2022-07-31T00:00:00",
          "2022-08-01T00:00:00",
          "2022-08-02T00:00:00",
          "2022-08-03T00:00:00",
          "2022-08-04T00:00:00",
          "2022-08-05T00:00:00",
          "2022-08-06T00:00:00",
          "2022-08-07T00:00:00",
          "2022-08-08T00:00:00",
          "2022-08-09T00:00:00",
          "2022-08-10T00:00:00",
          "2022-08-11T00:00:00",
          "2022-08-12T00:00:00",
          "2022-08-13T00:00:00",
          "2022-08-14T00:00:00",
          "2022-08-15T00:00:00",
          "2022-08-16T00:00:00",
          "2022-08-17T00:00:00",
          "2022-08-18T00:00:00",
          "2022-08-19T00:00:00",
          "2022-08-20T00:00:00",
          "2022-08-21T00:00:00",
          "2022-08-22T00:00:00",
          "2022-08-23T00:00:00",
          "2022-08-24T00:00:00",
          "2022-08-25T00:00:00",
          "2022-08-26T00:00:00",
          "2022-08-27T00:00:00",
          "2022-08-28T00:00:00",
          "2022-08-29T00:00:00",
          "2022-08-30T00:00:00",
          "2022-08-31T00:00:00",
          "2022-09-01T00:00:00",
          "2022-09-02T00:00:00",
          "2022-09-03T00:00:00",
          "2022-09-04T00:00:00",
          "2022-09-05T00:00:00",
          "2022-09-06T00:00:00",
          "2022-09-07T00:00:00",
          "2022-09-08T00:00:00",
          "2022-09-09T00:00:00",
          "2022-09-10T00:00:00",
          "2022-09-11T00:00:00",
          "2022-09-12T00:00:00",
          "2022-09-13T00:00:00",
          "2022-09-14T00:00:00",
          "2022-09-15T00:00:00",
          "2022-09-16T00:00:00",
          "2022-09-17T00:00:00",
          "2022-09-18T00:00:00",
          "2022-09-19T00:00:00",
          "2022-09-20T00:00:00",
          "2022-09-21T00:00:00",
          "2022-09-22T00:00:00",
          "2022-09-23T00:00:00",
          "2022-09-24T00:00:00",
          "2022-09-25T00:00:00",
          "2022-09-26T00:00:00",
          "2022-09-27T00:00:00",
          "2022-09-28T00:00:00",
          "2022-09-29T00:00:00",
          "2022-09-30T00:00:00"
         ],
         "xaxis": "x",
         "y": {
          "bdata": "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",
          "dtype": "f8"
         },
         "yaxis": "y"
        }
       ],
       "layout": {
        "legend": {
         "tracegroupgap": 0
        },
        "margin": {
         "t": 60
        },
        "template": {
         "data": {
          "bar": [
           {
            "error_x": {
             "color": "#2a3f5f"
            },
            "error_y": {
             "color": "#2a3f5f"
            },
            "marker": {
             "line": {
              "color": "#E5ECF6",
              "width": 0.5
             },
             "pattern": {
              "fillmode": "overlay",
              "size": 10,
              "solidity": 0.2
             }
            },
            "type": "bar"
           }
          ],
          "barpolar": [
           {
            "marker": {
             "line": {
              "color": "#E5ECF6",
              "width": 0.5
             },
             "pattern": {
              "fillmode": "overlay",
              "size": 10,
              "solidity": 0.2
             }
            },
            "type": "barpolar"
           }
          ],
          "carpet": [
           {
            "aaxis": {
             "endlinecolor": "#2a3f5f",
             "gridcolor": "white",
             "linecolor": "white",
             "minorgridcolor": "white",
             "startlinecolor": "#2a3f5f"
            },
            "baxis": {
             "endlinecolor": "#2a3f5f",
             "gridcolor": "white",
             "linecolor": "white",
             "minorgridcolor": "white",
             "startlinecolor": "#2a3f5f"
            },
            "type": "carpet"
           }
          ],
          "choropleth": [
           {
            "colorbar": {
             "outlinewidth": 0,
             "ticks": ""
            },
            "type": "choropleth"
           }
          ],
          "contour": [
           {
            "colorbar": {
             "outlinewidth": 0,
             "ticks": ""
            },
            "colorscale": [
             [
              0,
              "#0d0887"
             ],
             [
              0.1111111111111111,
              "#46039f"
             ],
             [
              0.2222222222222222,
              "#7201a8"
             ],
             [
              0.3333333333333333,
              "#9c179e"
             ],
             [
              0.4444444444444444,
              "#bd3786"
             ],
             [
              0.5555555555555556,
              "#d8576b"
             ],
             [
              0.6666666666666666,
              "#ed7953"
             ],
             [
              0.7777777777777778,
              "#fb9f3a"
             ],
             [
              0.8888888888888888,
              "#fdca26"
             ],
             [
              1,
              "#f0f921"
             ]
            ],
            "type": "contour"
           }
          ],
          "contourcarpet": [
           {
            "colorbar": {
             "outlinewidth": 0,
             "ticks": ""
            },
            "type": "contourcarpet"
           }
          ],
          "heatmap": [
           {
            "colorbar": {
             "outlinewidth": 0,
             "ticks": ""
            },
            "colorscale": [
             [
              0,
              "#0d0887"
             ],
             [
              0.1111111111111111,
              "#46039f"
             ],
             [
              0.2222222222222222,
              "#7201a8"
             ],
             [
              0.3333333333333333,
              "#9c179e"
             ],
             [
              0.4444444444444444,
              "#bd3786"
             ],
             [
              0.5555555555555556,
              "#d8576b"
             ],
             [
              0.6666666666666666,
              "#ed7953"
             ],
             [
              0.7777777777777778,
              "#fb9f3a"
             ],
             [
              0.8888888888888888,
              "#fdca26"
             ],
             [
              1,
              "#f0f921"
             ]
            ],
            "type": "heatmap"
           }
          ],
          "histogram": [
           {
            "marker": {
             "pattern": {
              "fillmode": "overlay",
              "size": 10,
              "solidity": 0.2
             }
            },
            "type": "histogram"
           }
          ],
          "histogram2d": [
           {
            "colorbar": {
             "outlinewidth": 0,
             "ticks": ""
            },
            "colorscale": [
             [
              0,
              "#0d0887"
             ],
             [
              0.1111111111111111,
              "#46039f"
             ],
             [
              0.2222222222222222,
              "#7201a8"
             ],
             [
              0.3333333333333333,
              "#9c179e"
             ],
             [
              0.4444444444444444,
              "#bd3786"
             ],
             [
              0.5555555555555556,
              "#d8576b"
             ],
             [
              0.6666666666666666,
              "#ed7953"
             ],
             [
              0.7777777777777778,
              "#fb9f3a"
             ],
             [
              0.8888888888888888,
              "#fdca26"
             ],
             [
              1,
              "#f0f921"
             ]
            ],
            "type": "histogram2d"
           }
          ],
          "histogram2dcontour": [
           {
            "colorbar": {
             "outlinewidth": 0,
             "ticks": ""
            },
            "colorscale": [
             [
              0,
              "#0d0887"
             ],
             [
              0.1111111111111111,
              "#46039f"
             ],
             [
              0.2222222222222222,
              "#7201a8"
             ],
             [
              0.3333333333333333,
              "#9c179e"
             ],
             [
              0.4444444444444444,
              "#bd3786"
             ],
             [
              0.5555555555555556,
              "#d8576b"
             ],
             [
              0.6666666666666666,
              "#ed7953"
             ],
             [
              0.7777777777777778,
              "#fb9f3a"
             ],
             [
              0.8888888888888888,
              "#fdca26"
             ],
             [
              1,
              "#f0f921"
             ]
            ],
            "type": "histogram2dcontour"
           }
          ],
          "mesh3d": [
           {
            "colorbar": {
             "outlinewidth": 0,
             "ticks": ""
            },
            "type": "mesh3d"
           }
          ],
          "parcoords": [
           {
            "line": {
             "colorbar": {
              "outlinewidth": 0,
              "ticks": ""
             }
            },
            "type": "parcoords"
           }
          ],
          "pie": [
           {
            "automargin": true,
            "type": "pie"
           }
          ],
          "scatter": [
           {
            "fillpattern": {
             "fillmode": "overlay",
             "size": 10,
             "solidity": 0.2
            },
            "type": "scatter"
           }
          ],
          "scatter3d": [
           {
            "line": {
             "colorbar": {
              "outlinewidth": 0,
              "ticks": ""
             }
            },
            "marker": {
             "colorbar": {
              "outlinewidth": 0,
              "ticks": ""
             }
            },
            "type": "scatter3d"
           }
          ],
          "scattercarpet": [
           {
            "marker": {
             "colorbar": {
              "outlinewidth": 0,
              "ticks": ""
             }
            },
            "type": "scattercarpet"
           }
          ],
          "scattergeo": [
           {
            "marker": {
             "colorbar": {
              "outlinewidth": 0,
              "ticks": ""
             }
            },
            "type": "scattergeo"
           }
          ],
          "scattergl": [
           {
            "marker": {
             "colorbar": {
              "outlinewidth": 0,
              "ticks": ""
             }
            },
            "type": "scattergl"
           }
          ],
          "scattermap": [
           {
            "marker": {
             "colorbar": {
              "outlinewidth": 0,
              "ticks": ""
             }
            },
            "type": "scattermap"
           }
          ],
          "scattermapbox": [
           {
            "marker": {
             "colorbar": {
              "outlinewidth": 0,
              "ticks": ""
             }
            },
            "type": "scattermapbox"
           }
          ],
          "scatterpolar": [
           {
            "marker": {
             "colorbar": {
              "outlinewidth": 0,
              "ticks": ""
             }
            },
            "type": "scatterpolar"
           }
          ],
          "scatterpolargl": [
           {
            "marker": {
             "colorbar": {
              "outlinewidth": 0,
              "ticks": ""
             }
            },
            "type": "scatterpolargl"
           }
          ],
          "scatterternary": [
           {
            "marker": {
             "colorbar": {
              "outlinewidth": 0,
              "ticks": ""
             }
            },
            "type": "scatterternary"
           }
          ],
          "surface": [
           {
            "colorbar": {
             "outlinewidth": 0,
             "ticks": ""
            },
            "colorscale": [
             [
              0,
              "#0d0887"
             ],
             [
              0.1111111111111111,
              "#46039f"
             ],
             [
              0.2222222222222222,
              "#7201a8"
             ],
             [
              0.3333333333333333,
              "#9c179e"
             ],
             [
              0.4444444444444444,
              "#bd3786"
             ],
             [
              0.5555555555555556,
              "#d8576b"
             ],
             [
              0.6666666666666666,
              "#ed7953"
             ],
             [
              0.7777777777777778,
              "#fb9f3a"
             ],
             [
              0.8888888888888888,
              "#fdca26"
             ],
             [
              1,
              "#f0f921"
             ]
            ],
            "type": "surface"
           }
          ],
          "table": [
           {
            "cells": {
             "fill": {
              "color": "#EBF0F8"
             },
             "line": {
              "color": "white"
             }
            },
            "header": {
             "fill": {
              "color": "#C8D4E3"
             },
             "line": {
              "color": "white"
             }
            },
            "type": "table"
           }
          ]
         },
         "layout": {
          "annotationdefaults": {
           "arrowcolor": "#2a3f5f",
           "arrowhead": 0,
           "arrowwidth": 1
          },
          "autotypenumbers": "strict",
          "coloraxis": {
           "colorbar": {
            "outlinewidth": 0,
            "ticks": ""
           }
          },
          "colorscale": {
           "diverging": [
            [
             0,
             "#8e0152"
            ],
            [
             0.1,
             "#c51b7d"
            ],
            [
             0.2,
             "#de77ae"
            ],
            [
             0.3,
             "#f1b6da"
            ],
            [
             0.4,
             "#fde0ef"
            ],
            [
             0.5,
             "#f7f7f7"
            ],
            [
             0.6,
             "#e6f5d0"
            ],
            [
             0.7,
             "#b8e186"
            ],
            [
             0.8,
             "#7fbc41"
            ],
            [
             0.9,
             "#4d9221"
            ],
            [
             1,
             "#276419"
            ]
           ],
           "sequential": [
            [
             0,
             "#0d0887"
            ],
            [
             0.1111111111111111,
             "#46039f"
            ],
            [
             0.2222222222222222,
             "#7201a8"
            ],
            [
             0.3333333333333333,
             "#9c179e"
            ],
            [
             0.4444444444444444,
             "#bd3786"
            ],
            [
             0.5555555555555556,
             "#d8576b"
            ],
            [
             0.6666666666666666,
             "#ed7953"
            ],
            [
             0.7777777777777778,
             "#fb9f3a"
            ],
            [
             0.8888888888888888,
             "#fdca26"
            ],
            [
             1,
             "#f0f921"
            ]
           ],
           "sequentialminus": [
            [
             0,
             "#0d0887"
            ],
            [
             0.1111111111111111,
             "#46039f"
            ],
            [
             0.2222222222222222,
             "#7201a8"
            ],
            [
             0.3333333333333333,
             "#9c179e"
            ],
            [
             0.4444444444444444,
             "#bd3786"
            ],
            [
             0.5555555555555556,
             "#d8576b"
            ],
            [
             0.6666666666666666,
             "#ed7953"
            ],
            [
             0.7777777777777778,
             "#fb9f3a"
            ],
            [
             0.8888888888888888,
             "#fdca26"
            ],
            [
             1,
             "#f0f921"
            ]
           ]
          },
          "colorway": [
           "#636efa",
           "#EF553B",
           "#00cc96",
           "#ab63fa",
           "#FFA15A",
           "#19d3f3",
           "#FF6692",
           "#B6E880",
           "#FF97FF",
           "#FECB52"
          ],
          "font": {
           "color": "#2a3f5f"
          },
          "geo": {
           "bgcolor": "white",
           "lakecolor": "white",
           "landcolor": "#E5ECF6",
           "showlakes": true,
           "showland": true,
           "subunitcolor": "white"
          },
          "hoverlabel": {
           "align": "left"
          },
          "hovermode": "closest",
          "mapbox": {
           "style": "light"
          },
          "paper_bgcolor": "white",
          "plot_bgcolor": "#E5ECF6",
          "polar": {
           "angularaxis": {
            "gridcolor": "white",
            "linecolor": "white",
            "ticks": ""
           },
           "bgcolor": "#E5ECF6",
           "radialaxis": {
            "gridcolor": "white",
            "linecolor": "white",
            "ticks": ""
           }
          },
          "scene": {
           "xaxis": {
            "backgroundcolor": "#E5ECF6",
            "gridcolor": "white",
            "gridwidth": 2,
            "linecolor": "white",
            "showbackground": true,
            "ticks": "",
            "zerolinecolor": "white"
           },
           "yaxis": {
            "backgroundcolor": "#E5ECF6",
            "gridcolor": "white",
            "gridwidth": 2,
            "linecolor": "white",
            "showbackground": true,
            "ticks": "",
            "zerolinecolor": "white"
           },
           "zaxis": {
            "backgroundcolor": "#E5ECF6",
            "gridcolor": "white",
            "gridwidth": 2,
            "linecolor": "white",
            "showbackground": true,
            "ticks": "",
            "zerolinecolor": "white"
           }
          },
          "shapedefaults": {
           "line": {
            "color": "#2a3f5f"
           }
          },
          "ternary": {
           "aaxis": {
            "gridcolor": "white",
            "linecolor": "white",
            "ticks": ""
           },
           "baxis": {
            "gridcolor": "white",
            "linecolor": "white",
            "ticks": ""
           },
           "bgcolor": "#E5ECF6",
           "caxis": {
            "gridcolor": "white",
            "linecolor": "white",
            "ticks": ""
           }
          },
          "title": {
           "x": 0.05
          },
          "xaxis": {
           "automargin": true,
           "gridcolor": "white",
           "linecolor": "white",
           "ticks": "",
           "title": {
            "standoff": 15
           },
           "zerolinecolor": "white",
           "zerolinewidth": 2
          },
          "yaxis": {
           "automargin": true,
           "gridcolor": "white",
           "linecolor": "white",
           "ticks": "",
           "title": {
            "standoff": 15
           },
           "zerolinecolor": "white",
           "zerolinewidth": 2
          }
         }
        },
        "xaxis": {
         "anchor": "y",
         "domain": [
          0,
          1
         ],
         "title": {
          "text": "date"
         }
        },
        "yaxis": {
         "anchor": "x",
         "domain": [
          0,
          1
         ],
         "title": {
          "text": "Sales"
         }
        }
       }
      }
     },
     "metadata": {},
     "output_type": "display_data"
    }
   ],
   "source": [
    "px.area(final_df, x='date', y='Sales')"
   ]
  },
  {
   "cell_type": "code",
   "execution_count": 263,
   "id": "dc808355",
   "metadata": {},
   "outputs": [
    {
     "data": {
      "application/vnd.plotly.v1+json": {
       "config": {
        "plotlyServerURL": "https://plot.ly"
       },
       "data": [
        {
         "alignmentgroup": "True",
         "hovertemplate": "variable=%{x}<br>value=%{y}<extra></extra>",
         "legendgroup": "",
         "marker": {
          "color": "#636efa"
         },
         "name": "",
         "notched": false,
         "offsetgroup": "",
         "orientation": "v",
         "showlegend": false,
         "type": "box",
         "x": [
          "Sales",
          "Sales",
          "Sales",
          "Sales",
          "Sales",
          "Sales",
          "Sales",
          "Sales",
          "Sales",
          "Sales",
          "Sales",
          "Sales",
          "Sales",
          "Sales",
          "Sales",
          "Sales",
          "Sales",
          "Sales",
          "Sales",
          "Sales",
          "Sales",
          "Sales",
          "Sales",
          "Sales",
          "Sales",
          "Sales",
          "Sales",
          "Sales",
          "Sales",
          "Sales",
          "Sales",
          "Sales",
          "Sales",
          "Sales",
          "Sales",
          "Sales",
          "Sales",
          "Sales",
          "Sales",
          "Sales",
          "Sales",
          "Sales",
          "Sales",
          "Sales",
          "Sales",
          "Sales",
          "Sales",
          "Sales",
          "Sales",
          "Sales",
          "Sales",
          "Sales",
          "Sales",
          "Sales",
          "Sales",
          "Sales",
          "Sales",
          "Sales",
          "Sales",
          "Sales",
          "Sales",
          "Sales",
          "Sales",
          "Sales",
          "Sales",
          "Sales",
          "Sales",
          "Sales",
          "Sales",
          "Sales",
          "Sales",
          "Sales",
          "Sales",
          "Sales",
          "Sales",
          "Sales",
          "Sales",
          "Sales",
          "Sales",
          "Sales",
          "Sales",
          "Sales",
          "Sales",
          "Sales",
          "Sales",
          "Sales",
          "Sales",
          "Sales",
          "Sales",
          "Sales",
          "Sales",
          "Sales",
          "Sales",
          "Sales",
          "Sales",
          "Sales",
          "Sales",
          "Sales",
          "Sales",
          "Sales",
          "Sales",
          "Sales",
          "Sales",
          "Sales",
          "Sales",
          "Sales",
          "Sales",
          "Sales",
          "Sales",
          "Sales",
          "Sales",
          "Sales",
          "Sales",
          "Sales",
          "Sales",
          "Sales",
          "Sales",
          "Sales",
          "Sales",
          "Sales",
          "Sales",
          "Sales",
          "Sales",
          "Sales",
          "Sales",
          "Sales",
          "Sales",
          "Sales",
          "Sales",
          "Sales",
          "Sales",
          "Sales",
          "Sales",
          "Sales",
          "Sales",
          "Sales",
          "Sales",
          "Sales",
          "Sales",
          "Sales",
          "Sales",
          "Sales",
          "Sales",
          "Sales",
          "Sales",
          "Sales",
          "Sales",
          "Sales",
          "Sales",
          "Sales",
          "Sales",
          "Sales",
          "Sales",
          "Sales",
          "Sales",
          "Sales",
          "Sales",
          "Sales",
          "Sales",
          "Sales",
          "Sales",
          "Sales",
          "Sales",
          "Sales",
          "Sales",
          "Sales",
          "Sales",
          "Sales",
          "Sales",
          "Sales",
          "Sales",
          "Sales",
          "Sales",
          "Sales",
          "Sales",
          "Sales",
          "Sales",
          "Sales",
          "Sales",
          "Sales",
          "Sales",
          "Sales",
          "Sales",
          "Sales",
          "Sales",
          "Sales",
          "Sales",
          "Sales",
          "Sales",
          "Sales",
          "Sales",
          "Sales",
          "Sales",
          "Sales",
          "Sales",
          "Sales",
          "Sales",
          "Sales",
          "Sales",
          "Sales",
          "Sales",
          "Sales",
          "Sales",
          "Sales",
          "Sales",
          "Sales",
          "Sales",
          "Sales",
          "Sales",
          "Sales",
          "Sales",
          "Sales",
          "Sales",
          "Sales",
          "Sales",
          "Sales",
          "Sales",
          "Sales",
          "Sales",
          "Sales",
          "Sales",
          "Sales",
          "Sales",
          "Sales",
          "Sales",
          "Sales",
          "Sales",
          "Sales",
          "Sales",
          "Sales",
          "Sales",
          "Sales",
          "Sales",
          "Sales",
          "Sales",
          "Sales",
          "Sales",
          "Sales",
          "Sales",
          "Sales",
          "Sales",
          "Sales",
          "Sales",
          "Sales",
          "Sales",
          "Sales",
          "Sales",
          "Sales",
          "Sales",
          "Sales",
          "Sales",
          "Sales",
          "Sales",
          "Sales",
          "Sales",
          "Sales",
          "Sales",
          "Sales",
          "Sales",
          "Sales",
          "Sales",
          "Sales",
          "Sales",
          "Sales",
          "Sales",
          "Sales",
          "Sales",
          "Sales",
          "Sales",
          "Sales",
          "Sales",
          "Sales",
          "Sales",
          "Sales",
          "Sales",
          "Sales",
          "Sales",
          "Sales",
          "Sales",
          "Sales",
          "Sales",
          "Sales",
          "Sales",
          "Sales",
          "Sales",
          "Sales",
          "Sales",
          "Sales",
          "Sales",
          "Sales",
          "Sales",
          "Sales",
          "Sales",
          "Sales",
          "Sales",
          "Sales",
          "Sales",
          "Sales",
          "Sales",
          "Sales",
          "Sales",
          "Sales",
          "Sales",
          "Sales",
          "Sales",
          "Sales",
          "Sales",
          "Sales",
          "Sales",
          "Sales",
          "Sales",
          "Sales",
          "Sales",
          "Sales",
          "Sales",
          "Sales",
          "Sales",
          "Sales",
          "Sales",
          "Sales",
          "Sales",
          "Sales",
          "Sales",
          "Sales",
          "Sales",
          "Sales",
          "Sales",
          "Sales",
          "Sales",
          "Sales",
          "Sales",
          "Sales",
          "Sales",
          "Sales",
          "Sales",
          "Sales",
          "Sales",
          "Sales",
          "Sales",
          "Sales",
          "Sales",
          "Sales",
          "Sales",
          "Sales",
          "Sales",
          "Sales",
          "Sales",
          "Sales",
          "Sales",
          "Sales",
          "Sales",
          "Sales",
          "Sales",
          "Sales",
          "Sales",
          "Sales",
          "Sales",
          "Sales",
          "Sales",
          "Sales",
          "Sales",
          "Sales",
          "Sales",
          "Sales",
          "Sales",
          "Sales",
          "Sales",
          "Sales",
          "Sales",
          "Sales",
          "Sales",
          "Sales",
          "Sales",
          "Sales",
          "Sales",
          "Sales",
          "Sales",
          "Sales",
          "Sales",
          "Sales",
          "Sales",
          "Sales",
          "Sales",
          "Sales",
          "Sales",
          "Sales",
          "Sales",
          "Sales",
          "Sales",
          "Sales",
          "Sales",
          "Sales",
          "Sales",
          "Sales",
          "Sales",
          "Sales",
          "Sales",
          "Sales",
          "Sales",
          "Sales",
          "Sales",
          "Sales",
          "Sales",
          "Sales",
          "Sales",
          "Sales",
          "Sales",
          "Sales",
          "Sales",
          "Sales",
          "Sales",
          "Sales",
          "Sales",
          "Sales",
          "Sales",
          "Sales",
          "Sales",
          "Sales",
          "Sales",
          "Sales",
          "Sales",
          "Sales",
          "Sales",
          "Sales",
          "Sales",
          "Sales",
          "Sales",
          "Sales",
          "Sales",
          "Sales",
          "Sales",
          "Sales",
          "Sales",
          "Sales",
          "Sales",
          "Sales",
          "Sales",
          "Sales",
          "Sales",
          "Sales",
          "Sales",
          "Sales",
          "Sales",
          "Sales",
          "Sales",
          "Sales",
          "Sales",
          "Sales",
          "Sales",
          "Sales",
          "Sales",
          "Sales",
          "Sales",
          "Sales",
          "Sales",
          "Sales",
          "Sales",
          "Sales",
          "Sales",
          "Sales",
          "Sales",
          "Sales",
          "Sales",
          "Sales",
          "Sales",
          "Sales",
          "Sales",
          "Sales",
          "Sales",
          "Sales",
          "Sales",
          "Sales",
          "Sales",
          "Sales",
          "Sales",
          "Sales",
          "Sales",
          "Sales",
          "Sales",
          "Sales",
          "Sales",
          "Sales",
          "Sales",
          "Sales",
          "Sales",
          "Sales",
          "Sales",
          "Sales",
          "Sales",
          "Sales",
          "Sales",
          "Sales",
          "Sales",
          "Sales",
          "Sales",
          "Sales",
          "Sales",
          "Sales",
          "Sales",
          "Sales",
          "Sales",
          "Sales",
          "Sales",
          "Sales",
          "Sales",
          "Sales",
          "Sales",
          "Sales",
          "Sales",
          "Sales",
          "Sales",
          "Sales",
          "Sales",
          "Sales",
          "Sales",
          "Sales",
          "Sales",
          "Sales",
          "Sales",
          "Sales",
          "Sales",
          "Sales",
          "Sales",
          "Sales",
          "Sales",
          "Sales",
          "Sales",
          "Sales",
          "Sales",
          "Sales",
          "Sales",
          "Sales",
          "Sales",
          "Sales",
          "Sales",
          "Sales",
          "Sales",
          "Sales",
          "Sales",
          "Sales",
          "Sales",
          "Sales",
          "Sales",
          "Sales",
          "Sales",
          "Sales",
          "Sales",
          "Sales",
          "Sales",
          "Sales",
          "Sales",
          "Sales",
          "Sales",
          "Sales",
          "Sales",
          "Sales",
          "Sales",
          "Sales",
          "Sales",
          "Sales",
          "Sales",
          "Sales",
          "Sales",
          "Sales",
          "Sales",
          "Sales",
          "Sales",
          "Sales",
          "Sales",
          "Sales",
          "Sales",
          "Sales",
          "Sales",
          "Sales",
          "Sales",
          "Sales",
          "Sales",
          "Sales",
          "Sales",
          "Sales",
          "Sales",
          "Sales",
          "Sales",
          "Sales",
          "Sales",
          "Sales",
          "Sales",
          "Sales",
          "Sales",
          "Sales",
          "Sales",
          "Sales",
          "Sales",
          "Sales",
          "Sales",
          "Sales",
          "Sales",
          "Sales",
          "Sales",
          "Sales",
          "Sales",
          "Sales",
          "Sales",
          "Sales",
          "Sales",
          "Sales",
          "Sales",
          "Sales",
          "Sales",
          "Sales",
          "Sales",
          "Sales",
          "Sales",
          "Sales",
          "Sales",
          "Sales",
          "Sales",
          "Sales",
          "Sales",
          "Sales",
          "Sales",
          "Sales",
          "Sales",
          "Sales",
          "Sales",
          "Sales",
          "Sales",
          "Sales",
          "Sales",
          "Sales",
          "Sales",
          "Sales",
          "Sales",
          "Sales",
          "Sales",
          "Sales",
          "Sales",
          "Sales"
         ],
         "x0": " ",
         "xaxis": "x",
         "y": {
          "bdata": "zMzMzMz4nUDNzMzMzN6OQM3MzMzMwI9AZmZmZmbefEAAAAAAAMSAQDMzMzMz+4dAAAAAAAAAgUAAAAAAADSBQJqZmZmZO4VAzczMzMwAjEDNzMzMzEh8QDMzMzMzi3dAMzMzMzP7h0BmZmZmZiSAQMP1KFyPLoBAMzMzMzNlg0CamZmZmU2KQM3MzMzMoHxAZmZmZmZyekAzMzMzM/uHQAAAAAAAkHtAzczMzMy4gEAAAAAAANyDQM3MzMzMzodAzczMzMxkfEAAAAAAAAx+QDMzMzMz+4dAzczMzMyUeUCamZmZmQWAQDMzMzMz2YFAmpmZmZlfiEBmZmZmZuZ2QJqZmZmZtXlAMzMzMzP7h0DNzMzMzIh6QJqZmZmZ+4BAZmZmZma+hEAAAAAAAPaHQDMzMzMzF31AZmZmZma+fUAzMzMzM/uHQDMzMzMzp3NAAAAAAACse0CamZmZmWWCQM3MzMzMro1AZmZmZmZSfkAzMzMzM4d8QDMzMzMz+4dAZmZmZmYyfECamZmZmf+CQDMzMzMzA4ZAZmZmZmaQkkCamZmZmSuHQJqZmZmZ+4lAMzMzMzP7h0AAAAAAAGyJQDMzMzMzSpFAAAAAAABplUBmZmZmZj+dQDMzMzMzbYhAmZmZmZnVikAzMzMzM/uHQDMzMzMzl4pAzczMzMzwj0AAAAAAAEiPQJqZmZmZc5NAZmZmZmY4g0CamZmZmRODQDMzMzMz+4dAMzMzMzOfhEAAAAAAAESGQDMzMzMzi41AAAAAAAAmkkAAAAAAALaDQJqZmZmZm4dAMzMzMzP7h0DNzMzMzOB/QGZmZmZmjoRAmpmZmZlXi0BmZmZmZimRQM3MzMzMZoJAmpmZmZlhfUAzMzMzM/uHQGZmZmZmRINAmpmZmZmphUBmZmZmZtCFQAAAAAAAjJBAMzMzMzPvg0DNzMzMzD6GQDMzMzMz+4dAZmZmZmZ4gUAAAAAAAGyJQDMzMzMzTpFAzczMzEzUoECamZmZmWOQQAAAAAAAUIpAMzMzMzP7h0AAAAAAAOyCQDMzMzMze4NAzczMzMxWi0CamZmZmaaRQGZmZmZmEohAmpmZmZkRiEAzMzMzMxOBQAAAAAAAJoVAmZmZmZkZiEAAAAAAAOaNQJqZmZmZ+pZAAAAAAAC4hkCZmZmZmdGKQAAAAAAAeoNAzczMzMzYikAAAAAAAI6GQGZmZmZmFI9AZmZmZmbOlkAAAAAAAB6DQDMzMzMzqYBAzczMzMzIg0DNzMzMzGCEQAAAAAAALIVAAAAAAAAgj0DNzMzMzJ6TQM3MzMzM+IdAAAAAAACSg0BmZmZmZk6IQM3MzMzMjoNAAAAAAAC6h0AAAAAAAFSSQGZmZmZmqJdAZmZmZmaYhUDNzMzMzECEQAAAAAAAxI5AAAAAAAAemUCamZmZmUOdQM3MzMzMJqBAAAAAAABCoUAzMzMzM/uHQDMzMzMz+4dAMzMzMzP7h0AzMzMzM/uHQGZmZmZmUIJAzczMzMwtk0AzMzMzsy2gQJqZmZmZzJZAzczMzMy8h0CamZmZmQ+AQM3MzMzMMIRAZmZmZmZgh0AzMzMzMxmOQJqZmZmZ55dAZmZmZmZShkCamZmZmWWFQDMzMzMzvYJAMzMzMzMjg0CZmZmZmaGLQDMzMzMzxY1AAAAAAABnlUBmZmZmZoiFQGZmZmZmyodAzczMzMzQg0DNzMzMzPqCQM3MzMzM7ohAZmZmZmaYlECamZmZmQCXQAAAAAAAMIZAZmZmZmbmhkCamZmZmRWFQJqZmZmZf4FAMzMzMzNDhUDNzMzMzDSNQGZmZmZmeZZAzczMzMyUhkDNzMzMzI6EQJqZmZmZAYJAZmZmZmZCiECamZmZmdOGQJqZmZmZ44xAAAAAAAAsmUCamZmZmW2FQDMzMzMza4VAmpmZmZmjhEBmZmZmZkiHQJqZmZmZ/4ZAzczMzMxEkUCamZmZmQyXQM3MzMzMAoxAmpmZmZmPi0AzMzMzM3OMQAAAAAAAUotAZmZmZmaOkEAzMzMzM3CWQM3MzMzML6BAZmZmZmallUAAAAAAACSUQJqZmZmZcp1AMzMzMzOsl0AAAAAAAASVQJqZmZmZX5xAZmZmZmZhnEDNzMzMzOuUQJqZmZmZAJVAZmZmZmaRlEDNzMzMzI6UQDMzMzMzRJlAMzMzMzOCmkBmZmZmZvedQGZmZmZmLpdAzczMzMywlEAzMzMzM9mUQDMzMzMzwJRAAAAAAAAAlkBmZmZmZhucQGZmZmZmTJ1AzczMzMzblUBmZmZmZrCZQJqZmZmZI5VAmpmZmZmel0BmZmZmZniUQJqZmZmZ9ZxAzczMzEzIoUAAAAAAAC+cQGZmZmZmIJhAmpmZmZnmm0AzMzMzM42cQJqZmZmZuJdAmpmZmZkzn0AAAAAAAFWlQM3MzMzMzplAzczMzMwflUBmZmZmZpmYQGZmZmZmOpdAmpmZmZlmlECamZmZmUacQAAAAAAAy55AzczMzMzelEDNzMzMzBeVQAAAAAAAeZJAzczMzMwDl0BmZmZmZiqSQJqZmZmZhpZAmpmZmZkem0AAAAAAAOiNQDMzMzMzVYlAMzMzMzO3hkAzMzMzMweIQM3MzMzM7IlAmpmZmZlKkECamZmZmV2VQAAAAAAAJoZAZmZmZmZYhUCamZmZmVmIQM3MzMzM+IZAMzMzMzMDiUAzMzMzM/2MQJqZmZmZ7JRAzczMzMz0hUAAAAAAAMqEQGZmZmZmyoNAAAAAAAAKgkAAAAAAAKqDQAAAAAAAYotAmpmZmZmxj0CamZmZmduFQGZmZmZm0IZAAAAAAAAAXUAzMzMzM02CQJqZmZmZiYdAZmZmZmbuikAAAAAAANmQQJqZmZmZQYBAzczMzMx0gEAzMzMzM9eAQDMzMzMziYFAAAAAAAAKhEDNzMzMzPCDQGZmZmZm7oxAzczMzMwQgkDNzMzMzJSAQAAAAAAAoIFAZmZmZmYAg0CamZmZmYWHQJqZmZmZTY1AMzMzMzPfkEBmZmZmZj6AQAAAAAAAkHhAMzMzMzNbfUCamZmZmZ2AQAAAAAAAPIJAmpmZmZk9hkBmZmZmZoaPQJqZmZmZ8XlAmpmZmZmxgUAzMzMzM2+AQM3MzMzMioNAAAAAAAB2g0CZmZmZmY2KQM3MzMzMd5NAmpmZmZk3hUAAAAAAANiIQDMzMzMzW4lAMzMzMzMDh0DNzMzMzIqMQDMzMzMzu5FAAAAAAACil0AzMzMzM4OVQM3MzMzMjotAzczMzMz2iEAAAAAAAFCJQGZmZmZmFopAMzMzMzOFikAzMzMzMzOIQM3MzMzMPoNAMzMzMzO9g0AzMzMzM2+CQAAAAAAALodAAAAAAAC2gUAzMzMzM7uEQGZmZmZm/IpAmpmZmZl5fEAzMzMzM698QDMzMzMz+4dAMzMzMzOHfEDNzMzMzHaAQM3MzMzMfIJAzczMzMyChkDNzMzMzIB8QGZmZmZmmnxAMzMzMzP7h0AzMzMzM0N+QM3MzMzMnHtAmpmZmZnNgECamZmZmS2JQJqZmZmZ0XlAZmZmZmaIgEAzMzMzM/uHQM3MzMzMGHpAZmZmZmZSfUAzMzMzM+d9QGZmZmZmsohAMzMzMzP7h0AzMzMzM/uHQDMzMzMz+4dAZmZmZmbGd0BmZmZmZrZ9QM3MzMzMeoJAzczMzMyMiEAAAAAAAMx+QJqZmZmZXX1AMzMzMzP7h0BmZmZmZnKAQAAAAAAAxIFAAAAAAAAwhUBmZmZmZrKJQDMzMzMz3YJAAAAAAACghEDNzMzMzIyCQGZmZmZmFIhAzczMzMymnECamZmZmSmPQAAAAAAAbJFAmpmZmZmPh0BmZmZmZuKIQAAAAAAABoZAzczMzMymiUDNzMzMzHCZQEfhehRu+Z1AMzMzMzP8mUAAAAAAAFyGQJmZmZmZ6V9AAAAAAADEgEAAAAAAAHqCQJqZmZmZjYBAmpmZmZnPhEBmZmZmZoyLQAAAAAAAoHxAmpmZmZldfkAzMzMzM4t3QDMzMzMzb3lAZmZmZmYugkAzMzMzM6WBQGZmZmZm3IlAAAAAAAAmgUBmZmZmZkp8QGZmZmZmcnpAZmZmZmYSgEAzMzMzM3uAQGZmZmZmvIFAmpmZmZnZi0AzMzMzMwN+QJqZmZmZuX9AAAAAAAAMfkDNzMzMzF6DQAAAAAAADH9AZmZmZmb+gECamZmZmYuHQM3MzMzMYHtAAAAAAAD8eUCamZmZmbV5QM3MzMzMkoBAZmZmZmaaf0DNzMzMzCqCQM3MzMzMPIpAmpmZmZkfgUDNzMzMzPyCQGZmZmZmvn1AZmZmZmaMgEAAAAAAACiDQJqZmZmZ6YVAzczMzMwcj0BmZmZmZsSEQGZmZmZmqIxAMzMzMzOHfEAzMzMzMyGIQGZmZmZmQIpAZmZmZmaMjEBmZmZmZgeTQDMzMzMz6YJAZmZmZmZqg0CamZmZmfuJQAAAAAAA9oZAZmZmZmZqi0CamZmZmROOQDMzMzMzFZZAAAAAAACqhECamZmZmbWLQDMzMzMznYJACtejcD3Ig0AAAAAAAISGQAAAAAAAxI1AUrgeheu2kkAAAAAAALCGQJqZmZmZh4RAZmZmZmbKe0BmZmZmZqZ7QDMzMzMzq31AzczMzMzof0BmZmZmZgCOQAAAAAAA5IFAMzMzMzMTfkAzMzMzM1t4QJqZmZmZT4BAZmZmZmZSfkDNzMzMzMCDQAAAAAAAdo9AzczMzMz6g0BmZmZmZliCQDMzMzMzb39AAAAAAACIgUAAAAAAAPKDQDMzMzMzz4lAZmZmZmawjkCamZmZmdWBQJqZmZmZU4FAzczMzMy0eECamZmZmUV5QDMzMzMzF4RAmpmZmZkDhEAzMzMzM6uIQGZmZmZmqIBAZmZmZmYghEDNzMzMzDKAQDMzMzMzM4RAzczMzMzcfUCamZmZmVeEQDMzMzMzC49AMzMzMzP7h0DNzMzMzFCDQAAAAAAA8oFAzczMzMySg0BmZmZmZrSJQAAAAAAAO5pAmpmZmZlulkAzMzMzMxKcQAAAAAAAXoxAmpmZmZmriUCamZmZmTaRQJqZmZmZR45AmpmZmZlhikBmZmZmZviRQJqZmZmZU4VAMzMzMzM9hEAAAAAAAMaKQM3MzMzMEIVAZmZmZmZAh0DNzMzMzH6UQGZmZmZmF5tAmpmZmZnJjkDNzMzMzLSGQAAAAAAAkoNAzczMzMwgiEDNzMzMzLCMQDMzMzMzVYtAzczMzMw7k0AAAAAAAD6IQAAAAAAAmoRAmpmZmZmRf0DNzMzMzCCGQAAAAAAASodAmpmZmZkdi0DNzMzMzNKTQM3MzMzMvIVAZmZmZmaAhUAAAAAAAMSFQDMzMzMzqYVAAAAAAAAahkDNzMzMzG6JQM3MzMzMdJJAAAAAAAAkhECamZmZmd2EQM3MzMzMLotAmpmZmZmWnEBmZmZmZtKfQAAAAACAFKBAzczMzMwdo0CamZmZmYeLQDMzMzMzH4ZAZmZmZmYEhEAAAAAAANSCQDMzMzMzI4dAAAAAAAD5kUCamZmZmbObQAAAAAAAyZpAzczMzMzUg0AzMzMzM+2DQDMzMzMzX4NAmpmZmZlphkBmZmZmZiCQQDMzMzMzQZJAAAAAAAAQh0AzMzMzM7mGQM3MzMzMjINAMzMzMzNRg0BmZmZmZgKEQDMzMzMzDJBAAAAAAADMl0CamZmZmZGGQDMzMzMzx4NAzczMzMx4gEBmZmZmZjKDQAAAAAAAjIlAmpmZmZkjjkDNzMzMzLyTQAAAAAAAEohAzczMzMz4gkAzMzMzMwmDQM3MzMzMDIhAAAAAAAASi0BmZmZmZlCOQGdmZmZmZZxAAAAAAAAyjUAAAAAAANCNQAAAAAAAiodAZ2ZmZmYIj0AzMzMzM+uNQGZmZmZmU5VAAAAAAACvnkAzMzMzM5KUQDMzMzMzpJJAZmZmZmbnlUBmZmZm5oagQDMzMzMz+p1AAAAAAAA8okAzMzMzs3alQM3MzMzMw5hAZmZmZmYKlUCamZmZmdeUQDMzMzMz55RAmpmZmZmZlUDhehSuR0WfQM3MzMzMOqFAZ2ZmZmZhmUAzMzMzMwCWQGZmZmZmJJVAZmZmZmZHmECamZmZmUiVQAAAAAAANp1AmpmZmRl5o0DNzMzMzBKdQJqZmZmZeZpAmpmZmZl3l0AzMzMzM2yaQJqZmZmZIptAzczMzMwin0AAAAAAAJKjQJqZmZkZOKFAzczMzMx8mkBnZmZmZkOcQM3MzMzMZ55AZ2ZmZmajnkAAAAAAgNagQDMzMzMz4KhAZmZmZmZZokDNzMzMzBSbQGdmZmZmFZlAMzMzMzOYnECamZmZmcqWQDMzMzMz06BAAAAAAAAWpEAAAAAAAP6ZQGZmZmZm7ZVAzczMzMwblUBmZmZmZq+SQGdmZmZm+I9AZmZmZma9k0AzMzMzM2ieQJqZmZmZtY9AzczMzMx5kEDNzMzMzDCFQDMzMzMzt4ZAAAAAAAD6hUDNzMzMzDiNQM3MzMzMKJJAAAAAAAAoi0DNzMzMzKSDQGZmZmZmuIJAmpmZmZkbg0BnZmZmZiSHQJqZmZmZ14tAMzMzMzMVlkBmZmZmZtSFQDMzMzMznYBAZmZmZmZmgkCamZmZmYeDQM3MzMzMwoVAZmZmZmYCkEDNzMzMzL6SQJqZmZmZsY9AzczMzMyCg0BmZmZmZiiBQM3MzMzMjoJAmpmZmZl3hECamZmZmXOKQGZmZmZmA5JAzczMzMzKhUBmZmZmZryIQJqZmZmZFYNAMzMzMzMbhkCamZmZmd+IQA==",
          "dtype": "f8"
         },
         "y0": " ",
         "yaxis": "y"
        }
       ],
       "layout": {
        "boxmode": "group",
        "legend": {
         "tracegroupgap": 0
        },
        "margin": {
         "t": 60
        },
        "template": {
         "data": {
          "bar": [
           {
            "error_x": {
             "color": "#2a3f5f"
            },
            "error_y": {
             "color": "#2a3f5f"
            },
            "marker": {
             "line": {
              "color": "#E5ECF6",
              "width": 0.5
             },
             "pattern": {
              "fillmode": "overlay",
              "size": 10,
              "solidity": 0.2
             }
            },
            "type": "bar"
           }
          ],
          "barpolar": [
           {
            "marker": {
             "line": {
              "color": "#E5ECF6",
              "width": 0.5
             },
             "pattern": {
              "fillmode": "overlay",
              "size": 10,
              "solidity": 0.2
             }
            },
            "type": "barpolar"
           }
          ],
          "carpet": [
           {
            "aaxis": {
             "endlinecolor": "#2a3f5f",
             "gridcolor": "white",
             "linecolor": "white",
             "minorgridcolor": "white",
             "startlinecolor": "#2a3f5f"
            },
            "baxis": {
             "endlinecolor": "#2a3f5f",
             "gridcolor": "white",
             "linecolor": "white",
             "minorgridcolor": "white",
             "startlinecolor": "#2a3f5f"
            },
            "type": "carpet"
           }
          ],
          "choropleth": [
           {
            "colorbar": {
             "outlinewidth": 0,
             "ticks": ""
            },
            "type": "choropleth"
           }
          ],
          "contour": [
           {
            "colorbar": {
             "outlinewidth": 0,
             "ticks": ""
            },
            "colorscale": [
             [
              0,
              "#0d0887"
             ],
             [
              0.1111111111111111,
              "#46039f"
             ],
             [
              0.2222222222222222,
              "#7201a8"
             ],
             [
              0.3333333333333333,
              "#9c179e"
             ],
             [
              0.4444444444444444,
              "#bd3786"
             ],
             [
              0.5555555555555556,
              "#d8576b"
             ],
             [
              0.6666666666666666,
              "#ed7953"
             ],
             [
              0.7777777777777778,
              "#fb9f3a"
             ],
             [
              0.8888888888888888,
              "#fdca26"
             ],
             [
              1,
              "#f0f921"
             ]
            ],
            "type": "contour"
           }
          ],
          "contourcarpet": [
           {
            "colorbar": {
             "outlinewidth": 0,
             "ticks": ""
            },
            "type": "contourcarpet"
           }
          ],
          "heatmap": [
           {
            "colorbar": {
             "outlinewidth": 0,
             "ticks": ""
            },
            "colorscale": [
             [
              0,
              "#0d0887"
             ],
             [
              0.1111111111111111,
              "#46039f"
             ],
             [
              0.2222222222222222,
              "#7201a8"
             ],
             [
              0.3333333333333333,
              "#9c179e"
             ],
             [
              0.4444444444444444,
              "#bd3786"
             ],
             [
              0.5555555555555556,
              "#d8576b"
             ],
             [
              0.6666666666666666,
              "#ed7953"
             ],
             [
              0.7777777777777778,
              "#fb9f3a"
             ],
             [
              0.8888888888888888,
              "#fdca26"
             ],
             [
              1,
              "#f0f921"
             ]
            ],
            "type": "heatmap"
           }
          ],
          "histogram": [
           {
            "marker": {
             "pattern": {
              "fillmode": "overlay",
              "size": 10,
              "solidity": 0.2
             }
            },
            "type": "histogram"
           }
          ],
          "histogram2d": [
           {
            "colorbar": {
             "outlinewidth": 0,
             "ticks": ""
            },
            "colorscale": [
             [
              0,
              "#0d0887"
             ],
             [
              0.1111111111111111,
              "#46039f"
             ],
             [
              0.2222222222222222,
              "#7201a8"
             ],
             [
              0.3333333333333333,
              "#9c179e"
             ],
             [
              0.4444444444444444,
              "#bd3786"
             ],
             [
              0.5555555555555556,
              "#d8576b"
             ],
             [
              0.6666666666666666,
              "#ed7953"
             ],
             [
              0.7777777777777778,
              "#fb9f3a"
             ],
             [
              0.8888888888888888,
              "#fdca26"
             ],
             [
              1,
              "#f0f921"
             ]
            ],
            "type": "histogram2d"
           }
          ],
          "histogram2dcontour": [
           {
            "colorbar": {
             "outlinewidth": 0,
             "ticks": ""
            },
            "colorscale": [
             [
              0,
              "#0d0887"
             ],
             [
              0.1111111111111111,
              "#46039f"
             ],
             [
              0.2222222222222222,
              "#7201a8"
             ],
             [
              0.3333333333333333,
              "#9c179e"
             ],
             [
              0.4444444444444444,
              "#bd3786"
             ],
             [
              0.5555555555555556,
              "#d8576b"
             ],
             [
              0.6666666666666666,
              "#ed7953"
             ],
             [
              0.7777777777777778,
              "#fb9f3a"
             ],
             [
              0.8888888888888888,
              "#fdca26"
             ],
             [
              1,
              "#f0f921"
             ]
            ],
            "type": "histogram2dcontour"
           }
          ],
          "mesh3d": [
           {
            "colorbar": {
             "outlinewidth": 0,
             "ticks": ""
            },
            "type": "mesh3d"
           }
          ],
          "parcoords": [
           {
            "line": {
             "colorbar": {
              "outlinewidth": 0,
              "ticks": ""
             }
            },
            "type": "parcoords"
           }
          ],
          "pie": [
           {
            "automargin": true,
            "type": "pie"
           }
          ],
          "scatter": [
           {
            "fillpattern": {
             "fillmode": "overlay",
             "size": 10,
             "solidity": 0.2
            },
            "type": "scatter"
           }
          ],
          "scatter3d": [
           {
            "line": {
             "colorbar": {
              "outlinewidth": 0,
              "ticks": ""
             }
            },
            "marker": {
             "colorbar": {
              "outlinewidth": 0,
              "ticks": ""
             }
            },
            "type": "scatter3d"
           }
          ],
          "scattercarpet": [
           {
            "marker": {
             "colorbar": {
              "outlinewidth": 0,
              "ticks": ""
             }
            },
            "type": "scattercarpet"
           }
          ],
          "scattergeo": [
           {
            "marker": {
             "colorbar": {
              "outlinewidth": 0,
              "ticks": ""
             }
            },
            "type": "scattergeo"
           }
          ],
          "scattergl": [
           {
            "marker": {
             "colorbar": {
              "outlinewidth": 0,
              "ticks": ""
             }
            },
            "type": "scattergl"
           }
          ],
          "scattermap": [
           {
            "marker": {
             "colorbar": {
              "outlinewidth": 0,
              "ticks": ""
             }
            },
            "type": "scattermap"
           }
          ],
          "scattermapbox": [
           {
            "marker": {
             "colorbar": {
              "outlinewidth": 0,
              "ticks": ""
             }
            },
            "type": "scattermapbox"
           }
          ],
          "scatterpolar": [
           {
            "marker": {
             "colorbar": {
              "outlinewidth": 0,
              "ticks": ""
             }
            },
            "type": "scatterpolar"
           }
          ],
          "scatterpolargl": [
           {
            "marker": {
             "colorbar": {
              "outlinewidth": 0,
              "ticks": ""
             }
            },
            "type": "scatterpolargl"
           }
          ],
          "scatterternary": [
           {
            "marker": {
             "colorbar": {
              "outlinewidth": 0,
              "ticks": ""
             }
            },
            "type": "scatterternary"
           }
          ],
          "surface": [
           {
            "colorbar": {
             "outlinewidth": 0,
             "ticks": ""
            },
            "colorscale": [
             [
              0,
              "#0d0887"
             ],
             [
              0.1111111111111111,
              "#46039f"
             ],
             [
              0.2222222222222222,
              "#7201a8"
             ],
             [
              0.3333333333333333,
              "#9c179e"
             ],
             [
              0.4444444444444444,
              "#bd3786"
             ],
             [
              0.5555555555555556,
              "#d8576b"
             ],
             [
              0.6666666666666666,
              "#ed7953"
             ],
             [
              0.7777777777777778,
              "#fb9f3a"
             ],
             [
              0.8888888888888888,
              "#fdca26"
             ],
             [
              1,
              "#f0f921"
             ]
            ],
            "type": "surface"
           }
          ],
          "table": [
           {
            "cells": {
             "fill": {
              "color": "#EBF0F8"
             },
             "line": {
              "color": "white"
             }
            },
            "header": {
             "fill": {
              "color": "#C8D4E3"
             },
             "line": {
              "color": "white"
             }
            },
            "type": "table"
           }
          ]
         },
         "layout": {
          "annotationdefaults": {
           "arrowcolor": "#2a3f5f",
           "arrowhead": 0,
           "arrowwidth": 1
          },
          "autotypenumbers": "strict",
          "coloraxis": {
           "colorbar": {
            "outlinewidth": 0,
            "ticks": ""
           }
          },
          "colorscale": {
           "diverging": [
            [
             0,
             "#8e0152"
            ],
            [
             0.1,
             "#c51b7d"
            ],
            [
             0.2,
             "#de77ae"
            ],
            [
             0.3,
             "#f1b6da"
            ],
            [
             0.4,
             "#fde0ef"
            ],
            [
             0.5,
             "#f7f7f7"
            ],
            [
             0.6,
             "#e6f5d0"
            ],
            [
             0.7,
             "#b8e186"
            ],
            [
             0.8,
             "#7fbc41"
            ],
            [
             0.9,
             "#4d9221"
            ],
            [
             1,
             "#276419"
            ]
           ],
           "sequential": [
            [
             0,
             "#0d0887"
            ],
            [
             0.1111111111111111,
             "#46039f"
            ],
            [
             0.2222222222222222,
             "#7201a8"
            ],
            [
             0.3333333333333333,
             "#9c179e"
            ],
            [
             0.4444444444444444,
             "#bd3786"
            ],
            [
             0.5555555555555556,
             "#d8576b"
            ],
            [
             0.6666666666666666,
             "#ed7953"
            ],
            [
             0.7777777777777778,
             "#fb9f3a"
            ],
            [
             0.8888888888888888,
             "#fdca26"
            ],
            [
             1,
             "#f0f921"
            ]
           ],
           "sequentialminus": [
            [
             0,
             "#0d0887"
            ],
            [
             0.1111111111111111,
             "#46039f"
            ],
            [
             0.2222222222222222,
             "#7201a8"
            ],
            [
             0.3333333333333333,
             "#9c179e"
            ],
            [
             0.4444444444444444,
             "#bd3786"
            ],
            [
             0.5555555555555556,
             "#d8576b"
            ],
            [
             0.6666666666666666,
             "#ed7953"
            ],
            [
             0.7777777777777778,
             "#fb9f3a"
            ],
            [
             0.8888888888888888,
             "#fdca26"
            ],
            [
             1,
             "#f0f921"
            ]
           ]
          },
          "colorway": [
           "#636efa",
           "#EF553B",
           "#00cc96",
           "#ab63fa",
           "#FFA15A",
           "#19d3f3",
           "#FF6692",
           "#B6E880",
           "#FF97FF",
           "#FECB52"
          ],
          "font": {
           "color": "#2a3f5f"
          },
          "geo": {
           "bgcolor": "white",
           "lakecolor": "white",
           "landcolor": "#E5ECF6",
           "showlakes": true,
           "showland": true,
           "subunitcolor": "white"
          },
          "hoverlabel": {
           "align": "left"
          },
          "hovermode": "closest",
          "mapbox": {
           "style": "light"
          },
          "paper_bgcolor": "white",
          "plot_bgcolor": "#E5ECF6",
          "polar": {
           "angularaxis": {
            "gridcolor": "white",
            "linecolor": "white",
            "ticks": ""
           },
           "bgcolor": "#E5ECF6",
           "radialaxis": {
            "gridcolor": "white",
            "linecolor": "white",
            "ticks": ""
           }
          },
          "scene": {
           "xaxis": {
            "backgroundcolor": "#E5ECF6",
            "gridcolor": "white",
            "gridwidth": 2,
            "linecolor": "white",
            "showbackground": true,
            "ticks": "",
            "zerolinecolor": "white"
           },
           "yaxis": {
            "backgroundcolor": "#E5ECF6",
            "gridcolor": "white",
            "gridwidth": 2,
            "linecolor": "white",
            "showbackground": true,
            "ticks": "",
            "zerolinecolor": "white"
           },
           "zaxis": {
            "backgroundcolor": "#E5ECF6",
            "gridcolor": "white",
            "gridwidth": 2,
            "linecolor": "white",
            "showbackground": true,
            "ticks": "",
            "zerolinecolor": "white"
           }
          },
          "shapedefaults": {
           "line": {
            "color": "#2a3f5f"
           }
          },
          "ternary": {
           "aaxis": {
            "gridcolor": "white",
            "linecolor": "white",
            "ticks": ""
           },
           "baxis": {
            "gridcolor": "white",
            "linecolor": "white",
            "ticks": ""
           },
           "bgcolor": "#E5ECF6",
           "caxis": {
            "gridcolor": "white",
            "linecolor": "white",
            "ticks": ""
           }
          },
          "title": {
           "x": 0.05
          },
          "xaxis": {
           "automargin": true,
           "gridcolor": "white",
           "linecolor": "white",
           "ticks": "",
           "title": {
            "standoff": 15
           },
           "zerolinecolor": "white",
           "zerolinewidth": 2
          },
          "yaxis": {
           "automargin": true,
           "gridcolor": "white",
           "linecolor": "white",
           "ticks": "",
           "title": {
            "standoff": 15
           },
           "zerolinecolor": "white",
           "zerolinewidth": 2
          }
         }
        },
        "xaxis": {
         "anchor": "y",
         "domain": [
          0,
          1
         ],
         "title": {
          "text": "variable"
         }
        },
        "yaxis": {
         "anchor": "x",
         "domain": [
          0,
          1
         ],
         "title": {
          "text": "value"
         }
        }
       }
      }
     },
     "metadata": {},
     "output_type": "display_data"
    }
   ],
   "source": [
    "px.box(final_df['Sales'])"
   ]
  },
  {
   "cell_type": "markdown",
   "id": "1457babd",
   "metadata": {},
   "source": [
    "We cannot remove these outliers as these dates may be holidays or other special days where the amount of cakes sold is actually very large. So these outliers are to be considered as they mimic the real world data"
   ]
  },
  {
   "cell_type": "code",
   "execution_count": 264,
   "id": "a6d86cc3",
   "metadata": {},
   "outputs": [
    {
     "data": {
      "application/vnd.plotly.v1+json": {
       "config": {
        "plotlyServerURL": "https://plot.ly"
       },
       "data": [
        {
         "bingroup": "x",
         "histfunc": "sum",
         "hovertemplate": "x=%{x}<br>sum of y=%{y}<extra></extra>",
         "legendgroup": "",
         "marker": {
          "color": "#636efa",
          "pattern": {
           "shape": ""
          }
         },
         "name": "",
         "orientation": "v",
         "showlegend": false,
         "type": "histogram",
         "x": [
          "2021-01-01T00:00:00",
          "2021-01-02T00:00:00",
          "2021-01-03T00:00:00",
          "2021-01-04T00:00:00",
          "2021-01-05T00:00:00",
          "2021-01-06T00:00:00",
          "2021-01-07T00:00:00",
          "2021-01-08T00:00:00",
          "2021-01-09T00:00:00",
          "2021-01-10T00:00:00",
          "2021-01-11T00:00:00",
          "2021-01-12T00:00:00",
          "2021-01-13T00:00:00",
          "2021-01-14T00:00:00",
          "2021-01-15T00:00:00",
          "2021-01-16T00:00:00",
          "2021-01-17T00:00:00",
          "2021-01-18T00:00:00",
          "2021-01-19T00:00:00",
          "2021-01-20T00:00:00",
          "2021-01-21T00:00:00",
          "2021-01-22T00:00:00",
          "2021-01-23T00:00:00",
          "2021-01-24T00:00:00",
          "2021-01-25T00:00:00",
          "2021-01-26T00:00:00",
          "2021-01-27T00:00:00",
          "2021-01-28T00:00:00",
          "2021-01-29T00:00:00",
          "2021-01-30T00:00:00",
          "2021-01-31T00:00:00",
          "2021-02-01T00:00:00",
          "2021-02-02T00:00:00",
          "2021-02-03T00:00:00",
          "2021-02-04T00:00:00",
          "2021-02-05T00:00:00",
          "2021-02-06T00:00:00",
          "2021-02-07T00:00:00",
          "2021-02-08T00:00:00",
          "2021-02-09T00:00:00",
          "2021-02-10T00:00:00",
          "2021-02-11T00:00:00",
          "2021-02-12T00:00:00",
          "2021-02-13T00:00:00",
          "2021-02-14T00:00:00",
          "2021-02-15T00:00:00",
          "2021-02-16T00:00:00",
          "2021-02-17T00:00:00",
          "2021-02-18T00:00:00",
          "2021-02-19T00:00:00",
          "2021-02-20T00:00:00",
          "2021-02-21T00:00:00",
          "2021-02-22T00:00:00",
          "2021-02-23T00:00:00",
          "2021-02-24T00:00:00",
          "2021-02-25T00:00:00",
          "2021-02-26T00:00:00",
          "2021-02-27T00:00:00",
          "2021-02-28T00:00:00",
          "2021-03-01T00:00:00",
          "2021-03-02T00:00:00",
          "2021-03-03T00:00:00",
          "2021-03-04T00:00:00",
          "2021-03-05T00:00:00",
          "2021-03-06T00:00:00",
          "2021-03-07T00:00:00",
          "2021-03-08T00:00:00",
          "2021-03-09T00:00:00",
          "2021-03-10T00:00:00",
          "2021-03-11T00:00:00",
          "2021-03-12T00:00:00",
          "2021-03-13T00:00:00",
          "2021-03-14T00:00:00",
          "2021-03-15T00:00:00",
          "2021-03-16T00:00:00",
          "2021-03-17T00:00:00",
          "2021-03-18T00:00:00",
          "2021-03-19T00:00:00",
          "2021-03-20T00:00:00",
          "2021-03-21T00:00:00",
          "2021-03-22T00:00:00",
          "2021-03-23T00:00:00",
          "2021-03-24T00:00:00",
          "2021-03-25T00:00:00",
          "2021-03-26T00:00:00",
          "2021-03-27T00:00:00",
          "2021-03-28T00:00:00",
          "2021-03-29T00:00:00",
          "2021-03-30T00:00:00",
          "2021-03-31T00:00:00",
          "2021-04-01T00:00:00",
          "2021-04-02T00:00:00",
          "2021-04-03T00:00:00",
          "2021-04-04T00:00:00",
          "2021-04-05T00:00:00",
          "2021-04-06T00:00:00",
          "2021-04-07T00:00:00",
          "2021-04-08T00:00:00",
          "2021-04-09T00:00:00",
          "2021-04-10T00:00:00",
          "2021-04-11T00:00:00",
          "2021-04-12T00:00:00",
          "2021-04-13T00:00:00",
          "2021-04-14T00:00:00",
          "2021-04-15T00:00:00",
          "2021-04-16T00:00:00",
          "2021-04-17T00:00:00",
          "2021-04-18T00:00:00",
          "2021-04-19T00:00:00",
          "2021-04-20T00:00:00",
          "2021-04-21T00:00:00",
          "2021-04-22T00:00:00",
          "2021-04-23T00:00:00",
          "2021-04-24T00:00:00",
          "2021-04-25T00:00:00",
          "2021-04-26T00:00:00",
          "2021-04-27T00:00:00",
          "2021-04-28T00:00:00",
          "2021-04-29T00:00:00",
          "2021-04-30T00:00:00",
          "2021-05-01T00:00:00",
          "2021-05-02T00:00:00",
          "2021-05-03T00:00:00",
          "2021-05-04T00:00:00",
          "2021-05-05T00:00:00",
          "2021-05-06T00:00:00",
          "2021-05-07T00:00:00",
          "2021-05-08T00:00:00",
          "2021-05-09T00:00:00",
          "2021-05-10T00:00:00",
          "2021-05-11T00:00:00",
          "2021-05-12T00:00:00",
          "2021-05-13T00:00:00",
          "2021-05-14T00:00:00",
          "2021-05-15T00:00:00",
          "2021-05-16T00:00:00",
          "2021-05-17T00:00:00",
          "2021-05-18T00:00:00",
          "2021-05-19T00:00:00",
          "2021-05-20T00:00:00",
          "2021-05-21T00:00:00",
          "2021-05-22T00:00:00",
          "2021-05-23T00:00:00",
          "2021-05-24T00:00:00",
          "2021-05-25T00:00:00",
          "2021-05-26T00:00:00",
          "2021-05-27T00:00:00",
          "2021-05-28T00:00:00",
          "2021-05-29T00:00:00",
          "2021-05-30T00:00:00",
          "2021-05-31T00:00:00",
          "2021-06-01T00:00:00",
          "2021-06-02T00:00:00",
          "2021-06-03T00:00:00",
          "2021-06-04T00:00:00",
          "2021-06-05T00:00:00",
          "2021-06-06T00:00:00",
          "2021-06-07T00:00:00",
          "2021-06-08T00:00:00",
          "2021-06-09T00:00:00",
          "2021-06-10T00:00:00",
          "2021-06-11T00:00:00",
          "2021-06-12T00:00:00",
          "2021-06-13T00:00:00",
          "2021-06-14T00:00:00",
          "2021-06-15T00:00:00",
          "2021-06-16T00:00:00",
          "2021-06-17T00:00:00",
          "2021-06-18T00:00:00",
          "2021-06-19T00:00:00",
          "2021-06-20T00:00:00",
          "2021-06-21T00:00:00",
          "2021-06-22T00:00:00",
          "2021-06-23T00:00:00",
          "2021-06-24T00:00:00",
          "2021-06-25T00:00:00",
          "2021-06-26T00:00:00",
          "2021-06-27T00:00:00",
          "2021-06-28T00:00:00",
          "2021-06-29T00:00:00",
          "2021-06-30T00:00:00",
          "2021-07-01T00:00:00",
          "2021-07-02T00:00:00",
          "2021-07-03T00:00:00",
          "2021-07-04T00:00:00",
          "2021-07-05T00:00:00",
          "2021-07-06T00:00:00",
          "2021-07-07T00:00:00",
          "2021-07-08T00:00:00",
          "2021-07-09T00:00:00",
          "2021-07-10T00:00:00",
          "2021-07-11T00:00:00",
          "2021-07-12T00:00:00",
          "2021-07-13T00:00:00",
          "2021-07-14T00:00:00",
          "2021-07-15T00:00:00",
          "2021-07-16T00:00:00",
          "2021-07-17T00:00:00",
          "2021-07-18T00:00:00",
          "2021-07-19T00:00:00",
          "2021-07-20T00:00:00",
          "2021-07-21T00:00:00",
          "2021-07-22T00:00:00",
          "2021-07-23T00:00:00",
          "2021-07-24T00:00:00",
          "2021-07-25T00:00:00",
          "2021-07-26T00:00:00",
          "2021-07-27T00:00:00",
          "2021-07-28T00:00:00",
          "2021-07-29T00:00:00",
          "2021-07-30T00:00:00",
          "2021-07-31T00:00:00",
          "2021-08-01T00:00:00",
          "2021-08-02T00:00:00",
          "2021-08-03T00:00:00",
          "2021-08-04T00:00:00",
          "2021-08-05T00:00:00",
          "2021-08-06T00:00:00",
          "2021-08-07T00:00:00",
          "2021-08-08T00:00:00",
          "2021-08-09T00:00:00",
          "2021-08-10T00:00:00",
          "2021-08-11T00:00:00",
          "2021-08-12T00:00:00",
          "2021-08-13T00:00:00",
          "2021-08-14T00:00:00",
          "2021-08-15T00:00:00",
          "2021-08-16T00:00:00",
          "2021-08-17T00:00:00",
          "2021-08-18T00:00:00",
          "2021-08-19T00:00:00",
          "2021-08-20T00:00:00",
          "2021-08-21T00:00:00",
          "2021-08-22T00:00:00",
          "2021-08-23T00:00:00",
          "2021-08-24T00:00:00",
          "2021-08-25T00:00:00",
          "2021-08-26T00:00:00",
          "2021-08-27T00:00:00",
          "2021-08-28T00:00:00",
          "2021-08-29T00:00:00",
          "2021-08-30T00:00:00",
          "2021-08-31T00:00:00",
          "2021-09-01T00:00:00",
          "2021-09-02T00:00:00",
          "2021-09-03T00:00:00",
          "2021-09-04T00:00:00",
          "2021-09-05T00:00:00",
          "2021-09-06T00:00:00",
          "2021-09-07T00:00:00",
          "2021-09-08T00:00:00",
          "2021-09-09T00:00:00",
          "2021-09-10T00:00:00",
          "2021-09-11T00:00:00",
          "2021-09-12T00:00:00",
          "2021-09-13T00:00:00",
          "2021-09-14T00:00:00",
          "2021-09-15T00:00:00",
          "2021-09-16T00:00:00",
          "2021-09-17T00:00:00",
          "2021-09-18T00:00:00",
          "2021-09-19T00:00:00",
          "2021-09-20T00:00:00",
          "2021-09-21T00:00:00",
          "2021-09-22T00:00:00",
          "2021-09-23T00:00:00",
          "2021-09-24T00:00:00",
          "2021-09-25T00:00:00",
          "2021-09-26T00:00:00",
          "2021-09-27T00:00:00",
          "2021-09-28T00:00:00",
          "2021-09-29T00:00:00",
          "2021-09-30T00:00:00",
          "2021-10-01T00:00:00",
          "2021-10-02T00:00:00",
          "2021-10-03T00:00:00",
          "2021-10-04T00:00:00",
          "2021-10-05T00:00:00",
          "2021-10-06T00:00:00",
          "2021-10-07T00:00:00",
          "2021-10-08T00:00:00",
          "2021-10-09T00:00:00",
          "2021-10-10T00:00:00",
          "2021-10-11T00:00:00",
          "2021-10-12T00:00:00",
          "2021-10-13T00:00:00",
          "2021-10-14T00:00:00",
          "2021-10-15T00:00:00",
          "2021-10-16T00:00:00",
          "2021-10-17T00:00:00",
          "2021-10-18T00:00:00",
          "2021-10-19T00:00:00",
          "2021-10-20T00:00:00",
          "2021-10-21T00:00:00",
          "2021-10-22T00:00:00",
          "2021-10-23T00:00:00",
          "2021-10-24T00:00:00",
          "2021-10-25T00:00:00",
          "2021-10-26T00:00:00",
          "2021-10-27T00:00:00",
          "2021-10-28T00:00:00",
          "2021-10-29T00:00:00",
          "2021-10-30T00:00:00",
          "2021-10-31T00:00:00",
          "2021-11-01T00:00:00",
          "2021-11-02T00:00:00",
          "2021-11-03T00:00:00",
          "2021-11-04T00:00:00",
          "2021-11-05T00:00:00",
          "2021-11-06T00:00:00",
          "2021-11-07T00:00:00",
          "2021-11-08T00:00:00",
          "2021-11-09T00:00:00",
          "2021-11-10T00:00:00",
          "2021-11-11T00:00:00",
          "2021-11-12T00:00:00",
          "2021-11-13T00:00:00",
          "2021-11-14T00:00:00",
          "2021-11-15T00:00:00",
          "2021-11-16T00:00:00",
          "2021-11-17T00:00:00",
          "2021-11-18T00:00:00",
          "2021-11-19T00:00:00",
          "2021-11-20T00:00:00",
          "2021-11-21T00:00:00",
          "2021-11-22T00:00:00",
          "2021-11-23T00:00:00",
          "2021-11-24T00:00:00",
          "2021-11-25T00:00:00",
          "2021-11-26T00:00:00",
          "2021-11-27T00:00:00",
          "2021-11-28T00:00:00",
          "2021-11-29T00:00:00",
          "2021-11-30T00:00:00",
          "2021-12-01T00:00:00",
          "2021-12-02T00:00:00",
          "2021-12-03T00:00:00",
          "2021-12-04T00:00:00",
          "2021-12-05T00:00:00",
          "2021-12-06T00:00:00",
          "2021-12-07T00:00:00",
          "2021-12-08T00:00:00",
          "2021-12-09T00:00:00",
          "2021-12-10T00:00:00",
          "2021-12-11T00:00:00",
          "2021-12-12T00:00:00",
          "2021-12-13T00:00:00",
          "2021-12-14T00:00:00",
          "2021-12-15T00:00:00",
          "2021-12-16T00:00:00",
          "2021-12-17T00:00:00",
          "2021-12-18T00:00:00",
          "2021-12-19T00:00:00",
          "2021-12-20T00:00:00",
          "2021-12-21T00:00:00",
          "2021-12-22T00:00:00",
          "2021-12-23T00:00:00",
          "2021-12-24T00:00:00",
          "2021-12-25T00:00:00",
          "2021-12-26T00:00:00",
          "2021-12-27T00:00:00",
          "2021-12-28T00:00:00",
          "2021-12-29T00:00:00",
          "2021-12-30T00:00:00",
          "2021-12-31T00:00:00",
          "2022-01-01T00:00:00",
          "2022-01-02T00:00:00",
          "2022-01-03T00:00:00",
          "2022-01-04T00:00:00",
          "2022-01-05T00:00:00",
          "2022-01-06T00:00:00",
          "2022-01-07T00:00:00",
          "2022-01-08T00:00:00",
          "2022-01-09T00:00:00",
          "2022-01-10T00:00:00",
          "2022-01-11T00:00:00",
          "2022-01-12T00:00:00",
          "2022-01-13T00:00:00",
          "2022-01-14T00:00:00",
          "2022-01-15T00:00:00",
          "2022-01-16T00:00:00",
          "2022-01-17T00:00:00",
          "2022-01-18T00:00:00",
          "2022-01-19T00:00:00",
          "2022-01-20T00:00:00",
          "2022-01-21T00:00:00",
          "2022-01-22T00:00:00",
          "2022-01-23T00:00:00",
          "2022-01-24T00:00:00",
          "2022-01-25T00:00:00",
          "2022-01-26T00:00:00",
          "2022-01-27T00:00:00",
          "2022-01-28T00:00:00",
          "2022-01-29T00:00:00",
          "2022-01-30T00:00:00",
          "2022-01-31T00:00:00",
          "2022-02-01T00:00:00",
          "2022-02-02T00:00:00",
          "2022-02-03T00:00:00",
          "2022-02-04T00:00:00",
          "2022-02-05T00:00:00",
          "2022-02-06T00:00:00",
          "2022-02-07T00:00:00",
          "2022-02-08T00:00:00",
          "2022-02-09T00:00:00",
          "2022-02-10T00:00:00",
          "2022-02-11T00:00:00",
          "2022-02-12T00:00:00",
          "2022-02-13T00:00:00",
          "2022-02-14T00:00:00",
          "2022-02-15T00:00:00",
          "2022-02-16T00:00:00",
          "2022-02-17T00:00:00",
          "2022-02-18T00:00:00",
          "2022-02-19T00:00:00",
          "2022-02-20T00:00:00",
          "2022-02-21T00:00:00",
          "2022-02-22T00:00:00",
          "2022-02-23T00:00:00",
          "2022-02-24T00:00:00",
          "2022-02-25T00:00:00",
          "2022-02-26T00:00:00",
          "2022-02-27T00:00:00",
          "2022-02-28T00:00:00",
          "2022-03-01T00:00:00",
          "2022-03-02T00:00:00",
          "2022-03-03T00:00:00",
          "2022-03-04T00:00:00",
          "2022-03-05T00:00:00",
          "2022-03-06T00:00:00",
          "2022-03-07T00:00:00",
          "2022-03-08T00:00:00",
          "2022-03-09T00:00:00",
          "2022-03-10T00:00:00",
          "2022-03-11T00:00:00",
          "2022-03-12T00:00:00",
          "2022-03-13T00:00:00",
          "2022-03-14T00:00:00",
          "2022-03-15T00:00:00",
          "2022-03-16T00:00:00",
          "2022-03-17T00:00:00",
          "2022-03-18T00:00:00",
          "2022-03-19T00:00:00",
          "2022-03-20T00:00:00",
          "2022-03-21T00:00:00",
          "2022-03-22T00:00:00",
          "2022-03-23T00:00:00",
          "2022-03-24T00:00:00",
          "2022-03-25T00:00:00",
          "2022-03-26T00:00:00",
          "2022-03-27T00:00:00",
          "2022-03-28T00:00:00",
          "2022-03-29T00:00:00",
          "2022-03-30T00:00:00",
          "2022-03-31T00:00:00",
          "2022-04-01T00:00:00",
          "2022-04-02T00:00:00",
          "2022-04-03T00:00:00",
          "2022-04-04T00:00:00",
          "2022-04-05T00:00:00",
          "2022-04-06T00:00:00",
          "2022-04-07T00:00:00",
          "2022-04-08T00:00:00",
          "2022-04-09T00:00:00",
          "2022-04-10T00:00:00",
          "2022-04-11T00:00:00",
          "2022-04-12T00:00:00",
          "2022-04-13T00:00:00",
          "2022-04-14T00:00:00",
          "2022-04-15T00:00:00",
          "2022-04-16T00:00:00",
          "2022-04-17T00:00:00",
          "2022-04-18T00:00:00",
          "2022-04-19T00:00:00",
          "2022-04-20T00:00:00",
          "2022-04-21T00:00:00",
          "2022-04-22T00:00:00",
          "2022-04-23T00:00:00",
          "2022-04-24T00:00:00",
          "2022-04-25T00:00:00",
          "2022-04-26T00:00:00",
          "2022-04-27T00:00:00",
          "2022-04-28T00:00:00",
          "2022-04-29T00:00:00",
          "2022-04-30T00:00:00",
          "2022-05-01T00:00:00",
          "2022-05-02T00:00:00",
          "2022-05-03T00:00:00",
          "2022-05-04T00:00:00",
          "2022-05-05T00:00:00",
          "2022-05-06T00:00:00",
          "2022-05-07T00:00:00",
          "2022-05-08T00:00:00",
          "2022-05-09T00:00:00",
          "2022-05-10T00:00:00",
          "2022-05-11T00:00:00",
          "2022-05-12T00:00:00",
          "2022-05-13T00:00:00",
          "2022-05-14T00:00:00",
          "2022-05-15T00:00:00",
          "2022-05-16T00:00:00",
          "2022-05-17T00:00:00",
          "2022-05-18T00:00:00",
          "2022-05-19T00:00:00",
          "2022-05-20T00:00:00",
          "2022-05-21T00:00:00",
          "2022-05-22T00:00:00",
          "2022-05-23T00:00:00",
          "2022-05-24T00:00:00",
          "2022-05-25T00:00:00",
          "2022-05-26T00:00:00",
          "2022-05-27T00:00:00",
          "2022-05-28T00:00:00",
          "2022-05-29T00:00:00",
          "2022-05-30T00:00:00",
          "2022-05-31T00:00:00",
          "2022-06-01T00:00:00",
          "2022-06-02T00:00:00",
          "2022-06-03T00:00:00",
          "2022-06-04T00:00:00",
          "2022-06-05T00:00:00",
          "2022-06-06T00:00:00",
          "2022-06-07T00:00:00",
          "2022-06-08T00:00:00",
          "2022-06-09T00:00:00",
          "2022-06-10T00:00:00",
          "2022-06-11T00:00:00",
          "2022-06-12T00:00:00",
          "2022-06-13T00:00:00",
          "2022-06-14T00:00:00",
          "2022-06-15T00:00:00",
          "2022-06-16T00:00:00",
          "2022-06-17T00:00:00",
          "2022-06-18T00:00:00",
          "2022-06-19T00:00:00",
          "2022-06-20T00:00:00",
          "2022-06-21T00:00:00",
          "2022-06-22T00:00:00",
          "2022-06-23T00:00:00",
          "2022-06-24T00:00:00",
          "2022-06-25T00:00:00",
          "2022-06-26T00:00:00",
          "2022-06-27T00:00:00",
          "2022-06-28T00:00:00",
          "2022-06-29T00:00:00",
          "2022-06-30T00:00:00",
          "2022-07-01T00:00:00",
          "2022-07-02T00:00:00",
          "2022-07-03T00:00:00",
          "2022-07-04T00:00:00",
          "2022-07-05T00:00:00",
          "2022-07-06T00:00:00",
          "2022-07-07T00:00:00",
          "2022-07-08T00:00:00",
          "2022-07-09T00:00:00",
          "2022-07-10T00:00:00",
          "2022-07-11T00:00:00",
          "2022-07-12T00:00:00",
          "2022-07-13T00:00:00",
          "2022-07-14T00:00:00",
          "2022-07-15T00:00:00",
          "2022-07-16T00:00:00",
          "2022-07-17T00:00:00",
          "2022-07-18T00:00:00",
          "2022-07-19T00:00:00",
          "2022-07-20T00:00:00",
          "2022-07-21T00:00:00",
          "2022-07-22T00:00:00",
          "2022-07-23T00:00:00",
          "2022-07-24T00:00:00",
          "2022-07-25T00:00:00",
          "2022-07-26T00:00:00",
          "2022-07-27T00:00:00",
          "2022-07-28T00:00:00",
          "2022-07-29T00:00:00",
          "2022-07-30T00:00:00",
          "2022-07-31T00:00:00",
          "2022-08-01T00:00:00",
          "2022-08-02T00:00:00",
          "2022-08-03T00:00:00",
          "2022-08-04T00:00:00",
          "2022-08-05T00:00:00",
          "2022-08-06T00:00:00",
          "2022-08-07T00:00:00",
          "2022-08-08T00:00:00",
          "2022-08-09T00:00:00",
          "2022-08-10T00:00:00",
          "2022-08-11T00:00:00",
          "2022-08-12T00:00:00",
          "2022-08-13T00:00:00",
          "2022-08-14T00:00:00",
          "2022-08-15T00:00:00",
          "2022-08-16T00:00:00",
          "2022-08-17T00:00:00",
          "2022-08-18T00:00:00",
          "2022-08-19T00:00:00",
          "2022-08-20T00:00:00",
          "2022-08-21T00:00:00",
          "2022-08-22T00:00:00",
          "2022-08-23T00:00:00",
          "2022-08-24T00:00:00",
          "2022-08-25T00:00:00",
          "2022-08-26T00:00:00",
          "2022-08-27T00:00:00",
          "2022-08-28T00:00:00",
          "2022-08-29T00:00:00",
          "2022-08-30T00:00:00",
          "2022-08-31T00:00:00",
          "2022-09-01T00:00:00",
          "2022-09-02T00:00:00",
          "2022-09-03T00:00:00",
          "2022-09-04T00:00:00",
          "2022-09-05T00:00:00",
          "2022-09-06T00:00:00",
          "2022-09-07T00:00:00",
          "2022-09-08T00:00:00",
          "2022-09-09T00:00:00",
          "2022-09-10T00:00:00",
          "2022-09-11T00:00:00",
          "2022-09-12T00:00:00",
          "2022-09-13T00:00:00",
          "2022-09-14T00:00:00",
          "2022-09-15T00:00:00",
          "2022-09-16T00:00:00",
          "2022-09-17T00:00:00",
          "2022-09-18T00:00:00",
          "2022-09-19T00:00:00",
          "2022-09-20T00:00:00",
          "2022-09-21T00:00:00",
          "2022-09-22T00:00:00",
          "2022-09-23T00:00:00",
          "2022-09-24T00:00:00",
          "2022-09-25T00:00:00",
          "2022-09-26T00:00:00",
          "2022-09-27T00:00:00",
          "2022-09-28T00:00:00",
          "2022-09-29T00:00:00",
          "2022-09-30T00:00:00"
         ],
         "xaxis": "x",
         "y": {
          "bdata": "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",
          "dtype": "f8"
         },
         "yaxis": "y"
        }
       ],
       "layout": {
        "bargap": 0.15,
        "barmode": "relative",
        "height": 450,
        "legend": {
         "tracegroupgap": 0
        },
        "margin": {
         "t": 60
        },
        "template": {
         "data": {
          "bar": [
           {
            "error_x": {
             "color": "#2a3f5f"
            },
            "error_y": {
             "color": "#2a3f5f"
            },
            "marker": {
             "line": {
              "color": "#E5ECF6",
              "width": 0.5
             },
             "pattern": {
              "fillmode": "overlay",
              "size": 10,
              "solidity": 0.2
             }
            },
            "type": "bar"
           }
          ],
          "barpolar": [
           {
            "marker": {
             "line": {
              "color": "#E5ECF6",
              "width": 0.5
             },
             "pattern": {
              "fillmode": "overlay",
              "size": 10,
              "solidity": 0.2
             }
            },
            "type": "barpolar"
           }
          ],
          "carpet": [
           {
            "aaxis": {
             "endlinecolor": "#2a3f5f",
             "gridcolor": "white",
             "linecolor": "white",
             "minorgridcolor": "white",
             "startlinecolor": "#2a3f5f"
            },
            "baxis": {
             "endlinecolor": "#2a3f5f",
             "gridcolor": "white",
             "linecolor": "white",
             "minorgridcolor": "white",
             "startlinecolor": "#2a3f5f"
            },
            "type": "carpet"
           }
          ],
          "choropleth": [
           {
            "colorbar": {
             "outlinewidth": 0,
             "ticks": ""
            },
            "type": "choropleth"
           }
          ],
          "contour": [
           {
            "colorbar": {
             "outlinewidth": 0,
             "ticks": ""
            },
            "colorscale": [
             [
              0,
              "#0d0887"
             ],
             [
              0.1111111111111111,
              "#46039f"
             ],
             [
              0.2222222222222222,
              "#7201a8"
             ],
             [
              0.3333333333333333,
              "#9c179e"
             ],
             [
              0.4444444444444444,
              "#bd3786"
             ],
             [
              0.5555555555555556,
              "#d8576b"
             ],
             [
              0.6666666666666666,
              "#ed7953"
             ],
             [
              0.7777777777777778,
              "#fb9f3a"
             ],
             [
              0.8888888888888888,
              "#fdca26"
             ],
             [
              1,
              "#f0f921"
             ]
            ],
            "type": "contour"
           }
          ],
          "contourcarpet": [
           {
            "colorbar": {
             "outlinewidth": 0,
             "ticks": ""
            },
            "type": "contourcarpet"
           }
          ],
          "heatmap": [
           {
            "colorbar": {
             "outlinewidth": 0,
             "ticks": ""
            },
            "colorscale": [
             [
              0,
              "#0d0887"
             ],
             [
              0.1111111111111111,
              "#46039f"
             ],
             [
              0.2222222222222222,
              "#7201a8"
             ],
             [
              0.3333333333333333,
              "#9c179e"
             ],
             [
              0.4444444444444444,
              "#bd3786"
             ],
             [
              0.5555555555555556,
              "#d8576b"
             ],
             [
              0.6666666666666666,
              "#ed7953"
             ],
             [
              0.7777777777777778,
              "#fb9f3a"
             ],
             [
              0.8888888888888888,
              "#fdca26"
             ],
             [
              1,
              "#f0f921"
             ]
            ],
            "type": "heatmap"
           }
          ],
          "histogram": [
           {
            "marker": {
             "pattern": {
              "fillmode": "overlay",
              "size": 10,
              "solidity": 0.2
             }
            },
            "type": "histogram"
           }
          ],
          "histogram2d": [
           {
            "colorbar": {
             "outlinewidth": 0,
             "ticks": ""
            },
            "colorscale": [
             [
              0,
              "#0d0887"
             ],
             [
              0.1111111111111111,
              "#46039f"
             ],
             [
              0.2222222222222222,
              "#7201a8"
             ],
             [
              0.3333333333333333,
              "#9c179e"
             ],
             [
              0.4444444444444444,
              "#bd3786"
             ],
             [
              0.5555555555555556,
              "#d8576b"
             ],
             [
              0.6666666666666666,
              "#ed7953"
             ],
             [
              0.7777777777777778,
              "#fb9f3a"
             ],
             [
              0.8888888888888888,
              "#fdca26"
             ],
             [
              1,
              "#f0f921"
             ]
            ],
            "type": "histogram2d"
           }
          ],
          "histogram2dcontour": [
           {
            "colorbar": {
             "outlinewidth": 0,
             "ticks": ""
            },
            "colorscale": [
             [
              0,
              "#0d0887"
             ],
             [
              0.1111111111111111,
              "#46039f"
             ],
             [
              0.2222222222222222,
              "#7201a8"
             ],
             [
              0.3333333333333333,
              "#9c179e"
             ],
             [
              0.4444444444444444,
              "#bd3786"
             ],
             [
              0.5555555555555556,
              "#d8576b"
             ],
             [
              0.6666666666666666,
              "#ed7953"
             ],
             [
              0.7777777777777778,
              "#fb9f3a"
             ],
             [
              0.8888888888888888,
              "#fdca26"
             ],
             [
              1,
              "#f0f921"
             ]
            ],
            "type": "histogram2dcontour"
           }
          ],
          "mesh3d": [
           {
            "colorbar": {
             "outlinewidth": 0,
             "ticks": ""
            },
            "type": "mesh3d"
           }
          ],
          "parcoords": [
           {
            "line": {
             "colorbar": {
              "outlinewidth": 0,
              "ticks": ""
             }
            },
            "type": "parcoords"
           }
          ],
          "pie": [
           {
            "automargin": true,
            "type": "pie"
           }
          ],
          "scatter": [
           {
            "fillpattern": {
             "fillmode": "overlay",
             "size": 10,
             "solidity": 0.2
            },
            "type": "scatter"
           }
          ],
          "scatter3d": [
           {
            "line": {
             "colorbar": {
              "outlinewidth": 0,
              "ticks": ""
             }
            },
            "marker": {
             "colorbar": {
              "outlinewidth": 0,
              "ticks": ""
             }
            },
            "type": "scatter3d"
           }
          ],
          "scattercarpet": [
           {
            "marker": {
             "colorbar": {
              "outlinewidth": 0,
              "ticks": ""
             }
            },
            "type": "scattercarpet"
           }
          ],
          "scattergeo": [
           {
            "marker": {
             "colorbar": {
              "outlinewidth": 0,
              "ticks": ""
             }
            },
            "type": "scattergeo"
           }
          ],
          "scattergl": [
           {
            "marker": {
             "colorbar": {
              "outlinewidth": 0,
              "ticks": ""
             }
            },
            "type": "scattergl"
           }
          ],
          "scattermap": [
           {
            "marker": {
             "colorbar": {
              "outlinewidth": 0,
              "ticks": ""
             }
            },
            "type": "scattermap"
           }
          ],
          "scattermapbox": [
           {
            "marker": {
             "colorbar": {
              "outlinewidth": 0,
              "ticks": ""
             }
            },
            "type": "scattermapbox"
           }
          ],
          "scatterpolar": [
           {
            "marker": {
             "colorbar": {
              "outlinewidth": 0,
              "ticks": ""
             }
            },
            "type": "scatterpolar"
           }
          ],
          "scatterpolargl": [
           {
            "marker": {
             "colorbar": {
              "outlinewidth": 0,
              "ticks": ""
             }
            },
            "type": "scatterpolargl"
           }
          ],
          "scatterternary": [
           {
            "marker": {
             "colorbar": {
              "outlinewidth": 0,
              "ticks": ""
             }
            },
            "type": "scatterternary"
           }
          ],
          "surface": [
           {
            "colorbar": {
             "outlinewidth": 0,
             "ticks": ""
            },
            "colorscale": [
             [
              0,
              "#0d0887"
             ],
             [
              0.1111111111111111,
              "#46039f"
             ],
             [
              0.2222222222222222,
              "#7201a8"
             ],
             [
              0.3333333333333333,
              "#9c179e"
             ],
             [
              0.4444444444444444,
              "#bd3786"
             ],
             [
              0.5555555555555556,
              "#d8576b"
             ],
             [
              0.6666666666666666,
              "#ed7953"
             ],
             [
              0.7777777777777778,
              "#fb9f3a"
             ],
             [
              0.8888888888888888,
              "#fdca26"
             ],
             [
              1,
              "#f0f921"
             ]
            ],
            "type": "surface"
           }
          ],
          "table": [
           {
            "cells": {
             "fill": {
              "color": "#EBF0F8"
             },
             "line": {
              "color": "white"
             }
            },
            "header": {
             "fill": {
              "color": "#C8D4E3"
             },
             "line": {
              "color": "white"
             }
            },
            "type": "table"
           }
          ]
         },
         "layout": {
          "annotationdefaults": {
           "arrowcolor": "#2a3f5f",
           "arrowhead": 0,
           "arrowwidth": 1
          },
          "autotypenumbers": "strict",
          "coloraxis": {
           "colorbar": {
            "outlinewidth": 0,
            "ticks": ""
           }
          },
          "colorscale": {
           "diverging": [
            [
             0,
             "#8e0152"
            ],
            [
             0.1,
             "#c51b7d"
            ],
            [
             0.2,
             "#de77ae"
            ],
            [
             0.3,
             "#f1b6da"
            ],
            [
             0.4,
             "#fde0ef"
            ],
            [
             0.5,
             "#f7f7f7"
            ],
            [
             0.6,
             "#e6f5d0"
            ],
            [
             0.7,
             "#b8e186"
            ],
            [
             0.8,
             "#7fbc41"
            ],
            [
             0.9,
             "#4d9221"
            ],
            [
             1,
             "#276419"
            ]
           ],
           "sequential": [
            [
             0,
             "#0d0887"
            ],
            [
             0.1111111111111111,
             "#46039f"
            ],
            [
             0.2222222222222222,
             "#7201a8"
            ],
            [
             0.3333333333333333,
             "#9c179e"
            ],
            [
             0.4444444444444444,
             "#bd3786"
            ],
            [
             0.5555555555555556,
             "#d8576b"
            ],
            [
             0.6666666666666666,
             "#ed7953"
            ],
            [
             0.7777777777777778,
             "#fb9f3a"
            ],
            [
             0.8888888888888888,
             "#fdca26"
            ],
            [
             1,
             "#f0f921"
            ]
           ],
           "sequentialminus": [
            [
             0,
             "#0d0887"
            ],
            [
             0.1111111111111111,
             "#46039f"
            ],
            [
             0.2222222222222222,
             "#7201a8"
            ],
            [
             0.3333333333333333,
             "#9c179e"
            ],
            [
             0.4444444444444444,
             "#bd3786"
            ],
            [
             0.5555555555555556,
             "#d8576b"
            ],
            [
             0.6666666666666666,
             "#ed7953"
            ],
            [
             0.7777777777777778,
             "#fb9f3a"
            ],
            [
             0.8888888888888888,
             "#fdca26"
            ],
            [
             1,
             "#f0f921"
            ]
           ]
          },
          "colorway": [
           "#636efa",
           "#EF553B",
           "#00cc96",
           "#ab63fa",
           "#FFA15A",
           "#19d3f3",
           "#FF6692",
           "#B6E880",
           "#FF97FF",
           "#FECB52"
          ],
          "font": {
           "color": "#2a3f5f"
          },
          "geo": {
           "bgcolor": "white",
           "lakecolor": "white",
           "landcolor": "#E5ECF6",
           "showlakes": true,
           "showland": true,
           "subunitcolor": "white"
          },
          "hoverlabel": {
           "align": "left"
          },
          "hovermode": "closest",
          "mapbox": {
           "style": "light"
          },
          "paper_bgcolor": "white",
          "plot_bgcolor": "#E5ECF6",
          "polar": {
           "angularaxis": {
            "gridcolor": "white",
            "linecolor": "white",
            "ticks": ""
           },
           "bgcolor": "#E5ECF6",
           "radialaxis": {
            "gridcolor": "white",
            "linecolor": "white",
            "ticks": ""
           }
          },
          "scene": {
           "xaxis": {
            "backgroundcolor": "#E5ECF6",
            "gridcolor": "white",
            "gridwidth": 2,
            "linecolor": "white",
            "showbackground": true,
            "ticks": "",
            "zerolinecolor": "white"
           },
           "yaxis": {
            "backgroundcolor": "#E5ECF6",
            "gridcolor": "white",
            "gridwidth": 2,
            "linecolor": "white",
            "showbackground": true,
            "ticks": "",
            "zerolinecolor": "white"
           },
           "zaxis": {
            "backgroundcolor": "#E5ECF6",
            "gridcolor": "white",
            "gridwidth": 2,
            "linecolor": "white",
            "showbackground": true,
            "ticks": "",
            "zerolinecolor": "white"
           }
          },
          "shapedefaults": {
           "line": {
            "color": "#2a3f5f"
           }
          },
          "ternary": {
           "aaxis": {
            "gridcolor": "white",
            "linecolor": "white",
            "ticks": ""
           },
           "baxis": {
            "gridcolor": "white",
            "linecolor": "white",
            "ticks": ""
           },
           "bgcolor": "#E5ECF6",
           "caxis": {
            "gridcolor": "white",
            "linecolor": "white",
            "ticks": ""
           }
          },
          "title": {
           "x": 0.05
          },
          "xaxis": {
           "automargin": true,
           "gridcolor": "white",
           "linecolor": "white",
           "ticks": "",
           "title": {
            "standoff": 15
           },
           "zerolinecolor": "white",
           "zerolinewidth": 2
          },
          "yaxis": {
           "automargin": true,
           "gridcolor": "white",
           "linecolor": "white",
           "ticks": "",
           "title": {
            "standoff": 15
           },
           "zerolinecolor": "white",
           "zerolinewidth": 2
          }
         }
        },
        "width": 1200,
        "xaxis": {
         "anchor": "y",
         "domain": [
          0,
          1
         ],
         "title": {
          "text": "x"
         }
        },
        "yaxis": {
         "anchor": "x",
         "domain": [
          0,
          1
         ],
         "tickprefix": "€",
         "title": {
          "text": "sum of y"
         }
        }
       }
      }
     },
     "metadata": {},
     "output_type": "display_data"
    }
   ],
   "source": [
    "fig = px.histogram(x=final_df['date'], y=final_df['Sales'], width=1200, height=450)\n",
    "fig.update_layout(bargap=0.15, yaxis=dict(tickprefix='€'))\n",
    "fig.show()\n"
   ]
  },
  {
   "cell_type": "code",
   "execution_count": 265,
   "id": "a7f47c65",
   "metadata": {},
   "outputs": [],
   "source": [
    "# final_df.to_csv(\"D:/Datasets/final_sales_data.csv\")\n",
    "# df = pd.read_csv(\"D:/Datasets/final_sales_data.csv\")\n",
    "# df = df.drop('Unnamed: 0', axis=1)\n",
    "# df['date'] = pd.to_datetime(df['date'])\n",
    "# df_monthly = (\n",
    "#     df.groupby(pd.Grouper(key=\"date\", freq=\"ME\"))\n",
    "#     .sum()\n",
    "#     .reset_index()\n",
    "# )\n",
    "# df_monthly['Sales'] = df_monthly['Sales'].round(2)\n",
    "# df_monthly.head()\n",
    "# df_monthly.to_csv(\"D:/GenAIForecastExplain/monthly_data_cakes.csv\")"
   ]
  },
  {
   "cell_type": "code",
   "execution_count": 266,
   "id": "a14f90e9",
   "metadata": {},
   "outputs": [],
   "source": [
    "forecast_days = 210\n",
    "\n",
    "final_df = final_df[['date','Sales']].rename(columns={'date':'ds', 'Sales':'y'})\n",
    "final_df = final_df.sort_values('ds')\n",
    "\n",
    "final_df['is_may'] = (final_df['ds'].dt.month == 5).astype(int)\n",
    "final_df['is_jul'] = (final_df['ds'].dt.month == 7).astype(int)\n",
    "final_df['is_aug'] = (final_df['ds'].dt.month == 8).astype(int)\n",
    "\n",
    "train_df = final_df[:-forecast_days]\n",
    "test_df = final_df.iloc[-forecast_days:]"
   ]
  },
  {
   "cell_type": "markdown",
   "id": "f94c1c07",
   "metadata": {},
   "source": [
    "Seasonality for yearly, daily, holidays and weekends"
   ]
  },
  {
   "cell_type": "code",
   "execution_count": 267,
   "id": "3e04207b",
   "metadata": {},
   "outputs": [],
   "source": [
    "# train_df['is_aug15'] = (train_df['ds'].dt.month == 8) & ((train_df['ds'].dt.day == 15) | (train_df['ds'].dt.day == 14)).astype(int)"
   ]
  },
  {
   "cell_type": "code",
   "execution_count": 268,
   "id": "2afeb9dd",
   "metadata": {},
   "outputs": [
    {
     "data": {
      "application/vnd.plotly.v1+json": {
       "config": {
        "plotlyServerURL": "https://plot.ly"
       },
       "data": [
        {
         "hovertemplate": "Days=%{x}<br>Year=%{text}<extra></extra>",
         "legendgroup": "",
         "marker": {
          "color": "#636efa",
          "pattern": {
           "shape": ""
          }
         },
         "name": "",
         "orientation": "v",
         "showlegend": false,
         "text": {
          "bdata": "ZmZmZuL28kDNzMzMVBnxQAAAAACURPFASOF6FC7F8UBSuB6Fp53zQOF6FK6Hu/dAFK5H4bIZ/0A=",
          "dtype": "f8"
         },
         "textposition": "outside",
         "type": "bar",
         "x": [
          "Mon",
          "Tue",
          "Wed",
          "Thu",
          "Fri",
          "Sat",
          "Sun"
         ],
         "xaxis": "x",
         "y": {
          "bdata": "ZmZmZuL28kDNzMzMVBnxQAAAAACURPFASOF6FC7F8UBSuB6Fp53zQOF6FK6Hu/dAFK5H4bIZ/0A=",
          "dtype": "f8"
         },
         "yaxis": "y"
        }
       ],
       "layout": {
        "barmode": "relative",
        "height": 500,
        "legend": {
         "tracegroupgap": 0
        },
        "template": {
         "data": {
          "bar": [
           {
            "error_x": {
             "color": "#2a3f5f"
            },
            "error_y": {
             "color": "#2a3f5f"
            },
            "marker": {
             "line": {
              "color": "#E5ECF6",
              "width": 0.5
             },
             "pattern": {
              "fillmode": "overlay",
              "size": 10,
              "solidity": 0.2
             }
            },
            "type": "bar"
           }
          ],
          "barpolar": [
           {
            "marker": {
             "line": {
              "color": "#E5ECF6",
              "width": 0.5
             },
             "pattern": {
              "fillmode": "overlay",
              "size": 10,
              "solidity": 0.2
             }
            },
            "type": "barpolar"
           }
          ],
          "carpet": [
           {
            "aaxis": {
             "endlinecolor": "#2a3f5f",
             "gridcolor": "white",
             "linecolor": "white",
             "minorgridcolor": "white",
             "startlinecolor": "#2a3f5f"
            },
            "baxis": {
             "endlinecolor": "#2a3f5f",
             "gridcolor": "white",
             "linecolor": "white",
             "minorgridcolor": "white",
             "startlinecolor": "#2a3f5f"
            },
            "type": "carpet"
           }
          ],
          "choropleth": [
           {
            "colorbar": {
             "outlinewidth": 0,
             "ticks": ""
            },
            "type": "choropleth"
           }
          ],
          "contour": [
           {
            "colorbar": {
             "outlinewidth": 0,
             "ticks": ""
            },
            "colorscale": [
             [
              0,
              "#0d0887"
             ],
             [
              0.1111111111111111,
              "#46039f"
             ],
             [
              0.2222222222222222,
              "#7201a8"
             ],
             [
              0.3333333333333333,
              "#9c179e"
             ],
             [
              0.4444444444444444,
              "#bd3786"
             ],
             [
              0.5555555555555556,
              "#d8576b"
             ],
             [
              0.6666666666666666,
              "#ed7953"
             ],
             [
              0.7777777777777778,
              "#fb9f3a"
             ],
             [
              0.8888888888888888,
              "#fdca26"
             ],
             [
              1,
              "#f0f921"
             ]
            ],
            "type": "contour"
           }
          ],
          "contourcarpet": [
           {
            "colorbar": {
             "outlinewidth": 0,
             "ticks": ""
            },
            "type": "contourcarpet"
           }
          ],
          "heatmap": [
           {
            "colorbar": {
             "outlinewidth": 0,
             "ticks": ""
            },
            "colorscale": [
             [
              0,
              "#0d0887"
             ],
             [
              0.1111111111111111,
              "#46039f"
             ],
             [
              0.2222222222222222,
              "#7201a8"
             ],
             [
              0.3333333333333333,
              "#9c179e"
             ],
             [
              0.4444444444444444,
              "#bd3786"
             ],
             [
              0.5555555555555556,
              "#d8576b"
             ],
             [
              0.6666666666666666,
              "#ed7953"
             ],
             [
              0.7777777777777778,
              "#fb9f3a"
             ],
             [
              0.8888888888888888,
              "#fdca26"
             ],
             [
              1,
              "#f0f921"
             ]
            ],
            "type": "heatmap"
           }
          ],
          "histogram": [
           {
            "marker": {
             "pattern": {
              "fillmode": "overlay",
              "size": 10,
              "solidity": 0.2
             }
            },
            "type": "histogram"
           }
          ],
          "histogram2d": [
           {
            "colorbar": {
             "outlinewidth": 0,
             "ticks": ""
            },
            "colorscale": [
             [
              0,
              "#0d0887"
             ],
             [
              0.1111111111111111,
              "#46039f"
             ],
             [
              0.2222222222222222,
              "#7201a8"
             ],
             [
              0.3333333333333333,
              "#9c179e"
             ],
             [
              0.4444444444444444,
              "#bd3786"
             ],
             [
              0.5555555555555556,
              "#d8576b"
             ],
             [
              0.6666666666666666,
              "#ed7953"
             ],
             [
              0.7777777777777778,
              "#fb9f3a"
             ],
             [
              0.8888888888888888,
              "#fdca26"
             ],
             [
              1,
              "#f0f921"
             ]
            ],
            "type": "histogram2d"
           }
          ],
          "histogram2dcontour": [
           {
            "colorbar": {
             "outlinewidth": 0,
             "ticks": ""
            },
            "colorscale": [
             [
              0,
              "#0d0887"
             ],
             [
              0.1111111111111111,
              "#46039f"
             ],
             [
              0.2222222222222222,
              "#7201a8"
             ],
             [
              0.3333333333333333,
              "#9c179e"
             ],
             [
              0.4444444444444444,
              "#bd3786"
             ],
             [
              0.5555555555555556,
              "#d8576b"
             ],
             [
              0.6666666666666666,
              "#ed7953"
             ],
             [
              0.7777777777777778,
              "#fb9f3a"
             ],
             [
              0.8888888888888888,
              "#fdca26"
             ],
             [
              1,
              "#f0f921"
             ]
            ],
            "type": "histogram2dcontour"
           }
          ],
          "mesh3d": [
           {
            "colorbar": {
             "outlinewidth": 0,
             "ticks": ""
            },
            "type": "mesh3d"
           }
          ],
          "parcoords": [
           {
            "line": {
             "colorbar": {
              "outlinewidth": 0,
              "ticks": ""
             }
            },
            "type": "parcoords"
           }
          ],
          "pie": [
           {
            "automargin": true,
            "type": "pie"
           }
          ],
          "scatter": [
           {
            "fillpattern": {
             "fillmode": "overlay",
             "size": 10,
             "solidity": 0.2
            },
            "type": "scatter"
           }
          ],
          "scatter3d": [
           {
            "line": {
             "colorbar": {
              "outlinewidth": 0,
              "ticks": ""
             }
            },
            "marker": {
             "colorbar": {
              "outlinewidth": 0,
              "ticks": ""
             }
            },
            "type": "scatter3d"
           }
          ],
          "scattercarpet": [
           {
            "marker": {
             "colorbar": {
              "outlinewidth": 0,
              "ticks": ""
             }
            },
            "type": "scattercarpet"
           }
          ],
          "scattergeo": [
           {
            "marker": {
             "colorbar": {
              "outlinewidth": 0,
              "ticks": ""
             }
            },
            "type": "scattergeo"
           }
          ],
          "scattergl": [
           {
            "marker": {
             "colorbar": {
              "outlinewidth": 0,
              "ticks": ""
             }
            },
            "type": "scattergl"
           }
          ],
          "scattermap": [
           {
            "marker": {
             "colorbar": {
              "outlinewidth": 0,
              "ticks": ""
             }
            },
            "type": "scattermap"
           }
          ],
          "scattermapbox": [
           {
            "marker": {
             "colorbar": {
              "outlinewidth": 0,
              "ticks": ""
             }
            },
            "type": "scattermapbox"
           }
          ],
          "scatterpolar": [
           {
            "marker": {
             "colorbar": {
              "outlinewidth": 0,
              "ticks": ""
             }
            },
            "type": "scatterpolar"
           }
          ],
          "scatterpolargl": [
           {
            "marker": {
             "colorbar": {
              "outlinewidth": 0,
              "ticks": ""
             }
            },
            "type": "scatterpolargl"
           }
          ],
          "scatterternary": [
           {
            "marker": {
             "colorbar": {
              "outlinewidth": 0,
              "ticks": ""
             }
            },
            "type": "scatterternary"
           }
          ],
          "surface": [
           {
            "colorbar": {
             "outlinewidth": 0,
             "ticks": ""
            },
            "colorscale": [
             [
              0,
              "#0d0887"
             ],
             [
              0.1111111111111111,
              "#46039f"
             ],
             [
              0.2222222222222222,
              "#7201a8"
             ],
             [
              0.3333333333333333,
              "#9c179e"
             ],
             [
              0.4444444444444444,
              "#bd3786"
             ],
             [
              0.5555555555555556,
              "#d8576b"
             ],
             [
              0.6666666666666666,
              "#ed7953"
             ],
             [
              0.7777777777777778,
              "#fb9f3a"
             ],
             [
              0.8888888888888888,
              "#fdca26"
             ],
             [
              1,
              "#f0f921"
             ]
            ],
            "type": "surface"
           }
          ],
          "table": [
           {
            "cells": {
             "fill": {
              "color": "#EBF0F8"
             },
             "line": {
              "color": "white"
             }
            },
            "header": {
             "fill": {
              "color": "#C8D4E3"
             },
             "line": {
              "color": "white"
             }
            },
            "type": "table"
           }
          ]
         },
         "layout": {
          "annotationdefaults": {
           "arrowcolor": "#2a3f5f",
           "arrowhead": 0,
           "arrowwidth": 1
          },
          "autotypenumbers": "strict",
          "coloraxis": {
           "colorbar": {
            "outlinewidth": 0,
            "ticks": ""
           }
          },
          "colorscale": {
           "diverging": [
            [
             0,
             "#8e0152"
            ],
            [
             0.1,
             "#c51b7d"
            ],
            [
             0.2,
             "#de77ae"
            ],
            [
             0.3,
             "#f1b6da"
            ],
            [
             0.4,
             "#fde0ef"
            ],
            [
             0.5,
             "#f7f7f7"
            ],
            [
             0.6,
             "#e6f5d0"
            ],
            [
             0.7,
             "#b8e186"
            ],
            [
             0.8,
             "#7fbc41"
            ],
            [
             0.9,
             "#4d9221"
            ],
            [
             1,
             "#276419"
            ]
           ],
           "sequential": [
            [
             0,
             "#0d0887"
            ],
            [
             0.1111111111111111,
             "#46039f"
            ],
            [
             0.2222222222222222,
             "#7201a8"
            ],
            [
             0.3333333333333333,
             "#9c179e"
            ],
            [
             0.4444444444444444,
             "#bd3786"
            ],
            [
             0.5555555555555556,
             "#d8576b"
            ],
            [
             0.6666666666666666,
             "#ed7953"
            ],
            [
             0.7777777777777778,
             "#fb9f3a"
            ],
            [
             0.8888888888888888,
             "#fdca26"
            ],
            [
             1,
             "#f0f921"
            ]
           ],
           "sequentialminus": [
            [
             0,
             "#0d0887"
            ],
            [
             0.1111111111111111,
             "#46039f"
            ],
            [
             0.2222222222222222,
             "#7201a8"
            ],
            [
             0.3333333333333333,
             "#9c179e"
            ],
            [
             0.4444444444444444,
             "#bd3786"
            ],
            [
             0.5555555555555556,
             "#d8576b"
            ],
            [
             0.6666666666666666,
             "#ed7953"
            ],
            [
             0.7777777777777778,
             "#fb9f3a"
            ],
            [
             0.8888888888888888,
             "#fdca26"
            ],
            [
             1,
             "#f0f921"
            ]
           ]
          },
          "colorway": [
           "#636efa",
           "#EF553B",
           "#00cc96",
           "#ab63fa",
           "#FFA15A",
           "#19d3f3",
           "#FF6692",
           "#B6E880",
           "#FF97FF",
           "#FECB52"
          ],
          "font": {
           "color": "#2a3f5f"
          },
          "geo": {
           "bgcolor": "white",
           "lakecolor": "white",
           "landcolor": "#E5ECF6",
           "showlakes": true,
           "showland": true,
           "subunitcolor": "white"
          },
          "hoverlabel": {
           "align": "left"
          },
          "hovermode": "closest",
          "mapbox": {
           "style": "light"
          },
          "paper_bgcolor": "white",
          "plot_bgcolor": "#E5ECF6",
          "polar": {
           "angularaxis": {
            "gridcolor": "white",
            "linecolor": "white",
            "ticks": ""
           },
           "bgcolor": "#E5ECF6",
           "radialaxis": {
            "gridcolor": "white",
            "linecolor": "white",
            "ticks": ""
           }
          },
          "scene": {
           "xaxis": {
            "backgroundcolor": "#E5ECF6",
            "gridcolor": "white",
            "gridwidth": 2,
            "linecolor": "white",
            "showbackground": true,
            "ticks": "",
            "zerolinecolor": "white"
           },
           "yaxis": {
            "backgroundcolor": "#E5ECF6",
            "gridcolor": "white",
            "gridwidth": 2,
            "linecolor": "white",
            "showbackground": true,
            "ticks": "",
            "zerolinecolor": "white"
           },
           "zaxis": {
            "backgroundcolor": "#E5ECF6",
            "gridcolor": "white",
            "gridwidth": 2,
            "linecolor": "white",
            "showbackground": true,
            "ticks": "",
            "zerolinecolor": "white"
           }
          },
          "shapedefaults": {
           "line": {
            "color": "#2a3f5f"
           }
          },
          "ternary": {
           "aaxis": {
            "gridcolor": "white",
            "linecolor": "white",
            "ticks": ""
           },
           "baxis": {
            "gridcolor": "white",
            "linecolor": "white",
            "ticks": ""
           },
           "bgcolor": "#E5ECF6",
           "caxis": {
            "gridcolor": "white",
            "linecolor": "white",
            "ticks": ""
           }
          },
          "title": {
           "x": 0.05
          },
          "xaxis": {
           "automargin": true,
           "gridcolor": "white",
           "linecolor": "white",
           "ticks": "",
           "title": {
            "standoff": 15
           },
           "zerolinecolor": "white",
           "zerolinewidth": 2
          },
          "yaxis": {
           "automargin": true,
           "gridcolor": "white",
           "linecolor": "white",
           "ticks": "",
           "title": {
            "standoff": 15
           },
           "zerolinecolor": "white",
           "zerolinewidth": 2
          }
         }
        },
        "title": {
         "text": "Total Cake Sales by Day of Week"
        },
        "width": 700,
        "xaxis": {
         "anchor": "y",
         "domain": [
          0,
          1
         ],
         "title": {
          "text": "Days"
         }
        },
        "yaxis": {
         "anchor": "x",
         "domain": [
          0,
          1
         ],
         "title": {
          "text": "Total Cakes Sales"
         }
        }
       }
      }
     },
     "metadata": {},
     "output_type": "display_data"
    }
   ],
   "source": [
    "days = ['Mon', 'Tue', 'Wed', 'Thu', 'Fri', 'Sat', 'Sun']\n",
    "totals = []\n",
    "\n",
    "for i,day in enumerate(days):\n",
    "    total = final_df.loc[(final_df['ds'].dt.dayofweek == i), 'y'].sum() #Monday is 0 and Sun is 6\n",
    "    totals.append(round(total,2))\n",
    "\n",
    "plot_df = pd.DataFrame({\n",
    "    \"Days\":days,\n",
    "    \"Total_Cakes\": totals\n",
    "})\n",
    "\n",
    "fig = px.bar(plot_df, x='Days', y='Total_Cakes', text='Total_Cakes',\n",
    "             title='Total Cake Sales by Day of Week', \n",
    "             labels={'Total_Cakes':'Total Cake Sales', 'Total_Cakes':'Year'}\n",
    ")\n",
    "\n",
    "fig.update_traces(textposition='outside')\n",
    "fig.update_layout(yaxis_title='Total Cakes Sales', xaxis_title='Days', width=700, height=500)\n",
    "fig.show()"
   ]
  },
  {
   "cell_type": "code",
   "execution_count": 269,
   "id": "ec374663",
   "metadata": {},
   "outputs": [
    {
     "data": {
      "application/vnd.plotly.v1+json": {
       "config": {
        "plotlyServerURL": "https://plot.ly"
       },
       "data": [
        {
         "hovertemplate": "Month=%{x}<br>Total Cake Sales=%{text}<extra></extra>",
         "legendgroup": "",
         "marker": {
          "color": "#636efa",
          "pattern": {
           "shape": ""
          }
         },
         "name": "",
         "orientation": "v",
         "showlegend": false,
         "text": {
          "bdata": "KVyPwi2L40BmZmZmVrTjQB+F61EAnOVAzczMzMwZ6UAzMzMz4zDvQJqZmZmByuhAhetRuDr09UDNzMzMpDX5QGZmZma2r+ZAmpmZmele1kAzMzMzA2fTQJqZmZkphdZA",
          "dtype": "f8"
         },
         "textposition": "outside",
         "type": "bar",
         "x": [
          "Jan",
          "Feb",
          "Mar",
          "Apr",
          "May",
          "Jun",
          "Jul",
          "Aug",
          "Sep",
          "Oct",
          "Nov",
          "Dec"
         ],
         "xaxis": "x",
         "y": {
          "bdata": "KVyPwi2L40BmZmZmVrTjQB+F61EAnOVAzczMzMwZ6UAzMzMz4zDvQJqZmZmByuhAhetRuDr09UDNzMzMpDX5QGZmZma2r+ZAmpmZmele1kAzMzMzA2fTQJqZmZkphdZA",
          "dtype": "f8"
         },
         "yaxis": "y"
        }
       ],
       "layout": {
        "barmode": "relative",
        "height": 500,
        "legend": {
         "tracegroupgap": 0
        },
        "template": {
         "data": {
          "bar": [
           {
            "error_x": {
             "color": "#2a3f5f"
            },
            "error_y": {
             "color": "#2a3f5f"
            },
            "marker": {
             "line": {
              "color": "#E5ECF6",
              "width": 0.5
             },
             "pattern": {
              "fillmode": "overlay",
              "size": 10,
              "solidity": 0.2
             }
            },
            "type": "bar"
           }
          ],
          "barpolar": [
           {
            "marker": {
             "line": {
              "color": "#E5ECF6",
              "width": 0.5
             },
             "pattern": {
              "fillmode": "overlay",
              "size": 10,
              "solidity": 0.2
             }
            },
            "type": "barpolar"
           }
          ],
          "carpet": [
           {
            "aaxis": {
             "endlinecolor": "#2a3f5f",
             "gridcolor": "white",
             "linecolor": "white",
             "minorgridcolor": "white",
             "startlinecolor": "#2a3f5f"
            },
            "baxis": {
             "endlinecolor": "#2a3f5f",
             "gridcolor": "white",
             "linecolor": "white",
             "minorgridcolor": "white",
             "startlinecolor": "#2a3f5f"
            },
            "type": "carpet"
           }
          ],
          "choropleth": [
           {
            "colorbar": {
             "outlinewidth": 0,
             "ticks": ""
            },
            "type": "choropleth"
           }
          ],
          "contour": [
           {
            "colorbar": {
             "outlinewidth": 0,
             "ticks": ""
            },
            "colorscale": [
             [
              0,
              "#0d0887"
             ],
             [
              0.1111111111111111,
              "#46039f"
             ],
             [
              0.2222222222222222,
              "#7201a8"
             ],
             [
              0.3333333333333333,
              "#9c179e"
             ],
             [
              0.4444444444444444,
              "#bd3786"
             ],
             [
              0.5555555555555556,
              "#d8576b"
             ],
             [
              0.6666666666666666,
              "#ed7953"
             ],
             [
              0.7777777777777778,
              "#fb9f3a"
             ],
             [
              0.8888888888888888,
              "#fdca26"
             ],
             [
              1,
              "#f0f921"
             ]
            ],
            "type": "contour"
           }
          ],
          "contourcarpet": [
           {
            "colorbar": {
             "outlinewidth": 0,
             "ticks": ""
            },
            "type": "contourcarpet"
           }
          ],
          "heatmap": [
           {
            "colorbar": {
             "outlinewidth": 0,
             "ticks": ""
            },
            "colorscale": [
             [
              0,
              "#0d0887"
             ],
             [
              0.1111111111111111,
              "#46039f"
             ],
             [
              0.2222222222222222,
              "#7201a8"
             ],
             [
              0.3333333333333333,
              "#9c179e"
             ],
             [
              0.4444444444444444,
              "#bd3786"
             ],
             [
              0.5555555555555556,
              "#d8576b"
             ],
             [
              0.6666666666666666,
              "#ed7953"
             ],
             [
              0.7777777777777778,
              "#fb9f3a"
             ],
             [
              0.8888888888888888,
              "#fdca26"
             ],
             [
              1,
              "#f0f921"
             ]
            ],
            "type": "heatmap"
           }
          ],
          "histogram": [
           {
            "marker": {
             "pattern": {
              "fillmode": "overlay",
              "size": 10,
              "solidity": 0.2
             }
            },
            "type": "histogram"
           }
          ],
          "histogram2d": [
           {
            "colorbar": {
             "outlinewidth": 0,
             "ticks": ""
            },
            "colorscale": [
             [
              0,
              "#0d0887"
             ],
             [
              0.1111111111111111,
              "#46039f"
             ],
             [
              0.2222222222222222,
              "#7201a8"
             ],
             [
              0.3333333333333333,
              "#9c179e"
             ],
             [
              0.4444444444444444,
              "#bd3786"
             ],
             [
              0.5555555555555556,
              "#d8576b"
             ],
             [
              0.6666666666666666,
              "#ed7953"
             ],
             [
              0.7777777777777778,
              "#fb9f3a"
             ],
             [
              0.8888888888888888,
              "#fdca26"
             ],
             [
              1,
              "#f0f921"
             ]
            ],
            "type": "histogram2d"
           }
          ],
          "histogram2dcontour": [
           {
            "colorbar": {
             "outlinewidth": 0,
             "ticks": ""
            },
            "colorscale": [
             [
              0,
              "#0d0887"
             ],
             [
              0.1111111111111111,
              "#46039f"
             ],
             [
              0.2222222222222222,
              "#7201a8"
             ],
             [
              0.3333333333333333,
              "#9c179e"
             ],
             [
              0.4444444444444444,
              "#bd3786"
             ],
             [
              0.5555555555555556,
              "#d8576b"
             ],
             [
              0.6666666666666666,
              "#ed7953"
             ],
             [
              0.7777777777777778,
              "#fb9f3a"
             ],
             [
              0.8888888888888888,
              "#fdca26"
             ],
             [
              1,
              "#f0f921"
             ]
            ],
            "type": "histogram2dcontour"
           }
          ],
          "mesh3d": [
           {
            "colorbar": {
             "outlinewidth": 0,
             "ticks": ""
            },
            "type": "mesh3d"
           }
          ],
          "parcoords": [
           {
            "line": {
             "colorbar": {
              "outlinewidth": 0,
              "ticks": ""
             }
            },
            "type": "parcoords"
           }
          ],
          "pie": [
           {
            "automargin": true,
            "type": "pie"
           }
          ],
          "scatter": [
           {
            "fillpattern": {
             "fillmode": "overlay",
             "size": 10,
             "solidity": 0.2
            },
            "type": "scatter"
           }
          ],
          "scatter3d": [
           {
            "line": {
             "colorbar": {
              "outlinewidth": 0,
              "ticks": ""
             }
            },
            "marker": {
             "colorbar": {
              "outlinewidth": 0,
              "ticks": ""
             }
            },
            "type": "scatter3d"
           }
          ],
          "scattercarpet": [
           {
            "marker": {
             "colorbar": {
              "outlinewidth": 0,
              "ticks": ""
             }
            },
            "type": "scattercarpet"
           }
          ],
          "scattergeo": [
           {
            "marker": {
             "colorbar": {
              "outlinewidth": 0,
              "ticks": ""
             }
            },
            "type": "scattergeo"
           }
          ],
          "scattergl": [
           {
            "marker": {
             "colorbar": {
              "outlinewidth": 0,
              "ticks": ""
             }
            },
            "type": "scattergl"
           }
          ],
          "scattermap": [
           {
            "marker": {
             "colorbar": {
              "outlinewidth": 0,
              "ticks": ""
             }
            },
            "type": "scattermap"
           }
          ],
          "scattermapbox": [
           {
            "marker": {
             "colorbar": {
              "outlinewidth": 0,
              "ticks": ""
             }
            },
            "type": "scattermapbox"
           }
          ],
          "scatterpolar": [
           {
            "marker": {
             "colorbar": {
              "outlinewidth": 0,
              "ticks": ""
             }
            },
            "type": "scatterpolar"
           }
          ],
          "scatterpolargl": [
           {
            "marker": {
             "colorbar": {
              "outlinewidth": 0,
              "ticks": ""
             }
            },
            "type": "scatterpolargl"
           }
          ],
          "scatterternary": [
           {
            "marker": {
             "colorbar": {
              "outlinewidth": 0,
              "ticks": ""
             }
            },
            "type": "scatterternary"
           }
          ],
          "surface": [
           {
            "colorbar": {
             "outlinewidth": 0,
             "ticks": ""
            },
            "colorscale": [
             [
              0,
              "#0d0887"
             ],
             [
              0.1111111111111111,
              "#46039f"
             ],
             [
              0.2222222222222222,
              "#7201a8"
             ],
             [
              0.3333333333333333,
              "#9c179e"
             ],
             [
              0.4444444444444444,
              "#bd3786"
             ],
             [
              0.5555555555555556,
              "#d8576b"
             ],
             [
              0.6666666666666666,
              "#ed7953"
             ],
             [
              0.7777777777777778,
              "#fb9f3a"
             ],
             [
              0.8888888888888888,
              "#fdca26"
             ],
             [
              1,
              "#f0f921"
             ]
            ],
            "type": "surface"
           }
          ],
          "table": [
           {
            "cells": {
             "fill": {
              "color": "#EBF0F8"
             },
             "line": {
              "color": "white"
             }
            },
            "header": {
             "fill": {
              "color": "#C8D4E3"
             },
             "line": {
              "color": "white"
             }
            },
            "type": "table"
           }
          ]
         },
         "layout": {
          "annotationdefaults": {
           "arrowcolor": "#2a3f5f",
           "arrowhead": 0,
           "arrowwidth": 1
          },
          "autotypenumbers": "strict",
          "coloraxis": {
           "colorbar": {
            "outlinewidth": 0,
            "ticks": ""
           }
          },
          "colorscale": {
           "diverging": [
            [
             0,
             "#8e0152"
            ],
            [
             0.1,
             "#c51b7d"
            ],
            [
             0.2,
             "#de77ae"
            ],
            [
             0.3,
             "#f1b6da"
            ],
            [
             0.4,
             "#fde0ef"
            ],
            [
             0.5,
             "#f7f7f7"
            ],
            [
             0.6,
             "#e6f5d0"
            ],
            [
             0.7,
             "#b8e186"
            ],
            [
             0.8,
             "#7fbc41"
            ],
            [
             0.9,
             "#4d9221"
            ],
            [
             1,
             "#276419"
            ]
           ],
           "sequential": [
            [
             0,
             "#0d0887"
            ],
            [
             0.1111111111111111,
             "#46039f"
            ],
            [
             0.2222222222222222,
             "#7201a8"
            ],
            [
             0.3333333333333333,
             "#9c179e"
            ],
            [
             0.4444444444444444,
             "#bd3786"
            ],
            [
             0.5555555555555556,
             "#d8576b"
            ],
            [
             0.6666666666666666,
             "#ed7953"
            ],
            [
             0.7777777777777778,
             "#fb9f3a"
            ],
            [
             0.8888888888888888,
             "#fdca26"
            ],
            [
             1,
             "#f0f921"
            ]
           ],
           "sequentialminus": [
            [
             0,
             "#0d0887"
            ],
            [
             0.1111111111111111,
             "#46039f"
            ],
            [
             0.2222222222222222,
             "#7201a8"
            ],
            [
             0.3333333333333333,
             "#9c179e"
            ],
            [
             0.4444444444444444,
             "#bd3786"
            ],
            [
             0.5555555555555556,
             "#d8576b"
            ],
            [
             0.6666666666666666,
             "#ed7953"
            ],
            [
             0.7777777777777778,
             "#fb9f3a"
            ],
            [
             0.8888888888888888,
             "#fdca26"
            ],
            [
             1,
             "#f0f921"
            ]
           ]
          },
          "colorway": [
           "#636efa",
           "#EF553B",
           "#00cc96",
           "#ab63fa",
           "#FFA15A",
           "#19d3f3",
           "#FF6692",
           "#B6E880",
           "#FF97FF",
           "#FECB52"
          ],
          "font": {
           "color": "#2a3f5f"
          },
          "geo": {
           "bgcolor": "white",
           "lakecolor": "white",
           "landcolor": "#E5ECF6",
           "showlakes": true,
           "showland": true,
           "subunitcolor": "white"
          },
          "hoverlabel": {
           "align": "left"
          },
          "hovermode": "closest",
          "mapbox": {
           "style": "light"
          },
          "paper_bgcolor": "white",
          "plot_bgcolor": "#E5ECF6",
          "polar": {
           "angularaxis": {
            "gridcolor": "white",
            "linecolor": "white",
            "ticks": ""
           },
           "bgcolor": "#E5ECF6",
           "radialaxis": {
            "gridcolor": "white",
            "linecolor": "white",
            "ticks": ""
           }
          },
          "scene": {
           "xaxis": {
            "backgroundcolor": "#E5ECF6",
            "gridcolor": "white",
            "gridwidth": 2,
            "linecolor": "white",
            "showbackground": true,
            "ticks": "",
            "zerolinecolor": "white"
           },
           "yaxis": {
            "backgroundcolor": "#E5ECF6",
            "gridcolor": "white",
            "gridwidth": 2,
            "linecolor": "white",
            "showbackground": true,
            "ticks": "",
            "zerolinecolor": "white"
           },
           "zaxis": {
            "backgroundcolor": "#E5ECF6",
            "gridcolor": "white",
            "gridwidth": 2,
            "linecolor": "white",
            "showbackground": true,
            "ticks": "",
            "zerolinecolor": "white"
           }
          },
          "shapedefaults": {
           "line": {
            "color": "#2a3f5f"
           }
          },
          "ternary": {
           "aaxis": {
            "gridcolor": "white",
            "linecolor": "white",
            "ticks": ""
           },
           "baxis": {
            "gridcolor": "white",
            "linecolor": "white",
            "ticks": ""
           },
           "bgcolor": "#E5ECF6",
           "caxis": {
            "gridcolor": "white",
            "linecolor": "white",
            "ticks": ""
           }
          },
          "title": {
           "x": 0.05
          },
          "xaxis": {
           "automargin": true,
           "gridcolor": "white",
           "linecolor": "white",
           "ticks": "",
           "title": {
            "standoff": 15
           },
           "zerolinecolor": "white",
           "zerolinewidth": 2
          },
          "yaxis": {
           "automargin": true,
           "gridcolor": "white",
           "linecolor": "white",
           "ticks": "",
           "title": {
            "standoff": 15
           },
           "zerolinecolor": "white",
           "zerolinewidth": 2
          }
         }
        },
        "title": {
         "text": "Total Cake Sales by Month"
        },
        "width": 800,
        "xaxis": {
         "anchor": "y",
         "domain": [
          0,
          1
         ],
         "title": {
          "text": "Month"
         }
        },
        "yaxis": {
         "anchor": "x",
         "domain": [
          0,
          1
         ],
         "title": {
          "text": "Total Cake Sales"
         }
        }
       }
      }
     },
     "metadata": {},
     "output_type": "display_data"
    }
   ],
   "source": [
    "totals = []\n",
    "months = ['Jan', 'Feb', 'Mar', 'Apr', 'May', 'Jun', \n",
    "          'Jul', 'Aug', 'Sep', 'Oct', 'Nov', 'Dec']\n",
    "\n",
    "for i in range(1, 13): \n",
    "    total = final_df.loc[(final_df['ds'].dt.month == i), 'y'].sum()\n",
    "    totals.append(round(total, 2))\n",
    "\n",
    "plot_df = pd.DataFrame({\n",
    "    \"Month\": months,\n",
    "    \"Total_Cakes\": totals\n",
    "})\n",
    "\n",
    "fig = px.bar(\n",
    "    plot_df,\n",
    "    x='Month',\n",
    "    y='Total_Cakes',\n",
    "    text='Total_Cakes',\n",
    "    title='Total Cake Sales by Month',\n",
    "    labels={'Total_Cakes': 'Total Cake Sales', 'Month': 'Month'}\n",
    ")\n",
    "\n",
    "fig.update_traces(textposition='outside')\n",
    "fig.update_layout(yaxis_title='Total Cake Sales', xaxis_title='Month', width=800, height=500)\n",
    "fig.show()\n"
   ]
  },
  {
   "cell_type": "code",
   "execution_count": 270,
   "id": "46aa0f76",
   "metadata": {},
   "outputs": [
    {
     "data": {
      "application/vnd.plotly.v1+json": {
       "config": {
        "plotlyServerURL": "https://plot.ly"
       },
       "data": [
        {
         "hovertemplate": "Year=%{x}<br>Total Cake Sales=%{text}<extra></extra>",
         "legendgroup": "2021",
         "marker": {
          "color": "#636efa",
          "pattern": {
           "shape": ""
          }
         },
         "name": "2021",
         "orientation": "v",
         "showlegend": true,
         "text": {
          "bdata": "exSuRyANEEE=",
          "dtype": "f8"
         },
         "textposition": "outside",
         "type": "bar",
         "x": [
          "2021"
         ],
         "xaxis": "x",
         "y": {
          "bdata": "exSuRyANEEE=",
          "dtype": "f8"
         },
         "yaxis": "y"
        },
        {
         "hovertemplate": "Year=%{x}<br>Total Cake Sales=%{text}<extra></extra>",
         "legendgroup": "2022",
         "marker": {
          "color": "#EF553B",
          "pattern": {
           "shape": ""
          }
         },
         "name": "2022",
         "orientation": "v",
         "showlegend": true,
         "text": {
          "bdata": "j8L1KGVREEE=",
          "dtype": "f8"
         },
         "textposition": "outside",
         "type": "bar",
         "x": [
          "2022"
         ],
         "xaxis": "x",
         "y": {
          "bdata": "j8L1KGVREEE=",
          "dtype": "f8"
         },
         "yaxis": "y"
        }
       ],
       "layout": {
        "barmode": "relative",
        "height": 500,
        "legend": {
         "title": {
          "text": "Year"
         },
         "tracegroupgap": 0
        },
        "template": {
         "data": {
          "bar": [
           {
            "error_x": {
             "color": "#2a3f5f"
            },
            "error_y": {
             "color": "#2a3f5f"
            },
            "marker": {
             "line": {
              "color": "#E5ECF6",
              "width": 0.5
             },
             "pattern": {
              "fillmode": "overlay",
              "size": 10,
              "solidity": 0.2
             }
            },
            "type": "bar"
           }
          ],
          "barpolar": [
           {
            "marker": {
             "line": {
              "color": "#E5ECF6",
              "width": 0.5
             },
             "pattern": {
              "fillmode": "overlay",
              "size": 10,
              "solidity": 0.2
             }
            },
            "type": "barpolar"
           }
          ],
          "carpet": [
           {
            "aaxis": {
             "endlinecolor": "#2a3f5f",
             "gridcolor": "white",
             "linecolor": "white",
             "minorgridcolor": "white",
             "startlinecolor": "#2a3f5f"
            },
            "baxis": {
             "endlinecolor": "#2a3f5f",
             "gridcolor": "white",
             "linecolor": "white",
             "minorgridcolor": "white",
             "startlinecolor": "#2a3f5f"
            },
            "type": "carpet"
           }
          ],
          "choropleth": [
           {
            "colorbar": {
             "outlinewidth": 0,
             "ticks": ""
            },
            "type": "choropleth"
           }
          ],
          "contour": [
           {
            "colorbar": {
             "outlinewidth": 0,
             "ticks": ""
            },
            "colorscale": [
             [
              0,
              "#0d0887"
             ],
             [
              0.1111111111111111,
              "#46039f"
             ],
             [
              0.2222222222222222,
              "#7201a8"
             ],
             [
              0.3333333333333333,
              "#9c179e"
             ],
             [
              0.4444444444444444,
              "#bd3786"
             ],
             [
              0.5555555555555556,
              "#d8576b"
             ],
             [
              0.6666666666666666,
              "#ed7953"
             ],
             [
              0.7777777777777778,
              "#fb9f3a"
             ],
             [
              0.8888888888888888,
              "#fdca26"
             ],
             [
              1,
              "#f0f921"
             ]
            ],
            "type": "contour"
           }
          ],
          "contourcarpet": [
           {
            "colorbar": {
             "outlinewidth": 0,
             "ticks": ""
            },
            "type": "contourcarpet"
           }
          ],
          "heatmap": [
           {
            "colorbar": {
             "outlinewidth": 0,
             "ticks": ""
            },
            "colorscale": [
             [
              0,
              "#0d0887"
             ],
             [
              0.1111111111111111,
              "#46039f"
             ],
             [
              0.2222222222222222,
              "#7201a8"
             ],
             [
              0.3333333333333333,
              "#9c179e"
             ],
             [
              0.4444444444444444,
              "#bd3786"
             ],
             [
              0.5555555555555556,
              "#d8576b"
             ],
             [
              0.6666666666666666,
              "#ed7953"
             ],
             [
              0.7777777777777778,
              "#fb9f3a"
             ],
             [
              0.8888888888888888,
              "#fdca26"
             ],
             [
              1,
              "#f0f921"
             ]
            ],
            "type": "heatmap"
           }
          ],
          "histogram": [
           {
            "marker": {
             "pattern": {
              "fillmode": "overlay",
              "size": 10,
              "solidity": 0.2
             }
            },
            "type": "histogram"
           }
          ],
          "histogram2d": [
           {
            "colorbar": {
             "outlinewidth": 0,
             "ticks": ""
            },
            "colorscale": [
             [
              0,
              "#0d0887"
             ],
             [
              0.1111111111111111,
              "#46039f"
             ],
             [
              0.2222222222222222,
              "#7201a8"
             ],
             [
              0.3333333333333333,
              "#9c179e"
             ],
             [
              0.4444444444444444,
              "#bd3786"
             ],
             [
              0.5555555555555556,
              "#d8576b"
             ],
             [
              0.6666666666666666,
              "#ed7953"
             ],
             [
              0.7777777777777778,
              "#fb9f3a"
             ],
             [
              0.8888888888888888,
              "#fdca26"
             ],
             [
              1,
              "#f0f921"
             ]
            ],
            "type": "histogram2d"
           }
          ],
          "histogram2dcontour": [
           {
            "colorbar": {
             "outlinewidth": 0,
             "ticks": ""
            },
            "colorscale": [
             [
              0,
              "#0d0887"
             ],
             [
              0.1111111111111111,
              "#46039f"
             ],
             [
              0.2222222222222222,
              "#7201a8"
             ],
             [
              0.3333333333333333,
              "#9c179e"
             ],
             [
              0.4444444444444444,
              "#bd3786"
             ],
             [
              0.5555555555555556,
              "#d8576b"
             ],
             [
              0.6666666666666666,
              "#ed7953"
             ],
             [
              0.7777777777777778,
              "#fb9f3a"
             ],
             [
              0.8888888888888888,
              "#fdca26"
             ],
             [
              1,
              "#f0f921"
             ]
            ],
            "type": "histogram2dcontour"
           }
          ],
          "mesh3d": [
           {
            "colorbar": {
             "outlinewidth": 0,
             "ticks": ""
            },
            "type": "mesh3d"
           }
          ],
          "parcoords": [
           {
            "line": {
             "colorbar": {
              "outlinewidth": 0,
              "ticks": ""
             }
            },
            "type": "parcoords"
           }
          ],
          "pie": [
           {
            "automargin": true,
            "type": "pie"
           }
          ],
          "scatter": [
           {
            "fillpattern": {
             "fillmode": "overlay",
             "size": 10,
             "solidity": 0.2
            },
            "type": "scatter"
           }
          ],
          "scatter3d": [
           {
            "line": {
             "colorbar": {
              "outlinewidth": 0,
              "ticks": ""
             }
            },
            "marker": {
             "colorbar": {
              "outlinewidth": 0,
              "ticks": ""
             }
            },
            "type": "scatter3d"
           }
          ],
          "scattercarpet": [
           {
            "marker": {
             "colorbar": {
              "outlinewidth": 0,
              "ticks": ""
             }
            },
            "type": "scattercarpet"
           }
          ],
          "scattergeo": [
           {
            "marker": {
             "colorbar": {
              "outlinewidth": 0,
              "ticks": ""
             }
            },
            "type": "scattergeo"
           }
          ],
          "scattergl": [
           {
            "marker": {
             "colorbar": {
              "outlinewidth": 0,
              "ticks": ""
             }
            },
            "type": "scattergl"
           }
          ],
          "scattermap": [
           {
            "marker": {
             "colorbar": {
              "outlinewidth": 0,
              "ticks": ""
             }
            },
            "type": "scattermap"
           }
          ],
          "scattermapbox": [
           {
            "marker": {
             "colorbar": {
              "outlinewidth": 0,
              "ticks": ""
             }
            },
            "type": "scattermapbox"
           }
          ],
          "scatterpolar": [
           {
            "marker": {
             "colorbar": {
              "outlinewidth": 0,
              "ticks": ""
             }
            },
            "type": "scatterpolar"
           }
          ],
          "scatterpolargl": [
           {
            "marker": {
             "colorbar": {
              "outlinewidth": 0,
              "ticks": ""
             }
            },
            "type": "scatterpolargl"
           }
          ],
          "scatterternary": [
           {
            "marker": {
             "colorbar": {
              "outlinewidth": 0,
              "ticks": ""
             }
            },
            "type": "scatterternary"
           }
          ],
          "surface": [
           {
            "colorbar": {
             "outlinewidth": 0,
             "ticks": ""
            },
            "colorscale": [
             [
              0,
              "#0d0887"
             ],
             [
              0.1111111111111111,
              "#46039f"
             ],
             [
              0.2222222222222222,
              "#7201a8"
             ],
             [
              0.3333333333333333,
              "#9c179e"
             ],
             [
              0.4444444444444444,
              "#bd3786"
             ],
             [
              0.5555555555555556,
              "#d8576b"
             ],
             [
              0.6666666666666666,
              "#ed7953"
             ],
             [
              0.7777777777777778,
              "#fb9f3a"
             ],
             [
              0.8888888888888888,
              "#fdca26"
             ],
             [
              1,
              "#f0f921"
             ]
            ],
            "type": "surface"
           }
          ],
          "table": [
           {
            "cells": {
             "fill": {
              "color": "#EBF0F8"
             },
             "line": {
              "color": "white"
             }
            },
            "header": {
             "fill": {
              "color": "#C8D4E3"
             },
             "line": {
              "color": "white"
             }
            },
            "type": "table"
           }
          ]
         },
         "layout": {
          "annotationdefaults": {
           "arrowcolor": "#2a3f5f",
           "arrowhead": 0,
           "arrowwidth": 1
          },
          "autotypenumbers": "strict",
          "coloraxis": {
           "colorbar": {
            "outlinewidth": 0,
            "ticks": ""
           }
          },
          "colorscale": {
           "diverging": [
            [
             0,
             "#8e0152"
            ],
            [
             0.1,
             "#c51b7d"
            ],
            [
             0.2,
             "#de77ae"
            ],
            [
             0.3,
             "#f1b6da"
            ],
            [
             0.4,
             "#fde0ef"
            ],
            [
             0.5,
             "#f7f7f7"
            ],
            [
             0.6,
             "#e6f5d0"
            ],
            [
             0.7,
             "#b8e186"
            ],
            [
             0.8,
             "#7fbc41"
            ],
            [
             0.9,
             "#4d9221"
            ],
            [
             1,
             "#276419"
            ]
           ],
           "sequential": [
            [
             0,
             "#0d0887"
            ],
            [
             0.1111111111111111,
             "#46039f"
            ],
            [
             0.2222222222222222,
             "#7201a8"
            ],
            [
             0.3333333333333333,
             "#9c179e"
            ],
            [
             0.4444444444444444,
             "#bd3786"
            ],
            [
             0.5555555555555556,
             "#d8576b"
            ],
            [
             0.6666666666666666,
             "#ed7953"
            ],
            [
             0.7777777777777778,
             "#fb9f3a"
            ],
            [
             0.8888888888888888,
             "#fdca26"
            ],
            [
             1,
             "#f0f921"
            ]
           ],
           "sequentialminus": [
            [
             0,
             "#0d0887"
            ],
            [
             0.1111111111111111,
             "#46039f"
            ],
            [
             0.2222222222222222,
             "#7201a8"
            ],
            [
             0.3333333333333333,
             "#9c179e"
            ],
            [
             0.4444444444444444,
             "#bd3786"
            ],
            [
             0.5555555555555556,
             "#d8576b"
            ],
            [
             0.6666666666666666,
             "#ed7953"
            ],
            [
             0.7777777777777778,
             "#fb9f3a"
            ],
            [
             0.8888888888888888,
             "#fdca26"
            ],
            [
             1,
             "#f0f921"
            ]
           ]
          },
          "colorway": [
           "#636efa",
           "#EF553B",
           "#00cc96",
           "#ab63fa",
           "#FFA15A",
           "#19d3f3",
           "#FF6692",
           "#B6E880",
           "#FF97FF",
           "#FECB52"
          ],
          "font": {
           "color": "#2a3f5f"
          },
          "geo": {
           "bgcolor": "white",
           "lakecolor": "white",
           "landcolor": "#E5ECF6",
           "showlakes": true,
           "showland": true,
           "subunitcolor": "white"
          },
          "hoverlabel": {
           "align": "left"
          },
          "hovermode": "closest",
          "mapbox": {
           "style": "light"
          },
          "paper_bgcolor": "white",
          "plot_bgcolor": "#E5ECF6",
          "polar": {
           "angularaxis": {
            "gridcolor": "white",
            "linecolor": "white",
            "ticks": ""
           },
           "bgcolor": "#E5ECF6",
           "radialaxis": {
            "gridcolor": "white",
            "linecolor": "white",
            "ticks": ""
           }
          },
          "scene": {
           "xaxis": {
            "backgroundcolor": "#E5ECF6",
            "gridcolor": "white",
            "gridwidth": 2,
            "linecolor": "white",
            "showbackground": true,
            "ticks": "",
            "zerolinecolor": "white"
           },
           "yaxis": {
            "backgroundcolor": "#E5ECF6",
            "gridcolor": "white",
            "gridwidth": 2,
            "linecolor": "white",
            "showbackground": true,
            "ticks": "",
            "zerolinecolor": "white"
           },
           "zaxis": {
            "backgroundcolor": "#E5ECF6",
            "gridcolor": "white",
            "gridwidth": 2,
            "linecolor": "white",
            "showbackground": true,
            "ticks": "",
            "zerolinecolor": "white"
           }
          },
          "shapedefaults": {
           "line": {
            "color": "#2a3f5f"
           }
          },
          "ternary": {
           "aaxis": {
            "gridcolor": "white",
            "linecolor": "white",
            "ticks": ""
           },
           "baxis": {
            "gridcolor": "white",
            "linecolor": "white",
            "ticks": ""
           },
           "bgcolor": "#E5ECF6",
           "caxis": {
            "gridcolor": "white",
            "linecolor": "white",
            "ticks": ""
           }
          },
          "title": {
           "x": 0.05
          },
          "xaxis": {
           "automargin": true,
           "gridcolor": "white",
           "linecolor": "white",
           "ticks": "",
           "title": {
            "standoff": 15
           },
           "zerolinecolor": "white",
           "zerolinewidth": 2
          },
          "yaxis": {
           "automargin": true,
           "gridcolor": "white",
           "linecolor": "white",
           "ticks": "",
           "title": {
            "standoff": 15
           },
           "zerolinecolor": "white",
           "zerolinewidth": 2
          }
         }
        },
        "title": {
         "text": "Total Cake Sales Jan-Sep: 2021 vs 2022"
        },
        "width": 700,
        "xaxis": {
         "anchor": "y",
         "categoryarray": [
          "2021",
          "2022"
         ],
         "categoryorder": "array",
         "domain": [
          0,
          1
         ],
         "title": {
          "text": "Year"
         }
        },
        "yaxis": {
         "anchor": "x",
         "domain": [
          0,
          1
         ],
         "title": {
          "text": "Total Cakes Sales"
         }
        }
       }
      }
     },
     "metadata": {},
     "output_type": "display_data"
    }
   ],
   "source": [
    "total_2021 = final_df.loc[(final_df['ds'].dt.year == 2021) & (final_df['ds'].dt.month <= 9), 'y'].sum()\n",
    "total_2022 = final_df.loc[(final_df['ds'].dt.year == 2022) & (final_df['ds'].dt.month <= 9), 'y'].sum()\n",
    "\n",
    "plot_df = pd.DataFrame({\n",
    "    'Year': ['2021', '2022'],\n",
    "    'Total_Cakes': [round(total_2021,2), round(total_2022,2)]\n",
    "})\n",
    "\n",
    "# Plot bar chart\n",
    "fig = px.bar(plot_df, x='Year', y='Total_Cakes', text='Total_Cakes',\n",
    "             title='Total Cake Sales Jan-Sep: 2021 vs 2022', \n",
    "             labels={'Total_Cakes':'Total Cake Sales', 'Year':'Year'},\n",
    "             color='Year')\n",
    "\n",
    "fig.update_traces(textposition='outside')\n",
    "fig.update_layout(yaxis_title='Total Cakes Sales', xaxis_title='Year', width=700, height=500)\n",
    "fig.show()"
   ]
  },
  {
   "cell_type": "markdown",
   "id": "8c244165",
   "metadata": {},
   "source": [
    "## Holidays Considered"
   ]
  },
  {
   "cell_type": "code",
   "execution_count": 271,
   "id": "b87a2e2a",
   "metadata": {},
   "outputs": [
    {
     "name": "stdout",
     "output_type": "stream",
     "text": [
      "           ds          holiday\n",
      "0  2021-01-01   New Year's Day\n",
      "1  2021-04-05    Easter Monday\n",
      "2  2021-05-24      Whit Monday\n",
      "3  2021-05-01        Labor Day\n",
      "4  2021-05-08      Victory Day\n",
      "5  2021-05-13    Ascension Day\n",
      "6  2021-07-14     National Day\n",
      "7  2021-08-15   Assumption Day\n",
      "8  2021-11-01  All Saints' Day\n",
      "9  2021-11-11    Armistice Day\n",
      "10 2021-12-25    Christmas Day\n",
      "11 2022-01-01   New Year's Day\n",
      "12 2022-04-18    Easter Monday\n",
      "13 2022-06-06      Whit Monday\n",
      "14 2022-05-01        Labor Day\n",
      "15 2022-05-08      Victory Day\n",
      "16 2022-05-26    Ascension Day\n",
      "17 2022-07-14     National Day\n",
      "18 2022-08-15   Assumption Day\n",
      "19 2022-11-01  All Saints' Day\n",
      "20 2022-11-11    Armistice Day\n",
      "21 2022-12-25    Christmas Day\n",
      "22 2023-01-01   New Year's Day\n",
      "23 2023-04-10    Easter Monday\n",
      "24 2023-05-29      Whit Monday\n",
      "25 2023-05-01        Labor Day\n",
      "26 2023-05-08      Victory Day\n",
      "27 2023-05-18    Ascension Day\n",
      "28 2023-07-14     National Day\n",
      "29 2023-08-15   Assumption Day\n",
      "30 2023-11-01  All Saints' Day\n",
      "31 2023-11-11    Armistice Day\n",
      "32 2023-12-25    Christmas Day\n"
     ]
    }
   ],
   "source": [
    "print(holidays_df)"
   ]
  },
  {
   "cell_type": "markdown",
   "id": "876def34",
   "metadata": {},
   "source": [
    "## Training Prophet Model"
   ]
  },
  {
   "cell_type": "code",
   "execution_count": 272,
   "id": "2ff2941c",
   "metadata": {},
   "outputs": [],
   "source": [
    "# final_df.info()"
   ]
  },
  {
   "cell_type": "code",
   "execution_count": 273,
   "id": "3261df55",
   "metadata": {},
   "outputs": [
    {
     "data": {
      "text/plain": [
       "<prophet.forecaster.Prophet at 0x16a99978910>"
      ]
     },
     "execution_count": 273,
     "metadata": {},
     "output_type": "execute_result"
    }
   ],
   "source": [
    "holidays_df['lower_window'] = -1  \n",
    "holidays_df['upper_window'] = 0\n",
    "\n",
    "prophet = Prophet(holidays=holidays_df,daily_seasonality=False,weekly_seasonality=False, yearly_seasonality=False)\n",
    "\n",
    "prophet.add_seasonality(\n",
    "    name='Weekly Seasonality',\n",
    "    period=7,          \n",
    "    fourier_order=5,   \n",
    "    prior_scale = 20,    \n",
    "    condition_name=None    \n",
    ")\n",
    "\n",
    "prophet.add_seasonality(\n",
    "    name='Yearly Seasonality',\n",
    "    period=365,          \n",
    "    fourier_order=11,    \n",
    "    prior_scale=20,    \n",
    "    condition_name=None     \n",
    ")\n",
    "\n",
    "# prophet.add_seasonality(name='July',condition_name='is_jul', period=365, fourier_order=7)\n",
    "# prophet.add_seasonality(name='Aug',condition_name='is_aug', period=365, fourier_order=7)\n",
    "\n",
    "# prophet.add_country_holidays(country_name='FR')"
   ]
  },
  {
   "cell_type": "markdown",
   "id": "14fb1913",
   "metadata": {},
   "source": [
    "prophet.add_seasonality(\n",
    "    name='Weekly Seasonality',\n",
    "    period=7,          \n",
    "    fourier_order=5,   \n",
    "    prior_scale = 20,    \n",
    "    condition_name=None    \n",
    ")\n",
    "\n",
    "prophet.add_seasonality(\n",
    "    name='Yearly Seasonality',\n",
    "    period=365,          \n",
    "    fourier_order=11,    \n",
    "    prior_scale=20,    \n",
    "    condition_name=None     \n",
    ")\n",
    "\n",
    "Currently, two seasonalities are used. Other seasonalities like a boosted sales in Jul and Aug was observed but they were not very conclusive as we had data for only two years. More data is required to validate the addition of anymore seasonalities."
   ]
  },
  {
   "cell_type": "code",
   "execution_count": 274,
   "id": "d4beaed1",
   "metadata": {},
   "outputs": [
    {
     "name": "stderr",
     "output_type": "stream",
     "text": [
      "20:18:39 - cmdstanpy - INFO - Chain [1] start processing\n",
      "20:18:39 - cmdstanpy - INFO - Chain [1] done processing\n"
     ]
    },
    {
     "data": {
      "text/plain": [
       "<prophet.forecaster.Prophet at 0x16a99978910>"
      ]
     },
     "execution_count": 274,
     "metadata": {},
     "output_type": "execute_result"
    }
   ],
   "source": [
    "prophet.fit(final_df)"
   ]
  },
  {
   "cell_type": "code",
   "execution_count": 275,
   "id": "3431d2a3",
   "metadata": {},
   "outputs": [],
   "source": [
    "future = prophet.make_future_dataframe(forecast_days)\n",
    "future['month'] = future['ds'].dt.month\n",
    "future['is_jul'] = (future['month'] == 7).astype(int)\n",
    "future['is_aug'] = (future['month'] == 8).astype(int)"
   ]
  },
  {
   "cell_type": "code",
   "execution_count": 276,
   "id": "e48b71da",
   "metadata": {},
   "outputs": [],
   "source": [
    "forecast = prophet.predict(future)\n",
    "prophet_pred = forecast.set_index('ds').loc[test_df['ds'],['yhat','yhat_lower','yhat_upper']]"
   ]
  },
  {
   "cell_type": "code",
   "execution_count": 277,
   "id": "16639961",
   "metadata": {},
   "outputs": [
    {
     "name": "stdout",
     "output_type": "stream",
     "text": [
      "Prophet MAE: 129.33854064266464\n",
      "Prophet MAPE: 0.15711514675402716\n",
      "Prophet R² : 0.8464660099074532\n"
     ]
    }
   ],
   "source": [
    "print(\"Prophet MAE:\", mean_absolute_error(final_df['y'], forecast['yhat'][:-forecast_days]))\n",
    "print(\"Prophet MAPE:\", mean_absolute_percentage_error(final_df['y'], forecast['yhat'][:-forecast_days]))\n",
    "print(\"Prophet R² :\", r2_score(final_df['y'], forecast['yhat'][:-forecast_days]))"
   ]
  },
  {
   "cell_type": "markdown",
   "id": "544ddb02",
   "metadata": {},
   "source": [
    "I got a mean average percentage error of 15% for the forecast of 210 days(Jan-Sep 2022) with data from one year(2021)."
   ]
  },
  {
   "cell_type": "markdown",
   "id": "71326bba",
   "metadata": {},
   "source": [
    "## Cross Validation"
   ]
  },
  {
   "cell_type": "markdown",
   "id": "01d03323",
   "metadata": {},
   "source": [
    "This cross validation step uses a large initial data to monitor the impact of yearly seasonalities and predicts the sales for the months 06/2022-07/2022, 07/2022-08/2022, 08/2022-09/2022 and 09/2022 and evaluates it with the actual data."
   ]
  },
  {
   "cell_type": "code",
   "execution_count": 278,
   "id": "b8439b90",
   "metadata": {},
   "outputs": [
    {
     "name": "stderr",
     "output_type": "stream",
     "text": [
      "  0%|          | 0/4 [00:00<?, ?it/s]20:18:40 - cmdstanpy - INFO - Chain [1] start processing\n",
      "20:18:41 - cmdstanpy - INFO - Chain [1] done processing\n",
      " 25%|██▌       | 1/4 [00:00<00:02,  1.09it/s]20:18:41 - cmdstanpy - INFO - Chain [1] start processing\n",
      "20:18:41 - cmdstanpy - INFO - Chain [1] done processing\n",
      " 50%|█████     | 2/4 [00:01<00:01,  1.23it/s]20:18:42 - cmdstanpy - INFO - Chain [1] start processing\n",
      "20:18:42 - cmdstanpy - INFO - Chain [1] done processing\n",
      " 75%|███████▌  | 3/4 [00:02<00:00,  1.28it/s]20:18:43 - cmdstanpy - INFO - Chain [1] start processing\n",
      "20:18:43 - cmdstanpy - INFO - Chain [1] done processing\n",
      "100%|██████████| 4/4 [00:03<00:00,  1.30it/s]"
     ]
    },
    {
     "name": "stdout",
     "output_type": "stream",
     "text": [
      "      cutoff         mae       mape        r2\n",
      "0 2022-06-02  103.964445  11.646446  0.835061\n",
      "1 2022-07-02  229.743422  12.621027  0.535863\n",
      "2 2022-08-01  215.465504  12.552668  0.709746\n",
      "3 2022-08-31  136.231524  18.441535  0.493711\n"
     ]
    },
    {
     "name": "stderr",
     "output_type": "stream",
     "text": [
      "\n"
     ]
    }
   ],
   "source": [
    "df_cv = cross_validation(\n",
    "    prophet,\n",
    "    initial=\"510 days\",\n",
    "    period=\"30 days\",\n",
    "    horizon=\"30 days\"\n",
    ")\n",
    "\n",
    "results = []\n",
    "\n",
    "# Calculate average metrics per cutoff\n",
    "for cutoff_date in df_cv['cutoff'].unique():\n",
    "    subset = df_cv[df_cv['cutoff'] == cutoff_date]\n",
    "    y_true = subset['y'].values\n",
    "    y_pred = subset['yhat'].values\n",
    "    mae = mean_absolute_error(y_true, y_pred)\n",
    "    mape = np.mean(np.abs((y_true - y_pred) / y_true)) * 100\n",
    "    r2 = r2_score(y_true, y_pred)\n",
    "    results.append({'cutoff': cutoff_date, 'mae': mae, 'mape': mape, 'r2': r2})\n",
    "\n",
    "# Create DataFrame with results\n",
    "metrics_df = pd.DataFrame(results)\n",
    "\n",
    "print(metrics_df)\n"
   ]
  },
  {
   "cell_type": "markdown",
   "id": "87d68b17",
   "metadata": {},
   "source": [
    "This cross-validation uses the same initial days but gives the performance metrics of each day of the forecasted sales for 30 days"
   ]
  },
  {
   "cell_type": "code",
   "execution_count": 279,
   "id": "d979a25a",
   "metadata": {},
   "outputs": [
    {
     "name": "stderr",
     "output_type": "stream",
     "text": [
      "  0%|          | 0/4 [00:00<?, ?it/s]20:18:43 - cmdstanpy - INFO - Chain [1] start processing\n",
      "20:18:44 - cmdstanpy - INFO - Chain [1] done processing\n",
      " 25%|██▌       | 1/4 [00:00<00:02,  1.39it/s]20:18:44 - cmdstanpy - INFO - Chain [1] start processing\n",
      "20:18:44 - cmdstanpy - INFO - Chain [1] done processing\n",
      " 50%|█████     | 2/4 [00:01<00:01,  1.32it/s]20:18:45 - cmdstanpy - INFO - Chain [1] start processing\n",
      "20:18:45 - cmdstanpy - INFO - Chain [1] done processing\n",
      " 75%|███████▌  | 3/4 [00:02<00:00,  1.35it/s]20:18:45 - cmdstanpy - INFO - Chain [1] start processing\n",
      "20:18:46 - cmdstanpy - INFO - Chain [1] done processing\n",
      "100%|██████████| 4/4 [00:02<00:00,  1.40it/s]\n"
     ]
    }
   ],
   "source": [
    "# prophet.fit(final_df)\n",
    "df_cv = cross_validation(\n",
    "    prophet,\n",
    "    initial=\"510 days\",\n",
    "    period=\"30 days\",\n",
    "    horizon=\"30 days\"\n",
    ")\n"
   ]
  },
  {
   "cell_type": "code",
   "execution_count": 280,
   "id": "a433d489",
   "metadata": {},
   "outputs": [
    {
     "name": "stdout",
     "output_type": "stream",
     "text": [
      "   horizon            mse        rmse         mae      mape     mdape  \\\n",
      "0   1 days   70532.627768  265.579795  242.165105  0.215962  0.218361   \n",
      "1   2 days   24099.311552  155.239530  115.478923  0.139548  0.053769   \n",
      "2   3 days   33250.533055  182.347287  160.114909  0.124123  0.108432   \n",
      "3   4 days   58002.246745  240.836556  224.258625  0.190065  0.212642   \n",
      "4   5 days    9089.378633   95.338233   71.781955  0.077158  0.042302   \n",
      "5   6 days   44603.978026  211.196539  195.807653  0.191402  0.187338   \n",
      "6   7 days   92932.618170  304.848517  224.930365  0.192832  0.231982   \n",
      "7   8 days   34010.971816  184.420638  158.801779  0.144042  0.145315   \n",
      "8   9 days   17091.116313  130.732996  117.979829  0.093697  0.098138   \n",
      "9  10 days   30210.147770  173.810666  135.671505  0.097105  0.099958   \n",
      "10 11 days   22852.869242  151.171655  129.981793  0.086509  0.080884   \n",
      "11 12 days   30586.405378  174.889695  149.524973  0.097538  0.098393   \n",
      "12 13 days  275868.963498  525.232295  419.176273  0.252480  0.288832   \n",
      "13 14 days  170530.961261  412.953946  266.311117  0.163955  0.138354   \n",
      "14 15 days  220285.153412  469.345452  304.655425  0.170672  0.138270   \n",
      "15 16 days   27413.397627  165.569918  133.986760  0.119424  0.151196   \n",
      "16 17 days   50945.470128  225.711032  167.334102  0.104174  0.083777   \n",
      "17 18 days   14806.747604  121.682980  104.698333  0.095481  0.115586   \n",
      "18 19 days   44453.155435  210.839170  155.941772  0.112271  0.104843   \n",
      "19 20 days   69421.291577  263.479205  187.098924  0.146838  0.184340   \n",
      "20 21 days   55613.412130  235.824961  193.586364  0.168405  0.151793   \n",
      "21 22 days   32653.748764  180.703483  146.961091  0.138293  0.143802   \n",
      "22 23 days   22702.215773  150.672545  124.645523  0.120889  0.113065   \n",
      "23 24 days   12937.378821  113.742599  102.494409  0.098168  0.083121   \n",
      "24 25 days   36274.569107  190.458838  155.402957  0.152643  0.132284   \n",
      "25 26 days   24229.679961  155.658858  136.698244  0.128165  0.122901   \n",
      "26 27 days   18132.110736  134.655526  128.308988  0.122675  0.104849   \n",
      "27 28 days   16079.925248  126.806645  109.414194  0.100822  0.119402   \n",
      "28 29 days   69773.417412  264.146583  144.348660  0.067984  0.024961   \n",
      "29 30 days   77712.645224  278.769879  232.976160  0.231309  0.166756   \n",
      "\n",
      "       smape  coverage  \n",
      "0   0.207508      0.50  \n",
      "1   0.122215      0.75  \n",
      "2   0.115957      0.75  \n",
      "3   0.179682      0.50  \n",
      "4   0.072126      1.00  \n",
      "5   0.178154      0.75  \n",
      "6   0.188926      0.75  \n",
      "7   0.139552      0.75  \n",
      "8   0.096376      1.00  \n",
      "9   0.098102      0.75  \n",
      "10  0.090873      0.75  \n",
      "11  0.100848      1.00  \n",
      "12  0.262560      0.50  \n",
      "13  0.176003      0.75  \n",
      "14  0.183472      0.75  \n",
      "15  0.123405      0.75  \n",
      "16  0.115344      0.50  \n",
      "17  0.095243      1.00  \n",
      "18  0.123758      0.75  \n",
      "19  0.144282      0.75  \n",
      "20  0.161579      0.75  \n",
      "21  0.136397      0.75  \n",
      "22  0.118242      1.00  \n",
      "23  0.092884      1.00  \n",
      "24  0.140954      0.75  \n",
      "25  0.122652      0.75  \n",
      "26  0.120218      1.00  \n",
      "27  0.098223      1.00  \n",
      "28  0.074367      0.75  \n",
      "29  0.210796      0.50  \n"
     ]
    }
   ],
   "source": [
    "perf_df = performance_metrics(df_cv, rolling_window=0)\n",
    "\n",
    "print(perf_df)"
   ]
  },
  {
   "cell_type": "code",
   "execution_count": 281,
   "id": "56ab6449",
   "metadata": {},
   "outputs": [
    {
     "name": "stdout",
     "output_type": "stream",
     "text": [
      "  horizon          mse        rmse         mae      mape    mdape     smape  \\\n",
      "0 30 days  56903.21494  238.543948  171.351224  0.138154  0.12361  0.136357   \n",
      "\n",
      "   coverage  \n",
      "0     0.775  \n"
     ]
    }
   ],
   "source": [
    "perf_df = performance_metrics(df_cv, rolling_window=1)\n",
    "\n",
    "print(perf_df)"
   ]
  },
  {
   "cell_type": "markdown",
   "id": "6cc80fbe",
   "metadata": {},
   "source": [
    "performance_metrics(df_cv, rolling_window=0) then it will average over folds but not over time; so with 30 day horizon and daily data, you would have 30 rows, each of which is the average error across folds for points that were X days after the cutoff, where X is what is given in the horizon column of the output.\n",
    "\n",
    "performance_metrics(df_cv, rolling_window=1), it would be more like a regular CV where the average is taken over all of the test-set points, so there will be a single row. This estimates the average forecast error over the entire 30-day horizon."
   ]
  },
  {
   "cell_type": "code",
   "execution_count": 282,
   "id": "00ced817",
   "metadata": {},
   "outputs": [
    {
     "name": "stderr",
     "output_type": "stream",
     "text": [
      "c:\\Users\\Radhesh.Rathnam\\AppData\\Local\\Programs\\Python\\Python313\\Lib\\site-packages\\prophet\\plot.py:547: FutureWarning:\n",
      "\n",
      "Series.view is deprecated and will be removed in a future version. Use ``astype`` as an alternative to change the dtype.\n",
      "\n"
     ]
    },
    {
     "name": "stderr",
     "output_type": "stream",
     "text": [
      "c:\\Users\\Radhesh.Rathnam\\AppData\\Local\\Programs\\Python\\Python313\\Lib\\site-packages\\prophet\\plot.py:548: FutureWarning:\n",
      "\n",
      "Series.view is deprecated and will be removed in a future version. Use ``astype`` as an alternative to change the dtype.\n",
      "\n",
      "C:\\Users\\Radhesh.Rathnam\\AppData\\Local\\Temp\\ipykernel_22404\\2990483766.py:2: UserWarning:\n",
      "\n",
      "FigureCanvasAgg is non-interactive, and thus cannot be shown\n",
      "\n"
     ]
    },
    {
     "data": {
      "image/png": "[encoded data removed]",
      "text/plain": [
       "<Figure size 1000x600 with 1 Axes>"
      ]
     },
     "metadata": {},
     "output_type": "display_data"
    }
   ],
   "source": [
    "fig = plot_cross_validation_metric(df_cv, \"mape\", rolling_window=0)\n",
    "fig.show()"
   ]
  },
  {
   "cell_type": "markdown",
   "id": "2a340cf2",
   "metadata": {},
   "source": [
    "Plotted the mape across the cross validated dataset"
   ]
  },
  {
   "cell_type": "markdown",
   "id": "cc6009c7",
   "metadata": {},
   "source": [
    "## Forecast Model Evaluation Visualizations"
   ]
  },
  {
   "cell_type": "markdown",
   "id": "817312ed",
   "metadata": {},
   "source": [
    "### Actual Sales vs Forecasted Sales and Predictions "
   ]
  },
  {
   "cell_type": "code",
   "execution_count": 283,
   "id": "e8845604",
   "metadata": {},
   "outputs": [
    {
     "data": {
      "application/vnd.plotly.v1+json": {
       "config": {
        "plotlyServerURL": "https://plot.ly"
       },
       "data": [
        {
         "hovertemplate": "ds=%{x}<br>yhat=%{y}<extra></extra>",
         "legendgroup": "",
         "line": {
          "color": "#636efa",
          "dash": "solid"
         },
         "marker": {
          "symbol": "circle"
         },
         "mode": "lines",
         "name": "",
         "orientation": "v",
         "showlegend": false,
         "type": "scatter",
         "x": [
          "2021-01-01T00:00:00",
          "2021-01-02T00:00:00",
          "2021-01-03T00:00:00",
          "2021-01-04T00:00:00",
          "2021-01-05T00:00:00",
          "2021-01-06T00:00:00",
          "2021-01-07T00:00:00",
          "2021-01-08T00:00:00",
          "2021-01-09T00:00:00",
          "2021-01-10T00:00:00",
          "2021-01-11T00:00:00",
          "2021-01-12T00:00:00",
          "2021-01-13T00:00:00",
          "2021-01-14T00:00:00",
          "2021-01-15T00:00:00",
          "2021-01-16T00:00:00",
          "2021-01-17T00:00:00",
          "2021-01-18T00:00:00",
          "2021-01-19T00:00:00",
          "2021-01-20T00:00:00",
          "2021-01-21T00:00:00",
          "2021-01-22T00:00:00",
          "2021-01-23T00:00:00",
          "2021-01-24T00:00:00",
          "2021-01-25T00:00:00",
          "2021-01-26T00:00:00",
          "2021-01-27T00:00:00",
          "2021-01-28T00:00:00",
          "2021-01-29T00:00:00",
          "2021-01-30T00:00:00",
          "2021-01-31T00:00:00",
          "2021-02-01T00:00:00",
          "2021-02-02T00:00:00",
          "2021-02-03T00:00:00",
          "2021-02-04T00:00:00",
          "2021-02-05T00:00:00",
          "2021-02-06T00:00:00",
          "2021-02-07T00:00:00",
          "2021-02-08T00:00:00",
          "2021-02-09T00:00:00",
          "2021-02-10T00:00:00",
          "2021-02-11T00:00:00",
          "2021-02-12T00:00:00",
          "2021-02-13T00:00:00",
          "2021-02-14T00:00:00",
          "2021-02-15T00:00:00",
          "2021-02-16T00:00:00",
          "2021-02-17T00:00:00",
          "2021-02-18T00:00:00",
          "2021-02-19T00:00:00",
          "2021-02-20T00:00:00",
          "2021-02-21T00:00:00",
          "2021-02-22T00:00:00",
          "2021-02-23T00:00:00",
          "2021-02-24T00:00:00",
          "2021-02-25T00:00:00",
          "2021-02-26T00:00:00",
          "2021-02-27T00:00:00",
          "2021-02-28T00:00:00",
          "2021-03-01T00:00:00",
          "2021-03-02T00:00:00",
          "2021-03-03T00:00:00",
          "2021-03-04T00:00:00",
          "2021-03-05T00:00:00",
          "2021-03-06T00:00:00",
          "2021-03-07T00:00:00",
          "2021-03-08T00:00:00",
          "2021-03-09T00:00:00",
          "2021-03-10T00:00:00",
          "2021-03-11T00:00:00",
          "2021-03-12T00:00:00",
          "2021-03-13T00:00:00",
          "2021-03-14T00:00:00",
          "2021-03-15T00:00:00",
          "2021-03-16T00:00:00",
          "2021-03-17T00:00:00",
          "2021-03-18T00:00:00",
          "2021-03-19T00:00:00",
          "2021-03-20T00:00:00",
          "2021-03-21T00:00:00",
          "2021-03-22T00:00:00",
          "2021-03-23T00:00:00",
          "2021-03-24T00:00:00",
          "2021-03-25T00:00:00",
          "2021-03-26T00:00:00",
          "2021-03-27T00:00:00",
          "2021-03-28T00:00:00",
          "2021-03-29T00:00:00",
          "2021-03-30T00:00:00",
          "2021-03-31T00:00:00",
          "2021-04-01T00:00:00",
          "2021-04-02T00:00:00",
          "2021-04-03T00:00:00",
          "2021-04-04T00:00:00",
          "2021-04-05T00:00:00",
          "2021-04-06T00:00:00",
          "2021-04-07T00:00:00",
          "2021-04-08T00:00:00",
          "2021-04-09T00:00:00",
          "2021-04-10T00:00:00",
          "2021-04-11T00:00:00",
          "2021-04-12T00:00:00",
          "2021-04-13T00:00:00",
          "2021-04-14T00:00:00",
          "2021-04-15T00:00:00",
          "2021-04-16T00:00:00",
          "2021-04-17T00:00:00",
          "2021-04-18T00:00:00",
          "2021-04-19T00:00:00",
          "2021-04-20T00:00:00",
          "2021-04-21T00:00:00",
          "2021-04-22T00:00:00",
          "2021-04-23T00:00:00",
          "2021-04-24T00:00:00",
          "2021-04-25T00:00:00",
          "2021-04-26T00:00:00",
          "2021-04-27T00:00:00",
          "2021-04-28T00:00:00",
          "2021-04-29T00:00:00",
          "2021-04-30T00:00:00",
          "2021-05-01T00:00:00",
          "2021-05-02T00:00:00",
          "2021-05-03T00:00:00",
          "2021-05-04T00:00:00",
          "2021-05-05T00:00:00",
          "2021-05-06T00:00:00",
          "2021-05-07T00:00:00",
          "2021-05-08T00:00:00",
          "2021-05-09T00:00:00",
          "2021-05-10T00:00:00",
          "2021-05-11T00:00:00",
          "2021-05-12T00:00:00",
          "2021-05-13T00:00:00",
          "2021-05-14T00:00:00",
          "2021-05-15T00:00:00",
          "2021-05-16T00:00:00",
          "2021-05-17T00:00:00",
          "2021-05-18T00:00:00",
          "2021-05-19T00:00:00",
          "2021-05-20T00:00:00",
          "2021-05-21T00:00:00",
          "2021-05-22T00:00:00",
          "2021-05-23T00:00:00",
          "2021-05-24T00:00:00",
          "2021-05-25T00:00:00",
          "2021-05-26T00:00:00",
          "2021-05-27T00:00:00",
          "2021-05-28T00:00:00",
          "2021-05-29T00:00:00",
          "2021-05-30T00:00:00",
          "2021-05-31T00:00:00",
          "2021-06-01T00:00:00",
          "2021-06-02T00:00:00",
          "2021-06-03T00:00:00",
          "2021-06-04T00:00:00",
          "2021-06-05T00:00:00",
          "2021-06-06T00:00:00",
          "2021-06-07T00:00:00",
          "2021-06-08T00:00:00",
          "2021-06-09T00:00:00",
          "2021-06-10T00:00:00",
          "2021-06-11T00:00:00",
          "2021-06-12T00:00:00",
          "2021-06-13T00:00:00",
          "2021-06-14T00:00:00",
          "2021-06-15T00:00:00",
          "2021-06-16T00:00:00",
          "2021-06-17T00:00:00",
          "2021-06-18T00:00:00",
          "2021-06-19T00:00:00",
          "2021-06-20T00:00:00",
          "2021-06-21T00:00:00",
          "2021-06-22T00:00:00",
          "2021-06-23T00:00:00",
          "2021-06-24T00:00:00",
          "2021-06-25T00:00:00",
          "2021-06-26T00:00:00",
          "2021-06-27T00:00:00",
          "2021-06-28T00:00:00",
          "2021-06-29T00:00:00",
          "2021-06-30T00:00:00",
          "2021-07-01T00:00:00",
          "2021-07-02T00:00:00",
          "2021-07-03T00:00:00",
          "2021-07-04T00:00:00",
          "2021-07-05T00:00:00",
          "2021-07-06T00:00:00",
          "2021-07-07T00:00:00",
          "2021-07-08T00:00:00",
          "2021-07-09T00:00:00",
          "2021-07-10T00:00:00",
          "2021-07-11T00:00:00",
          "2021-07-12T00:00:00",
          "2021-07-13T00:00:00",
          "2021-07-14T00:00:00",
          "2021-07-15T00:00:00",
          "2021-07-16T00:00:00",
          "2021-07-17T00:00:00",
          "2021-07-18T00:00:00",
          "2021-07-19T00:00:00",
          "2021-07-20T00:00:00",
          "2021-07-21T00:00:00",
          "2021-07-22T00:00:00",
          "2021-07-23T00:00:00",
          "2021-07-24T00:00:00",
          "2021-07-25T00:00:00",
          "2021-07-26T00:00:00",
          "2021-07-27T00:00:00",
          "2021-07-28T00:00:00",
          "2021-07-29T00:00:00",
          "2021-07-30T00:00:00",
          "2021-07-31T00:00:00",
          "2021-08-01T00:00:00",
          "2021-08-02T00:00:00",
          "2021-08-03T00:00:00",
          "2021-08-04T00:00:00",
          "2021-08-05T00:00:00",
          "2021-08-06T00:00:00",
          "2021-08-07T00:00:00",
          "2021-08-08T00:00:00",
          "2021-08-09T00:00:00",
          "2021-08-10T00:00:00",
          "2021-08-11T00:00:00",
          "2021-08-12T00:00:00",
          "2021-08-13T00:00:00",
          "2021-08-14T00:00:00",
          "2021-08-15T00:00:00",
          "2021-08-16T00:00:00",
          "2021-08-17T00:00:00",
          "2021-08-18T00:00:00",
          "2021-08-19T00:00:00",
          "2021-08-20T00:00:00",
          "2021-08-21T00:00:00",
          "2021-08-22T00:00:00",
          "2021-08-23T00:00:00",
          "2021-08-24T00:00:00",
          "2021-08-25T00:00:00",
          "2021-08-26T00:00:00",
          "2021-08-27T00:00:00",
          "2021-08-28T00:00:00",
          "2021-08-29T00:00:00",
          "2021-08-30T00:00:00",
          "2021-08-31T00:00:00",
          "2021-09-01T00:00:00",
          "2021-09-02T00:00:00",
          "2021-09-03T00:00:00",
          "2021-09-04T00:00:00",
          "2021-09-05T00:00:00",
          "2021-09-06T00:00:00",
          "2021-09-07T00:00:00",
          "2021-09-08T00:00:00",
          "2021-09-09T00:00:00",
          "2021-09-10T00:00:00",
          "2021-09-11T00:00:00",
          "2021-09-12T00:00:00",
          "2021-09-13T00:00:00",
          "2021-09-14T00:00:00",
          "2021-09-15T00:00:00",
          "2021-09-16T00:00:00",
          "2021-09-17T00:00:00",
          "2021-09-18T00:00:00",
          "2021-09-19T00:00:00",
          "2021-09-20T00:00:00",
          "2021-09-21T00:00:00",
          "2021-09-22T00:00:00",
          "2021-09-23T00:00:00",
          "2021-09-24T00:00:00",
          "2021-09-25T00:00:00",
          "2021-09-26T00:00:00",
          "2021-09-27T00:00:00",
          "2021-09-28T00:00:00",
          "2021-09-29T00:00:00",
          "2021-09-30T00:00:00",
          "2021-10-01T00:00:00",
          "2021-10-02T00:00:00",
          "2021-10-03T00:00:00",
          "2021-10-04T00:00:00",
          "2021-10-05T00:00:00",
          "2021-10-06T00:00:00",
          "2021-10-07T00:00:00",
          "2021-10-08T00:00:00",
          "2021-10-09T00:00:00",
          "2021-10-10T00:00:00",
          "2021-10-11T00:00:00",
          "2021-10-12T00:00:00",
          "2021-10-13T00:00:00",
          "2021-10-14T00:00:00",
          "2021-10-15T00:00:00",
          "2021-10-16T00:00:00",
          "2021-10-17T00:00:00",
          "2021-10-18T00:00:00",
          "2021-10-19T00:00:00",
          "2021-10-20T00:00:00",
          "2021-10-21T00:00:00",
          "2021-10-22T00:00:00",
          "2021-10-23T00:00:00",
          "2021-10-24T00:00:00",
          "2021-10-25T00:00:00",
          "2021-10-26T00:00:00",
          "2021-10-27T00:00:00",
          "2021-10-28T00:00:00",
          "2021-10-29T00:00:00",
          "2021-10-30T00:00:00",
          "2021-10-31T00:00:00",
          "2021-11-01T00:00:00",
          "2021-11-02T00:00:00",
          "2021-11-03T00:00:00",
          "2021-11-04T00:00:00",
          "2021-11-05T00:00:00",
          "2021-11-06T00:00:00",
          "2021-11-07T00:00:00",
          "2021-11-08T00:00:00",
          "2021-11-09T00:00:00",
          "2021-11-10T00:00:00",
          "2021-11-11T00:00:00",
          "2021-11-12T00:00:00",
          "2021-11-13T00:00:00",
          "2021-11-14T00:00:00",
          "2021-11-15T00:00:00",
          "2021-11-16T00:00:00",
          "2021-11-17T00:00:00",
          "2021-11-18T00:00:00",
          "2021-11-19T00:00:00",
          "2021-11-20T00:00:00",
          "2021-11-21T00:00:00",
          "2021-11-22T00:00:00",
          "2021-11-23T00:00:00",
          "2021-11-24T00:00:00",
          "2021-11-25T00:00:00",
          "2021-11-26T00:00:00",
          "2021-11-27T00:00:00",
          "2021-11-28T00:00:00",
          "2021-11-29T00:00:00",
          "2021-11-30T00:00:00",
          "2021-12-01T00:00:00",
          "2021-12-02T00:00:00",
          "2021-12-03T00:00:00",
          "2021-12-04T00:00:00",
          "2021-12-05T00:00:00",
          "2021-12-06T00:00:00",
          "2021-12-07T00:00:00",
          "2021-12-08T00:00:00",
          "2021-12-09T00:00:00",
          "2021-12-10T00:00:00",
          "2021-12-11T00:00:00",
          "2021-12-12T00:00:00",
          "2021-12-13T00:00:00",
          "2021-12-14T00:00:00",
          "2021-12-15T00:00:00",
          "2021-12-16T00:00:00",
          "2021-12-17T00:00:00",
          "2021-12-18T00:00:00",
          "2021-12-19T00:00:00",
          "2021-12-20T00:00:00",
          "2021-12-21T00:00:00",
          "2021-12-22T00:00:00",
          "2021-12-23T00:00:00",
          "2021-12-24T00:00:00",
          "2021-12-25T00:00:00",
          "2021-12-26T00:00:00",
          "2021-12-27T00:00:00",
          "2021-12-28T00:00:00",
          "2021-12-29T00:00:00",
          "2021-12-30T00:00:00",
          "2021-12-31T00:00:00",
          "2022-01-01T00:00:00",
          "2022-01-02T00:00:00",
          "2022-01-03T00:00:00",
          "2022-01-04T00:00:00",
          "2022-01-05T00:00:00",
          "2022-01-06T00:00:00",
          "2022-01-07T00:00:00",
          "2022-01-08T00:00:00",
          "2022-01-09T00:00:00",
          "2022-01-10T00:00:00",
          "2022-01-11T00:00:00",
          "2022-01-12T00:00:00",
          "2022-01-13T00:00:00",
          "2022-01-14T00:00:00",
          "2022-01-15T00:00:00",
          "2022-01-16T00:00:00",
          "2022-01-17T00:00:00",
          "2022-01-18T00:00:00",
          "2022-01-19T00:00:00",
          "2022-01-20T00:00:00",
          "2022-01-21T00:00:00",
          "2022-01-22T00:00:00",
          "2022-01-23T00:00:00",
          "2022-01-24T00:00:00",
          "2022-01-25T00:00:00",
          "2022-01-26T00:00:00",
          "2022-01-27T00:00:00",
          "2022-01-28T00:00:00",
          "2022-01-29T00:00:00",
          "2022-01-30T00:00:00",
          "2022-01-31T00:00:00",
          "2022-02-01T00:00:00",
          "2022-02-02T00:00:00",
          "2022-02-03T00:00:00",
          "2022-02-04T00:00:00",
          "2022-02-05T00:00:00",
          "2022-02-06T00:00:00",
          "2022-02-07T00:00:00",
          "2022-02-08T00:00:00",
          "2022-02-09T00:00:00",
          "2022-02-10T00:00:00",
          "2022-02-11T00:00:00",
          "2022-02-12T00:00:00",
          "2022-02-13T00:00:00",
          "2022-02-14T00:00:00",
          "2022-02-15T00:00:00",
          "2022-02-16T00:00:00",
          "2022-02-17T00:00:00",
          "2022-02-18T00:00:00",
          "2022-02-19T00:00:00",
          "2022-02-20T00:00:00",
          "2022-02-21T00:00:00",
          "2022-02-22T00:00:00",
          "2022-02-23T00:00:00",
          "2022-02-24T00:00:00",
          "2022-02-25T00:00:00",
          "2022-02-26T00:00:00",
          "2022-02-27T00:00:00",
          "2022-02-28T00:00:00",
          "2022-03-01T00:00:00",
          "2022-03-02T00:00:00",
          "2022-03-03T00:00:00",
          "2022-03-04T00:00:00",
          "2022-03-05T00:00:00",
          "2022-03-06T00:00:00",
          "2022-03-07T00:00:00",
          "2022-03-08T00:00:00",
          "2022-03-09T00:00:00",
          "2022-03-10T00:00:00",
          "2022-03-11T00:00:00",
          "2022-03-12T00:00:00",
          "2022-03-13T00:00:00",
          "2022-03-14T00:00:00",
          "2022-03-15T00:00:00",
          "2022-03-16T00:00:00",
          "2022-03-17T00:00:00",
          "2022-03-18T00:00:00",
          "2022-03-19T00:00:00",
          "2022-03-20T00:00:00",
          "2022-03-21T00:00:00",
          "2022-03-22T00:00:00",
          "2022-03-23T00:00:00",
          "2022-03-24T00:00:00",
          "2022-03-25T00:00:00",
          "2022-03-26T00:00:00",
          "2022-03-27T00:00:00",
          "2022-03-28T00:00:00",
          "2022-03-29T00:00:00",
          "2022-03-30T00:00:00",
          "2022-03-31T00:00:00",
          "2022-04-01T00:00:00",
          "2022-04-02T00:00:00",
          "2022-04-03T00:00:00",
          "2022-04-04T00:00:00",
          "2022-04-05T00:00:00",
          "2022-04-06T00:00:00",
          "2022-04-07T00:00:00",
          "2022-04-08T00:00:00",
          "2022-04-09T00:00:00",
          "2022-04-10T00:00:00",
          "2022-04-11T00:00:00",
          "2022-04-12T00:00:00",
          "2022-04-13T00:00:00",
          "2022-04-14T00:00:00",
          "2022-04-15T00:00:00",
          "2022-04-16T00:00:00",
          "2022-04-17T00:00:00",
          "2022-04-18T00:00:00",
          "2022-04-19T00:00:00",
          "2022-04-20T00:00:00",
          "2022-04-21T00:00:00",
          "2022-04-22T00:00:00",
          "2022-04-23T00:00:00",
          "2022-04-24T00:00:00",
          "2022-04-25T00:00:00",
          "2022-04-26T00:00:00",
          "2022-04-27T00:00:00",
          "2022-04-28T00:00:00",
          "2022-04-29T00:00:00",
          "2022-04-30T00:00:00",
          "2022-05-01T00:00:00",
          "2022-05-02T00:00:00",
          "2022-05-03T00:00:00",
          "2022-05-04T00:00:00",
          "2022-05-05T00:00:00",
          "2022-05-06T00:00:00",
          "2022-05-07T00:00:00",
          "2022-05-08T00:00:00",
          "2022-05-09T00:00:00",
          "2022-05-10T00:00:00",
          "2022-05-11T00:00:00",
          "2022-05-12T00:00:00",
          "2022-05-13T00:00:00",
          "2022-05-14T00:00:00",
          "2022-05-15T00:00:00",
          "2022-05-16T00:00:00",
          "2022-05-17T00:00:00",
          "2022-05-18T00:00:00",
          "2022-05-19T00:00:00",
          "2022-05-20T00:00:00",
          "2022-05-21T00:00:00",
          "2022-05-22T00:00:00",
          "2022-05-23T00:00:00",
          "2022-05-24T00:00:00",
          "2022-05-25T00:00:00",
          "2022-05-26T00:00:00",
          "2022-05-27T00:00:00",
          "2022-05-28T00:00:00",
          "2022-05-29T00:00:00",
          "2022-05-30T00:00:00",
          "2022-05-31T00:00:00",
          "2022-06-01T00:00:00",
          "2022-06-02T00:00:00",
          "2022-06-03T00:00:00",
          "2022-06-04T00:00:00",
          "2022-06-05T00:00:00",
          "2022-06-06T00:00:00",
          "2022-06-07T00:00:00",
          "2022-06-08T00:00:00",
          "2022-06-09T00:00:00",
          "2022-06-10T00:00:00",
          "2022-06-11T00:00:00",
          "2022-06-12T00:00:00",
          "2022-06-13T00:00:00",
          "2022-06-14T00:00:00",
          "2022-06-15T00:00:00",
          "2022-06-16T00:00:00",
          "2022-06-17T00:00:00",
          "2022-06-18T00:00:00",
          "2022-06-19T00:00:00",
          "2022-06-20T00:00:00",
          "2022-06-21T00:00:00",
          "2022-06-22T00:00:00",
          "2022-06-23T00:00:00",
          "2022-06-24T00:00:00",
          "2022-06-25T00:00:00",
          "2022-06-26T00:00:00",
          "2022-06-27T00:00:00",
          "2022-06-28T00:00:00",
          "2022-06-29T00:00:00",
          "2022-06-30T00:00:00",
          "2022-07-01T00:00:00",
          "2022-07-02T00:00:00",
          "2022-07-03T00:00:00",
          "2022-07-04T00:00:00",
          "2022-07-05T00:00:00",
          "2022-07-06T00:00:00",
          "2022-07-07T00:00:00",
          "2022-07-08T00:00:00",
          "2022-07-09T00:00:00",
          "2022-07-10T00:00:00",
          "2022-07-11T00:00:00",
          "2022-07-12T00:00:00",
          "2022-07-13T00:00:00",
          "2022-07-14T00:00:00",
          "2022-07-15T00:00:00",
          "2022-07-16T00:00:00",
          "2022-07-17T00:00:00",
          "2022-07-18T00:00:00",
          "2022-07-19T00:00:00",
          "2022-07-20T00:00:00",
          "2022-07-21T00:00:00",
          "2022-07-22T00:00:00",
          "2022-07-23T00:00:00",
          "2022-07-24T00:00:00",
          "2022-07-25T00:00:00",
          "2022-07-26T00:00:00",
          "2022-07-27T00:00:00",
          "2022-07-28T00:00:00",
          "2022-07-29T00:00:00",
          "2022-07-30T00:00:00",
          "2022-07-31T00:00:00",
          "2022-08-01T00:00:00",
          "2022-08-02T00:00:00",
          "2022-08-03T00:00:00",
          "2022-08-04T00:00:00",
          "2022-08-05T00:00:00",
          "2022-08-06T00:00:00",
          "2022-08-07T00:00:00",
          "2022-08-08T00:00:00",
          "2022-08-09T00:00:00",
          "2022-08-10T00:00:00",
          "2022-08-11T00:00:00",
          "2022-08-12T00:00:00",
          "2022-08-13T00:00:00",
          "2022-08-14T00:00:00",
          "2022-08-15T00:00:00",
          "2022-08-16T00:00:00",
          "2022-08-17T00:00:00",
          "2022-08-18T00:00:00",
          "2022-08-19T00:00:00",
          "2022-08-20T00:00:00",
          "2022-08-21T00:00:00",
          "2022-08-22T00:00:00",
          "2022-08-23T00:00:00",
          "2022-08-24T00:00:00",
          "2022-08-25T00:00:00",
          "2022-08-26T00:00:00",
          "2022-08-27T00:00:00",
          "2022-08-28T00:00:00",
          "2022-08-29T00:00:00",
          "2022-08-30T00:00:00",
          "2022-08-31T00:00:00",
          "2022-09-01T00:00:00",
          "2022-09-02T00:00:00",
          "2022-09-03T00:00:00",
          "2022-09-04T00:00:00",
          "2022-09-05T00:00:00",
          "2022-09-06T00:00:00",
          "2022-09-07T00:00:00",
          "2022-09-08T00:00:00",
          "2022-09-09T00:00:00",
          "2022-09-10T00:00:00",
          "2022-09-11T00:00:00",
          "2022-09-12T00:00:00",
          "2022-09-13T00:00:00",
          "2022-09-14T00:00:00",
          "2022-09-15T00:00:00",
          "2022-09-16T00:00:00",
          "2022-09-17T00:00:00",
          "2022-09-18T00:00:00",
          "2022-09-19T00:00:00",
          "2022-09-20T00:00:00",
          "2022-09-21T00:00:00",
          "2022-09-22T00:00:00",
          "2022-09-23T00:00:00",
          "2022-09-24T00:00:00",
          "2022-09-25T00:00:00",
          "2022-09-26T00:00:00",
          "2022-09-27T00:00:00",
          "2022-09-28T00:00:00",
          "2022-09-29T00:00:00",
          "2022-09-30T00:00:00",
          "2022-10-01T00:00:00",
          "2022-10-02T00:00:00",
          "2022-10-03T00:00:00",
          "2022-10-04T00:00:00",
          "2022-10-05T00:00:00",
          "2022-10-06T00:00:00",
          "2022-10-07T00:00:00",
          "2022-10-08T00:00:00",
          "2022-10-09T00:00:00",
          "2022-10-10T00:00:00",
          "2022-10-11T00:00:00",
          "2022-10-12T00:00:00",
          "2022-10-13T00:00:00",
          "2022-10-14T00:00:00",
          "2022-10-15T00:00:00",
          "2022-10-16T00:00:00",
          "2022-10-17T00:00:00",
          "2022-10-18T00:00:00",
          "2022-10-19T00:00:00",
          "2022-10-20T00:00:00",
          "2022-10-21T00:00:00",
          "2022-10-22T00:00:00",
          "2022-10-23T00:00:00",
          "2022-10-24T00:00:00",
          "2022-10-25T00:00:00",
          "2022-10-26T00:00:00",
          "2022-10-27T00:00:00",
          "2022-10-28T00:00:00",
          "2022-10-29T00:00:00",
          "2022-10-30T00:00:00",
          "2022-10-31T00:00:00",
          "2022-11-01T00:00:00",
          "2022-11-02T00:00:00",
          "2022-11-03T00:00:00",
          "2022-11-04T00:00:00",
          "2022-11-05T00:00:00",
          "2022-11-06T00:00:00",
          "2022-11-07T00:00:00",
          "2022-11-08T00:00:00",
          "2022-11-09T00:00:00",
          "2022-11-10T00:00:00",
          "2022-11-11T00:00:00",
          "2022-11-12T00:00:00",
          "2022-11-13T00:00:00",
          "2022-11-14T00:00:00",
          "2022-11-15T00:00:00",
          "2022-11-16T00:00:00",
          "2022-11-17T00:00:00",
          "2022-11-18T00:00:00",
          "2022-11-19T00:00:00",
          "2022-11-20T00:00:00",
          "2022-11-21T00:00:00",
          "2022-11-22T00:00:00",
          "2022-11-23T00:00:00",
          "2022-11-24T00:00:00",
          "2022-11-25T00:00:00",
          "2022-11-26T00:00:00",
          "2022-11-27T00:00:00",
          "2022-11-28T00:00:00",
          "2022-11-29T00:00:00",
          "2022-11-30T00:00:00",
          "2022-12-01T00:00:00",
          "2022-12-02T00:00:00",
          "2022-12-03T00:00:00",
          "2022-12-04T00:00:00",
          "2022-12-05T00:00:00",
          "2022-12-06T00:00:00",
          "2022-12-07T00:00:00",
          "2022-12-08T00:00:00",
          "2022-12-09T00:00:00",
          "2022-12-10T00:00:00",
          "2022-12-11T00:00:00",
          "2022-12-12T00:00:00",
          "2022-12-13T00:00:00",
          "2022-12-14T00:00:00",
          "2022-12-15T00:00:00",
          "2022-12-16T00:00:00",
          "2022-12-17T00:00:00",
          "2022-12-18T00:00:00",
          "2022-12-19T00:00:00",
          "2022-12-20T00:00:00",
          "2022-12-21T00:00:00",
          "2022-12-22T00:00:00",
          "2022-12-23T00:00:00",
          "2022-12-24T00:00:00",
          "2022-12-25T00:00:00",
          "2022-12-26T00:00:00",
          "2022-12-27T00:00:00",
          "2022-12-28T00:00:00",
          "2022-12-29T00:00:00",
          "2022-12-30T00:00:00",
          "2022-12-31T00:00:00",
          "2023-01-01T00:00:00",
          "2023-01-02T00:00:00",
          "2023-01-03T00:00:00",
          "2023-01-04T00:00:00",
          "2023-01-05T00:00:00",
          "2023-01-06T00:00:00",
          "2023-01-07T00:00:00",
          "2023-01-08T00:00:00",
          "2023-01-09T00:00:00",
          "2023-01-10T00:00:00",
          "2023-01-11T00:00:00",
          "2023-01-12T00:00:00",
          "2023-01-13T00:00:00",
          "2023-01-14T00:00:00",
          "2023-01-15T00:00:00",
          "2023-01-16T00:00:00",
          "2023-01-17T00:00:00",
          "2023-01-18T00:00:00",
          "2023-01-19T00:00:00",
          "2023-01-20T00:00:00",
          "2023-01-21T00:00:00",
          "2023-01-22T00:00:00",
          "2023-01-23T00:00:00",
          "2023-01-24T00:00:00",
          "2023-01-25T00:00:00",
          "2023-01-26T00:00:00",
          "2023-01-27T00:00:00",
          "2023-01-28T00:00:00",
          "2023-01-29T00:00:00",
          "2023-01-30T00:00:00",
          "2023-01-31T00:00:00",
          "2023-02-01T00:00:00",
          "2023-02-02T00:00:00",
          "2023-02-03T00:00:00",
          "2023-02-04T00:00:00",
          "2023-02-05T00:00:00",
          "2023-02-06T00:00:00",
          "2023-02-07T00:00:00",
          "2023-02-08T00:00:00",
          "2023-02-09T00:00:00",
          "2023-02-10T00:00:00",
          "2023-02-11T00:00:00",
          "2023-02-12T00:00:00",
          "2023-02-13T00:00:00",
          "2023-02-14T00:00:00",
          "2023-02-15T00:00:00",
          "2023-02-16T00:00:00",
          "2023-02-17T00:00:00",
          "2023-02-18T00:00:00",
          "2023-02-19T00:00:00",
          "2023-02-20T00:00:00",
          "2023-02-21T00:00:00",
          "2023-02-22T00:00:00",
          "2023-02-23T00:00:00",
          "2023-02-24T00:00:00",
          "2023-02-25T00:00:00",
          "2023-02-26T00:00:00",
          "2023-02-27T00:00:00",
          "2023-02-28T00:00:00",
          "2023-03-01T00:00:00",
          "2023-03-02T00:00:00",
          "2023-03-03T00:00:00",
          "2023-03-04T00:00:00",
          "2023-03-05T00:00:00",
          "2023-03-06T00:00:00",
          "2023-03-07T00:00:00",
          "2023-03-08T00:00:00",
          "2023-03-09T00:00:00",
          "2023-03-10T00:00:00",
          "2023-03-11T00:00:00",
          "2023-03-12T00:00:00",
          "2023-03-13T00:00:00",
          "2023-03-14T00:00:00",
          "2023-03-15T00:00:00",
          "2023-03-16T00:00:00",
          "2023-03-17T00:00:00",
          "2023-03-18T00:00:00",
          "2023-03-19T00:00:00",
          "2023-03-20T00:00:00",
          "2023-03-21T00:00:00",
          "2023-03-22T00:00:00",
          "2023-03-23T00:00:00",
          "2023-03-24T00:00:00",
          "2023-03-25T00:00:00",
          "2023-03-26T00:00:00",
          "2023-03-27T00:00:00",
          "2023-03-28T00:00:00",
          "2023-03-29T00:00:00",
          "2023-03-30T00:00:00",
          "2023-03-31T00:00:00",
          "2023-04-01T00:00:00",
          "2023-04-02T00:00:00",
          "2023-04-03T00:00:00",
          "2023-04-04T00:00:00",
          "2023-04-05T00:00:00",
          "2023-04-06T00:00:00",
          "2023-04-07T00:00:00",
          "2023-04-08T00:00:00",
          "2023-04-09T00:00:00",
          "2023-04-10T00:00:00",
          "2023-04-11T00:00:00",
          "2023-04-12T00:00:00",
          "2023-04-13T00:00:00",
          "2023-04-14T00:00:00",
          "2023-04-15T00:00:00",
          "2023-04-16T00:00:00",
          "2023-04-17T00:00:00",
          "2023-04-18T00:00:00",
          "2023-04-19T00:00:00",
          "2023-04-20T00:00:00",
          "2023-04-21T00:00:00",
          "2023-04-22T00:00:00",
          "2023-04-23T00:00:00",
          "2023-04-24T00:00:00",
          "2023-04-25T00:00:00",
          "2023-04-26T00:00:00",
          "2023-04-27T00:00:00",
          "2023-04-28T00:00:00"
         ],
         "xaxis": "x",
         "y": {
          "bdata": "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",
          "dtype": "f8"
         },
         "yaxis": "y"
        },
        {
         "mode": "lines",
         "name": "Actual",
         "type": "scatter",
         "x": [
          "2021-01-01T00:00:00",
          "2021-01-02T00:00:00",
          "2021-01-03T00:00:00",
          "2021-01-04T00:00:00",
          "2021-01-05T00:00:00",
          "2021-01-06T00:00:00",
          "2021-01-07T00:00:00",
          "2021-01-08T00:00:00",
          "2021-01-09T00:00:00",
          "2021-01-10T00:00:00",
          "2021-01-11T00:00:00",
          "2021-01-12T00:00:00",
          "2021-01-13T00:00:00",
          "2021-01-14T00:00:00",
          "2021-01-15T00:00:00",
          "2021-01-16T00:00:00",
          "2021-01-17T00:00:00",
          "2021-01-18T00:00:00",
          "2021-01-19T00:00:00",
          "2021-01-20T00:00:00",
          "2021-01-21T00:00:00",
          "2021-01-22T00:00:00",
          "2021-01-23T00:00:00",
          "2021-01-24T00:00:00",
          "2021-01-25T00:00:00",
          "2021-01-26T00:00:00",
          "2021-01-27T00:00:00",
          "2021-01-28T00:00:00",
          "2021-01-29T00:00:00",
          "2021-01-30T00:00:00",
          "2021-01-31T00:00:00",
          "2021-02-01T00:00:00",
          "2021-02-02T00:00:00",
          "2021-02-03T00:00:00",
          "2021-02-04T00:00:00",
          "2021-02-05T00:00:00",
          "2021-02-06T00:00:00",
          "2021-02-07T00:00:00",
          "2021-02-08T00:00:00",
          "2021-02-09T00:00:00",
          "2021-02-10T00:00:00",
          "2021-02-11T00:00:00",
          "2021-02-12T00:00:00",
          "2021-02-13T00:00:00",
          "2021-02-14T00:00:00",
          "2021-02-15T00:00:00",
          "2021-02-16T00:00:00",
          "2021-02-17T00:00:00",
          "2021-02-18T00:00:00",
          "2021-02-19T00:00:00",
          "2021-02-20T00:00:00",
          "2021-02-21T00:00:00",
          "2021-02-22T00:00:00",
          "2021-02-23T00:00:00",
          "2021-02-24T00:00:00",
          "2021-02-25T00:00:00",
          "2021-02-26T00:00:00",
          "2021-02-27T00:00:00",
          "2021-02-28T00:00:00",
          "2021-03-01T00:00:00",
          "2021-03-02T00:00:00",
          "2021-03-03T00:00:00",
          "2021-03-04T00:00:00",
          "2021-03-05T00:00:00",
          "2021-03-06T00:00:00",
          "2021-03-07T00:00:00",
          "2021-03-08T00:00:00",
          "2021-03-09T00:00:00",
          "2021-03-10T00:00:00",
          "2021-03-11T00:00:00",
          "2021-03-12T00:00:00",
          "2021-03-13T00:00:00",
          "2021-03-14T00:00:00",
          "2021-03-15T00:00:00",
          "2021-03-16T00:00:00",
          "2021-03-17T00:00:00",
          "2021-03-18T00:00:00",
          "2021-03-19T00:00:00",
          "2021-03-20T00:00:00",
          "2021-03-21T00:00:00",
          "2021-03-22T00:00:00",
          "2021-03-23T00:00:00",
          "2021-03-24T00:00:00",
          "2021-03-25T00:00:00",
          "2021-03-26T00:00:00",
          "2021-03-27T00:00:00",
          "2021-03-28T00:00:00",
          "2021-03-29T00:00:00",
          "2021-03-30T00:00:00",
          "2021-03-31T00:00:00",
          "2021-04-01T00:00:00",
          "2021-04-02T00:00:00",
          "2021-04-03T00:00:00",
          "2021-04-04T00:00:00",
          "2021-04-05T00:00:00",
          "2021-04-06T00:00:00",
          "2021-04-07T00:00:00",
          "2021-04-08T00:00:00",
          "2021-04-09T00:00:00",
          "2021-04-10T00:00:00",
          "2021-04-11T00:00:00",
          "2021-04-12T00:00:00",
          "2021-04-13T00:00:00",
          "2021-04-14T00:00:00",
          "2021-04-15T00:00:00",
          "2021-04-16T00:00:00",
          "2021-04-17T00:00:00",
          "2021-04-18T00:00:00",
          "2021-04-19T00:00:00",
          "2021-04-20T00:00:00",
          "2021-04-21T00:00:00",
          "2021-04-22T00:00:00",
          "2021-04-23T00:00:00",
          "2021-04-24T00:00:00",
          "2021-04-25T00:00:00",
          "2021-04-26T00:00:00",
          "2021-04-27T00:00:00",
          "2021-04-28T00:00:00",
          "2021-04-29T00:00:00",
          "2021-04-30T00:00:00",
          "2021-05-01T00:00:00",
          "2021-05-02T00:00:00",
          "2021-05-03T00:00:00",
          "2021-05-04T00:00:00",
          "2021-05-05T00:00:00",
          "2021-05-06T00:00:00",
          "2021-05-07T00:00:00",
          "2021-05-08T00:00:00",
          "2021-05-09T00:00:00",
          "2021-05-10T00:00:00",
          "2021-05-11T00:00:00",
          "2021-05-12T00:00:00",
          "2021-05-13T00:00:00",
          "2021-05-14T00:00:00",
          "2021-05-15T00:00:00",
          "2021-05-16T00:00:00",
          "2021-05-17T00:00:00",
          "2021-05-18T00:00:00",
          "2021-05-19T00:00:00",
          "2021-05-20T00:00:00",
          "2021-05-21T00:00:00",
          "2021-05-22T00:00:00",
          "2021-05-23T00:00:00",
          "2021-05-24T00:00:00",
          "2021-05-25T00:00:00",
          "2021-05-26T00:00:00",
          "2021-05-27T00:00:00",
          "2021-05-28T00:00:00",
          "2021-05-29T00:00:00",
          "2021-05-30T00:00:00",
          "2021-05-31T00:00:00",
          "2021-06-01T00:00:00",
          "2021-06-02T00:00:00",
          "2021-06-03T00:00:00",
          "2021-06-04T00:00:00",
          "2021-06-05T00:00:00",
          "2021-06-06T00:00:00",
          "2021-06-07T00:00:00",
          "2021-06-08T00:00:00",
          "2021-06-09T00:00:00",
          "2021-06-10T00:00:00",
          "2021-06-11T00:00:00",
          "2021-06-12T00:00:00",
          "2021-06-13T00:00:00",
          "2021-06-14T00:00:00",
          "2021-06-15T00:00:00",
          "2021-06-16T00:00:00",
          "2021-06-17T00:00:00",
          "2021-06-18T00:00:00",
          "2021-06-19T00:00:00",
          "2021-06-20T00:00:00",
          "2021-06-21T00:00:00",
          "2021-06-22T00:00:00",
          "2021-06-23T00:00:00",
          "2021-06-24T00:00:00",
          "2021-06-25T00:00:00",
          "2021-06-26T00:00:00",
          "2021-06-27T00:00:00",
          "2021-06-28T00:00:00",
          "2021-06-29T00:00:00",
          "2021-06-30T00:00:00",
          "2021-07-01T00:00:00",
          "2021-07-02T00:00:00",
          "2021-07-03T00:00:00",
          "2021-07-04T00:00:00",
          "2021-07-05T00:00:00",
          "2021-07-06T00:00:00",
          "2021-07-07T00:00:00",
          "2021-07-08T00:00:00",
          "2021-07-09T00:00:00",
          "2021-07-10T00:00:00",
          "2021-07-11T00:00:00",
          "2021-07-12T00:00:00",
          "2021-07-13T00:00:00",
          "2021-07-14T00:00:00",
          "2021-07-15T00:00:00",
          "2021-07-16T00:00:00",
          "2021-07-17T00:00:00",
          "2021-07-18T00:00:00",
          "2021-07-19T00:00:00",
          "2021-07-20T00:00:00",
          "2021-07-21T00:00:00",
          "2021-07-22T00:00:00",
          "2021-07-23T00:00:00",
          "2021-07-24T00:00:00",
          "2021-07-25T00:00:00",
          "2021-07-26T00:00:00",
          "2021-07-27T00:00:00",
          "2021-07-28T00:00:00",
          "2021-07-29T00:00:00",
          "2021-07-30T00:00:00",
          "2021-07-31T00:00:00",
          "2021-08-01T00:00:00",
          "2021-08-02T00:00:00",
          "2021-08-03T00:00:00",
          "2021-08-04T00:00:00",
          "2021-08-05T00:00:00",
          "2021-08-06T00:00:00",
          "2021-08-07T00:00:00",
          "2021-08-08T00:00:00",
          "2021-08-09T00:00:00",
          "2021-08-10T00:00:00",
          "2021-08-11T00:00:00",
          "2021-08-12T00:00:00",
          "2021-08-13T00:00:00",
          "2021-08-14T00:00:00",
          "2021-08-15T00:00:00",
          "2021-08-16T00:00:00",
          "2021-08-17T00:00:00",
          "2021-08-18T00:00:00",
          "2021-08-19T00:00:00",
          "2021-08-20T00:00:00",
          "2021-08-21T00:00:00",
          "2021-08-22T00:00:00",
          "2021-08-23T00:00:00",
          "2021-08-24T00:00:00",
          "2021-08-25T00:00:00",
          "2021-08-26T00:00:00",
          "2021-08-27T00:00:00",
          "2021-08-28T00:00:00",
          "2021-08-29T00:00:00",
          "2021-08-30T00:00:00",
          "2021-08-31T00:00:00",
          "2021-09-01T00:00:00",
          "2021-09-02T00:00:00",
          "2021-09-03T00:00:00",
          "2021-09-04T00:00:00",
          "2021-09-05T00:00:00",
          "2021-09-06T00:00:00",
          "2021-09-07T00:00:00",
          "2021-09-08T00:00:00",
          "2021-09-09T00:00:00",
          "2021-09-10T00:00:00",
          "2021-09-11T00:00:00",
          "2021-09-12T00:00:00",
          "2021-09-13T00:00:00",
          "2021-09-14T00:00:00",
          "2021-09-15T00:00:00",
          "2021-09-16T00:00:00",
          "2021-09-17T00:00:00",
          "2021-09-18T00:00:00",
          "2021-09-19T00:00:00",
          "2021-09-20T00:00:00",
          "2021-09-21T00:00:00",
          "2021-09-22T00:00:00",
          "2021-09-23T00:00:00",
          "2021-09-24T00:00:00",
          "2021-09-25T00:00:00",
          "2021-09-26T00:00:00",
          "2021-09-27T00:00:00",
          "2021-09-28T00:00:00",
          "2021-09-29T00:00:00",
          "2021-09-30T00:00:00",
          "2021-10-01T00:00:00",
          "2021-10-02T00:00:00",
          "2021-10-03T00:00:00",
          "2021-10-04T00:00:00",
          "2021-10-05T00:00:00",
          "2021-10-06T00:00:00",
          "2021-10-07T00:00:00",
          "2021-10-08T00:00:00",
          "2021-10-09T00:00:00",
          "2021-10-10T00:00:00",
          "2021-10-11T00:00:00",
          "2021-10-12T00:00:00",
          "2021-10-13T00:00:00",
          "2021-10-14T00:00:00",
          "2021-10-15T00:00:00",
          "2021-10-16T00:00:00",
          "2021-10-17T00:00:00",
          "2021-10-18T00:00:00",
          "2021-10-19T00:00:00",
          "2021-10-20T00:00:00",
          "2021-10-21T00:00:00",
          "2021-10-22T00:00:00",
          "2021-10-23T00:00:00",
          "2021-10-24T00:00:00",
          "2021-10-25T00:00:00",
          "2021-10-26T00:00:00",
          "2021-10-27T00:00:00",
          "2021-10-28T00:00:00",
          "2021-10-29T00:00:00",
          "2021-10-30T00:00:00",
          "2021-10-31T00:00:00",
          "2021-11-01T00:00:00",
          "2021-11-02T00:00:00",
          "2021-11-03T00:00:00",
          "2021-11-04T00:00:00",
          "2021-11-05T00:00:00",
          "2021-11-06T00:00:00",
          "2021-11-07T00:00:00",
          "2021-11-08T00:00:00",
          "2021-11-09T00:00:00",
          "2021-11-10T00:00:00",
          "2021-11-11T00:00:00",
          "2021-11-12T00:00:00",
          "2021-11-13T00:00:00",
          "2021-11-14T00:00:00",
          "2021-11-15T00:00:00",
          "2021-11-16T00:00:00",
          "2021-11-17T00:00:00",
          "2021-11-18T00:00:00",
          "2021-11-19T00:00:00",
          "2021-11-20T00:00:00",
          "2021-11-21T00:00:00",
          "2021-11-22T00:00:00",
          "2021-11-23T00:00:00",
          "2021-11-24T00:00:00",
          "2021-11-25T00:00:00",
          "2021-11-26T00:00:00",
          "2021-11-27T00:00:00",
          "2021-11-28T00:00:00",
          "2021-11-29T00:00:00",
          "2021-11-30T00:00:00",
          "2021-12-01T00:00:00",
          "2021-12-02T00:00:00",
          "2021-12-03T00:00:00",
          "2021-12-04T00:00:00",
          "2021-12-05T00:00:00",
          "2021-12-06T00:00:00",
          "2021-12-07T00:00:00",
          "2021-12-08T00:00:00",
          "2021-12-09T00:00:00",
          "2021-12-10T00:00:00",
          "2021-12-11T00:00:00",
          "2021-12-12T00:00:00",
          "2021-12-13T00:00:00",
          "2021-12-14T00:00:00",
          "2021-12-15T00:00:00",
          "2021-12-16T00:00:00",
          "2021-12-17T00:00:00",
          "2021-12-18T00:00:00",
          "2021-12-19T00:00:00",
          "2021-12-20T00:00:00",
          "2021-12-21T00:00:00",
          "2021-12-22T00:00:00",
          "2021-12-23T00:00:00",
          "2021-12-24T00:00:00",
          "2021-12-25T00:00:00",
          "2021-12-26T00:00:00",
          "2021-12-27T00:00:00",
          "2021-12-28T00:00:00",
          "2021-12-29T00:00:00",
          "2021-12-30T00:00:00",
          "2021-12-31T00:00:00",
          "2022-01-01T00:00:00",
          "2022-01-02T00:00:00",
          "2022-01-03T00:00:00",
          "2022-01-04T00:00:00",
          "2022-01-05T00:00:00",
          "2022-01-06T00:00:00",
          "2022-01-07T00:00:00",
          "2022-01-08T00:00:00",
          "2022-01-09T00:00:00",
          "2022-01-10T00:00:00",
          "2022-01-11T00:00:00",
          "2022-01-12T00:00:00",
          "2022-01-13T00:00:00",
          "2022-01-14T00:00:00",
          "2022-01-15T00:00:00",
          "2022-01-16T00:00:00",
          "2022-01-17T00:00:00",
          "2022-01-18T00:00:00",
          "2022-01-19T00:00:00",
          "2022-01-20T00:00:00",
          "2022-01-21T00:00:00",
          "2022-01-22T00:00:00",
          "2022-01-23T00:00:00",
          "2022-01-24T00:00:00",
          "2022-01-25T00:00:00",
          "2022-01-26T00:00:00",
          "2022-01-27T00:00:00",
          "2022-01-28T00:00:00",
          "2022-01-29T00:00:00",
          "2022-01-30T00:00:00",
          "2022-01-31T00:00:00",
          "2022-02-01T00:00:00",
          "2022-02-02T00:00:00",
          "2022-02-03T00:00:00",
          "2022-02-04T00:00:00",
          "2022-02-05T00:00:00",
          "2022-02-06T00:00:00",
          "2022-02-07T00:00:00",
          "2022-02-08T00:00:00",
          "2022-02-09T00:00:00",
          "2022-02-10T00:00:00",
          "2022-02-11T00:00:00",
          "2022-02-12T00:00:00",
          "2022-02-13T00:00:00",
          "2022-02-14T00:00:00",
          "2022-02-15T00:00:00",
          "2022-02-16T00:00:00",
          "2022-02-17T00:00:00",
          "2022-02-18T00:00:00",
          "2022-02-19T00:00:00",
          "2022-02-20T00:00:00",
          "2022-02-21T00:00:00",
          "2022-02-22T00:00:00",
          "2022-02-23T00:00:00",
          "2022-02-24T00:00:00",
          "2022-02-25T00:00:00",
          "2022-02-26T00:00:00",
          "2022-02-27T00:00:00",
          "2022-02-28T00:00:00",
          "2022-03-01T00:00:00",
          "2022-03-02T00:00:00",
          "2022-03-03T00:00:00",
          "2022-03-04T00:00:00",
          "2022-03-05T00:00:00",
          "2022-03-06T00:00:00",
          "2022-03-07T00:00:00",
          "2022-03-08T00:00:00",
          "2022-03-09T00:00:00",
          "2022-03-10T00:00:00",
          "2022-03-11T00:00:00",
          "2022-03-12T00:00:00",
          "2022-03-13T00:00:00",
          "2022-03-14T00:00:00",
          "2022-03-15T00:00:00",
          "2022-03-16T00:00:00",
          "2022-03-17T00:00:00",
          "2022-03-18T00:00:00",
          "2022-03-19T00:00:00",
          "2022-03-20T00:00:00",
          "2022-03-21T00:00:00",
          "2022-03-22T00:00:00",
          "2022-03-23T00:00:00",
          "2022-03-24T00:00:00",
          "2022-03-25T00:00:00",
          "2022-03-26T00:00:00",
          "2022-03-27T00:00:00",
          "2022-03-28T00:00:00",
          "2022-03-29T00:00:00",
          "2022-03-30T00:00:00",
          "2022-03-31T00:00:00",
          "2022-04-01T00:00:00",
          "2022-04-02T00:00:00",
          "2022-04-03T00:00:00",
          "2022-04-04T00:00:00",
          "2022-04-05T00:00:00",
          "2022-04-06T00:00:00",
          "2022-04-07T00:00:00",
          "2022-04-08T00:00:00",
          "2022-04-09T00:00:00",
          "2022-04-10T00:00:00",
          "2022-04-11T00:00:00",
          "2022-04-12T00:00:00",
          "2022-04-13T00:00:00",
          "2022-04-14T00:00:00",
          "2022-04-15T00:00:00",
          "2022-04-16T00:00:00",
          "2022-04-17T00:00:00",
          "2022-04-18T00:00:00",
          "2022-04-19T00:00:00",
          "2022-04-20T00:00:00",
          "2022-04-21T00:00:00",
          "2022-04-22T00:00:00",
          "2022-04-23T00:00:00",
          "2022-04-24T00:00:00",
          "2022-04-25T00:00:00",
          "2022-04-26T00:00:00",
          "2022-04-27T00:00:00",
          "2022-04-28T00:00:00",
          "2022-04-29T00:00:00",
          "2022-04-30T00:00:00",
          "2022-05-01T00:00:00",
          "2022-05-02T00:00:00",
          "2022-05-03T00:00:00",
          "2022-05-04T00:00:00",
          "2022-05-05T00:00:00",
          "2022-05-06T00:00:00",
          "2022-05-07T00:00:00",
          "2022-05-08T00:00:00",
          "2022-05-09T00:00:00",
          "2022-05-10T00:00:00",
          "2022-05-11T00:00:00",
          "2022-05-12T00:00:00",
          "2022-05-13T00:00:00",
          "2022-05-14T00:00:00",
          "2022-05-15T00:00:00",
          "2022-05-16T00:00:00",
          "2022-05-17T00:00:00",
          "2022-05-18T00:00:00",
          "2022-05-19T00:00:00",
          "2022-05-20T00:00:00",
          "2022-05-21T00:00:00",
          "2022-05-22T00:00:00",
          "2022-05-23T00:00:00",
          "2022-05-24T00:00:00",
          "2022-05-25T00:00:00",
          "2022-05-26T00:00:00",
          "2022-05-27T00:00:00",
          "2022-05-28T00:00:00",
          "2022-05-29T00:00:00",
          "2022-05-30T00:00:00",
          "2022-05-31T00:00:00",
          "2022-06-01T00:00:00",
          "2022-06-02T00:00:00",
          "2022-06-03T00:00:00",
          "2022-06-04T00:00:00",
          "2022-06-05T00:00:00",
          "2022-06-06T00:00:00",
          "2022-06-07T00:00:00",
          "2022-06-08T00:00:00",
          "2022-06-09T00:00:00",
          "2022-06-10T00:00:00",
          "2022-06-11T00:00:00",
          "2022-06-12T00:00:00",
          "2022-06-13T00:00:00",
          "2022-06-14T00:00:00",
          "2022-06-15T00:00:00",
          "2022-06-16T00:00:00",
          "2022-06-17T00:00:00",
          "2022-06-18T00:00:00",
          "2022-06-19T00:00:00",
          "2022-06-20T00:00:00",
          "2022-06-21T00:00:00",
          "2022-06-22T00:00:00",
          "2022-06-23T00:00:00",
          "2022-06-24T00:00:00",
          "2022-06-25T00:00:00",
          "2022-06-26T00:00:00",
          "2022-06-27T00:00:00",
          "2022-06-28T00:00:00",
          "2022-06-29T00:00:00",
          "2022-06-30T00:00:00",
          "2022-07-01T00:00:00",
          "2022-07-02T00:00:00",
          "2022-07-03T00:00:00",
          "2022-07-04T00:00:00",
          "2022-07-05T00:00:00",
          "2022-07-06T00:00:00",
          "2022-07-07T00:00:00",
          "2022-07-08T00:00:00",
          "2022-07-09T00:00:00",
          "2022-07-10T00:00:00",
          "2022-07-11T00:00:00",
          "2022-07-12T00:00:00",
          "2022-07-13T00:00:00",
          "2022-07-14T00:00:00",
          "2022-07-15T00:00:00",
          "2022-07-16T00:00:00",
          "2022-07-17T00:00:00",
          "2022-07-18T00:00:00",
          "2022-07-19T00:00:00",
          "2022-07-20T00:00:00",
          "2022-07-21T00:00:00",
          "2022-07-22T00:00:00",
          "2022-07-23T00:00:00",
          "2022-07-24T00:00:00",
          "2022-07-25T00:00:00",
          "2022-07-26T00:00:00",
          "2022-07-27T00:00:00",
          "2022-07-28T00:00:00",
          "2022-07-29T00:00:00",
          "2022-07-30T00:00:00",
          "2022-07-31T00:00:00",
          "2022-08-01T00:00:00",
          "2022-08-02T00:00:00",
          "2022-08-03T00:00:00",
          "2022-08-04T00:00:00",
          "2022-08-05T00:00:00",
          "2022-08-06T00:00:00",
          "2022-08-07T00:00:00",
          "2022-08-08T00:00:00",
          "2022-08-09T00:00:00",
          "2022-08-10T00:00:00",
          "2022-08-11T00:00:00",
          "2022-08-12T00:00:00",
          "2022-08-13T00:00:00",
          "2022-08-14T00:00:00",
          "2022-08-15T00:00:00",
          "2022-08-16T00:00:00",
          "2022-08-17T00:00:00",
          "2022-08-18T00:00:00",
          "2022-08-19T00:00:00",
          "2022-08-20T00:00:00",
          "2022-08-21T00:00:00",
          "2022-08-22T00:00:00",
          "2022-08-23T00:00:00",
          "2022-08-24T00:00:00",
          "2022-08-25T00:00:00",
          "2022-08-26T00:00:00",
          "2022-08-27T00:00:00",
          "2022-08-28T00:00:00",
          "2022-08-29T00:00:00",
          "2022-08-30T00:00:00",
          "2022-08-31T00:00:00",
          "2022-09-01T00:00:00",
          "2022-09-02T00:00:00",
          "2022-09-03T00:00:00",
          "2022-09-04T00:00:00",
          "2022-09-05T00:00:00",
          "2022-09-06T00:00:00",
          "2022-09-07T00:00:00",
          "2022-09-08T00:00:00",
          "2022-09-09T00:00:00",
          "2022-09-10T00:00:00",
          "2022-09-11T00:00:00",
          "2022-09-12T00:00:00",
          "2022-09-13T00:00:00",
          "2022-09-14T00:00:00",
          "2022-09-15T00:00:00",
          "2022-09-16T00:00:00",
          "2022-09-17T00:00:00",
          "2022-09-18T00:00:00",
          "2022-09-19T00:00:00",
          "2022-09-20T00:00:00",
          "2022-09-21T00:00:00",
          "2022-09-22T00:00:00",
          "2022-09-23T00:00:00",
          "2022-09-24T00:00:00",
          "2022-09-25T00:00:00",
          "2022-09-26T00:00:00",
          "2022-09-27T00:00:00",
          "2022-09-28T00:00:00",
          "2022-09-29T00:00:00",
          "2022-09-30T00:00:00"
         ],
         "y": {
          "bdata": "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",
          "dtype": "f8"
         }
        }
       ],
       "layout": {
        "legend": {
         "tracegroupgap": 0
        },
        "template": {
         "data": {
          "bar": [
           {
            "error_x": {
             "color": "#2a3f5f"
            },
            "error_y": {
             "color": "#2a3f5f"
            },
            "marker": {
             "line": {
              "color": "#E5ECF6",
              "width": 0.5
             },
             "pattern": {
              "fillmode": "overlay",
              "size": 10,
              "solidity": 0.2
             }
            },
            "type": "bar"
           }
          ],
          "barpolar": [
           {
            "marker": {
             "line": {
              "color": "#E5ECF6",
              "width": 0.5
             },
             "pattern": {
              "fillmode": "overlay",
              "size": 10,
              "solidity": 0.2
             }
            },
            "type": "barpolar"
           }
          ],
          "carpet": [
           {
            "aaxis": {
             "endlinecolor": "#2a3f5f",
             "gridcolor": "white",
             "linecolor": "white",
             "minorgridcolor": "white",
             "startlinecolor": "#2a3f5f"
            },
            "baxis": {
             "endlinecolor": "#2a3f5f",
             "gridcolor": "white",
             "linecolor": "white",
             "minorgridcolor": "white",
             "startlinecolor": "#2a3f5f"
            },
            "type": "carpet"
           }
          ],
          "choropleth": [
           {
            "colorbar": {
             "outlinewidth": 0,
             "ticks": ""
            },
            "type": "choropleth"
           }
          ],
          "contour": [
           {
            "colorbar": {
             "outlinewidth": 0,
             "ticks": ""
            },
            "colorscale": [
             [
              0,
              "#0d0887"
             ],
             [
              0.1111111111111111,
              "#46039f"
             ],
             [
              0.2222222222222222,
              "#7201a8"
             ],
             [
              0.3333333333333333,
              "#9c179e"
             ],
             [
              0.4444444444444444,
              "#bd3786"
             ],
             [
              0.5555555555555556,
              "#d8576b"
             ],
             [
              0.6666666666666666,
              "#ed7953"
             ],
             [
              0.7777777777777778,
              "#fb9f3a"
             ],
             [
              0.8888888888888888,
              "#fdca26"
             ],
             [
              1,
              "#f0f921"
             ]
            ],
            "type": "contour"
           }
          ],
          "contourcarpet": [
           {
            "colorbar": {
             "outlinewidth": 0,
             "ticks": ""
            },
            "type": "contourcarpet"
           }
          ],
          "heatmap": [
           {
            "colorbar": {
             "outlinewidth": 0,
             "ticks": ""
            },
            "colorscale": [
             [
              0,
              "#0d0887"
             ],
             [
              0.1111111111111111,
              "#46039f"
             ],
             [
              0.2222222222222222,
              "#7201a8"
             ],
             [
              0.3333333333333333,
              "#9c179e"
             ],
             [
              0.4444444444444444,
              "#bd3786"
             ],
             [
              0.5555555555555556,
              "#d8576b"
             ],
             [
              0.6666666666666666,
              "#ed7953"
             ],
             [
              0.7777777777777778,
              "#fb9f3a"
             ],
             [
              0.8888888888888888,
              "#fdca26"
             ],
             [
              1,
              "#f0f921"
             ]
            ],
            "type": "heatmap"
           }
          ],
          "histogram": [
           {
            "marker": {
             "pattern": {
              "fillmode": "overlay",
              "size": 10,
              "solidity": 0.2
             }
            },
            "type": "histogram"
           }
          ],
          "histogram2d": [
           {
            "colorbar": {
             "outlinewidth": 0,
             "ticks": ""
            },
            "colorscale": [
             [
              0,
              "#0d0887"
             ],
             [
              0.1111111111111111,
              "#46039f"
             ],
             [
              0.2222222222222222,
              "#7201a8"
             ],
             [
              0.3333333333333333,
              "#9c179e"
             ],
             [
              0.4444444444444444,
              "#bd3786"
             ],
             [
              0.5555555555555556,
              "#d8576b"
             ],
             [
              0.6666666666666666,
              "#ed7953"
             ],
             [
              0.7777777777777778,
              "#fb9f3a"
             ],
             [
              0.8888888888888888,
              "#fdca26"
             ],
             [
              1,
              "#f0f921"
             ]
            ],
            "type": "histogram2d"
           }
          ],
          "histogram2dcontour": [
           {
            "colorbar": {
             "outlinewidth": 0,
             "ticks": ""
            },
            "colorscale": [
             [
              0,
              "#0d0887"
             ],
             [
              0.1111111111111111,
              "#46039f"
             ],
             [
              0.2222222222222222,
              "#7201a8"
             ],
             [
              0.3333333333333333,
              "#9c179e"
             ],
             [
              0.4444444444444444,
              "#bd3786"
             ],
             [
              0.5555555555555556,
              "#d8576b"
             ],
             [
              0.6666666666666666,
              "#ed7953"
             ],
             [
              0.7777777777777778,
              "#fb9f3a"
             ],
             [
              0.8888888888888888,
              "#fdca26"
             ],
             [
              1,
              "#f0f921"
             ]
            ],
            "type": "histogram2dcontour"
           }
          ],
          "mesh3d": [
           {
            "colorbar": {
             "outlinewidth": 0,
             "ticks": ""
            },
            "type": "mesh3d"
           }
          ],
          "parcoords": [
           {
            "line": {
             "colorbar": {
              "outlinewidth": 0,
              "ticks": ""
             }
            },
            "type": "parcoords"
           }
          ],
          "pie": [
           {
            "automargin": true,
            "type": "pie"
           }
          ],
          "scatter": [
           {
            "fillpattern": {
             "fillmode": "overlay",
             "size": 10,
             "solidity": 0.2
            },
            "type": "scatter"
           }
          ],
          "scatter3d": [
           {
            "line": {
             "colorbar": {
              "outlinewidth": 0,
              "ticks": ""
             }
            },
            "marker": {
             "colorbar": {
              "outlinewidth": 0,
              "ticks": ""
             }
            },
            "type": "scatter3d"
           }
          ],
          "scattercarpet": [
           {
            "marker": {
             "colorbar": {
              "outlinewidth": 0,
              "ticks": ""
             }
            },
            "type": "scattercarpet"
           }
          ],
          "scattergeo": [
           {
            "marker": {
             "colorbar": {
              "outlinewidth": 0,
              "ticks": ""
             }
            },
            "type": "scattergeo"
           }
          ],
          "scattergl": [
           {
            "marker": {
             "colorbar": {
              "outlinewidth": 0,
              "ticks": ""
             }
            },
            "type": "scattergl"
           }
          ],
          "scattermap": [
           {
            "marker": {
             "colorbar": {
              "outlinewidth": 0,
              "ticks": ""
             }
            },
            "type": "scattermap"
           }
          ],
          "scattermapbox": [
           {
            "marker": {
             "colorbar": {
              "outlinewidth": 0,
              "ticks": ""
             }
            },
            "type": "scattermapbox"
           }
          ],
          "scatterpolar": [
           {
            "marker": {
             "colorbar": {
              "outlinewidth": 0,
              "ticks": ""
             }
            },
            "type": "scatterpolar"
           }
          ],
          "scatterpolargl": [
           {
            "marker": {
             "colorbar": {
              "outlinewidth": 0,
              "ticks": ""
             }
            },
            "type": "scatterpolargl"
           }
          ],
          "scatterternary": [
           {
            "marker": {
             "colorbar": {
              "outlinewidth": 0,
              "ticks": ""
             }
            },
            "type": "scatterternary"
           }
          ],
          "surface": [
           {
            "colorbar": {
             "outlinewidth": 0,
             "ticks": ""
            },
            "colorscale": [
             [
              0,
              "#0d0887"
             ],
             [
              0.1111111111111111,
              "#46039f"
             ],
             [
              0.2222222222222222,
              "#7201a8"
             ],
             [
              0.3333333333333333,
              "#9c179e"
             ],
             [
              0.4444444444444444,
              "#bd3786"
             ],
             [
              0.5555555555555556,
              "#d8576b"
             ],
             [
              0.6666666666666666,
              "#ed7953"
             ],
             [
              0.7777777777777778,
              "#fb9f3a"
             ],
             [
              0.8888888888888888,
              "#fdca26"
             ],
             [
              1,
              "#f0f921"
             ]
            ],
            "type": "surface"
           }
          ],
          "table": [
           {
            "cells": {
             "fill": {
              "color": "#EBF0F8"
             },
             "line": {
              "color": "white"
             }
            },
            "header": {
             "fill": {
              "color": "#C8D4E3"
             },
             "line": {
              "color": "white"
             }
            },
            "type": "table"
           }
          ]
         },
         "layout": {
          "annotationdefaults": {
           "arrowcolor": "#2a3f5f",
           "arrowhead": 0,
           "arrowwidth": 1
          },
          "autotypenumbers": "strict",
          "coloraxis": {
           "colorbar": {
            "outlinewidth": 0,
            "ticks": ""
           }
          },
          "colorscale": {
           "diverging": [
            [
             0,
             "#8e0152"
            ],
            [
             0.1,
             "#c51b7d"
            ],
            [
             0.2,
             "#de77ae"
            ],
            [
             0.3,
             "#f1b6da"
            ],
            [
             0.4,
             "#fde0ef"
            ],
            [
             0.5,
             "#f7f7f7"
            ],
            [
             0.6,
             "#e6f5d0"
            ],
            [
             0.7,
             "#b8e186"
            ],
            [
             0.8,
             "#7fbc41"
            ],
            [
             0.9,
             "#4d9221"
            ],
            [
             1,
             "#276419"
            ]
           ],
           "sequential": [
            [
             0,
             "#0d0887"
            ],
            [
             0.1111111111111111,
             "#46039f"
            ],
            [
             0.2222222222222222,
             "#7201a8"
            ],
            [
             0.3333333333333333,
             "#9c179e"
            ],
            [
             0.4444444444444444,
             "#bd3786"
            ],
            [
             0.5555555555555556,
             "#d8576b"
            ],
            [
             0.6666666666666666,
             "#ed7953"
            ],
            [
             0.7777777777777778,
             "#fb9f3a"
            ],
            [
             0.8888888888888888,
             "#fdca26"
            ],
            [
             1,
             "#f0f921"
            ]
           ],
           "sequentialminus": [
            [
             0,
             "#0d0887"
            ],
            [
             0.1111111111111111,
             "#46039f"
            ],
            [
             0.2222222222222222,
             "#7201a8"
            ],
            [
             0.3333333333333333,
             "#9c179e"
            ],
            [
             0.4444444444444444,
             "#bd3786"
            ],
            [
             0.5555555555555556,
             "#d8576b"
            ],
            [
             0.6666666666666666,
             "#ed7953"
            ],
            [
             0.7777777777777778,
             "#fb9f3a"
            ],
            [
             0.8888888888888888,
             "#fdca26"
            ],
            [
             1,
             "#f0f921"
            ]
           ]
          },
          "colorway": [
           "#636efa",
           "#EF553B",
           "#00cc96",
           "#ab63fa",
           "#FFA15A",
           "#19d3f3",
           "#FF6692",
           "#B6E880",
           "#FF97FF",
           "#FECB52"
          ],
          "font": {
           "color": "#2a3f5f"
          },
          "geo": {
           "bgcolor": "white",
           "lakecolor": "white",
           "landcolor": "#E5ECF6",
           "showlakes": true,
           "showland": true,
           "subunitcolor": "white"
          },
          "hoverlabel": {
           "align": "left"
          },
          "hovermode": "closest",
          "mapbox": {
           "style": "light"
          },
          "paper_bgcolor": "white",
          "plot_bgcolor": "#E5ECF6",
          "polar": {
           "angularaxis": {
            "gridcolor": "white",
            "linecolor": "white",
            "ticks": ""
           },
           "bgcolor": "#E5ECF6",
           "radialaxis": {
            "gridcolor": "white",
            "linecolor": "white",
            "ticks": ""
           }
          },
          "scene": {
           "xaxis": {
            "backgroundcolor": "#E5ECF6",
            "gridcolor": "white",
            "gridwidth": 2,
            "linecolor": "white",
            "showbackground": true,
            "ticks": "",
            "zerolinecolor": "white"
           },
           "yaxis": {
            "backgroundcolor": "#E5ECF6",
            "gridcolor": "white",
            "gridwidth": 2,
            "linecolor": "white",
            "showbackground": true,
            "ticks": "",
            "zerolinecolor": "white"
           },
           "zaxis": {
            "backgroundcolor": "#E5ECF6",
            "gridcolor": "white",
            "gridwidth": 2,
            "linecolor": "white",
            "showbackground": true,
            "ticks": "",
            "zerolinecolor": "white"
           }
          },
          "shapedefaults": {
           "line": {
            "color": "#2a3f5f"
           }
          },
          "ternary": {
           "aaxis": {
            "gridcolor": "white",
            "linecolor": "white",
            "ticks": ""
           },
           "baxis": {
            "gridcolor": "white",
            "linecolor": "white",
            "ticks": ""
           },
           "bgcolor": "#E5ECF6",
           "caxis": {
            "gridcolor": "white",
            "linecolor": "white",
            "ticks": ""
           }
          },
          "title": {
           "x": 0.05
          },
          "xaxis": {
           "automargin": true,
           "gridcolor": "white",
           "linecolor": "white",
           "ticks": "",
           "title": {
            "standoff": 15
           },
           "zerolinecolor": "white",
           "zerolinewidth": 2
          },
          "yaxis": {
           "automargin": true,
           "gridcolor": "white",
           "linecolor": "white",
           "ticks": "",
           "title": {
            "standoff": 15
           },
           "zerolinecolor": "white",
           "zerolinewidth": 2
          }
         }
        },
        "title": {
         "text": "Prophet Forecast (35 Days)"
        },
        "xaxis": {
         "anchor": "y",
         "domain": [
          0,
          1
         ],
         "title": {
          "text": "ds"
         }
        },
        "yaxis": {
         "anchor": "x",
         "domain": [
          0,
          1
         ],
         "title": {
          "text": "yhat"
         }
        }
       }
      }
     },
     "metadata": {},
     "output_type": "display_data"
    }
   ],
   "source": [
    "fig = px.line(forecast, x=\"ds\", y=\"yhat\", title=\"Prophet Forecast (35 Days)\")\n",
    "fig.add_scatter(x=final_df['ds'], y=final_df['y'], mode='lines', name=\"Actual\")\n",
    "fig.show()"
   ]
  },
  {
   "cell_type": "markdown",
   "id": "ba68f3b4",
   "metadata": {},
   "source": [
    "### Actual Sales"
   ]
  },
  {
   "cell_type": "code",
   "execution_count": 284,
   "id": "a488ee55",
   "metadata": {},
   "outputs": [
    {
     "data": {
      "application/vnd.plotly.v1+json": {
       "config": {
        "plotlyServerURL": "https://plot.ly"
       },
       "data": [
        {
         "hovertemplate": "ds=%{x}<br>y=%{y}<extra></extra>",
         "legendgroup": "",
         "line": {
          "color": "#636efa",
          "dash": "solid"
         },
         "marker": {
          "symbol": "circle"
         },
         "mode": "lines",
         "name": "",
         "orientation": "v",
         "showlegend": false,
         "type": "scatter",
         "x": [
          "2021-01-01T00:00:00",
          "2021-01-02T00:00:00",
          "2021-01-03T00:00:00",
          "2021-01-04T00:00:00",
          "2021-01-05T00:00:00",
          "2021-01-06T00:00:00",
          "2021-01-07T00:00:00",
          "2021-01-08T00:00:00",
          "2021-01-09T00:00:00",
          "2021-01-10T00:00:00",
          "2021-01-11T00:00:00",
          "2021-01-12T00:00:00",
          "2021-01-13T00:00:00",
          "2021-01-14T00:00:00",
          "2021-01-15T00:00:00",
          "2021-01-16T00:00:00",
          "2021-01-17T00:00:00",
          "2021-01-18T00:00:00",
          "2021-01-19T00:00:00",
          "2021-01-20T00:00:00",
          "2021-01-21T00:00:00",
          "2021-01-22T00:00:00",
          "2021-01-23T00:00:00",
          "2021-01-24T00:00:00",
          "2021-01-25T00:00:00",
          "2021-01-26T00:00:00",
          "2021-01-27T00:00:00",
          "2021-01-28T00:00:00",
          "2021-01-29T00:00:00",
          "2021-01-30T00:00:00",
          "2021-01-31T00:00:00",
          "2021-02-01T00:00:00",
          "2021-02-02T00:00:00",
          "2021-02-03T00:00:00",
          "2021-02-04T00:00:00",
          "2021-02-05T00:00:00",
          "2021-02-06T00:00:00",
          "2021-02-07T00:00:00",
          "2021-02-08T00:00:00",
          "2021-02-09T00:00:00",
          "2021-02-10T00:00:00",
          "2021-02-11T00:00:00",
          "2021-02-12T00:00:00",
          "2021-02-13T00:00:00",
          "2021-02-14T00:00:00",
          "2021-02-15T00:00:00",
          "2021-02-16T00:00:00",
          "2021-02-17T00:00:00",
          "2021-02-18T00:00:00",
          "2021-02-19T00:00:00",
          "2021-02-20T00:00:00",
          "2021-02-21T00:00:00",
          "2021-02-22T00:00:00",
          "2021-02-23T00:00:00",
          "2021-02-24T00:00:00",
          "2021-02-25T00:00:00",
          "2021-02-26T00:00:00",
          "2021-02-27T00:00:00",
          "2021-02-28T00:00:00",
          "2021-03-01T00:00:00",
          "2021-03-02T00:00:00",
          "2021-03-03T00:00:00",
          "2021-03-04T00:00:00",
          "2021-03-05T00:00:00",
          "2021-03-06T00:00:00",
          "2021-03-07T00:00:00",
          "2021-03-08T00:00:00",
          "2021-03-09T00:00:00",
          "2021-03-10T00:00:00",
          "2021-03-11T00:00:00",
          "2021-03-12T00:00:00",
          "2021-03-13T00:00:00",
          "2021-03-14T00:00:00",
          "2021-03-15T00:00:00",
          "2021-03-16T00:00:00",
          "2021-03-17T00:00:00",
          "2021-03-18T00:00:00",
          "2021-03-19T00:00:00",
          "2021-03-20T00:00:00",
          "2021-03-21T00:00:00",
          "2021-03-22T00:00:00",
          "2021-03-23T00:00:00",
          "2021-03-24T00:00:00",
          "2021-03-25T00:00:00",
          "2021-03-26T00:00:00",
          "2021-03-27T00:00:00",
          "2021-03-28T00:00:00",
          "2021-03-29T00:00:00",
          "2021-03-30T00:00:00",
          "2021-03-31T00:00:00",
          "2021-04-01T00:00:00",
          "2021-04-02T00:00:00",
          "2021-04-03T00:00:00",
          "2021-04-04T00:00:00",
          "2021-04-05T00:00:00",
          "2021-04-06T00:00:00",
          "2021-04-07T00:00:00",
          "2021-04-08T00:00:00",
          "2021-04-09T00:00:00",
          "2021-04-10T00:00:00",
          "2021-04-11T00:00:00",
          "2021-04-12T00:00:00",
          "2021-04-13T00:00:00",
          "2021-04-14T00:00:00",
          "2021-04-15T00:00:00",
          "2021-04-16T00:00:00",
          "2021-04-17T00:00:00",
          "2021-04-18T00:00:00",
          "2021-04-19T00:00:00",
          "2021-04-20T00:00:00",
          "2021-04-21T00:00:00",
          "2021-04-22T00:00:00",
          "2021-04-23T00:00:00",
          "2021-04-24T00:00:00",
          "2021-04-25T00:00:00",
          "2021-04-26T00:00:00",
          "2021-04-27T00:00:00",
          "2021-04-28T00:00:00",
          "2021-04-29T00:00:00",
          "2021-04-30T00:00:00",
          "2021-05-01T00:00:00",
          "2021-05-02T00:00:00",
          "2021-05-03T00:00:00",
          "2021-05-04T00:00:00",
          "2021-05-05T00:00:00",
          "2021-05-06T00:00:00",
          "2021-05-07T00:00:00",
          "2021-05-08T00:00:00",
          "2021-05-09T00:00:00",
          "2021-05-10T00:00:00",
          "2021-05-11T00:00:00",
          "2021-05-12T00:00:00",
          "2021-05-13T00:00:00",
          "2021-05-14T00:00:00",
          "2021-05-15T00:00:00",
          "2021-05-16T00:00:00",
          "2021-05-17T00:00:00",
          "2021-05-18T00:00:00",
          "2021-05-19T00:00:00",
          "2021-05-20T00:00:00",
          "2021-05-21T00:00:00",
          "2021-05-22T00:00:00",
          "2021-05-23T00:00:00",
          "2021-05-24T00:00:00",
          "2021-05-25T00:00:00",
          "2021-05-26T00:00:00",
          "2021-05-27T00:00:00",
          "2021-05-28T00:00:00",
          "2021-05-29T00:00:00",
          "2021-05-30T00:00:00",
          "2021-05-31T00:00:00",
          "2021-06-01T00:00:00",
          "2021-06-02T00:00:00",
          "2021-06-03T00:00:00",
          "2021-06-04T00:00:00",
          "2021-06-05T00:00:00",
          "2021-06-06T00:00:00",
          "2021-06-07T00:00:00",
          "2021-06-08T00:00:00",
          "2021-06-09T00:00:00",
          "2021-06-10T00:00:00",
          "2021-06-11T00:00:00",
          "2021-06-12T00:00:00",
          "2021-06-13T00:00:00",
          "2021-06-14T00:00:00",
          "2021-06-15T00:00:00",
          "2021-06-16T00:00:00",
          "2021-06-17T00:00:00",
          "2021-06-18T00:00:00",
          "2021-06-19T00:00:00",
          "2021-06-20T00:00:00",
          "2021-06-21T00:00:00",
          "2021-06-22T00:00:00",
          "2021-06-23T00:00:00",
          "2021-06-24T00:00:00",
          "2021-06-25T00:00:00",
          "2021-06-26T00:00:00",
          "2021-06-27T00:00:00",
          "2021-06-28T00:00:00",
          "2021-06-29T00:00:00",
          "2021-06-30T00:00:00",
          "2021-07-01T00:00:00",
          "2021-07-02T00:00:00",
          "2021-07-03T00:00:00",
          "2021-07-04T00:00:00",
          "2021-07-05T00:00:00",
          "2021-07-06T00:00:00",
          "2021-07-07T00:00:00",
          "2021-07-08T00:00:00",
          "2021-07-09T00:00:00",
          "2021-07-10T00:00:00",
          "2021-07-11T00:00:00",
          "2021-07-12T00:00:00",
          "2021-07-13T00:00:00",
          "2021-07-14T00:00:00",
          "2021-07-15T00:00:00",
          "2021-07-16T00:00:00",
          "2021-07-17T00:00:00",
          "2021-07-18T00:00:00",
          "2021-07-19T00:00:00",
          "2021-07-20T00:00:00",
          "2021-07-21T00:00:00",
          "2021-07-22T00:00:00",
          "2021-07-23T00:00:00",
          "2021-07-24T00:00:00",
          "2021-07-25T00:00:00",
          "2021-07-26T00:00:00",
          "2021-07-27T00:00:00",
          "2021-07-28T00:00:00",
          "2021-07-29T00:00:00",
          "2021-07-30T00:00:00",
          "2021-07-31T00:00:00",
          "2021-08-01T00:00:00",
          "2021-08-02T00:00:00",
          "2021-08-03T00:00:00",
          "2021-08-04T00:00:00",
          "2021-08-05T00:00:00",
          "2021-08-06T00:00:00",
          "2021-08-07T00:00:00",
          "2021-08-08T00:00:00",
          "2021-08-09T00:00:00",
          "2021-08-10T00:00:00",
          "2021-08-11T00:00:00",
          "2021-08-12T00:00:00",
          "2021-08-13T00:00:00",
          "2021-08-14T00:00:00",
          "2021-08-15T00:00:00",
          "2021-08-16T00:00:00",
          "2021-08-17T00:00:00",
          "2021-08-18T00:00:00",
          "2021-08-19T00:00:00",
          "2021-08-20T00:00:00",
          "2021-08-21T00:00:00",
          "2021-08-22T00:00:00",
          "2021-08-23T00:00:00",
          "2021-08-24T00:00:00",
          "2021-08-25T00:00:00",
          "2021-08-26T00:00:00",
          "2021-08-27T00:00:00",
          "2021-08-28T00:00:00",
          "2021-08-29T00:00:00",
          "2021-08-30T00:00:00",
          "2021-08-31T00:00:00",
          "2021-09-01T00:00:00",
          "2021-09-02T00:00:00",
          "2021-09-03T00:00:00",
          "2021-09-04T00:00:00",
          "2021-09-05T00:00:00",
          "2021-09-06T00:00:00",
          "2021-09-07T00:00:00",
          "2021-09-08T00:00:00",
          "2021-09-09T00:00:00",
          "2021-09-10T00:00:00",
          "2021-09-11T00:00:00",
          "2021-09-12T00:00:00",
          "2021-09-13T00:00:00",
          "2021-09-14T00:00:00",
          "2021-09-15T00:00:00",
          "2021-09-16T00:00:00",
          "2021-09-17T00:00:00",
          "2021-09-18T00:00:00",
          "2021-09-19T00:00:00",
          "2021-09-20T00:00:00",
          "2021-09-21T00:00:00",
          "2021-09-22T00:00:00",
          "2021-09-23T00:00:00",
          "2021-09-24T00:00:00",
          "2021-09-25T00:00:00",
          "2021-09-26T00:00:00",
          "2021-09-27T00:00:00",
          "2021-09-28T00:00:00",
          "2021-09-29T00:00:00",
          "2021-09-30T00:00:00",
          "2021-10-01T00:00:00",
          "2021-10-02T00:00:00",
          "2021-10-03T00:00:00",
          "2021-10-04T00:00:00",
          "2021-10-05T00:00:00",
          "2021-10-06T00:00:00",
          "2021-10-07T00:00:00",
          "2021-10-08T00:00:00",
          "2021-10-09T00:00:00",
          "2021-10-10T00:00:00",
          "2021-10-11T00:00:00",
          "2021-10-12T00:00:00",
          "2021-10-13T00:00:00",
          "2021-10-14T00:00:00",
          "2021-10-15T00:00:00",
          "2021-10-16T00:00:00",
          "2021-10-17T00:00:00",
          "2021-10-18T00:00:00",
          "2021-10-19T00:00:00",
          "2021-10-20T00:00:00",
          "2021-10-21T00:00:00",
          "2021-10-22T00:00:00",
          "2021-10-23T00:00:00",
          "2021-10-24T00:00:00",
          "2021-10-25T00:00:00",
          "2021-10-26T00:00:00",
          "2021-10-27T00:00:00",
          "2021-10-28T00:00:00",
          "2021-10-29T00:00:00",
          "2021-10-30T00:00:00",
          "2021-10-31T00:00:00",
          "2021-11-01T00:00:00",
          "2021-11-02T00:00:00",
          "2021-11-03T00:00:00",
          "2021-11-04T00:00:00",
          "2021-11-05T00:00:00",
          "2021-11-06T00:00:00",
          "2021-11-07T00:00:00",
          "2021-11-08T00:00:00",
          "2021-11-09T00:00:00",
          "2021-11-10T00:00:00",
          "2021-11-11T00:00:00",
          "2021-11-12T00:00:00",
          "2021-11-13T00:00:00",
          "2021-11-14T00:00:00",
          "2021-11-15T00:00:00",
          "2021-11-16T00:00:00",
          "2021-11-17T00:00:00",
          "2021-11-18T00:00:00",
          "2021-11-19T00:00:00",
          "2021-11-20T00:00:00",
          "2021-11-21T00:00:00",
          "2021-11-22T00:00:00",
          "2021-11-23T00:00:00",
          "2021-11-24T00:00:00",
          "2021-11-25T00:00:00",
          "2021-11-26T00:00:00",
          "2021-11-27T00:00:00",
          "2021-11-28T00:00:00",
          "2021-11-29T00:00:00",
          "2021-11-30T00:00:00",
          "2021-12-01T00:00:00",
          "2021-12-02T00:00:00",
          "2021-12-03T00:00:00",
          "2021-12-04T00:00:00",
          "2021-12-05T00:00:00",
          "2021-12-06T00:00:00",
          "2021-12-07T00:00:00",
          "2021-12-08T00:00:00",
          "2021-12-09T00:00:00",
          "2021-12-10T00:00:00",
          "2021-12-11T00:00:00",
          "2021-12-12T00:00:00",
          "2021-12-13T00:00:00",
          "2021-12-14T00:00:00",
          "2021-12-15T00:00:00",
          "2021-12-16T00:00:00",
          "2021-12-17T00:00:00",
          "2021-12-18T00:00:00",
          "2021-12-19T00:00:00",
          "2021-12-20T00:00:00",
          "2021-12-21T00:00:00",
          "2021-12-22T00:00:00",
          "2021-12-23T00:00:00",
          "2021-12-24T00:00:00",
          "2021-12-25T00:00:00",
          "2021-12-26T00:00:00",
          "2021-12-27T00:00:00",
          "2021-12-28T00:00:00",
          "2021-12-29T00:00:00",
          "2021-12-30T00:00:00",
          "2021-12-31T00:00:00",
          "2022-01-01T00:00:00",
          "2022-01-02T00:00:00",
          "2022-01-03T00:00:00",
          "2022-01-04T00:00:00",
          "2022-01-05T00:00:00",
          "2022-01-06T00:00:00",
          "2022-01-07T00:00:00",
          "2022-01-08T00:00:00",
          "2022-01-09T00:00:00",
          "2022-01-10T00:00:00",
          "2022-01-11T00:00:00",
          "2022-01-12T00:00:00",
          "2022-01-13T00:00:00",
          "2022-01-14T00:00:00",
          "2022-01-15T00:00:00",
          "2022-01-16T00:00:00",
          "2022-01-17T00:00:00",
          "2022-01-18T00:00:00",
          "2022-01-19T00:00:00",
          "2022-01-20T00:00:00",
          "2022-01-21T00:00:00",
          "2022-01-22T00:00:00",
          "2022-01-23T00:00:00",
          "2022-01-24T00:00:00",
          "2022-01-25T00:00:00",
          "2022-01-26T00:00:00",
          "2022-01-27T00:00:00",
          "2022-01-28T00:00:00",
          "2022-01-29T00:00:00",
          "2022-01-30T00:00:00",
          "2022-01-31T00:00:00",
          "2022-02-01T00:00:00",
          "2022-02-02T00:00:00",
          "2022-02-03T00:00:00",
          "2022-02-04T00:00:00",
          "2022-02-05T00:00:00",
          "2022-02-06T00:00:00",
          "2022-02-07T00:00:00",
          "2022-02-08T00:00:00",
          "2022-02-09T00:00:00",
          "2022-02-10T00:00:00",
          "2022-02-11T00:00:00",
          "2022-02-12T00:00:00",
          "2022-02-13T00:00:00",
          "2022-02-14T00:00:00",
          "2022-02-15T00:00:00",
          "2022-02-16T00:00:00",
          "2022-02-17T00:00:00",
          "2022-02-18T00:00:00",
          "2022-02-19T00:00:00",
          "2022-02-20T00:00:00",
          "2022-02-21T00:00:00",
          "2022-02-22T00:00:00",
          "2022-02-23T00:00:00",
          "2022-02-24T00:00:00",
          "2022-02-25T00:00:00",
          "2022-02-26T00:00:00",
          "2022-02-27T00:00:00",
          "2022-02-28T00:00:00",
          "2022-03-01T00:00:00",
          "2022-03-02T00:00:00",
          "2022-03-03T00:00:00",
          "2022-03-04T00:00:00",
          "2022-03-05T00:00:00",
          "2022-03-06T00:00:00",
          "2022-03-07T00:00:00",
          "2022-03-08T00:00:00",
          "2022-03-09T00:00:00",
          "2022-03-10T00:00:00",
          "2022-03-11T00:00:00",
          "2022-03-12T00:00:00",
          "2022-03-13T00:00:00",
          "2022-03-14T00:00:00",
          "2022-03-15T00:00:00",
          "2022-03-16T00:00:00",
          "2022-03-17T00:00:00",
          "2022-03-18T00:00:00",
          "2022-03-19T00:00:00",
          "2022-03-20T00:00:00",
          "2022-03-21T00:00:00",
          "2022-03-22T00:00:00",
          "2022-03-23T00:00:00",
          "2022-03-24T00:00:00",
          "2022-03-25T00:00:00",
          "2022-03-26T00:00:00",
          "2022-03-27T00:00:00",
          "2022-03-28T00:00:00",
          "2022-03-29T00:00:00",
          "2022-03-30T00:00:00",
          "2022-03-31T00:00:00",
          "2022-04-01T00:00:00",
          "2022-04-02T00:00:00",
          "2022-04-03T00:00:00",
          "2022-04-04T00:00:00",
          "2022-04-05T00:00:00",
          "2022-04-06T00:00:00",
          "2022-04-07T00:00:00",
          "2022-04-08T00:00:00",
          "2022-04-09T00:00:00",
          "2022-04-10T00:00:00",
          "2022-04-11T00:00:00",
          "2022-04-12T00:00:00",
          "2022-04-13T00:00:00",
          "2022-04-14T00:00:00",
          "2022-04-15T00:00:00",
          "2022-04-16T00:00:00",
          "2022-04-17T00:00:00",
          "2022-04-18T00:00:00",
          "2022-04-19T00:00:00",
          "2022-04-20T00:00:00",
          "2022-04-21T00:00:00",
          "2022-04-22T00:00:00",
          "2022-04-23T00:00:00",
          "2022-04-24T00:00:00",
          "2022-04-25T00:00:00",
          "2022-04-26T00:00:00",
          "2022-04-27T00:00:00",
          "2022-04-28T00:00:00",
          "2022-04-29T00:00:00",
          "2022-04-30T00:00:00",
          "2022-05-01T00:00:00",
          "2022-05-02T00:00:00",
          "2022-05-03T00:00:00",
          "2022-05-04T00:00:00",
          "2022-05-05T00:00:00",
          "2022-05-06T00:00:00",
          "2022-05-07T00:00:00",
          "2022-05-08T00:00:00",
          "2022-05-09T00:00:00",
          "2022-05-10T00:00:00",
          "2022-05-11T00:00:00",
          "2022-05-12T00:00:00",
          "2022-05-13T00:00:00",
          "2022-05-14T00:00:00",
          "2022-05-15T00:00:00",
          "2022-05-16T00:00:00",
          "2022-05-17T00:00:00",
          "2022-05-18T00:00:00",
          "2022-05-19T00:00:00",
          "2022-05-20T00:00:00",
          "2022-05-21T00:00:00",
          "2022-05-22T00:00:00",
          "2022-05-23T00:00:00",
          "2022-05-24T00:00:00",
          "2022-05-25T00:00:00",
          "2022-05-26T00:00:00",
          "2022-05-27T00:00:00",
          "2022-05-28T00:00:00",
          "2022-05-29T00:00:00",
          "2022-05-30T00:00:00",
          "2022-05-31T00:00:00",
          "2022-06-01T00:00:00",
          "2022-06-02T00:00:00",
          "2022-06-03T00:00:00",
          "2022-06-04T00:00:00",
          "2022-06-05T00:00:00",
          "2022-06-06T00:00:00",
          "2022-06-07T00:00:00",
          "2022-06-08T00:00:00",
          "2022-06-09T00:00:00",
          "2022-06-10T00:00:00",
          "2022-06-11T00:00:00",
          "2022-06-12T00:00:00",
          "2022-06-13T00:00:00",
          "2022-06-14T00:00:00",
          "2022-06-15T00:00:00",
          "2022-06-16T00:00:00",
          "2022-06-17T00:00:00",
          "2022-06-18T00:00:00",
          "2022-06-19T00:00:00",
          "2022-06-20T00:00:00",
          "2022-06-21T00:00:00",
          "2022-06-22T00:00:00",
          "2022-06-23T00:00:00",
          "2022-06-24T00:00:00",
          "2022-06-25T00:00:00",
          "2022-06-26T00:00:00",
          "2022-06-27T00:00:00",
          "2022-06-28T00:00:00",
          "2022-06-29T00:00:00",
          "2022-06-30T00:00:00",
          "2022-07-01T00:00:00",
          "2022-07-02T00:00:00",
          "2022-07-03T00:00:00",
          "2022-07-04T00:00:00",
          "2022-07-05T00:00:00",
          "2022-07-06T00:00:00",
          "2022-07-07T00:00:00",
          "2022-07-08T00:00:00",
          "2022-07-09T00:00:00",
          "2022-07-10T00:00:00",
          "2022-07-11T00:00:00",
          "2022-07-12T00:00:00",
          "2022-07-13T00:00:00",
          "2022-07-14T00:00:00",
          "2022-07-15T00:00:00",
          "2022-07-16T00:00:00",
          "2022-07-17T00:00:00",
          "2022-07-18T00:00:00",
          "2022-07-19T00:00:00",
          "2022-07-20T00:00:00",
          "2022-07-21T00:00:00",
          "2022-07-22T00:00:00",
          "2022-07-23T00:00:00",
          "2022-07-24T00:00:00",
          "2022-07-25T00:00:00",
          "2022-07-26T00:00:00",
          "2022-07-27T00:00:00",
          "2022-07-28T00:00:00",
          "2022-07-29T00:00:00",
          "2022-07-30T00:00:00",
          "2022-07-31T00:00:00",
          "2022-08-01T00:00:00",
          "2022-08-02T00:00:00",
          "2022-08-03T00:00:00",
          "2022-08-04T00:00:00",
          "2022-08-05T00:00:00",
          "2022-08-06T00:00:00",
          "2022-08-07T00:00:00",
          "2022-08-08T00:00:00",
          "2022-08-09T00:00:00",
          "2022-08-10T00:00:00",
          "2022-08-11T00:00:00",
          "2022-08-12T00:00:00",
          "2022-08-13T00:00:00",
          "2022-08-14T00:00:00",
          "2022-08-15T00:00:00",
          "2022-08-16T00:00:00",
          "2022-08-17T00:00:00",
          "2022-08-18T00:00:00",
          "2022-08-19T00:00:00",
          "2022-08-20T00:00:00",
          "2022-08-21T00:00:00",
          "2022-08-22T00:00:00",
          "2022-08-23T00:00:00",
          "2022-08-24T00:00:00",
          "2022-08-25T00:00:00",
          "2022-08-26T00:00:00",
          "2022-08-27T00:00:00",
          "2022-08-28T00:00:00",
          "2022-08-29T00:00:00",
          "2022-08-30T00:00:00",
          "2022-08-31T00:00:00",
          "2022-09-01T00:00:00",
          "2022-09-02T00:00:00",
          "2022-09-03T00:00:00",
          "2022-09-04T00:00:00",
          "2022-09-05T00:00:00",
          "2022-09-06T00:00:00",
          "2022-09-07T00:00:00",
          "2022-09-08T00:00:00",
          "2022-09-09T00:00:00",
          "2022-09-10T00:00:00",
          "2022-09-11T00:00:00",
          "2022-09-12T00:00:00",
          "2022-09-13T00:00:00",
          "2022-09-14T00:00:00",
          "2022-09-15T00:00:00",
          "2022-09-16T00:00:00",
          "2022-09-17T00:00:00",
          "2022-09-18T00:00:00",
          "2022-09-19T00:00:00",
          "2022-09-20T00:00:00",
          "2022-09-21T00:00:00",
          "2022-09-22T00:00:00",
          "2022-09-23T00:00:00",
          "2022-09-24T00:00:00",
          "2022-09-25T00:00:00",
          "2022-09-26T00:00:00",
          "2022-09-27T00:00:00",
          "2022-09-28T00:00:00",
          "2022-09-29T00:00:00",
          "2022-09-30T00:00:00"
         ],
         "xaxis": "x",
         "y": {
          "bdata": "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",
          "dtype": "f8"
         },
         "yaxis": "y"
        }
       ],
       "layout": {
        "legend": {
         "tracegroupgap": 0
        },
        "margin": {
         "t": 60
        },
        "template": {
         "data": {
          "bar": [
           {
            "error_x": {
             "color": "#2a3f5f"
            },
            "error_y": {
             "color": "#2a3f5f"
            },
            "marker": {
             "line": {
              "color": "#E5ECF6",
              "width": 0.5
             },
             "pattern": {
              "fillmode": "overlay",
              "size": 10,
              "solidity": 0.2
             }
            },
            "type": "bar"
           }
          ],
          "barpolar": [
           {
            "marker": {
             "line": {
              "color": "#E5ECF6",
              "width": 0.5
             },
             "pattern": {
              "fillmode": "overlay",
              "size": 10,
              "solidity": 0.2
             }
            },
            "type": "barpolar"
           }
          ],
          "carpet": [
           {
            "aaxis": {
             "endlinecolor": "#2a3f5f",
             "gridcolor": "white",
             "linecolor": "white",
             "minorgridcolor": "white",
             "startlinecolor": "#2a3f5f"
            },
            "baxis": {
             "endlinecolor": "#2a3f5f",
             "gridcolor": "white",
             "linecolor": "white",
             "minorgridcolor": "white",
             "startlinecolor": "#2a3f5f"
            },
            "type": "carpet"
           }
          ],
          "choropleth": [
           {
            "colorbar": {
             "outlinewidth": 0,
             "ticks": ""
            },
            "type": "choropleth"
           }
          ],
          "contour": [
           {
            "colorbar": {
             "outlinewidth": 0,
             "ticks": ""
            },
            "colorscale": [
             [
              0,
              "#0d0887"
             ],
             [
              0.1111111111111111,
              "#46039f"
             ],
             [
              0.2222222222222222,
              "#7201a8"
             ],
             [
              0.3333333333333333,
              "#9c179e"
             ],
             [
              0.4444444444444444,
              "#bd3786"
             ],
             [
              0.5555555555555556,
              "#d8576b"
             ],
             [
              0.6666666666666666,
              "#ed7953"
             ],
             [
              0.7777777777777778,
              "#fb9f3a"
             ],
             [
              0.8888888888888888,
              "#fdca26"
             ],
             [
              1,
              "#f0f921"
             ]
            ],
            "type": "contour"
           }
          ],
          "contourcarpet": [
           {
            "colorbar": {
             "outlinewidth": 0,
             "ticks": ""
            },
            "type": "contourcarpet"
           }
          ],
          "heatmap": [
           {
            "colorbar": {
             "outlinewidth": 0,
             "ticks": ""
            },
            "colorscale": [
             [
              0,
              "#0d0887"
             ],
             [
              0.1111111111111111,
              "#46039f"
             ],
             [
              0.2222222222222222,
              "#7201a8"
             ],
             [
              0.3333333333333333,
              "#9c179e"
             ],
             [
              0.4444444444444444,
              "#bd3786"
             ],
             [
              0.5555555555555556,
              "#d8576b"
             ],
             [
              0.6666666666666666,
              "#ed7953"
             ],
             [
              0.7777777777777778,
              "#fb9f3a"
             ],
             [
              0.8888888888888888,
              "#fdca26"
             ],
             [
              1,
              "#f0f921"
             ]
            ],
            "type": "heatmap"
           }
          ],
          "histogram": [
           {
            "marker": {
             "pattern": {
              "fillmode": "overlay",
              "size": 10,
              "solidity": 0.2
             }
            },
            "type": "histogram"
           }
          ],
          "histogram2d": [
           {
            "colorbar": {
             "outlinewidth": 0,
             "ticks": ""
            },
            "colorscale": [
             [
              0,
              "#0d0887"
             ],
             [
              0.1111111111111111,
              "#46039f"
             ],
             [
              0.2222222222222222,
              "#7201a8"
             ],
             [
              0.3333333333333333,
              "#9c179e"
             ],
             [
              0.4444444444444444,
              "#bd3786"
             ],
             [
              0.5555555555555556,
              "#d8576b"
             ],
             [
              0.6666666666666666,
              "#ed7953"
             ],
             [
              0.7777777777777778,
              "#fb9f3a"
             ],
             [
              0.8888888888888888,
              "#fdca26"
             ],
             [
              1,
              "#f0f921"
             ]
            ],
            "type": "histogram2d"
           }
          ],
          "histogram2dcontour": [
           {
            "colorbar": {
             "outlinewidth": 0,
             "ticks": ""
            },
            "colorscale": [
             [
              0,
              "#0d0887"
             ],
             [
              0.1111111111111111,
              "#46039f"
             ],
             [
              0.2222222222222222,
              "#7201a8"
             ],
             [
              0.3333333333333333,
              "#9c179e"
             ],
             [
              0.4444444444444444,
              "#bd3786"
             ],
             [
              0.5555555555555556,
              "#d8576b"
             ],
             [
              0.6666666666666666,
              "#ed7953"
             ],
             [
              0.7777777777777778,
              "#fb9f3a"
             ],
             [
              0.8888888888888888,
              "#fdca26"
             ],
             [
              1,
              "#f0f921"
             ]
            ],
            "type": "histogram2dcontour"
           }
          ],
          "mesh3d": [
           {
            "colorbar": {
             "outlinewidth": 0,
             "ticks": ""
            },
            "type": "mesh3d"
           }
          ],
          "parcoords": [
           {
            "line": {
             "colorbar": {
              "outlinewidth": 0,
              "ticks": ""
             }
            },
            "type": "parcoords"
           }
          ],
          "pie": [
           {
            "automargin": true,
            "type": "pie"
           }
          ],
          "scatter": [
           {
            "fillpattern": {
             "fillmode": "overlay",
             "size": 10,
             "solidity": 0.2
            },
            "type": "scatter"
           }
          ],
          "scatter3d": [
           {
            "line": {
             "colorbar": {
              "outlinewidth": 0,
              "ticks": ""
             }
            },
            "marker": {
             "colorbar": {
              "outlinewidth": 0,
              "ticks": ""
             }
            },
            "type": "scatter3d"
           }
          ],
          "scattercarpet": [
           {
            "marker": {
             "colorbar": {
              "outlinewidth": 0,
              "ticks": ""
             }
            },
            "type": "scattercarpet"
           }
          ],
          "scattergeo": [
           {
            "marker": {
             "colorbar": {
              "outlinewidth": 0,
              "ticks": ""
             }
            },
            "type": "scattergeo"
           }
          ],
          "scattergl": [
           {
            "marker": {
             "colorbar": {
              "outlinewidth": 0,
              "ticks": ""
             }
            },
            "type": "scattergl"
           }
          ],
          "scattermap": [
           {
            "marker": {
             "colorbar": {
              "outlinewidth": 0,
              "ticks": ""
             }
            },
            "type": "scattermap"
           }
          ],
          "scattermapbox": [
           {
            "marker": {
             "colorbar": {
              "outlinewidth": 0,
              "ticks": ""
             }
            },
            "type": "scattermapbox"
           }
          ],
          "scatterpolar": [
           {
            "marker": {
             "colorbar": {
              "outlinewidth": 0,
              "ticks": ""
             }
            },
            "type": "scatterpolar"
           }
          ],
          "scatterpolargl": [
           {
            "marker": {
             "colorbar": {
              "outlinewidth": 0,
              "ticks": ""
             }
            },
            "type": "scatterpolargl"
           }
          ],
          "scatterternary": [
           {
            "marker": {
             "colorbar": {
              "outlinewidth": 0,
              "ticks": ""
             }
            },
            "type": "scatterternary"
           }
          ],
          "surface": [
           {
            "colorbar": {
             "outlinewidth": 0,
             "ticks": ""
            },
            "colorscale": [
             [
              0,
              "#0d0887"
             ],
             [
              0.1111111111111111,
              "#46039f"
             ],
             [
              0.2222222222222222,
              "#7201a8"
             ],
             [
              0.3333333333333333,
              "#9c179e"
             ],
             [
              0.4444444444444444,
              "#bd3786"
             ],
             [
              0.5555555555555556,
              "#d8576b"
             ],
             [
              0.6666666666666666,
              "#ed7953"
             ],
             [
              0.7777777777777778,
              "#fb9f3a"
             ],
             [
              0.8888888888888888,
              "#fdca26"
             ],
             [
              1,
              "#f0f921"
             ]
            ],
            "type": "surface"
           }
          ],
          "table": [
           {
            "cells": {
             "fill": {
              "color": "#EBF0F8"
             },
             "line": {
              "color": "white"
             }
            },
            "header": {
             "fill": {
              "color": "#C8D4E3"
             },
             "line": {
              "color": "white"
             }
            },
            "type": "table"
           }
          ]
         },
         "layout": {
          "annotationdefaults": {
           "arrowcolor": "#2a3f5f",
           "arrowhead": 0,
           "arrowwidth": 1
          },
          "autotypenumbers": "strict",
          "coloraxis": {
           "colorbar": {
            "outlinewidth": 0,
            "ticks": ""
           }
          },
          "colorscale": {
           "diverging": [
            [
             0,
             "#8e0152"
            ],
            [
             0.1,
             "#c51b7d"
            ],
            [
             0.2,
             "#de77ae"
            ],
            [
             0.3,
             "#f1b6da"
            ],
            [
             0.4,
             "#fde0ef"
            ],
            [
             0.5,
             "#f7f7f7"
            ],
            [
             0.6,
             "#e6f5d0"
            ],
            [
             0.7,
             "#b8e186"
            ],
            [
             0.8,
             "#7fbc41"
            ],
            [
             0.9,
             "#4d9221"
            ],
            [
             1,
             "#276419"
            ]
           ],
           "sequential": [
            [
             0,
             "#0d0887"
            ],
            [
             0.1111111111111111,
             "#46039f"
            ],
            [
             0.2222222222222222,
             "#7201a8"
            ],
            [
             0.3333333333333333,
             "#9c179e"
            ],
            [
             0.4444444444444444,
             "#bd3786"
            ],
            [
             0.5555555555555556,
             "#d8576b"
            ],
            [
             0.6666666666666666,
             "#ed7953"
            ],
            [
             0.7777777777777778,
             "#fb9f3a"
            ],
            [
             0.8888888888888888,
             "#fdca26"
            ],
            [
             1,
             "#f0f921"
            ]
           ],
           "sequentialminus": [
            [
             0,
             "#0d0887"
            ],
            [
             0.1111111111111111,
             "#46039f"
            ],
            [
             0.2222222222222222,
             "#7201a8"
            ],
            [
             0.3333333333333333,
             "#9c179e"
            ],
            [
             0.4444444444444444,
             "#bd3786"
            ],
            [
             0.5555555555555556,
             "#d8576b"
            ],
            [
             0.6666666666666666,
             "#ed7953"
            ],
            [
             0.7777777777777778,
             "#fb9f3a"
            ],
            [
             0.8888888888888888,
             "#fdca26"
            ],
            [
             1,
             "#f0f921"
            ]
           ]
          },
          "colorway": [
           "#636efa",
           "#EF553B",
           "#00cc96",
           "#ab63fa",
           "#FFA15A",
           "#19d3f3",
           "#FF6692",
           "#B6E880",
           "#FF97FF",
           "#FECB52"
          ],
          "font": {
           "color": "#2a3f5f"
          },
          "geo": {
           "bgcolor": "white",
           "lakecolor": "white",
           "landcolor": "#E5ECF6",
           "showlakes": true,
           "showland": true,
           "subunitcolor": "white"
          },
          "hoverlabel": {
           "align": "left"
          },
          "hovermode": "closest",
          "mapbox": {
           "style": "light"
          },
          "paper_bgcolor": "white",
          "plot_bgcolor": "#E5ECF6",
          "polar": {
           "angularaxis": {
            "gridcolor": "white",
            "linecolor": "white",
            "ticks": ""
           },
           "bgcolor": "#E5ECF6",
           "radialaxis": {
            "gridcolor": "white",
            "linecolor": "white",
            "ticks": ""
           }
          },
          "scene": {
           "xaxis": {
            "backgroundcolor": "#E5ECF6",
            "gridcolor": "white",
            "gridwidth": 2,
            "linecolor": "white",
            "showbackground": true,
            "ticks": "",
            "zerolinecolor": "white"
           },
           "yaxis": {
            "backgroundcolor": "#E5ECF6",
            "gridcolor": "white",
            "gridwidth": 2,
            "linecolor": "white",
            "showbackground": true,
            "ticks": "",
            "zerolinecolor": "white"
           },
           "zaxis": {
            "backgroundcolor": "#E5ECF6",
            "gridcolor": "white",
            "gridwidth": 2,
            "linecolor": "white",
            "showbackground": true,
            "ticks": "",
            "zerolinecolor": "white"
           }
          },
          "shapedefaults": {
           "line": {
            "color": "#2a3f5f"
           }
          },
          "ternary": {
           "aaxis": {
            "gridcolor": "white",
            "linecolor": "white",
            "ticks": ""
           },
           "baxis": {
            "gridcolor": "white",
            "linecolor": "white",
            "ticks": ""
           },
           "bgcolor": "#E5ECF6",
           "caxis": {
            "gridcolor": "white",
            "linecolor": "white",
            "ticks": ""
           }
          },
          "title": {
           "x": 0.05
          },
          "xaxis": {
           "automargin": true,
           "gridcolor": "white",
           "linecolor": "white",
           "ticks": "",
           "title": {
            "standoff": 15
           },
           "zerolinecolor": "white",
           "zerolinewidth": 2
          },
          "yaxis": {
           "automargin": true,
           "gridcolor": "white",
           "linecolor": "white",
           "ticks": "",
           "title": {
            "standoff": 15
           },
           "zerolinecolor": "white",
           "zerolinewidth": 2
          }
         }
        },
        "xaxis": {
         "anchor": "y",
         "domain": [
          0,
          1
         ],
         "title": {
          "text": "ds"
         }
        },
        "yaxis": {
         "anchor": "x",
         "domain": [
          0,
          1
         ],
         "title": {
          "text": "y"
         }
        }
       }
      }
     },
     "metadata": {},
     "output_type": "display_data"
    }
   ],
   "source": [
    "px.line(final_df, x='ds', y='y')"
   ]
  },
  {
   "cell_type": "markdown",
   "id": "2bc7f90d",
   "metadata": {},
   "source": [
    "### Forecasted Sales"
   ]
  },
  {
   "cell_type": "code",
   "execution_count": 285,
   "id": "a15b9576",
   "metadata": {},
   "outputs": [
    {
     "data": {
      "application/vnd.plotly.v1+json": {
       "config": {
        "plotlyServerURL": "https://plot.ly"
       },
       "data": [
        {
         "hovertemplate": "ds=%{x}<br>yhat=%{y}<extra></extra>",
         "legendgroup": "",
         "line": {
          "color": "#636efa",
          "dash": "solid"
         },
         "marker": {
          "symbol": "circle"
         },
         "mode": "lines",
         "name": "",
         "orientation": "v",
         "showlegend": false,
         "type": "scatter",
         "x": [
          "2021-01-01T00:00:00",
          "2021-01-02T00:00:00",
          "2021-01-03T00:00:00",
          "2021-01-04T00:00:00",
          "2021-01-05T00:00:00",
          "2021-01-06T00:00:00",
          "2021-01-07T00:00:00",
          "2021-01-08T00:00:00",
          "2021-01-09T00:00:00",
          "2021-01-10T00:00:00",
          "2021-01-11T00:00:00",
          "2021-01-12T00:00:00",
          "2021-01-13T00:00:00",
          "2021-01-14T00:00:00",
          "2021-01-15T00:00:00",
          "2021-01-16T00:00:00",
          "2021-01-17T00:00:00",
          "2021-01-18T00:00:00",
          "2021-01-19T00:00:00",
          "2021-01-20T00:00:00",
          "2021-01-21T00:00:00",
          "2021-01-22T00:00:00",
          "2021-01-23T00:00:00",
          "2021-01-24T00:00:00",
          "2021-01-25T00:00:00",
          "2021-01-26T00:00:00",
          "2021-01-27T00:00:00",
          "2021-01-28T00:00:00",
          "2021-01-29T00:00:00",
          "2021-01-30T00:00:00",
          "2021-01-31T00:00:00",
          "2021-02-01T00:00:00",
          "2021-02-02T00:00:00",
          "2021-02-03T00:00:00",
          "2021-02-04T00:00:00",
          "2021-02-05T00:00:00",
          "2021-02-06T00:00:00",
          "2021-02-07T00:00:00",
          "2021-02-08T00:00:00",
          "2021-02-09T00:00:00",
          "2021-02-10T00:00:00",
          "2021-02-11T00:00:00",
          "2021-02-12T00:00:00",
          "2021-02-13T00:00:00",
          "2021-02-14T00:00:00",
          "2021-02-15T00:00:00",
          "2021-02-16T00:00:00",
          "2021-02-17T00:00:00",
          "2021-02-18T00:00:00",
          "2021-02-19T00:00:00",
          "2021-02-20T00:00:00",
          "2021-02-21T00:00:00",
          "2021-02-22T00:00:00",
          "2021-02-23T00:00:00",
          "2021-02-24T00:00:00",
          "2021-02-25T00:00:00",
          "2021-02-26T00:00:00",
          "2021-02-27T00:00:00",
          "2021-02-28T00:00:00",
          "2021-03-01T00:00:00",
          "2021-03-02T00:00:00",
          "2021-03-03T00:00:00",
          "2021-03-04T00:00:00",
          "2021-03-05T00:00:00",
          "2021-03-06T00:00:00",
          "2021-03-07T00:00:00",
          "2021-03-08T00:00:00",
          "2021-03-09T00:00:00",
          "2021-03-10T00:00:00",
          "2021-03-11T00:00:00",
          "2021-03-12T00:00:00",
          "2021-03-13T00:00:00",
          "2021-03-14T00:00:00",
          "2021-03-15T00:00:00",
          "2021-03-16T00:00:00",
          "2021-03-17T00:00:00",
          "2021-03-18T00:00:00",
          "2021-03-19T00:00:00",
          "2021-03-20T00:00:00",
          "2021-03-21T00:00:00",
          "2021-03-22T00:00:00",
          "2021-03-23T00:00:00",
          "2021-03-24T00:00:00",
          "2021-03-25T00:00:00",
          "2021-03-26T00:00:00",
          "2021-03-27T00:00:00",
          "2021-03-28T00:00:00",
          "2021-03-29T00:00:00",
          "2021-03-30T00:00:00",
          "2021-03-31T00:00:00",
          "2021-04-01T00:00:00",
          "2021-04-02T00:00:00",
          "2021-04-03T00:00:00",
          "2021-04-04T00:00:00",
          "2021-04-05T00:00:00",
          "2021-04-06T00:00:00",
          "2021-04-07T00:00:00",
          "2021-04-08T00:00:00",
          "2021-04-09T00:00:00",
          "2021-04-10T00:00:00",
          "2021-04-11T00:00:00",
          "2021-04-12T00:00:00",
          "2021-04-13T00:00:00",
          "2021-04-14T00:00:00",
          "2021-04-15T00:00:00",
          "2021-04-16T00:00:00",
          "2021-04-17T00:00:00",
          "2021-04-18T00:00:00",
          "2021-04-19T00:00:00",
          "2021-04-20T00:00:00",
          "2021-04-21T00:00:00",
          "2021-04-22T00:00:00",
          "2021-04-23T00:00:00",
          "2021-04-24T00:00:00",
          "2021-04-25T00:00:00",
          "2021-04-26T00:00:00",
          "2021-04-27T00:00:00",
          "2021-04-28T00:00:00",
          "2021-04-29T00:00:00",
          "2021-04-30T00:00:00",
          "2021-05-01T00:00:00",
          "2021-05-02T00:00:00",
          "2021-05-03T00:00:00",
          "2021-05-04T00:00:00",
          "2021-05-05T00:00:00",
          "2021-05-06T00:00:00",
          "2021-05-07T00:00:00",
          "2021-05-08T00:00:00",
          "2021-05-09T00:00:00",
          "2021-05-10T00:00:00",
          "2021-05-11T00:00:00",
          "2021-05-12T00:00:00",
          "2021-05-13T00:00:00",
          "2021-05-14T00:00:00",
          "2021-05-15T00:00:00",
          "2021-05-16T00:00:00",
          "2021-05-17T00:00:00",
          "2021-05-18T00:00:00",
          "2021-05-19T00:00:00",
          "2021-05-20T00:00:00",
          "2021-05-21T00:00:00",
          "2021-05-22T00:00:00",
          "2021-05-23T00:00:00",
          "2021-05-24T00:00:00",
          "2021-05-25T00:00:00",
          "2021-05-26T00:00:00",
          "2021-05-27T00:00:00",
          "2021-05-28T00:00:00",
          "2021-05-29T00:00:00",
          "2021-05-30T00:00:00",
          "2021-05-31T00:00:00",
          "2021-06-01T00:00:00",
          "2021-06-02T00:00:00",
          "2021-06-03T00:00:00",
          "2021-06-04T00:00:00",
          "2021-06-05T00:00:00",
          "2021-06-06T00:00:00",
          "2021-06-07T00:00:00",
          "2021-06-08T00:00:00",
          "2021-06-09T00:00:00",
          "2021-06-10T00:00:00",
          "2021-06-11T00:00:00",
          "2021-06-12T00:00:00",
          "2021-06-13T00:00:00",
          "2021-06-14T00:00:00",
          "2021-06-15T00:00:00",
          "2021-06-16T00:00:00",
          "2021-06-17T00:00:00",
          "2021-06-18T00:00:00",
          "2021-06-19T00:00:00",
          "2021-06-20T00:00:00",
          "2021-06-21T00:00:00",
          "2021-06-22T00:00:00",
          "2021-06-23T00:00:00",
          "2021-06-24T00:00:00",
          "2021-06-25T00:00:00",
          "2021-06-26T00:00:00",
          "2021-06-27T00:00:00",
          "2021-06-28T00:00:00",
          "2021-06-29T00:00:00",
          "2021-06-30T00:00:00",
          "2021-07-01T00:00:00",
          "2021-07-02T00:00:00",
          "2021-07-03T00:00:00",
          "2021-07-04T00:00:00",
          "2021-07-05T00:00:00",
          "2021-07-06T00:00:00",
          "2021-07-07T00:00:00",
          "2021-07-08T00:00:00",
          "2021-07-09T00:00:00",
          "2021-07-10T00:00:00",
          "2021-07-11T00:00:00",
          "2021-07-12T00:00:00",
          "2021-07-13T00:00:00",
          "2021-07-14T00:00:00",
          "2021-07-15T00:00:00",
          "2021-07-16T00:00:00",
          "2021-07-17T00:00:00",
          "2021-07-18T00:00:00",
          "2021-07-19T00:00:00",
          "2021-07-20T00:00:00",
          "2021-07-21T00:00:00",
          "2021-07-22T00:00:00",
          "2021-07-23T00:00:00",
          "2021-07-24T00:00:00",
          "2021-07-25T00:00:00",
          "2021-07-26T00:00:00",
          "2021-07-27T00:00:00",
          "2021-07-28T00:00:00",
          "2021-07-29T00:00:00",
          "2021-07-30T00:00:00",
          "2021-07-31T00:00:00",
          "2021-08-01T00:00:00",
          "2021-08-02T00:00:00",
          "2021-08-03T00:00:00",
          "2021-08-04T00:00:00",
          "2021-08-05T00:00:00",
          "2021-08-06T00:00:00",
          "2021-08-07T00:00:00",
          "2021-08-08T00:00:00",
          "2021-08-09T00:00:00",
          "2021-08-10T00:00:00",
          "2021-08-11T00:00:00",
          "2021-08-12T00:00:00",
          "2021-08-13T00:00:00",
          "2021-08-14T00:00:00",
          "2021-08-15T00:00:00",
          "2021-08-16T00:00:00",
          "2021-08-17T00:00:00",
          "2021-08-18T00:00:00",
          "2021-08-19T00:00:00",
          "2021-08-20T00:00:00",
          "2021-08-21T00:00:00",
          "2021-08-22T00:00:00",
          "2021-08-23T00:00:00",
          "2021-08-24T00:00:00",
          "2021-08-25T00:00:00",
          "2021-08-26T00:00:00",
          "2021-08-27T00:00:00",
          "2021-08-28T00:00:00",
          "2021-08-29T00:00:00",
          "2021-08-30T00:00:00",
          "2021-08-31T00:00:00",
          "2021-09-01T00:00:00",
          "2021-09-02T00:00:00",
          "2021-09-03T00:00:00",
          "2021-09-04T00:00:00",
          "2021-09-05T00:00:00",
          "2021-09-06T00:00:00",
          "2021-09-07T00:00:00",
          "2021-09-08T00:00:00",
          "2021-09-09T00:00:00",
          "2021-09-10T00:00:00",
          "2021-09-11T00:00:00",
          "2021-09-12T00:00:00",
          "2021-09-13T00:00:00",
          "2021-09-14T00:00:00",
          "2021-09-15T00:00:00",
          "2021-09-16T00:00:00",
          "2021-09-17T00:00:00",
          "2021-09-18T00:00:00",
          "2021-09-19T00:00:00",
          "2021-09-20T00:00:00",
          "2021-09-21T00:00:00",
          "2021-09-22T00:00:00",
          "2021-09-23T00:00:00",
          "2021-09-24T00:00:00",
          "2021-09-25T00:00:00",
          "2021-09-26T00:00:00",
          "2021-09-27T00:00:00",
          "2021-09-28T00:00:00",
          "2021-09-29T00:00:00",
          "2021-09-30T00:00:00",
          "2021-10-01T00:00:00",
          "2021-10-02T00:00:00",
          "2021-10-03T00:00:00",
          "2021-10-04T00:00:00",
          "2021-10-05T00:00:00",
          "2021-10-06T00:00:00",
          "2021-10-07T00:00:00",
          "2021-10-08T00:00:00",
          "2021-10-09T00:00:00",
          "2021-10-10T00:00:00",
          "2021-10-11T00:00:00",
          "2021-10-12T00:00:00",
          "2021-10-13T00:00:00",
          "2021-10-14T00:00:00",
          "2021-10-15T00:00:00",
          "2021-10-16T00:00:00",
          "2021-10-17T00:00:00",
          "2021-10-18T00:00:00",
          "2021-10-19T00:00:00",
          "2021-10-20T00:00:00",
          "2021-10-21T00:00:00",
          "2021-10-22T00:00:00",
          "2021-10-23T00:00:00",
          "2021-10-24T00:00:00",
          "2021-10-25T00:00:00",
          "2021-10-26T00:00:00",
          "2021-10-27T00:00:00",
          "2021-10-28T00:00:00",
          "2021-10-29T00:00:00",
          "2021-10-30T00:00:00",
          "2021-10-31T00:00:00",
          "2021-11-01T00:00:00",
          "2021-11-02T00:00:00",
          "2021-11-03T00:00:00",
          "2021-11-04T00:00:00",
          "2021-11-05T00:00:00",
          "2021-11-06T00:00:00",
          "2021-11-07T00:00:00",
          "2021-11-08T00:00:00",
          "2021-11-09T00:00:00",
          "2021-11-10T00:00:00",
          "2021-11-11T00:00:00",
          "2021-11-12T00:00:00",
          "2021-11-13T00:00:00",
          "2021-11-14T00:00:00",
          "2021-11-15T00:00:00",
          "2021-11-16T00:00:00",
          "2021-11-17T00:00:00",
          "2021-11-18T00:00:00",
          "2021-11-19T00:00:00",
          "2021-11-20T00:00:00",
          "2021-11-21T00:00:00",
          "2021-11-22T00:00:00",
          "2021-11-23T00:00:00",
          "2021-11-24T00:00:00",
          "2021-11-25T00:00:00",
          "2021-11-26T00:00:00",
          "2021-11-27T00:00:00",
          "2021-11-28T00:00:00",
          "2021-11-29T00:00:00",
          "2021-11-30T00:00:00",
          "2021-12-01T00:00:00",
          "2021-12-02T00:00:00",
          "2021-12-03T00:00:00",
          "2021-12-04T00:00:00",
          "2021-12-05T00:00:00",
          "2021-12-06T00:00:00",
          "2021-12-07T00:00:00",
          "2021-12-08T00:00:00",
          "2021-12-09T00:00:00",
          "2021-12-10T00:00:00",
          "2021-12-11T00:00:00",
          "2021-12-12T00:00:00",
          "2021-12-13T00:00:00",
          "2021-12-14T00:00:00",
          "2021-12-15T00:00:00",
          "2021-12-16T00:00:00",
          "2021-12-17T00:00:00",
          "2021-12-18T00:00:00",
          "2021-12-19T00:00:00",
          "2021-12-20T00:00:00",
          "2021-12-21T00:00:00",
          "2021-12-22T00:00:00",
          "2021-12-23T00:00:00",
          "2021-12-24T00:00:00",
          "2021-12-25T00:00:00",
          "2021-12-26T00:00:00",
          "2021-12-27T00:00:00",
          "2021-12-28T00:00:00",
          "2021-12-29T00:00:00",
          "2021-12-30T00:00:00",
          "2021-12-31T00:00:00",
          "2022-01-01T00:00:00",
          "2022-01-02T00:00:00",
          "2022-01-03T00:00:00",
          "2022-01-04T00:00:00",
          "2022-01-05T00:00:00",
          "2022-01-06T00:00:00",
          "2022-01-07T00:00:00",
          "2022-01-08T00:00:00",
          "2022-01-09T00:00:00",
          "2022-01-10T00:00:00",
          "2022-01-11T00:00:00",
          "2022-01-12T00:00:00",
          "2022-01-13T00:00:00",
          "2022-01-14T00:00:00",
          "2022-01-15T00:00:00",
          "2022-01-16T00:00:00",
          "2022-01-17T00:00:00",
          "2022-01-18T00:00:00",
          "2022-01-19T00:00:00",
          "2022-01-20T00:00:00",
          "2022-01-21T00:00:00",
          "2022-01-22T00:00:00",
          "2022-01-23T00:00:00",
          "2022-01-24T00:00:00",
          "2022-01-25T00:00:00",
          "2022-01-26T00:00:00",
          "2022-01-27T00:00:00",
          "2022-01-28T00:00:00",
          "2022-01-29T00:00:00",
          "2022-01-30T00:00:00",
          "2022-01-31T00:00:00",
          "2022-02-01T00:00:00",
          "2022-02-02T00:00:00",
          "2022-02-03T00:00:00",
          "2022-02-04T00:00:00",
          "2022-02-05T00:00:00",
          "2022-02-06T00:00:00",
          "2022-02-07T00:00:00",
          "2022-02-08T00:00:00",
          "2022-02-09T00:00:00",
          "2022-02-10T00:00:00",
          "2022-02-11T00:00:00",
          "2022-02-12T00:00:00",
          "2022-02-13T00:00:00",
          "2022-02-14T00:00:00",
          "2022-02-15T00:00:00",
          "2022-02-16T00:00:00",
          "2022-02-17T00:00:00",
          "2022-02-18T00:00:00",
          "2022-02-19T00:00:00",
          "2022-02-20T00:00:00",
          "2022-02-21T00:00:00",
          "2022-02-22T00:00:00",
          "2022-02-23T00:00:00",
          "2022-02-24T00:00:00",
          "2022-02-25T00:00:00",
          "2022-02-26T00:00:00",
          "2022-02-27T00:00:00",
          "2022-02-28T00:00:00",
          "2022-03-01T00:00:00",
          "2022-03-02T00:00:00",
          "2022-03-03T00:00:00",
          "2022-03-04T00:00:00",
          "2022-03-05T00:00:00",
          "2022-03-06T00:00:00",
          "2022-03-07T00:00:00",
          "2022-03-08T00:00:00",
          "2022-03-09T00:00:00",
          "2022-03-10T00:00:00",
          "2022-03-11T00:00:00",
          "2022-03-12T00:00:00",
          "2022-03-13T00:00:00",
          "2022-03-14T00:00:00",
          "2022-03-15T00:00:00",
          "2022-03-16T00:00:00",
          "2022-03-17T00:00:00",
          "2022-03-18T00:00:00",
          "2022-03-19T00:00:00",
          "2022-03-20T00:00:00",
          "2022-03-21T00:00:00",
          "2022-03-22T00:00:00",
          "2022-03-23T00:00:00",
          "2022-03-24T00:00:00",
          "2022-03-25T00:00:00",
          "2022-03-26T00:00:00",
          "2022-03-27T00:00:00",
          "2022-03-28T00:00:00",
          "2022-03-29T00:00:00",
          "2022-03-30T00:00:00",
          "2022-03-31T00:00:00",
          "2022-04-01T00:00:00",
          "2022-04-02T00:00:00",
          "2022-04-03T00:00:00",
          "2022-04-04T00:00:00",
          "2022-04-05T00:00:00",
          "2022-04-06T00:00:00",
          "2022-04-07T00:00:00",
          "2022-04-08T00:00:00",
          "2022-04-09T00:00:00",
          "2022-04-10T00:00:00",
          "2022-04-11T00:00:00",
          "2022-04-12T00:00:00",
          "2022-04-13T00:00:00",
          "2022-04-14T00:00:00",
          "2022-04-15T00:00:00",
          "2022-04-16T00:00:00",
          "2022-04-17T00:00:00",
          "2022-04-18T00:00:00",
          "2022-04-19T00:00:00",
          "2022-04-20T00:00:00",
          "2022-04-21T00:00:00",
          "2022-04-22T00:00:00",
          "2022-04-23T00:00:00",
          "2022-04-24T00:00:00",
          "2022-04-25T00:00:00",
          "2022-04-26T00:00:00",
          "2022-04-27T00:00:00",
          "2022-04-28T00:00:00",
          "2022-04-29T00:00:00",
          "2022-04-30T00:00:00",
          "2022-05-01T00:00:00",
          "2022-05-02T00:00:00",
          "2022-05-03T00:00:00",
          "2022-05-04T00:00:00",
          "2022-05-05T00:00:00",
          "2022-05-06T00:00:00",
          "2022-05-07T00:00:00",
          "2022-05-08T00:00:00",
          "2022-05-09T00:00:00",
          "2022-05-10T00:00:00",
          "2022-05-11T00:00:00",
          "2022-05-12T00:00:00",
          "2022-05-13T00:00:00",
          "2022-05-14T00:00:00",
          "2022-05-15T00:00:00",
          "2022-05-16T00:00:00",
          "2022-05-17T00:00:00",
          "2022-05-18T00:00:00",
          "2022-05-19T00:00:00",
          "2022-05-20T00:00:00",
          "2022-05-21T00:00:00",
          "2022-05-22T00:00:00",
          "2022-05-23T00:00:00",
          "2022-05-24T00:00:00",
          "2022-05-25T00:00:00",
          "2022-05-26T00:00:00",
          "2022-05-27T00:00:00",
          "2022-05-28T00:00:00",
          "2022-05-29T00:00:00",
          "2022-05-30T00:00:00",
          "2022-05-31T00:00:00",
          "2022-06-01T00:00:00",
          "2022-06-02T00:00:00",
          "2022-06-03T00:00:00",
          "2022-06-04T00:00:00",
          "2022-06-05T00:00:00",
          "2022-06-06T00:00:00",
          "2022-06-07T00:00:00",
          "2022-06-08T00:00:00",
          "2022-06-09T00:00:00",
          "2022-06-10T00:00:00",
          "2022-06-11T00:00:00",
          "2022-06-12T00:00:00",
          "2022-06-13T00:00:00",
          "2022-06-14T00:00:00",
          "2022-06-15T00:00:00",
          "2022-06-16T00:00:00",
          "2022-06-17T00:00:00",
          "2022-06-18T00:00:00",
          "2022-06-19T00:00:00",
          "2022-06-20T00:00:00",
          "2022-06-21T00:00:00",
          "2022-06-22T00:00:00",
          "2022-06-23T00:00:00",
          "2022-06-24T00:00:00",
          "2022-06-25T00:00:00",
          "2022-06-26T00:00:00",
          "2022-06-27T00:00:00",
          "2022-06-28T00:00:00",
          "2022-06-29T00:00:00",
          "2022-06-30T00:00:00",
          "2022-07-01T00:00:00",
          "2022-07-02T00:00:00",
          "2022-07-03T00:00:00",
          "2022-07-04T00:00:00",
          "2022-07-05T00:00:00",
          "2022-07-06T00:00:00",
          "2022-07-07T00:00:00",
          "2022-07-08T00:00:00",
          "2022-07-09T00:00:00",
          "2022-07-10T00:00:00",
          "2022-07-11T00:00:00",
          "2022-07-12T00:00:00",
          "2022-07-13T00:00:00",
          "2022-07-14T00:00:00",
          "2022-07-15T00:00:00",
          "2022-07-16T00:00:00",
          "2022-07-17T00:00:00",
          "2022-07-18T00:00:00",
          "2022-07-19T00:00:00",
          "2022-07-20T00:00:00",
          "2022-07-21T00:00:00",
          "2022-07-22T00:00:00",
          "2022-07-23T00:00:00",
          "2022-07-24T00:00:00",
          "2022-07-25T00:00:00",
          "2022-07-26T00:00:00",
          "2022-07-27T00:00:00",
          "2022-07-28T00:00:00",
          "2022-07-29T00:00:00",
          "2022-07-30T00:00:00",
          "2022-07-31T00:00:00",
          "2022-08-01T00:00:00",
          "2022-08-02T00:00:00",
          "2022-08-03T00:00:00",
          "2022-08-04T00:00:00",
          "2022-08-05T00:00:00",
          "2022-08-06T00:00:00",
          "2022-08-07T00:00:00",
          "2022-08-08T00:00:00",
          "2022-08-09T00:00:00",
          "2022-08-10T00:00:00",
          "2022-08-11T00:00:00",
          "2022-08-12T00:00:00",
          "2022-08-13T00:00:00",
          "2022-08-14T00:00:00",
          "2022-08-15T00:00:00",
          "2022-08-16T00:00:00",
          "2022-08-17T00:00:00",
          "2022-08-18T00:00:00",
          "2022-08-19T00:00:00",
          "2022-08-20T00:00:00",
          "2022-08-21T00:00:00",
          "2022-08-22T00:00:00",
          "2022-08-23T00:00:00",
          "2022-08-24T00:00:00",
          "2022-08-25T00:00:00",
          "2022-08-26T00:00:00",
          "2022-08-27T00:00:00",
          "2022-08-28T00:00:00",
          "2022-08-29T00:00:00",
          "2022-08-30T00:00:00",
          "2022-08-31T00:00:00",
          "2022-09-01T00:00:00",
          "2022-09-02T00:00:00",
          "2022-09-03T00:00:00",
          "2022-09-04T00:00:00",
          "2022-09-05T00:00:00",
          "2022-09-06T00:00:00",
          "2022-09-07T00:00:00",
          "2022-09-08T00:00:00",
          "2022-09-09T00:00:00",
          "2022-09-10T00:00:00",
          "2022-09-11T00:00:00",
          "2022-09-12T00:00:00",
          "2022-09-13T00:00:00",
          "2022-09-14T00:00:00",
          "2022-09-15T00:00:00",
          "2022-09-16T00:00:00",
          "2022-09-17T00:00:00",
          "2022-09-18T00:00:00",
          "2022-09-19T00:00:00",
          "2022-09-20T00:00:00",
          "2022-09-21T00:00:00",
          "2022-09-22T00:00:00",
          "2022-09-23T00:00:00",
          "2022-09-24T00:00:00",
          "2022-09-25T00:00:00",
          "2022-09-26T00:00:00",
          "2022-09-27T00:00:00",
          "2022-09-28T00:00:00",
          "2022-09-29T00:00:00",
          "2022-09-30T00:00:00"
         ],
         "xaxis": "x",
         "y": {
          "bdata": "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",
          "dtype": "f8"
         },
         "yaxis": "y"
        }
       ],
       "layout": {
        "legend": {
         "tracegroupgap": 0
        },
        "margin": {
         "t": 60
        },
        "template": {
         "data": {
          "bar": [
           {
            "error_x": {
             "color": "#2a3f5f"
            },
            "error_y": {
             "color": "#2a3f5f"
            },
            "marker": {
             "line": {
              "color": "#E5ECF6",
              "width": 0.5
             },
             "pattern": {
              "fillmode": "overlay",
              "size": 10,
              "solidity": 0.2
             }
            },
            "type": "bar"
           }
          ],
          "barpolar": [
           {
            "marker": {
             "line": {
              "color": "#E5ECF6",
              "width": 0.5
             },
             "pattern": {
              "fillmode": "overlay",
              "size": 10,
              "solidity": 0.2
             }
            },
            "type": "barpolar"
           }
          ],
          "carpet": [
           {
            "aaxis": {
             "endlinecolor": "#2a3f5f",
             "gridcolor": "white",
             "linecolor": "white",
             "minorgridcolor": "white",
             "startlinecolor": "#2a3f5f"
            },
            "baxis": {
             "endlinecolor": "#2a3f5f",
             "gridcolor": "white",
             "linecolor": "white",
             "minorgridcolor": "white",
             "startlinecolor": "#2a3f5f"
            },
            "type": "carpet"
           }
          ],
          "choropleth": [
           {
            "colorbar": {
             "outlinewidth": 0,
             "ticks": ""
            },
            "type": "choropleth"
           }
          ],
          "contour": [
           {
            "colorbar": {
             "outlinewidth": 0,
             "ticks": ""
            },
            "colorscale": [
             [
              0,
              "#0d0887"
             ],
             [
              0.1111111111111111,
              "#46039f"
             ],
             [
              0.2222222222222222,
              "#7201a8"
             ],
             [
              0.3333333333333333,
              "#9c179e"
             ],
             [
              0.4444444444444444,
              "#bd3786"
             ],
             [
              0.5555555555555556,
              "#d8576b"
             ],
             [
              0.6666666666666666,
              "#ed7953"
             ],
             [
              0.7777777777777778,
              "#fb9f3a"
             ],
             [
              0.8888888888888888,
              "#fdca26"
             ],
             [
              1,
              "#f0f921"
             ]
            ],
            "type": "contour"
           }
          ],
          "contourcarpet": [
           {
            "colorbar": {
             "outlinewidth": 0,
             "ticks": ""
            },
            "type": "contourcarpet"
           }
          ],
          "heatmap": [
           {
            "colorbar": {
             "outlinewidth": 0,
             "ticks": ""
            },
            "colorscale": [
             [
              0,
              "#0d0887"
             ],
             [
              0.1111111111111111,
              "#46039f"
             ],
             [
              0.2222222222222222,
              "#7201a8"
             ],
             [
              0.3333333333333333,
              "#9c179e"
             ],
             [
              0.4444444444444444,
              "#bd3786"
             ],
             [
              0.5555555555555556,
              "#d8576b"
             ],
             [
              0.6666666666666666,
              "#ed7953"
             ],
             [
              0.7777777777777778,
              "#fb9f3a"
             ],
             [
              0.8888888888888888,
              "#fdca26"
             ],
             [
              1,
              "#f0f921"
             ]
            ],
            "type": "heatmap"
           }
          ],
          "histogram": [
           {
            "marker": {
             "pattern": {
              "fillmode": "overlay",
              "size": 10,
              "solidity": 0.2
             }
            },
            "type": "histogram"
           }
          ],
          "histogram2d": [
           {
            "colorbar": {
             "outlinewidth": 0,
             "ticks": ""
            },
            "colorscale": [
             [
              0,
              "#0d0887"
             ],
             [
              0.1111111111111111,
              "#46039f"
             ],
             [
              0.2222222222222222,
              "#7201a8"
             ],
             [
              0.3333333333333333,
              "#9c179e"
             ],
             [
              0.4444444444444444,
              "#bd3786"
             ],
             [
              0.5555555555555556,
              "#d8576b"
             ],
             [
              0.6666666666666666,
              "#ed7953"
             ],
             [
              0.7777777777777778,
              "#fb9f3a"
             ],
             [
              0.8888888888888888,
              "#fdca26"
             ],
             [
              1,
              "#f0f921"
             ]
            ],
            "type": "histogram2d"
           }
          ],
          "histogram2dcontour": [
           {
            "colorbar": {
             "outlinewidth": 0,
             "ticks": ""
            },
            "colorscale": [
             [
              0,
              "#0d0887"
             ],
             [
              0.1111111111111111,
              "#46039f"
             ],
             [
              0.2222222222222222,
              "#7201a8"
             ],
             [
              0.3333333333333333,
              "#9c179e"
             ],
             [
              0.4444444444444444,
              "#bd3786"
             ],
             [
              0.5555555555555556,
              "#d8576b"
             ],
             [
              0.6666666666666666,
              "#ed7953"
             ],
             [
              0.7777777777777778,
              "#fb9f3a"
             ],
             [
              0.8888888888888888,
              "#fdca26"
             ],
             [
              1,
              "#f0f921"
             ]
            ],
            "type": "histogram2dcontour"
           }
          ],
          "mesh3d": [
           {
            "colorbar": {
             "outlinewidth": 0,
             "ticks": ""
            },
            "type": "mesh3d"
           }
          ],
          "parcoords": [
           {
            "line": {
             "colorbar": {
              "outlinewidth": 0,
              "ticks": ""
             }
            },
            "type": "parcoords"
           }
          ],
          "pie": [
           {
            "automargin": true,
            "type": "pie"
           }
          ],
          "scatter": [
           {
            "fillpattern": {
             "fillmode": "overlay",
             "size": 10,
             "solidity": 0.2
            },
            "type": "scatter"
           }
          ],
          "scatter3d": [
           {
            "line": {
             "colorbar": {
              "outlinewidth": 0,
              "ticks": ""
             }
            },
            "marker": {
             "colorbar": {
              "outlinewidth": 0,
              "ticks": ""
             }
            },
            "type": "scatter3d"
           }
          ],
          "scattercarpet": [
           {
            "marker": {
             "colorbar": {
              "outlinewidth": 0,
              "ticks": ""
             }
            },
            "type": "scattercarpet"
           }
          ],
          "scattergeo": [
           {
            "marker": {
             "colorbar": {
              "outlinewidth": 0,
              "ticks": ""
             }
            },
            "type": "scattergeo"
           }
          ],
          "scattergl": [
           {
            "marker": {
             "colorbar": {
              "outlinewidth": 0,
              "ticks": ""
             }
            },
            "type": "scattergl"
           }
          ],
          "scattermap": [
           {
            "marker": {
             "colorbar": {
              "outlinewidth": 0,
              "ticks": ""
             }
            },
            "type": "scattermap"
           }
          ],
          "scattermapbox": [
           {
            "marker": {
             "colorbar": {
              "outlinewidth": 0,
              "ticks": ""
             }
            },
            "type": "scattermapbox"
           }
          ],
          "scatterpolar": [
           {
            "marker": {
             "colorbar": {
              "outlinewidth": 0,
              "ticks": ""
             }
            },
            "type": "scatterpolar"
           }
          ],
          "scatterpolargl": [
           {
            "marker": {
             "colorbar": {
              "outlinewidth": 0,
              "ticks": ""
             }
            },
            "type": "scatterpolargl"
           }
          ],
          "scatterternary": [
           {
            "marker": {
             "colorbar": {
              "outlinewidth": 0,
              "ticks": ""
             }
            },
            "type": "scatterternary"
           }
          ],
          "surface": [
           {
            "colorbar": {
             "outlinewidth": 0,
             "ticks": ""
            },
            "colorscale": [
             [
              0,
              "#0d0887"
             ],
             [
              0.1111111111111111,
              "#46039f"
             ],
             [
              0.2222222222222222,
              "#7201a8"
             ],
             [
              0.3333333333333333,
              "#9c179e"
             ],
             [
              0.4444444444444444,
              "#bd3786"
             ],
             [
              0.5555555555555556,
              "#d8576b"
             ],
             [
              0.6666666666666666,
              "#ed7953"
             ],
             [
              0.7777777777777778,
              "#fb9f3a"
             ],
             [
              0.8888888888888888,
              "#fdca26"
             ],
             [
              1,
              "#f0f921"
             ]
            ],
            "type": "surface"
           }
          ],
          "table": [
           {
            "cells": {
             "fill": {
              "color": "#EBF0F8"
             },
             "line": {
              "color": "white"
             }
            },
            "header": {
             "fill": {
              "color": "#C8D4E3"
             },
             "line": {
              "color": "white"
             }
            },
            "type": "table"
           }
          ]
         },
         "layout": {
          "annotationdefaults": {
           "arrowcolor": "#2a3f5f",
           "arrowhead": 0,
           "arrowwidth": 1
          },
          "autotypenumbers": "strict",
          "coloraxis": {
           "colorbar": {
            "outlinewidth": 0,
            "ticks": ""
           }
          },
          "colorscale": {
           "diverging": [
            [
             0,
             "#8e0152"
            ],
            [
             0.1,
             "#c51b7d"
            ],
            [
             0.2,
             "#de77ae"
            ],
            [
             0.3,
             "#f1b6da"
            ],
            [
             0.4,
             "#fde0ef"
            ],
            [
             0.5,
             "#f7f7f7"
            ],
            [
             0.6,
             "#e6f5d0"
            ],
            [
             0.7,
             "#b8e186"
            ],
            [
             0.8,
             "#7fbc41"
            ],
            [
             0.9,
             "#4d9221"
            ],
            [
             1,
             "#276419"
            ]
           ],
           "sequential": [
            [
             0,
             "#0d0887"
            ],
            [
             0.1111111111111111,
             "#46039f"
            ],
            [
             0.2222222222222222,
             "#7201a8"
            ],
            [
             0.3333333333333333,
             "#9c179e"
            ],
            [
             0.4444444444444444,
             "#bd3786"
            ],
            [
             0.5555555555555556,
             "#d8576b"
            ],
            [
             0.6666666666666666,
             "#ed7953"
            ],
            [
             0.7777777777777778,
             "#fb9f3a"
            ],
            [
             0.8888888888888888,
             "#fdca26"
            ],
            [
             1,
             "#f0f921"
            ]
           ],
           "sequentialminus": [
            [
             0,
             "#0d0887"
            ],
            [
             0.1111111111111111,
             "#46039f"
            ],
            [
             0.2222222222222222,
             "#7201a8"
            ],
            [
             0.3333333333333333,
             "#9c179e"
            ],
            [
             0.4444444444444444,
             "#bd3786"
            ],
            [
             0.5555555555555556,
             "#d8576b"
            ],
            [
             0.6666666666666666,
             "#ed7953"
            ],
            [
             0.7777777777777778,
             "#fb9f3a"
            ],
            [
             0.8888888888888888,
             "#fdca26"
            ],
            [
             1,
             "#f0f921"
            ]
           ]
          },
          "colorway": [
           "#636efa",
           "#EF553B",
           "#00cc96",
           "#ab63fa",
           "#FFA15A",
           "#19d3f3",
           "#FF6692",
           "#B6E880",
           "#FF97FF",
           "#FECB52"
          ],
          "font": {
           "color": "#2a3f5f"
          },
          "geo": {
           "bgcolor": "white",
           "lakecolor": "white",
           "landcolor": "#E5ECF6",
           "showlakes": true,
           "showland": true,
           "subunitcolor": "white"
          },
          "hoverlabel": {
           "align": "left"
          },
          "hovermode": "closest",
          "mapbox": {
           "style": "light"
          },
          "paper_bgcolor": "white",
          "plot_bgcolor": "#E5ECF6",
          "polar": {
           "angularaxis": {
            "gridcolor": "white",
            "linecolor": "white",
            "ticks": ""
           },
           "bgcolor": "#E5ECF6",
           "radialaxis": {
            "gridcolor": "white",
            "linecolor": "white",
            "ticks": ""
           }
          },
          "scene": {
           "xaxis": {
            "backgroundcolor": "#E5ECF6",
            "gridcolor": "white",
            "gridwidth": 2,
            "linecolor": "white",
            "showbackground": true,
            "ticks": "",
            "zerolinecolor": "white"
           },
           "yaxis": {
            "backgroundcolor": "#E5ECF6",
            "gridcolor": "white",
            "gridwidth": 2,
            "linecolor": "white",
            "showbackground": true,
            "ticks": "",
            "zerolinecolor": "white"
           },
           "zaxis": {
            "backgroundcolor": "#E5ECF6",
            "gridcolor": "white",
            "gridwidth": 2,
            "linecolor": "white",
            "showbackground": true,
            "ticks": "",
            "zerolinecolor": "white"
           }
          },
          "shapedefaults": {
           "line": {
            "color": "#2a3f5f"
           }
          },
          "ternary": {
           "aaxis": {
            "gridcolor": "white",
            "linecolor": "white",
            "ticks": ""
           },
           "baxis": {
            "gridcolor": "white",
            "linecolor": "white",
            "ticks": ""
           },
           "bgcolor": "#E5ECF6",
           "caxis": {
            "gridcolor": "white",
            "linecolor": "white",
            "ticks": ""
           }
          },
          "title": {
           "x": 0.05
          },
          "xaxis": {
           "automargin": true,
           "gridcolor": "white",
           "linecolor": "white",
           "ticks": "",
           "title": {
            "standoff": 15
           },
           "zerolinecolor": "white",
           "zerolinewidth": 2
          },
          "yaxis": {
           "automargin": true,
           "gridcolor": "white",
           "linecolor": "white",
           "ticks": "",
           "title": {
            "standoff": 15
           },
           "zerolinecolor": "white",
           "zerolinewidth": 2
          }
         }
        },
        "xaxis": {
         "anchor": "y",
         "domain": [
          0,
          1
         ],
         "title": {
          "text": "ds"
         }
        },
        "yaxis": {
         "anchor": "x",
         "domain": [
          0,
          1
         ],
         "title": {
          "text": "yhat"
         }
        }
       }
      }
     },
     "metadata": {},
     "output_type": "display_data"
    }
   ],
   "source": [
    "px.line(forecast[:-forecast_days], x='ds', y='yhat')"
   ]
  },
  {
   "cell_type": "markdown",
   "id": "3d01c8de",
   "metadata": {},
   "source": [
    "Another visualization of Actual vs Forecasted Data"
   ]
  },
  {
   "cell_type": "code",
   "execution_count": 286,
   "id": "1e6dd82f",
   "metadata": {},
   "outputs": [
    {
     "data": {
      "image/png": "[encoded data removed]",
      "text/plain": [
       "<Figure size 1000x600 with 1 Axes>"
      ]
     },
     "metadata": {},
     "output_type": "display_data"
    }
   ],
   "source": [
    "figure = prophet.plot(forecast, xlabel ='ds',ylabel='yhat')"
   ]
  },
  {
   "cell_type": "markdown",
   "id": "6a4dbd4a",
   "metadata": {},
   "source": [
    "### Components Plot that shows seasonalities"
   ]
  },
  {
   "cell_type": "code",
   "execution_count": 287,
   "id": "cbbc67b4",
   "metadata": {},
   "outputs": [
    {
     "data": {
      "application/vnd.plotly.v1+json": {
       "config": {
        "plotlyServerURL": "https://plot.ly"
       },
       "data": [
        {
         "line": {
          "color": "#0072B2",
          "width": 2
         },
         "mode": "lines",
         "name": "trend",
         "type": "scatter",
         "x": [
          "2021-01-01T00:00:00.000000000",
          "2021-01-02T00:00:00.000000000",
          "2021-01-03T00:00:00.000000000",
          "2021-01-04T00:00:00.000000000",
          "2021-01-05T00:00:00.000000000",
          "2021-01-06T00:00:00.000000000",
          "2021-01-07T00:00:00.000000000",
          "2021-01-08T00:00:00.000000000",
          "2021-01-09T00:00:00.000000000",
          "2021-01-10T00:00:00.000000000",
          "2021-01-11T00:00:00.000000000",
          "2021-01-12T00:00:00.000000000",
          "2021-01-13T00:00:00.000000000",
          "2021-01-14T00:00:00.000000000",
          "2021-01-15T00:00:00.000000000",
          "2021-01-16T00:00:00.000000000",
          "2021-01-17T00:00:00.000000000",
          "2021-01-18T00:00:00.000000000",
          "2021-01-19T00:00:00.000000000",
          "2021-01-20T00:00:00.000000000",
          "2021-01-21T00:00:00.000000000",
          "2021-01-22T00:00:00.000000000",
          "2021-01-23T00:00:00.000000000",
          "2021-01-24T00:00:00.000000000",
          "2021-01-25T00:00:00.000000000",
          "2021-01-26T00:00:00.000000000",
          "2021-01-27T00:00:00.000000000",
          "2021-01-28T00:00:00.000000000",
          "2021-01-29T00:00:00.000000000",
          "2021-01-30T00:00:00.000000000",
          "2021-01-31T00:00:00.000000000",
          "2021-02-01T00:00:00.000000000",
          "2021-02-02T00:00:00.000000000",
          "2021-02-03T00:00:00.000000000",
          "2021-02-04T00:00:00.000000000",
          "2021-02-05T00:00:00.000000000",
          "2021-02-06T00:00:00.000000000",
          "2021-02-07T00:00:00.000000000",
          "2021-02-08T00:00:00.000000000",
          "2021-02-09T00:00:00.000000000",
          "2021-02-10T00:00:00.000000000",
          "2021-02-11T00:00:00.000000000",
          "2021-02-12T00:00:00.000000000",
          "2021-02-13T00:00:00.000000000",
          "2021-02-14T00:00:00.000000000",
          "2021-02-15T00:00:00.000000000",
          "2021-02-16T00:00:00.000000000",
          "2021-02-17T00:00:00.000000000",
          "2021-02-18T00:00:00.000000000",
          "2021-02-19T00:00:00.000000000",
          "2021-02-20T00:00:00.000000000",
          "2021-02-21T00:00:00.000000000",
          "2021-02-22T00:00:00.000000000",
          "2021-02-23T00:00:00.000000000",
          "2021-02-24T00:00:00.000000000",
          "2021-02-25T00:00:00.000000000",
          "2021-02-26T00:00:00.000000000",
          "2021-02-27T00:00:00.000000000",
          "2021-02-28T00:00:00.000000000",
          "2021-03-01T00:00:00.000000000",
          "2021-03-02T00:00:00.000000000",
          "2021-03-03T00:00:00.000000000",
          "2021-03-04T00:00:00.000000000",
          "2021-03-05T00:00:00.000000000",
          "2021-03-06T00:00:00.000000000",
          "2021-03-07T00:00:00.000000000",
          "2021-03-08T00:00:00.000000000",
          "2021-03-09T00:00:00.000000000",
          "2021-03-10T00:00:00.000000000",
          "2021-03-11T00:00:00.000000000",
          "2021-03-12T00:00:00.000000000",
          "2021-03-13T00:00:00.000000000",
          "2021-03-14T00:00:00.000000000",
          "2021-03-15T00:00:00.000000000",
          "2021-03-16T00:00:00.000000000",
          "2021-03-17T00:00:00.000000000",
          "2021-03-18T00:00:00.000000000",
          "2021-03-19T00:00:00.000000000",
          "2021-03-20T00:00:00.000000000",
          "2021-03-21T00:00:00.000000000",
          "2021-03-22T00:00:00.000000000",
          "2021-03-23T00:00:00.000000000",
          "2021-03-24T00:00:00.000000000",
          "2021-03-25T00:00:00.000000000",
          "2021-03-26T00:00:00.000000000",
          "2021-03-27T00:00:00.000000000",
          "2021-03-28T00:00:00.000000000",
          "2021-03-29T00:00:00.000000000",
          "2021-03-30T00:00:00.000000000",
          "2021-03-31T00:00:00.000000000",
          "2021-04-01T00:00:00.000000000",
          "2021-04-02T00:00:00.000000000",
          "2021-04-03T00:00:00.000000000",
          "2021-04-04T00:00:00.000000000",
          "2021-04-05T00:00:00.000000000",
          "2021-04-06T00:00:00.000000000",
          "2021-04-07T00:00:00.000000000",
          "2021-04-08T00:00:00.000000000",
          "2021-04-09T00:00:00.000000000",
          "2021-04-10T00:00:00.000000000",
          "2021-04-11T00:00:00.000000000",
          "2021-04-12T00:00:00.000000000",
          "2021-04-13T00:00:00.000000000",
          "2021-04-14T00:00:00.000000000",
          "2021-04-15T00:00:00.000000000",
          "2021-04-16T00:00:00.000000000",
          "2021-04-17T00:00:00.000000000",
          "2021-04-18T00:00:00.000000000",
          "2021-04-19T00:00:00.000000000",
          "2021-04-20T00:00:00.000000000",
          "2021-04-21T00:00:00.000000000",
          "2021-04-22T00:00:00.000000000",
          "2021-04-23T00:00:00.000000000",
          "2021-04-24T00:00:00.000000000",
          "2021-04-25T00:00:00.000000000",
          "2021-04-26T00:00:00.000000000",
          "2021-04-27T00:00:00.000000000",
          "2021-04-28T00:00:00.000000000",
          "2021-04-29T00:00:00.000000000",
          "2021-04-30T00:00:00.000000000",
          "2021-05-01T00:00:00.000000000",
          "2021-05-02T00:00:00.000000000",
          "2021-05-03T00:00:00.000000000",
          "2021-05-04T00:00:00.000000000",
          "2021-05-05T00:00:00.000000000",
          "2021-05-06T00:00:00.000000000",
          "2021-05-07T00:00:00.000000000",
          "2021-05-08T00:00:00.000000000",
          "2021-05-09T00:00:00.000000000",
          "2021-05-10T00:00:00.000000000",
          "2021-05-11T00:00:00.000000000",
          "2021-05-12T00:00:00.000000000",
          "2021-05-13T00:00:00.000000000",
          "2021-05-14T00:00:00.000000000",
          "2021-05-15T00:00:00.000000000",
          "2021-05-16T00:00:00.000000000",
          "2021-05-17T00:00:00.000000000",
          "2021-05-18T00:00:00.000000000",
          "2021-05-19T00:00:00.000000000",
          "2021-05-20T00:00:00.000000000",
          "2021-05-21T00:00:00.000000000",
          "2021-05-22T00:00:00.000000000",
          "2021-05-23T00:00:00.000000000",
          "2021-05-24T00:00:00.000000000",
          "2021-05-25T00:00:00.000000000",
          "2021-05-26T00:00:00.000000000",
          "2021-05-27T00:00:00.000000000",
          "2021-05-28T00:00:00.000000000",
          "2021-05-29T00:00:00.000000000",
          "2021-05-30T00:00:00.000000000",
          "2021-05-31T00:00:00.000000000",
          "2021-06-01T00:00:00.000000000",
          "2021-06-02T00:00:00.000000000",
          "2021-06-03T00:00:00.000000000",
          "2021-06-04T00:00:00.000000000",
          "2021-06-05T00:00:00.000000000",
          "2021-06-06T00:00:00.000000000",
          "2021-06-07T00:00:00.000000000",
          "2021-06-08T00:00:00.000000000",
          "2021-06-09T00:00:00.000000000",
          "2021-06-10T00:00:00.000000000",
          "2021-06-11T00:00:00.000000000",
          "2021-06-12T00:00:00.000000000",
          "2021-06-13T00:00:00.000000000",
          "2021-06-14T00:00:00.000000000",
          "2021-06-15T00:00:00.000000000",
          "2021-06-16T00:00:00.000000000",
          "2021-06-17T00:00:00.000000000",
          "2021-06-18T00:00:00.000000000",
          "2021-06-19T00:00:00.000000000",
          "2021-06-20T00:00:00.000000000",
          "2021-06-21T00:00:00.000000000",
          "2021-06-22T00:00:00.000000000",
          "2021-06-23T00:00:00.000000000",
          "2021-06-24T00:00:00.000000000",
          "2021-06-25T00:00:00.000000000",
          "2021-06-26T00:00:00.000000000",
          "2021-06-27T00:00:00.000000000",
          "2021-06-28T00:00:00.000000000",
          "2021-06-29T00:00:00.000000000",
          "2021-06-30T00:00:00.000000000",
          "2021-07-01T00:00:00.000000000",
          "2021-07-02T00:00:00.000000000",
          "2021-07-03T00:00:00.000000000",
          "2021-07-04T00:00:00.000000000",
          "2021-07-05T00:00:00.000000000",
          "2021-07-06T00:00:00.000000000",
          "2021-07-07T00:00:00.000000000",
          "2021-07-08T00:00:00.000000000",
          "2021-07-09T00:00:00.000000000",
          "2021-07-10T00:00:00.000000000",
          "2021-07-11T00:00:00.000000000",
          "2021-07-12T00:00:00.000000000",
          "2021-07-13T00:00:00.000000000",
          "2021-07-14T00:00:00.000000000",
          "2021-07-15T00:00:00.000000000",
          "2021-07-16T00:00:00.000000000",
          "2021-07-17T00:00:00.000000000",
          "2021-07-18T00:00:00.000000000",
          "2021-07-19T00:00:00.000000000",
          "2021-07-20T00:00:00.000000000",
          "2021-07-21T00:00:00.000000000",
          "2021-07-22T00:00:00.000000000",
          "2021-07-23T00:00:00.000000000",
          "2021-07-24T00:00:00.000000000",
          "2021-07-25T00:00:00.000000000",
          "2021-07-26T00:00:00.000000000",
          "2021-07-27T00:00:00.000000000",
          "2021-07-28T00:00:00.000000000",
          "2021-07-29T00:00:00.000000000",
          "2021-07-30T00:00:00.000000000",
          "2021-07-31T00:00:00.000000000",
          "2021-08-01T00:00:00.000000000",
          "2021-08-02T00:00:00.000000000",
          "2021-08-03T00:00:00.000000000",
          "2021-08-04T00:00:00.000000000",
          "2021-08-05T00:00:00.000000000",
          "2021-08-06T00:00:00.000000000",
          "2021-08-07T00:00:00.000000000",
          "2021-08-08T00:00:00.000000000",
          "2021-08-09T00:00:00.000000000",
          "2021-08-10T00:00:00.000000000",
          "2021-08-11T00:00:00.000000000",
          "2021-08-12T00:00:00.000000000",
          "2021-08-13T00:00:00.000000000",
          "2021-08-14T00:00:00.000000000",
          "2021-08-15T00:00:00.000000000",
          "2021-08-16T00:00:00.000000000",
          "2021-08-17T00:00:00.000000000",
          "2021-08-18T00:00:00.000000000",
          "2021-08-19T00:00:00.000000000",
          "2021-08-20T00:00:00.000000000",
          "2021-08-21T00:00:00.000000000",
          "2021-08-22T00:00:00.000000000",
          "2021-08-23T00:00:00.000000000",
          "2021-08-24T00:00:00.000000000",
          "2021-08-25T00:00:00.000000000",
          "2021-08-26T00:00:00.000000000",
          "2021-08-27T00:00:00.000000000",
          "2021-08-28T00:00:00.000000000",
          "2021-08-29T00:00:00.000000000",
          "2021-08-30T00:00:00.000000000",
          "2021-08-31T00:00:00.000000000",
          "2021-09-01T00:00:00.000000000",
          "2021-09-02T00:00:00.000000000",
          "2021-09-03T00:00:00.000000000",
          "2021-09-04T00:00:00.000000000",
          "2021-09-05T00:00:00.000000000",
          "2021-09-06T00:00:00.000000000",
          "2021-09-07T00:00:00.000000000",
          "2021-09-08T00:00:00.000000000",
          "2021-09-09T00:00:00.000000000",
          "2021-09-10T00:00:00.000000000",
          "2021-09-11T00:00:00.000000000",
          "2021-09-12T00:00:00.000000000",
          "2021-09-13T00:00:00.000000000",
          "2021-09-14T00:00:00.000000000",
          "2021-09-15T00:00:00.000000000",
          "2021-09-16T00:00:00.000000000",
          "2021-09-17T00:00:00.000000000",
          "2021-09-18T00:00:00.000000000",
          "2021-09-19T00:00:00.000000000",
          "2021-09-20T00:00:00.000000000",
          "2021-09-21T00:00:00.000000000",
          "2021-09-22T00:00:00.000000000",
          "2021-09-23T00:00:00.000000000",
          "2021-09-24T00:00:00.000000000",
          "2021-09-25T00:00:00.000000000",
          "2021-09-26T00:00:00.000000000",
          "2021-09-27T00:00:00.000000000",
          "2021-09-28T00:00:00.000000000",
          "2021-09-29T00:00:00.000000000",
          "2021-09-30T00:00:00.000000000",
          "2021-10-01T00:00:00.000000000",
          "2021-10-02T00:00:00.000000000",
          "2021-10-03T00:00:00.000000000",
          "2021-10-04T00:00:00.000000000",
          "2021-10-05T00:00:00.000000000",
          "2021-10-06T00:00:00.000000000",
          "2021-10-07T00:00:00.000000000",
          "2021-10-08T00:00:00.000000000",
          "2021-10-09T00:00:00.000000000",
          "2021-10-10T00:00:00.000000000",
          "2021-10-11T00:00:00.000000000",
          "2021-10-12T00:00:00.000000000",
          "2021-10-13T00:00:00.000000000",
          "2021-10-14T00:00:00.000000000",
          "2021-10-15T00:00:00.000000000",
          "2021-10-16T00:00:00.000000000",
          "2021-10-17T00:00:00.000000000",
          "2021-10-18T00:00:00.000000000",
          "2021-10-19T00:00:00.000000000",
          "2021-10-20T00:00:00.000000000",
          "2021-10-21T00:00:00.000000000",
          "2021-10-22T00:00:00.000000000",
          "2021-10-23T00:00:00.000000000",
          "2021-10-24T00:00:00.000000000",
          "2021-10-25T00:00:00.000000000",
          "2021-10-26T00:00:00.000000000",
          "2021-10-27T00:00:00.000000000",
          "2021-10-28T00:00:00.000000000",
          "2021-10-29T00:00:00.000000000",
          "2021-10-30T00:00:00.000000000",
          "2021-10-31T00:00:00.000000000",
          "2021-11-01T00:00:00.000000000",
          "2021-11-02T00:00:00.000000000",
          "2021-11-03T00:00:00.000000000",
          "2021-11-04T00:00:00.000000000",
          "2021-11-05T00:00:00.000000000",
          "2021-11-06T00:00:00.000000000",
          "2021-11-07T00:00:00.000000000",
          "2021-11-08T00:00:00.000000000",
          "2021-11-09T00:00:00.000000000",
          "2021-11-10T00:00:00.000000000",
          "2021-11-11T00:00:00.000000000",
          "2021-11-12T00:00:00.000000000",
          "2021-11-13T00:00:00.000000000",
          "2021-11-14T00:00:00.000000000",
          "2021-11-15T00:00:00.000000000",
          "2021-11-16T00:00:00.000000000",
          "2021-11-17T00:00:00.000000000",
          "2021-11-18T00:00:00.000000000",
          "2021-11-19T00:00:00.000000000",
          "2021-11-20T00:00:00.000000000",
          "2021-11-21T00:00:00.000000000",
          "2021-11-22T00:00:00.000000000",
          "2021-11-23T00:00:00.000000000",
          "2021-11-24T00:00:00.000000000",
          "2021-11-25T00:00:00.000000000",
          "2021-11-26T00:00:00.000000000",
          "2021-11-27T00:00:00.000000000",
          "2021-11-28T00:00:00.000000000",
          "2021-11-29T00:00:00.000000000",
          "2021-11-30T00:00:00.000000000",
          "2021-12-01T00:00:00.000000000",
          "2021-12-02T00:00:00.000000000",
          "2021-12-03T00:00:00.000000000",
          "2021-12-04T00:00:00.000000000",
          "2021-12-05T00:00:00.000000000",
          "2021-12-06T00:00:00.000000000",
          "2021-12-07T00:00:00.000000000",
          "2021-12-08T00:00:00.000000000",
          "2021-12-09T00:00:00.000000000",
          "2021-12-10T00:00:00.000000000",
          "2021-12-11T00:00:00.000000000",
          "2021-12-12T00:00:00.000000000",
          "2021-12-13T00:00:00.000000000",
          "2021-12-14T00:00:00.000000000",
          "2021-12-15T00:00:00.000000000",
          "2021-12-16T00:00:00.000000000",
          "2021-12-17T00:00:00.000000000",
          "2021-12-18T00:00:00.000000000",
          "2021-12-19T00:00:00.000000000",
          "2021-12-20T00:00:00.000000000",
          "2021-12-21T00:00:00.000000000",
          "2021-12-22T00:00:00.000000000",
          "2021-12-23T00:00:00.000000000",
          "2021-12-24T00:00:00.000000000",
          "2021-12-25T00:00:00.000000000",
          "2021-12-26T00:00:00.000000000",
          "2021-12-27T00:00:00.000000000",
          "2021-12-28T00:00:00.000000000",
          "2021-12-29T00:00:00.000000000",
          "2021-12-30T00:00:00.000000000",
          "2021-12-31T00:00:00.000000000",
          "2022-01-01T00:00:00.000000000",
          "2022-01-02T00:00:00.000000000",
          "2022-01-03T00:00:00.000000000",
          "2022-01-04T00:00:00.000000000",
          "2022-01-05T00:00:00.000000000",
          "2022-01-06T00:00:00.000000000",
          "2022-01-07T00:00:00.000000000",
          "2022-01-08T00:00:00.000000000",
          "2022-01-09T00:00:00.000000000",
          "2022-01-10T00:00:00.000000000",
          "2022-01-11T00:00:00.000000000",
          "2022-01-12T00:00:00.000000000",
          "2022-01-13T00:00:00.000000000",
          "2022-01-14T00:00:00.000000000",
          "2022-01-15T00:00:00.000000000",
          "2022-01-16T00:00:00.000000000",
          "2022-01-17T00:00:00.000000000",
          "2022-01-18T00:00:00.000000000",
          "2022-01-19T00:00:00.000000000",
          "2022-01-20T00:00:00.000000000",
          "2022-01-21T00:00:00.000000000",
          "2022-01-22T00:00:00.000000000",
          "2022-01-23T00:00:00.000000000",
          "2022-01-24T00:00:00.000000000",
          "2022-01-25T00:00:00.000000000",
          "2022-01-26T00:00:00.000000000",
          "2022-01-27T00:00:00.000000000",
          "2022-01-28T00:00:00.000000000",
          "2022-01-29T00:00:00.000000000",
          "2022-01-30T00:00:00.000000000",
          "2022-01-31T00:00:00.000000000",
          "2022-02-01T00:00:00.000000000",
          "2022-02-02T00:00:00.000000000",
          "2022-02-03T00:00:00.000000000",
          "2022-02-04T00:00:00.000000000",
          "2022-02-05T00:00:00.000000000",
          "2022-02-06T00:00:00.000000000",
          "2022-02-07T00:00:00.000000000",
          "2022-02-08T00:00:00.000000000",
          "2022-02-09T00:00:00.000000000",
          "2022-02-10T00:00:00.000000000",
          "2022-02-11T00:00:00.000000000",
          "2022-02-12T00:00:00.000000000",
          "2022-02-13T00:00:00.000000000",
          "2022-02-14T00:00:00.000000000",
          "2022-02-15T00:00:00.000000000",
          "2022-02-16T00:00:00.000000000",
          "2022-02-17T00:00:00.000000000",
          "2022-02-18T00:00:00.000000000",
          "2022-02-19T00:00:00.000000000",
          "2022-02-20T00:00:00.000000000",
          "2022-02-21T00:00:00.000000000",
          "2022-02-22T00:00:00.000000000",
          "2022-02-23T00:00:00.000000000",
          "2022-02-24T00:00:00.000000000",
          "2022-02-25T00:00:00.000000000",
          "2022-02-26T00:00:00.000000000",
          "2022-02-27T00:00:00.000000000",
          "2022-02-28T00:00:00.000000000",
          "2022-03-01T00:00:00.000000000",
          "2022-03-02T00:00:00.000000000",
          "2022-03-03T00:00:00.000000000",
          "2022-03-04T00:00:00.000000000",
          "2022-03-05T00:00:00.000000000",
          "2022-03-06T00:00:00.000000000",
          "2022-03-07T00:00:00.000000000",
          "2022-03-08T00:00:00.000000000",
          "2022-03-09T00:00:00.000000000",
          "2022-03-10T00:00:00.000000000",
          "2022-03-11T00:00:00.000000000",
          "2022-03-12T00:00:00.000000000",
          "2022-03-13T00:00:00.000000000",
          "2022-03-14T00:00:00.000000000",
          "2022-03-15T00:00:00.000000000",
          "2022-03-16T00:00:00.000000000",
          "2022-03-17T00:00:00.000000000",
          "2022-03-18T00:00:00.000000000",
          "2022-03-19T00:00:00.000000000",
          "2022-03-20T00:00:00.000000000",
          "2022-03-21T00:00:00.000000000",
          "2022-03-22T00:00:00.000000000",
          "2022-03-23T00:00:00.000000000",
          "2022-03-24T00:00:00.000000000",
          "2022-03-25T00:00:00.000000000",
          "2022-03-26T00:00:00.000000000",
          "2022-03-27T00:00:00.000000000",
          "2022-03-28T00:00:00.000000000",
          "2022-03-29T00:00:00.000000000",
          "2022-03-30T00:00:00.000000000",
          "2022-03-31T00:00:00.000000000",
          "2022-04-01T00:00:00.000000000",
          "2022-04-02T00:00:00.000000000",
          "2022-04-03T00:00:00.000000000",
          "2022-04-04T00:00:00.000000000",
          "2022-04-05T00:00:00.000000000",
          "2022-04-06T00:00:00.000000000",
          "2022-04-07T00:00:00.000000000",
          "2022-04-08T00:00:00.000000000",
          "2022-04-09T00:00:00.000000000",
          "2022-04-10T00:00:00.000000000",
          "2022-04-11T00:00:00.000000000",
          "2022-04-12T00:00:00.000000000",
          "2022-04-13T00:00:00.000000000",
          "2022-04-14T00:00:00.000000000",
          "2022-04-15T00:00:00.000000000",
          "2022-04-16T00:00:00.000000000",
          "2022-04-17T00:00:00.000000000",
          "2022-04-18T00:00:00.000000000",
          "2022-04-19T00:00:00.000000000",
          "2022-04-20T00:00:00.000000000",
          "2022-04-21T00:00:00.000000000",
          "2022-04-22T00:00:00.000000000",
          "2022-04-23T00:00:00.000000000",
          "2022-04-24T00:00:00.000000000",
          "2022-04-25T00:00:00.000000000",
          "2022-04-26T00:00:00.000000000",
          "2022-04-27T00:00:00.000000000",
          "2022-04-28T00:00:00.000000000",
          "2022-04-29T00:00:00.000000000",
          "2022-04-30T00:00:00.000000000",
          "2022-05-01T00:00:00.000000000",
          "2022-05-02T00:00:00.000000000",
          "2022-05-03T00:00:00.000000000",
          "2022-05-04T00:00:00.000000000",
          "2022-05-05T00:00:00.000000000",
          "2022-05-06T00:00:00.000000000",
          "2022-05-07T00:00:00.000000000",
          "2022-05-08T00:00:00.000000000",
          "2022-05-09T00:00:00.000000000",
          "2022-05-10T00:00:00.000000000",
          "2022-05-11T00:00:00.000000000",
          "2022-05-12T00:00:00.000000000",
          "2022-05-13T00:00:00.000000000",
          "2022-05-14T00:00:00.000000000",
          "2022-05-15T00:00:00.000000000",
          "2022-05-16T00:00:00.000000000",
          "2022-05-17T00:00:00.000000000",
          "2022-05-18T00:00:00.000000000",
          "2022-05-19T00:00:00.000000000",
          "2022-05-20T00:00:00.000000000",
          "2022-05-21T00:00:00.000000000",
          "2022-05-22T00:00:00.000000000",
          "2022-05-23T00:00:00.000000000",
          "2022-05-24T00:00:00.000000000",
          "2022-05-25T00:00:00.000000000",
          "2022-05-26T00:00:00.000000000",
          "2022-05-27T00:00:00.000000000",
          "2022-05-28T00:00:00.000000000",
          "2022-05-29T00:00:00.000000000",
          "2022-05-30T00:00:00.000000000",
          "2022-05-31T00:00:00.000000000",
          "2022-06-01T00:00:00.000000000",
          "2022-06-02T00:00:00.000000000",
          "2022-06-03T00:00:00.000000000",
          "2022-06-04T00:00:00.000000000",
          "2022-06-05T00:00:00.000000000",
          "2022-06-06T00:00:00.000000000",
          "2022-06-07T00:00:00.000000000",
          "2022-06-08T00:00:00.000000000",
          "2022-06-09T00:00:00.000000000",
          "2022-06-10T00:00:00.000000000",
          "2022-06-11T00:00:00.000000000",
          "2022-06-12T00:00:00.000000000",
          "2022-06-13T00:00:00.000000000",
          "2022-06-14T00:00:00.000000000",
          "2022-06-15T00:00:00.000000000",
          "2022-06-16T00:00:00.000000000",
          "2022-06-17T00:00:00.000000000",
          "2022-06-18T00:00:00.000000000",
          "2022-06-19T00:00:00.000000000",
          "2022-06-20T00:00:00.000000000",
          "2022-06-21T00:00:00.000000000",
          "2022-06-22T00:00:00.000000000",
          "2022-06-23T00:00:00.000000000",
          "2022-06-24T00:00:00.000000000",
          "2022-06-25T00:00:00.000000000",
          "2022-06-26T00:00:00.000000000",
          "2022-06-27T00:00:00.000000000",
          "2022-06-28T00:00:00.000000000",
          "2022-06-29T00:00:00.000000000",
          "2022-06-30T00:00:00.000000000",
          "2022-07-01T00:00:00.000000000",
          "2022-07-02T00:00:00.000000000",
          "2022-07-03T00:00:00.000000000",
          "2022-07-04T00:00:00.000000000",
          "2022-07-05T00:00:00.000000000",
          "2022-07-06T00:00:00.000000000",
          "2022-07-07T00:00:00.000000000",
          "2022-07-08T00:00:00.000000000",
          "2022-07-09T00:00:00.000000000",
          "2022-07-10T00:00:00.000000000",
          "2022-07-11T00:00:00.000000000",
          "2022-07-12T00:00:00.000000000",
          "2022-07-13T00:00:00.000000000",
          "2022-07-14T00:00:00.000000000",
          "2022-07-15T00:00:00.000000000",
          "2022-07-16T00:00:00.000000000",
          "2022-07-17T00:00:00.000000000",
          "2022-07-18T00:00:00.000000000",
          "2022-07-19T00:00:00.000000000",
          "2022-07-20T00:00:00.000000000",
          "2022-07-21T00:00:00.000000000",
          "2022-07-22T00:00:00.000000000",
          "2022-07-23T00:00:00.000000000",
          "2022-07-24T00:00:00.000000000",
          "2022-07-25T00:00:00.000000000",
          "2022-07-26T00:00:00.000000000",
          "2022-07-27T00:00:00.000000000",
          "2022-07-28T00:00:00.000000000",
          "2022-07-29T00:00:00.000000000",
          "2022-07-30T00:00:00.000000000",
          "2022-07-31T00:00:00.000000000",
          "2022-08-01T00:00:00.000000000",
          "2022-08-02T00:00:00.000000000",
          "2022-08-03T00:00:00.000000000",
          "2022-08-04T00:00:00.000000000",
          "2022-08-05T00:00:00.000000000",
          "2022-08-06T00:00:00.000000000",
          "2022-08-07T00:00:00.000000000",
          "2022-08-08T00:00:00.000000000",
          "2022-08-09T00:00:00.000000000",
          "2022-08-10T00:00:00.000000000",
          "2022-08-11T00:00:00.000000000",
          "2022-08-12T00:00:00.000000000",
          "2022-08-13T00:00:00.000000000",
          "2022-08-14T00:00:00.000000000",
          "2022-08-15T00:00:00.000000000",
          "2022-08-16T00:00:00.000000000",
          "2022-08-17T00:00:00.000000000",
          "2022-08-18T00:00:00.000000000",
          "2022-08-19T00:00:00.000000000",
          "2022-08-20T00:00:00.000000000",
          "2022-08-21T00:00:00.000000000",
          "2022-08-22T00:00:00.000000000",
          "2022-08-23T00:00:00.000000000",
          "2022-08-24T00:00:00.000000000",
          "2022-08-25T00:00:00.000000000",
          "2022-08-26T00:00:00.000000000",
          "2022-08-27T00:00:00.000000000",
          "2022-08-28T00:00:00.000000000",
          "2022-08-29T00:00:00.000000000",
          "2022-08-30T00:00:00.000000000",
          "2022-08-31T00:00:00.000000000",
          "2022-09-01T00:00:00.000000000",
          "2022-09-02T00:00:00.000000000",
          "2022-09-03T00:00:00.000000000",
          "2022-09-04T00:00:00.000000000",
          "2022-09-05T00:00:00.000000000",
          "2022-09-06T00:00:00.000000000",
          "2022-09-07T00:00:00.000000000",
          "2022-09-08T00:00:00.000000000",
          "2022-09-09T00:00:00.000000000",
          "2022-09-10T00:00:00.000000000",
          "2022-09-11T00:00:00.000000000",
          "2022-09-12T00:00:00.000000000",
          "2022-09-13T00:00:00.000000000",
          "2022-09-14T00:00:00.000000000",
          "2022-09-15T00:00:00.000000000",
          "2022-09-16T00:00:00.000000000",
          "2022-09-17T00:00:00.000000000",
          "2022-09-18T00:00:00.000000000",
          "2022-09-19T00:00:00.000000000",
          "2022-09-20T00:00:00.000000000",
          "2022-09-21T00:00:00.000000000",
          "2022-09-22T00:00:00.000000000",
          "2022-09-23T00:00:00.000000000",
          "2022-09-24T00:00:00.000000000",
          "2022-09-25T00:00:00.000000000",
          "2022-09-26T00:00:00.000000000",
          "2022-09-27T00:00:00.000000000",
          "2022-09-28T00:00:00.000000000",
          "2022-09-29T00:00:00.000000000",
          "2022-09-30T00:00:00.000000000",
          "2022-10-01T00:00:00.000000000",
          "2022-10-02T00:00:00.000000000",
          "2022-10-03T00:00:00.000000000",
          "2022-10-04T00:00:00.000000000",
          "2022-10-05T00:00:00.000000000",
          "2022-10-06T00:00:00.000000000",
          "2022-10-07T00:00:00.000000000",
          "2022-10-08T00:00:00.000000000",
          "2022-10-09T00:00:00.000000000",
          "2022-10-10T00:00:00.000000000",
          "2022-10-11T00:00:00.000000000",
          "2022-10-12T00:00:00.000000000",
          "2022-10-13T00:00:00.000000000",
          "2022-10-14T00:00:00.000000000",
          "2022-10-15T00:00:00.000000000",
          "2022-10-16T00:00:00.000000000",
          "2022-10-17T00:00:00.000000000",
          "2022-10-18T00:00:00.000000000",
          "2022-10-19T00:00:00.000000000",
          "2022-10-20T00:00:00.000000000",
          "2022-10-21T00:00:00.000000000",
          "2022-10-22T00:00:00.000000000",
          "2022-10-23T00:00:00.000000000",
          "2022-10-24T00:00:00.000000000",
          "2022-10-25T00:00:00.000000000",
          "2022-10-26T00:00:00.000000000",
          "2022-10-27T00:00:00.000000000",
          "2022-10-28T00:00:00.000000000",
          "2022-10-29T00:00:00.000000000",
          "2022-10-30T00:00:00.000000000",
          "2022-10-31T00:00:00.000000000",
          "2022-11-01T00:00:00.000000000",
          "2022-11-02T00:00:00.000000000",
          "2022-11-03T00:00:00.000000000",
          "2022-11-04T00:00:00.000000000",
          "2022-11-05T00:00:00.000000000",
          "2022-11-06T00:00:00.000000000",
          "2022-11-07T00:00:00.000000000",
          "2022-11-08T00:00:00.000000000",
          "2022-11-09T00:00:00.000000000",
          "2022-11-10T00:00:00.000000000",
          "2022-11-11T00:00:00.000000000",
          "2022-11-12T00:00:00.000000000",
          "2022-11-13T00:00:00.000000000",
          "2022-11-14T00:00:00.000000000",
          "2022-11-15T00:00:00.000000000",
          "2022-11-16T00:00:00.000000000",
          "2022-11-17T00:00:00.000000000",
          "2022-11-18T00:00:00.000000000",
          "2022-11-19T00:00:00.000000000",
          "2022-11-20T00:00:00.000000000",
          "2022-11-21T00:00:00.000000000",
          "2022-11-22T00:00:00.000000000",
          "2022-11-23T00:00:00.000000000",
          "2022-11-24T00:00:00.000000000",
          "2022-11-25T00:00:00.000000000",
          "2022-11-26T00:00:00.000000000",
          "2022-11-27T00:00:00.000000000",
          "2022-11-28T00:00:00.000000000",
          "2022-11-29T00:00:00.000000000",
          "2022-11-30T00:00:00.000000000",
          "2022-12-01T00:00:00.000000000",
          "2022-12-02T00:00:00.000000000",
          "2022-12-03T00:00:00.000000000",
          "2022-12-04T00:00:00.000000000",
          "2022-12-05T00:00:00.000000000",
          "2022-12-06T00:00:00.000000000",
          "2022-12-07T00:00:00.000000000",
          "2022-12-08T00:00:00.000000000",
          "2022-12-09T00:00:00.000000000",
          "2022-12-10T00:00:00.000000000",
          "2022-12-11T00:00:00.000000000",
          "2022-12-12T00:00:00.000000000",
          "2022-12-13T00:00:00.000000000",
          "2022-12-14T00:00:00.000000000",
          "2022-12-15T00:00:00.000000000",
          "2022-12-16T00:00:00.000000000",
          "2022-12-17T00:00:00.000000000",
          "2022-12-18T00:00:00.000000000",
          "2022-12-19T00:00:00.000000000",
          "2022-12-20T00:00:00.000000000",
          "2022-12-21T00:00:00.000000000",
          "2022-12-22T00:00:00.000000000",
          "2022-12-23T00:00:00.000000000",
          "2022-12-24T00:00:00.000000000",
          "2022-12-25T00:00:00.000000000",
          "2022-12-26T00:00:00.000000000",
          "2022-12-27T00:00:00.000000000",
          "2022-12-28T00:00:00.000000000",
          "2022-12-29T00:00:00.000000000",
          "2022-12-30T00:00:00.000000000",
          "2022-12-31T00:00:00.000000000",
          "2023-01-01T00:00:00.000000000",
          "2023-01-02T00:00:00.000000000",
          "2023-01-03T00:00:00.000000000",
          "2023-01-04T00:00:00.000000000",
          "2023-01-05T00:00:00.000000000",
          "2023-01-06T00:00:00.000000000",
          "2023-01-07T00:00:00.000000000",
          "2023-01-08T00:00:00.000000000",
          "2023-01-09T00:00:00.000000000",
          "2023-01-10T00:00:00.000000000",
          "2023-01-11T00:00:00.000000000",
          "2023-01-12T00:00:00.000000000",
          "2023-01-13T00:00:00.000000000",
          "2023-01-14T00:00:00.000000000",
          "2023-01-15T00:00:00.000000000",
          "2023-01-16T00:00:00.000000000",
          "2023-01-17T00:00:00.000000000",
          "2023-01-18T00:00:00.000000000",
          "2023-01-19T00:00:00.000000000",
          "2023-01-20T00:00:00.000000000",
          "2023-01-21T00:00:00.000000000",
          "2023-01-22T00:00:00.000000000",
          "2023-01-23T00:00:00.000000000",
          "2023-01-24T00:00:00.000000000",
          "2023-01-25T00:00:00.000000000",
          "2023-01-26T00:00:00.000000000",
          "2023-01-27T00:00:00.000000000",
          "2023-01-28T00:00:00.000000000",
          "2023-01-29T00:00:00.000000000",
          "2023-01-30T00:00:00.000000000",
          "2023-01-31T00:00:00.000000000",
          "2023-02-01T00:00:00.000000000",
          "2023-02-02T00:00:00.000000000",
          "2023-02-03T00:00:00.000000000",
          "2023-02-04T00:00:00.000000000",
          "2023-02-05T00:00:00.000000000",
          "2023-02-06T00:00:00.000000000",
          "2023-02-07T00:00:00.000000000",
          "2023-02-08T00:00:00.000000000",
          "2023-02-09T00:00:00.000000000",
          "2023-02-10T00:00:00.000000000",
          "2023-02-11T00:00:00.000000000",
          "2023-02-12T00:00:00.000000000",
          "2023-02-13T00:00:00.000000000",
          "2023-02-14T00:00:00.000000000",
          "2023-02-15T00:00:00.000000000",
          "2023-02-16T00:00:00.000000000",
          "2023-02-17T00:00:00.000000000",
          "2023-02-18T00:00:00.000000000",
          "2023-02-19T00:00:00.000000000",
          "2023-02-20T00:00:00.000000000",
          "2023-02-21T00:00:00.000000000",
          "2023-02-22T00:00:00.000000000",
          "2023-02-23T00:00:00.000000000",
          "2023-02-24T00:00:00.000000000",
          "2023-02-25T00:00:00.000000000",
          "2023-02-26T00:00:00.000000000",
          "2023-02-27T00:00:00.000000000",
          "2023-02-28T00:00:00.000000000",
          "2023-03-01T00:00:00.000000000",
          "2023-03-02T00:00:00.000000000",
          "2023-03-03T00:00:00.000000000",
          "2023-03-04T00:00:00.000000000",
          "2023-03-05T00:00:00.000000000",
          "2023-03-06T00:00:00.000000000",
          "2023-03-07T00:00:00.000000000",
          "2023-03-08T00:00:00.000000000",
          "2023-03-09T00:00:00.000000000",
          "2023-03-10T00:00:00.000000000",
          "2023-03-11T00:00:00.000000000",
          "2023-03-12T00:00:00.000000000",
          "2023-03-13T00:00:00.000000000",
          "2023-03-14T00:00:00.000000000",
          "2023-03-15T00:00:00.000000000",
          "2023-03-16T00:00:00.000000000",
          "2023-03-17T00:00:00.000000000",
          "2023-03-18T00:00:00.000000000",
          "2023-03-19T00:00:00.000000000",
          "2023-03-20T00:00:00.000000000",
          "2023-03-21T00:00:00.000000000",
          "2023-03-22T00:00:00.000000000",
          "2023-03-23T00:00:00.000000000",
          "2023-03-24T00:00:00.000000000",
          "2023-03-25T00:00:00.000000000",
          "2023-03-26T00:00:00.000000000",
          "2023-03-27T00:00:00.000000000",
          "2023-03-28T00:00:00.000000000",
          "2023-03-29T00:00:00.000000000",
          "2023-03-30T00:00:00.000000000",
          "2023-03-31T00:00:00.000000000",
          "2023-04-01T00:00:00.000000000",
          "2023-04-02T00:00:00.000000000",
          "2023-04-03T00:00:00.000000000",
          "2023-04-04T00:00:00.000000000",
          "2023-04-05T00:00:00.000000000",
          "2023-04-06T00:00:00.000000000",
          "2023-04-07T00:00:00.000000000",
          "2023-04-08T00:00:00.000000000",
          "2023-04-09T00:00:00.000000000",
          "2023-04-10T00:00:00.000000000",
          "2023-04-11T00:00:00.000000000",
          "2023-04-12T00:00:00.000000000",
          "2023-04-13T00:00:00.000000000",
          "2023-04-14T00:00:00.000000000",
          "2023-04-15T00:00:00.000000000",
          "2023-04-16T00:00:00.000000000",
          "2023-04-17T00:00:00.000000000",
          "2023-04-18T00:00:00.000000000",
          "2023-04-19T00:00:00.000000000",
          "2023-04-20T00:00:00.000000000",
          "2023-04-21T00:00:00.000000000",
          "2023-04-22T00:00:00.000000000",
          "2023-04-23T00:00:00.000000000",
          "2023-04-24T00:00:00.000000000",
          "2023-04-25T00:00:00.000000000",
          "2023-04-26T00:00:00.000000000",
          "2023-04-27T00:00:00.000000000",
          "2023-04-28T00:00:00.000000000"
         ],
         "xaxis": "x",
         "y": {
          "bdata": "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",
          "dtype": "f8"
         },
         "yaxis": "y"
        },
        {
         "line": {
          "color": "rgba(0, 114, 178, 0.2)",
          "width": 0
         },
         "mode": "lines",
         "name": "trend_upper",
         "type": "scatter",
         "x": [
          "2021-01-01T00:00:00.000000000",
          "2021-01-02T00:00:00.000000000",
          "2021-01-03T00:00:00.000000000",
          "2021-01-04T00:00:00.000000000",
          "2021-01-05T00:00:00.000000000",
          "2021-01-06T00:00:00.000000000",
          "2021-01-07T00:00:00.000000000",
          "2021-01-08T00:00:00.000000000",
          "2021-01-09T00:00:00.000000000",
          "2021-01-10T00:00:00.000000000",
          "2021-01-11T00:00:00.000000000",
          "2021-01-12T00:00:00.000000000",
          "2021-01-13T00:00:00.000000000",
          "2021-01-14T00:00:00.000000000",
          "2021-01-15T00:00:00.000000000",
          "2021-01-16T00:00:00.000000000",
          "2021-01-17T00:00:00.000000000",
          "2021-01-18T00:00:00.000000000",
          "2021-01-19T00:00:00.000000000",
          "2021-01-20T00:00:00.000000000",
          "2021-01-21T00:00:00.000000000",
          "2021-01-22T00:00:00.000000000",
          "2021-01-23T00:00:00.000000000",
          "2021-01-24T00:00:00.000000000",
          "2021-01-25T00:00:00.000000000",
          "2021-01-26T00:00:00.000000000",
          "2021-01-27T00:00:00.000000000",
          "2021-01-28T00:00:00.000000000",
          "2021-01-29T00:00:00.000000000",
          "2021-01-30T00:00:00.000000000",
          "2021-01-31T00:00:00.000000000",
          "2021-02-01T00:00:00.000000000",
          "2021-02-02T00:00:00.000000000",
          "2021-02-03T00:00:00.000000000",
          "2021-02-04T00:00:00.000000000",
          "2021-02-05T00:00:00.000000000",
          "2021-02-06T00:00:00.000000000",
          "2021-02-07T00:00:00.000000000",
          "2021-02-08T00:00:00.000000000",
          "2021-02-09T00:00:00.000000000",
          "2021-02-10T00:00:00.000000000",
          "2021-02-11T00:00:00.000000000",
          "2021-02-12T00:00:00.000000000",
          "2021-02-13T00:00:00.000000000",
          "2021-02-14T00:00:00.000000000",
          "2021-02-15T00:00:00.000000000",
          "2021-02-16T00:00:00.000000000",
          "2021-02-17T00:00:00.000000000",
          "2021-02-18T00:00:00.000000000",
          "2021-02-19T00:00:00.000000000",
          "2021-02-20T00:00:00.000000000",
          "2021-02-21T00:00:00.000000000",
          "2021-02-22T00:00:00.000000000",
          "2021-02-23T00:00:00.000000000",
          "2021-02-24T00:00:00.000000000",
          "2021-02-25T00:00:00.000000000",
          "2021-02-26T00:00:00.000000000",
          "2021-02-27T00:00:00.000000000",
          "2021-02-28T00:00:00.000000000",
          "2021-03-01T00:00:00.000000000",
          "2021-03-02T00:00:00.000000000",
          "2021-03-03T00:00:00.000000000",
          "2021-03-04T00:00:00.000000000",
          "2021-03-05T00:00:00.000000000",
          "2021-03-06T00:00:00.000000000",
          "2021-03-07T00:00:00.000000000",
          "2021-03-08T00:00:00.000000000",
          "2021-03-09T00:00:00.000000000",
          "2021-03-10T00:00:00.000000000",
          "2021-03-11T00:00:00.000000000",
          "2021-03-12T00:00:00.000000000",
          "2021-03-13T00:00:00.000000000",
          "2021-03-14T00:00:00.000000000",
          "2021-03-15T00:00:00.000000000",
          "2021-03-16T00:00:00.000000000",
          "2021-03-17T00:00:00.000000000",
          "2021-03-18T00:00:00.000000000",
          "2021-03-19T00:00:00.000000000",
          "2021-03-20T00:00:00.000000000",
          "2021-03-21T00:00:00.000000000",
          "2021-03-22T00:00:00.000000000",
          "2021-03-23T00:00:00.000000000",
          "2021-03-24T00:00:00.000000000",
          "2021-03-25T00:00:00.000000000",
          "2021-03-26T00:00:00.000000000",
          "2021-03-27T00:00:00.000000000",
          "2021-03-28T00:00:00.000000000",
          "2021-03-29T00:00:00.000000000",
          "2021-03-30T00:00:00.000000000",
          "2021-03-31T00:00:00.000000000",
          "2021-04-01T00:00:00.000000000",
          "2021-04-02T00:00:00.000000000",
          "2021-04-03T00:00:00.000000000",
          "2021-04-04T00:00:00.000000000",
          "2021-04-05T00:00:00.000000000",
          "2021-04-06T00:00:00.000000000",
          "2021-04-07T00:00:00.000000000",
          "2021-04-08T00:00:00.000000000",
          "2021-04-09T00:00:00.000000000",
          "2021-04-10T00:00:00.000000000",
          "2021-04-11T00:00:00.000000000",
          "2021-04-12T00:00:00.000000000",
          "2021-04-13T00:00:00.000000000",
          "2021-04-14T00:00:00.000000000",
          "2021-04-15T00:00:00.000000000",
          "2021-04-16T00:00:00.000000000",
          "2021-04-17T00:00:00.000000000",
          "2021-04-18T00:00:00.000000000",
          "2021-04-19T00:00:00.000000000",
          "2021-04-20T00:00:00.000000000",
          "2021-04-21T00:00:00.000000000",
          "2021-04-22T00:00:00.000000000",
          "2021-04-23T00:00:00.000000000",
          "2021-04-24T00:00:00.000000000",
          "2021-04-25T00:00:00.000000000",
          "2021-04-26T00:00:00.000000000",
          "2021-04-27T00:00:00.000000000",
          "2021-04-28T00:00:00.000000000",
          "2021-04-29T00:00:00.000000000",
          "2021-04-30T00:00:00.000000000",
          "2021-05-01T00:00:00.000000000",
          "2021-05-02T00:00:00.000000000",
          "2021-05-03T00:00:00.000000000",
          "2021-05-04T00:00:00.000000000",
          "2021-05-05T00:00:00.000000000",
          "2021-05-06T00:00:00.000000000",
          "2021-05-07T00:00:00.000000000",
          "2021-05-08T00:00:00.000000000",
          "2021-05-09T00:00:00.000000000",
          "2021-05-10T00:00:00.000000000",
          "2021-05-11T00:00:00.000000000",
          "2021-05-12T00:00:00.000000000",
          "2021-05-13T00:00:00.000000000",
          "2021-05-14T00:00:00.000000000",
          "2021-05-15T00:00:00.000000000",
          "2021-05-16T00:00:00.000000000",
          "2021-05-17T00:00:00.000000000",
          "2021-05-18T00:00:00.000000000",
          "2021-05-19T00:00:00.000000000",
          "2021-05-20T00:00:00.000000000",
          "2021-05-21T00:00:00.000000000",
          "2021-05-22T00:00:00.000000000",
          "2021-05-23T00:00:00.000000000",
          "2021-05-24T00:00:00.000000000",
          "2021-05-25T00:00:00.000000000",
          "2021-05-26T00:00:00.000000000",
          "2021-05-27T00:00:00.000000000",
          "2021-05-28T00:00:00.000000000",
          "2021-05-29T00:00:00.000000000",
          "2021-05-30T00:00:00.000000000",
          "2021-05-31T00:00:00.000000000",
          "2021-06-01T00:00:00.000000000",
          "2021-06-02T00:00:00.000000000",
          "2021-06-03T00:00:00.000000000",
          "2021-06-04T00:00:00.000000000",
          "2021-06-05T00:00:00.000000000",
          "2021-06-06T00:00:00.000000000",
          "2021-06-07T00:00:00.000000000",
          "2021-06-08T00:00:00.000000000",
          "2021-06-09T00:00:00.000000000",
          "2021-06-10T00:00:00.000000000",
          "2021-06-11T00:00:00.000000000",
          "2021-06-12T00:00:00.000000000",
          "2021-06-13T00:00:00.000000000",
          "2021-06-14T00:00:00.000000000",
          "2021-06-15T00:00:00.000000000",
          "2021-06-16T00:00:00.000000000",
          "2021-06-17T00:00:00.000000000",
          "2021-06-18T00:00:00.000000000",
          "2021-06-19T00:00:00.000000000",
          "2021-06-20T00:00:00.000000000",
          "2021-06-21T00:00:00.000000000",
          "2021-06-22T00:00:00.000000000",
          "2021-06-23T00:00:00.000000000",
          "2021-06-24T00:00:00.000000000",
          "2021-06-25T00:00:00.000000000",
          "2021-06-26T00:00:00.000000000",
          "2021-06-27T00:00:00.000000000",
          "2021-06-28T00:00:00.000000000",
          "2021-06-29T00:00:00.000000000",
          "2021-06-30T00:00:00.000000000",
          "2021-07-01T00:00:00.000000000",
          "2021-07-02T00:00:00.000000000",
          "2021-07-03T00:00:00.000000000",
          "2021-07-04T00:00:00.000000000",
          "2021-07-05T00:00:00.000000000",
          "2021-07-06T00:00:00.000000000",
          "2021-07-07T00:00:00.000000000",
          "2021-07-08T00:00:00.000000000",
          "2021-07-09T00:00:00.000000000",
          "2021-07-10T00:00:00.000000000",
          "2021-07-11T00:00:00.000000000",
          "2021-07-12T00:00:00.000000000",
          "2021-07-13T00:00:00.000000000",
          "2021-07-14T00:00:00.000000000",
          "2021-07-15T00:00:00.000000000",
          "2021-07-16T00:00:00.000000000",
          "2021-07-17T00:00:00.000000000",
          "2021-07-18T00:00:00.000000000",
          "2021-07-19T00:00:00.000000000",
          "2021-07-20T00:00:00.000000000",
          "2021-07-21T00:00:00.000000000",
          "2021-07-22T00:00:00.000000000",
          "2021-07-23T00:00:00.000000000",
          "2021-07-24T00:00:00.000000000",
          "2021-07-25T00:00:00.000000000",
          "2021-07-26T00:00:00.000000000",
          "2021-07-27T00:00:00.000000000",
          "2021-07-28T00:00:00.000000000",
          "2021-07-29T00:00:00.000000000",
          "2021-07-30T00:00:00.000000000",
          "2021-07-31T00:00:00.000000000",
          "2021-08-01T00:00:00.000000000",
          "2021-08-02T00:00:00.000000000",
          "2021-08-03T00:00:00.000000000",
          "2021-08-04T00:00:00.000000000",
          "2021-08-05T00:00:00.000000000",
          "2021-08-06T00:00:00.000000000",
          "2021-08-07T00:00:00.000000000",
          "2021-08-08T00:00:00.000000000",
          "2021-08-09T00:00:00.000000000",
          "2021-08-10T00:00:00.000000000",
          "2021-08-11T00:00:00.000000000",
          "2021-08-12T00:00:00.000000000",
          "2021-08-13T00:00:00.000000000",
          "2021-08-14T00:00:00.000000000",
          "2021-08-15T00:00:00.000000000",
          "2021-08-16T00:00:00.000000000",
          "2021-08-17T00:00:00.000000000",
          "2021-08-18T00:00:00.000000000",
          "2021-08-19T00:00:00.000000000",
          "2021-08-20T00:00:00.000000000",
          "2021-08-21T00:00:00.000000000",
          "2021-08-22T00:00:00.000000000",
          "2021-08-23T00:00:00.000000000",
          "2021-08-24T00:00:00.000000000",
          "2021-08-25T00:00:00.000000000",
          "2021-08-26T00:00:00.000000000",
          "2021-08-27T00:00:00.000000000",
          "2021-08-28T00:00:00.000000000",
          "2021-08-29T00:00:00.000000000",
          "2021-08-30T00:00:00.000000000",
          "2021-08-31T00:00:00.000000000",
          "2021-09-01T00:00:00.000000000",
          "2021-09-02T00:00:00.000000000",
          "2021-09-03T00:00:00.000000000",
          "2021-09-04T00:00:00.000000000",
          "2021-09-05T00:00:00.000000000",
          "2021-09-06T00:00:00.000000000",
          "2021-09-07T00:00:00.000000000",
          "2021-09-08T00:00:00.000000000",
          "2021-09-09T00:00:00.000000000",
          "2021-09-10T00:00:00.000000000",
          "2021-09-11T00:00:00.000000000",
          "2021-09-12T00:00:00.000000000",
          "2021-09-13T00:00:00.000000000",
          "2021-09-14T00:00:00.000000000",
          "2021-09-15T00:00:00.000000000",
          "2021-09-16T00:00:00.000000000",
          "2021-09-17T00:00:00.000000000",
          "2021-09-18T00:00:00.000000000",
          "2021-09-19T00:00:00.000000000",
          "2021-09-20T00:00:00.000000000",
          "2021-09-21T00:00:00.000000000",
          "2021-09-22T00:00:00.000000000",
          "2021-09-23T00:00:00.000000000",
          "2021-09-24T00:00:00.000000000",
          "2021-09-25T00:00:00.000000000",
          "2021-09-26T00:00:00.000000000",
          "2021-09-27T00:00:00.000000000",
          "2021-09-28T00:00:00.000000000",
          "2021-09-29T00:00:00.000000000",
          "2021-09-30T00:00:00.000000000",
          "2021-10-01T00:00:00.000000000",
          "2021-10-02T00:00:00.000000000",
          "2021-10-03T00:00:00.000000000",
          "2021-10-04T00:00:00.000000000",
          "2021-10-05T00:00:00.000000000",
          "2021-10-06T00:00:00.000000000",
          "2021-10-07T00:00:00.000000000",
          "2021-10-08T00:00:00.000000000",
          "2021-10-09T00:00:00.000000000",
          "2021-10-10T00:00:00.000000000",
          "2021-10-11T00:00:00.000000000",
          "2021-10-12T00:00:00.000000000",
          "2021-10-13T00:00:00.000000000",
          "2021-10-14T00:00:00.000000000",
          "2021-10-15T00:00:00.000000000",
          "2021-10-16T00:00:00.000000000",
          "2021-10-17T00:00:00.000000000",
          "2021-10-18T00:00:00.000000000",
          "2021-10-19T00:00:00.000000000",
          "2021-10-20T00:00:00.000000000",
          "2021-10-21T00:00:00.000000000",
          "2021-10-22T00:00:00.000000000",
          "2021-10-23T00:00:00.000000000",
          "2021-10-24T00:00:00.000000000",
          "2021-10-25T00:00:00.000000000",
          "2021-10-26T00:00:00.000000000",
          "2021-10-27T00:00:00.000000000",
          "2021-10-28T00:00:00.000000000",
          "2021-10-29T00:00:00.000000000",
          "2021-10-30T00:00:00.000000000",
          "2021-10-31T00:00:00.000000000",
          "2021-11-01T00:00:00.000000000",
          "2021-11-02T00:00:00.000000000",
          "2021-11-03T00:00:00.000000000",
          "2021-11-04T00:00:00.000000000",
          "2021-11-05T00:00:00.000000000",
          "2021-11-06T00:00:00.000000000",
          "2021-11-07T00:00:00.000000000",
          "2021-11-08T00:00:00.000000000",
          "2021-11-09T00:00:00.000000000",
          "2021-11-10T00:00:00.000000000",
          "2021-11-11T00:00:00.000000000",
          "2021-11-12T00:00:00.000000000",
          "2021-11-13T00:00:00.000000000",
          "2021-11-14T00:00:00.000000000",
          "2021-11-15T00:00:00.000000000",
          "2021-11-16T00:00:00.000000000",
          "2021-11-17T00:00:00.000000000",
          "2021-11-18T00:00:00.000000000",
          "2021-11-19T00:00:00.000000000",
          "2021-11-20T00:00:00.000000000",
          "2021-11-21T00:00:00.000000000",
          "2021-11-22T00:00:00.000000000",
          "2021-11-23T00:00:00.000000000",
          "2021-11-24T00:00:00.000000000",
          "2021-11-25T00:00:00.000000000",
          "2021-11-26T00:00:00.000000000",
          "2021-11-27T00:00:00.000000000",
          "2021-11-28T00:00:00.000000000",
          "2021-11-29T00:00:00.000000000",
          "2021-11-30T00:00:00.000000000",
          "2021-12-01T00:00:00.000000000",
          "2021-12-02T00:00:00.000000000",
          "2021-12-03T00:00:00.000000000",
          "2021-12-04T00:00:00.000000000",
          "2021-12-05T00:00:00.000000000",
          "2021-12-06T00:00:00.000000000",
          "2021-12-07T00:00:00.000000000",
          "2021-12-08T00:00:00.000000000",
          "2021-12-09T00:00:00.000000000",
          "2021-12-10T00:00:00.000000000",
          "2021-12-11T00:00:00.000000000",
          "2021-12-12T00:00:00.000000000",
          "2021-12-13T00:00:00.000000000",
          "2021-12-14T00:00:00.000000000",
          "2021-12-15T00:00:00.000000000",
          "2021-12-16T00:00:00.000000000",
          "2021-12-17T00:00:00.000000000",
          "2021-12-18T00:00:00.000000000",
          "2021-12-19T00:00:00.000000000",
          "2021-12-20T00:00:00.000000000",
          "2021-12-21T00:00:00.000000000",
          "2021-12-22T00:00:00.000000000",
          "2021-12-23T00:00:00.000000000",
          "2021-12-24T00:00:00.000000000",
          "2021-12-25T00:00:00.000000000",
          "2021-12-26T00:00:00.000000000",
          "2021-12-27T00:00:00.000000000",
          "2021-12-28T00:00:00.000000000",
          "2021-12-29T00:00:00.000000000",
          "2021-12-30T00:00:00.000000000",
          "2021-12-31T00:00:00.000000000",
          "2022-01-01T00:00:00.000000000",
          "2022-01-02T00:00:00.000000000",
          "2022-01-03T00:00:00.000000000",
          "2022-01-04T00:00:00.000000000",
          "2022-01-05T00:00:00.000000000",
          "2022-01-06T00:00:00.000000000",
          "2022-01-07T00:00:00.000000000",
          "2022-01-08T00:00:00.000000000",
          "2022-01-09T00:00:00.000000000",
          "2022-01-10T00:00:00.000000000",
          "2022-01-11T00:00:00.000000000",
          "2022-01-12T00:00:00.000000000",
          "2022-01-13T00:00:00.000000000",
          "2022-01-14T00:00:00.000000000",
          "2022-01-15T00:00:00.000000000",
          "2022-01-16T00:00:00.000000000",
          "2022-01-17T00:00:00.000000000",
          "2022-01-18T00:00:00.000000000",
          "2022-01-19T00:00:00.000000000",
          "2022-01-20T00:00:00.000000000",
          "2022-01-21T00:00:00.000000000",
          "2022-01-22T00:00:00.000000000",
          "2022-01-23T00:00:00.000000000",
          "2022-01-24T00:00:00.000000000",
          "2022-01-25T00:00:00.000000000",
          "2022-01-26T00:00:00.000000000",
          "2022-01-27T00:00:00.000000000",
          "2022-01-28T00:00:00.000000000",
          "2022-01-29T00:00:00.000000000",
          "2022-01-30T00:00:00.000000000",
          "2022-01-31T00:00:00.000000000",
          "2022-02-01T00:00:00.000000000",
          "2022-02-02T00:00:00.000000000",
          "2022-02-03T00:00:00.000000000",
          "2022-02-04T00:00:00.000000000",
          "2022-02-05T00:00:00.000000000",
          "2022-02-06T00:00:00.000000000",
          "2022-02-07T00:00:00.000000000",
          "2022-02-08T00:00:00.000000000",
          "2022-02-09T00:00:00.000000000",
          "2022-02-10T00:00:00.000000000",
          "2022-02-11T00:00:00.000000000",
          "2022-02-12T00:00:00.000000000",
          "2022-02-13T00:00:00.000000000",
          "2022-02-14T00:00:00.000000000",
          "2022-02-15T00:00:00.000000000",
          "2022-02-16T00:00:00.000000000",
          "2022-02-17T00:00:00.000000000",
          "2022-02-18T00:00:00.000000000",
          "2022-02-19T00:00:00.000000000",
          "2022-02-20T00:00:00.000000000",
          "2022-02-21T00:00:00.000000000",
          "2022-02-22T00:00:00.000000000",
          "2022-02-23T00:00:00.000000000",
          "2022-02-24T00:00:00.000000000",
          "2022-02-25T00:00:00.000000000",
          "2022-02-26T00:00:00.000000000",
          "2022-02-27T00:00:00.000000000",
          "2022-02-28T00:00:00.000000000",
          "2022-03-01T00:00:00.000000000",
          "2022-03-02T00:00:00.000000000",
          "2022-03-03T00:00:00.000000000",
          "2022-03-04T00:00:00.000000000",
          "2022-03-05T00:00:00.000000000",
          "2022-03-06T00:00:00.000000000",
          "2022-03-07T00:00:00.000000000",
          "2022-03-08T00:00:00.000000000",
          "2022-03-09T00:00:00.000000000",
          "2022-03-10T00:00:00.000000000",
          "2022-03-11T00:00:00.000000000",
          "2022-03-12T00:00:00.000000000",
          "2022-03-13T00:00:00.000000000",
          "2022-03-14T00:00:00.000000000",
          "2022-03-15T00:00:00.000000000",
          "2022-03-16T00:00:00.000000000",
          "2022-03-17T00:00:00.000000000",
          "2022-03-18T00:00:00.000000000",
          "2022-03-19T00:00:00.000000000",
          "2022-03-20T00:00:00.000000000",
          "2022-03-21T00:00:00.000000000",
          "2022-03-22T00:00:00.000000000",
          "2022-03-23T00:00:00.000000000",
          "2022-03-24T00:00:00.000000000",
          "2022-03-25T00:00:00.000000000",
          "2022-03-26T00:00:00.000000000",
          "2022-03-27T00:00:00.000000000",
          "2022-03-28T00:00:00.000000000",
          "2022-03-29T00:00:00.000000000",
          "2022-03-30T00:00:00.000000000",
          "2022-03-31T00:00:00.000000000",
          "2022-04-01T00:00:00.000000000",
          "2022-04-02T00:00:00.000000000",
          "2022-04-03T00:00:00.000000000",
          "2022-04-04T00:00:00.000000000",
          "2022-04-05T00:00:00.000000000",
          "2022-04-06T00:00:00.000000000",
          "2022-04-07T00:00:00.000000000",
          "2022-04-08T00:00:00.000000000",
          "2022-04-09T00:00:00.000000000",
          "2022-04-10T00:00:00.000000000",
          "2022-04-11T00:00:00.000000000",
          "2022-04-12T00:00:00.000000000",
          "2022-04-13T00:00:00.000000000",
          "2022-04-14T00:00:00.000000000",
          "2022-04-15T00:00:00.000000000",
          "2022-04-16T00:00:00.000000000",
          "2022-04-17T00:00:00.000000000",
          "2022-04-18T00:00:00.000000000",
          "2022-04-19T00:00:00.000000000",
          "2022-04-20T00:00:00.000000000",
          "2022-04-21T00:00:00.000000000",
          "2022-04-22T00:00:00.000000000",
          "2022-04-23T00:00:00.000000000",
          "2022-04-24T00:00:00.000000000",
          "2022-04-25T00:00:00.000000000",
          "2022-04-26T00:00:00.000000000",
          "2022-04-27T00:00:00.000000000",
          "2022-04-28T00:00:00.000000000",
          "2022-04-29T00:00:00.000000000",
          "2022-04-30T00:00:00.000000000",
          "2022-05-01T00:00:00.000000000",
          "2022-05-02T00:00:00.000000000",
          "2022-05-03T00:00:00.000000000",
          "2022-05-04T00:00:00.000000000",
          "2022-05-05T00:00:00.000000000",
          "2022-05-06T00:00:00.000000000",
          "2022-05-07T00:00:00.000000000",
          "2022-05-08T00:00:00.000000000",
          "2022-05-09T00:00:00.000000000",
          "2022-05-10T00:00:00.000000000",
          "2022-05-11T00:00:00.000000000",
          "2022-05-12T00:00:00.000000000",
          "2022-05-13T00:00:00.000000000",
          "2022-05-14T00:00:00.000000000",
          "2022-05-15T00:00:00.000000000",
          "2022-05-16T00:00:00.000000000",
          "2022-05-17T00:00:00.000000000",
          "2022-05-18T00:00:00.000000000",
          "2022-05-19T00:00:00.000000000",
          "2022-05-20T00:00:00.000000000",
          "2022-05-21T00:00:00.000000000",
          "2022-05-22T00:00:00.000000000",
          "2022-05-23T00:00:00.000000000",
          "2022-05-24T00:00:00.000000000",
          "2022-05-25T00:00:00.000000000",
          "2022-05-26T00:00:00.000000000",
          "2022-05-27T00:00:00.000000000",
          "2022-05-28T00:00:00.000000000",
          "2022-05-29T00:00:00.000000000",
          "2022-05-30T00:00:00.000000000",
          "2022-05-31T00:00:00.000000000",
          "2022-06-01T00:00:00.000000000",
          "2022-06-02T00:00:00.000000000",
          "2022-06-03T00:00:00.000000000",
          "2022-06-04T00:00:00.000000000",
          "2022-06-05T00:00:00.000000000",
          "2022-06-06T00:00:00.000000000",
          "2022-06-07T00:00:00.000000000",
          "2022-06-08T00:00:00.000000000",
          "2022-06-09T00:00:00.000000000",
          "2022-06-10T00:00:00.000000000",
          "2022-06-11T00:00:00.000000000",
          "2022-06-12T00:00:00.000000000",
          "2022-06-13T00:00:00.000000000",
          "2022-06-14T00:00:00.000000000",
          "2022-06-15T00:00:00.000000000",
          "2022-06-16T00:00:00.000000000",
          "2022-06-17T00:00:00.000000000",
          "2022-06-18T00:00:00.000000000",
          "2022-06-19T00:00:00.000000000",
          "2022-06-20T00:00:00.000000000",
          "2022-06-21T00:00:00.000000000",
          "2022-06-22T00:00:00.000000000",
          "2022-06-23T00:00:00.000000000",
          "2022-06-24T00:00:00.000000000",
          "2022-06-25T00:00:00.000000000",
          "2022-06-26T00:00:00.000000000",
          "2022-06-27T00:00:00.000000000",
          "2022-06-28T00:00:00.000000000",
          "2022-06-29T00:00:00.000000000",
          "2022-06-30T00:00:00.000000000",
          "2022-07-01T00:00:00.000000000",
          "2022-07-02T00:00:00.000000000",
          "2022-07-03T00:00:00.000000000",
          "2022-07-04T00:00:00.000000000",
          "2022-07-05T00:00:00.000000000",
          "2022-07-06T00:00:00.000000000",
          "2022-07-07T00:00:00.000000000",
          "2022-07-08T00:00:00.000000000",
          "2022-07-09T00:00:00.000000000",
          "2022-07-10T00:00:00.000000000",
          "2022-07-11T00:00:00.000000000",
          "2022-07-12T00:00:00.000000000",
          "2022-07-13T00:00:00.000000000",
          "2022-07-14T00:00:00.000000000",
          "2022-07-15T00:00:00.000000000",
          "2022-07-16T00:00:00.000000000",
          "2022-07-17T00:00:00.000000000",
          "2022-07-18T00:00:00.000000000",
          "2022-07-19T00:00:00.000000000",
          "2022-07-20T00:00:00.000000000",
          "2022-07-21T00:00:00.000000000",
          "2022-07-22T00:00:00.000000000",
          "2022-07-23T00:00:00.000000000",
          "2022-07-24T00:00:00.000000000",
          "2022-07-25T00:00:00.000000000",
          "2022-07-26T00:00:00.000000000",
          "2022-07-27T00:00:00.000000000",
          "2022-07-28T00:00:00.000000000",
          "2022-07-29T00:00:00.000000000",
          "2022-07-30T00:00:00.000000000",
          "2022-07-31T00:00:00.000000000",
          "2022-08-01T00:00:00.000000000",
          "2022-08-02T00:00:00.000000000",
          "2022-08-03T00:00:00.000000000",
          "2022-08-04T00:00:00.000000000",
          "2022-08-05T00:00:00.000000000",
          "2022-08-06T00:00:00.000000000",
          "2022-08-07T00:00:00.000000000",
          "2022-08-08T00:00:00.000000000",
          "2022-08-09T00:00:00.000000000",
          "2022-08-10T00:00:00.000000000",
          "2022-08-11T00:00:00.000000000",
          "2022-08-12T00:00:00.000000000",
          "2022-08-13T00:00:00.000000000",
          "2022-08-14T00:00:00.000000000",
          "2022-08-15T00:00:00.000000000",
          "2022-08-16T00:00:00.000000000",
          "2022-08-17T00:00:00.000000000",
          "2022-08-18T00:00:00.000000000",
          "2022-08-19T00:00:00.000000000",
          "2022-08-20T00:00:00.000000000",
          "2022-08-21T00:00:00.000000000",
          "2022-08-22T00:00:00.000000000",
          "2022-08-23T00:00:00.000000000",
          "2022-08-24T00:00:00.000000000",
          "2022-08-25T00:00:00.000000000",
          "2022-08-26T00:00:00.000000000",
          "2022-08-27T00:00:00.000000000",
          "2022-08-28T00:00:00.000000000",
          "2022-08-29T00:00:00.000000000",
          "2022-08-30T00:00:00.000000000",
          "2022-08-31T00:00:00.000000000",
          "2022-09-01T00:00:00.000000000",
          "2022-09-02T00:00:00.000000000",
          "2022-09-03T00:00:00.000000000",
          "2022-09-04T00:00:00.000000000",
          "2022-09-05T00:00:00.000000000",
          "2022-09-06T00:00:00.000000000",
          "2022-09-07T00:00:00.000000000",
          "2022-09-08T00:00:00.000000000",
          "2022-09-09T00:00:00.000000000",
          "2022-09-10T00:00:00.000000000",
          "2022-09-11T00:00:00.000000000",
          "2022-09-12T00:00:00.000000000",
          "2022-09-13T00:00:00.000000000",
          "2022-09-14T00:00:00.000000000",
          "2022-09-15T00:00:00.000000000",
          "2022-09-16T00:00:00.000000000",
          "2022-09-17T00:00:00.000000000",
          "2022-09-18T00:00:00.000000000",
          "2022-09-19T00:00:00.000000000",
          "2022-09-20T00:00:00.000000000",
          "2022-09-21T00:00:00.000000000",
          "2022-09-22T00:00:00.000000000",
          "2022-09-23T00:00:00.000000000",
          "2022-09-24T00:00:00.000000000",
          "2022-09-25T00:00:00.000000000",
          "2022-09-26T00:00:00.000000000",
          "2022-09-27T00:00:00.000000000",
          "2022-09-28T00:00:00.000000000",
          "2022-09-29T00:00:00.000000000",
          "2022-09-30T00:00:00.000000000",
          "2022-10-01T00:00:00.000000000",
          "2022-10-02T00:00:00.000000000",
          "2022-10-03T00:00:00.000000000",
          "2022-10-04T00:00:00.000000000",
          "2022-10-05T00:00:00.000000000",
          "2022-10-06T00:00:00.000000000",
          "2022-10-07T00:00:00.000000000",
          "2022-10-08T00:00:00.000000000",
          "2022-10-09T00:00:00.000000000",
          "2022-10-10T00:00:00.000000000",
          "2022-10-11T00:00:00.000000000",
          "2022-10-12T00:00:00.000000000",
          "2022-10-13T00:00:00.000000000",
          "2022-10-14T00:00:00.000000000",
          "2022-10-15T00:00:00.000000000",
          "2022-10-16T00:00:00.000000000",
          "2022-10-17T00:00:00.000000000",
          "2022-10-18T00:00:00.000000000",
          "2022-10-19T00:00:00.000000000",
          "2022-10-20T00:00:00.000000000",
          "2022-10-21T00:00:00.000000000",
          "2022-10-22T00:00:00.000000000",
          "2022-10-23T00:00:00.000000000",
          "2022-10-24T00:00:00.000000000",
          "2022-10-25T00:00:00.000000000",
          "2022-10-26T00:00:00.000000000",
          "2022-10-27T00:00:00.000000000",
          "2022-10-28T00:00:00.000000000",
          "2022-10-29T00:00:00.000000000",
          "2022-10-30T00:00:00.000000000",
          "2022-10-31T00:00:00.000000000",
          "2022-11-01T00:00:00.000000000",
          "2022-11-02T00:00:00.000000000",
          "2022-11-03T00:00:00.000000000",
          "2022-11-04T00:00:00.000000000",
          "2022-11-05T00:00:00.000000000",
          "2022-11-06T00:00:00.000000000",
          "2022-11-07T00:00:00.000000000",
          "2022-11-08T00:00:00.000000000",
          "2022-11-09T00:00:00.000000000",
          "2022-11-10T00:00:00.000000000",
          "2022-11-11T00:00:00.000000000",
          "2022-11-12T00:00:00.000000000",
          "2022-11-13T00:00:00.000000000",
          "2022-11-14T00:00:00.000000000",
          "2022-11-15T00:00:00.000000000",
          "2022-11-16T00:00:00.000000000",
          "2022-11-17T00:00:00.000000000",
          "2022-11-18T00:00:00.000000000",
          "2022-11-19T00:00:00.000000000",
          "2022-11-20T00:00:00.000000000",
          "2022-11-21T00:00:00.000000000",
          "2022-11-22T00:00:00.000000000",
          "2022-11-23T00:00:00.000000000",
          "2022-11-24T00:00:00.000000000",
          "2022-11-25T00:00:00.000000000",
          "2022-11-26T00:00:00.000000000",
          "2022-11-27T00:00:00.000000000",
          "2022-11-28T00:00:00.000000000",
          "2022-11-29T00:00:00.000000000",
          "2022-11-30T00:00:00.000000000",
          "2022-12-01T00:00:00.000000000",
          "2022-12-02T00:00:00.000000000",
          "2022-12-03T00:00:00.000000000",
          "2022-12-04T00:00:00.000000000",
          "2022-12-05T00:00:00.000000000",
          "2022-12-06T00:00:00.000000000",
          "2022-12-07T00:00:00.000000000",
          "2022-12-08T00:00:00.000000000",
          "2022-12-09T00:00:00.000000000",
          "2022-12-10T00:00:00.000000000",
          "2022-12-11T00:00:00.000000000",
          "2022-12-12T00:00:00.000000000",
          "2022-12-13T00:00:00.000000000",
          "2022-12-14T00:00:00.000000000",
          "2022-12-15T00:00:00.000000000",
          "2022-12-16T00:00:00.000000000",
          "2022-12-17T00:00:00.000000000",
          "2022-12-18T00:00:00.000000000",
          "2022-12-19T00:00:00.000000000",
          "2022-12-20T00:00:00.000000000",
          "2022-12-21T00:00:00.000000000",
          "2022-12-22T00:00:00.000000000",
          "2022-12-23T00:00:00.000000000",
          "2022-12-24T00:00:00.000000000",
          "2022-12-25T00:00:00.000000000",
          "2022-12-26T00:00:00.000000000",
          "2022-12-27T00:00:00.000000000",
          "2022-12-28T00:00:00.000000000",
          "2022-12-29T00:00:00.000000000",
          "2022-12-30T00:00:00.000000000",
          "2022-12-31T00:00:00.000000000",
          "2023-01-01T00:00:00.000000000",
          "2023-01-02T00:00:00.000000000",
          "2023-01-03T00:00:00.000000000",
          "2023-01-04T00:00:00.000000000",
          "2023-01-05T00:00:00.000000000",
          "2023-01-06T00:00:00.000000000",
          "2023-01-07T00:00:00.000000000",
          "2023-01-08T00:00:00.000000000",
          "2023-01-09T00:00:00.000000000",
          "2023-01-10T00:00:00.000000000",
          "2023-01-11T00:00:00.000000000",
          "2023-01-12T00:00:00.000000000",
          "2023-01-13T00:00:00.000000000",
          "2023-01-14T00:00:00.000000000",
          "2023-01-15T00:00:00.000000000",
          "2023-01-16T00:00:00.000000000",
          "2023-01-17T00:00:00.000000000",
          "2023-01-18T00:00:00.000000000",
          "2023-01-19T00:00:00.000000000",
          "2023-01-20T00:00:00.000000000",
          "2023-01-21T00:00:00.000000000",
          "2023-01-22T00:00:00.000000000",
          "2023-01-23T00:00:00.000000000",
          "2023-01-24T00:00:00.000000000",
          "2023-01-25T00:00:00.000000000",
          "2023-01-26T00:00:00.000000000",
          "2023-01-27T00:00:00.000000000",
          "2023-01-28T00:00:00.000000000",
          "2023-01-29T00:00:00.000000000",
          "2023-01-30T00:00:00.000000000",
          "2023-01-31T00:00:00.000000000",
          "2023-02-01T00:00:00.000000000",
          "2023-02-02T00:00:00.000000000",
          "2023-02-03T00:00:00.000000000",
          "2023-02-04T00:00:00.000000000",
          "2023-02-05T00:00:00.000000000",
          "2023-02-06T00:00:00.000000000",
          "2023-02-07T00:00:00.000000000",
          "2023-02-08T00:00:00.000000000",
          "2023-02-09T00:00:00.000000000",
          "2023-02-10T00:00:00.000000000",
          "2023-02-11T00:00:00.000000000",
          "2023-02-12T00:00:00.000000000",
          "2023-02-13T00:00:00.000000000",
          "2023-02-14T00:00:00.000000000",
          "2023-02-15T00:00:00.000000000",
          "2023-02-16T00:00:00.000000000",
          "2023-02-17T00:00:00.000000000",
          "2023-02-18T00:00:00.000000000",
          "2023-02-19T00:00:00.000000000",
          "2023-02-20T00:00:00.000000000",
          "2023-02-21T00:00:00.000000000",
          "2023-02-22T00:00:00.000000000",
          "2023-02-23T00:00:00.000000000",
          "2023-02-24T00:00:00.000000000",
          "2023-02-25T00:00:00.000000000",
          "2023-02-26T00:00:00.000000000",
          "2023-02-27T00:00:00.000000000",
          "2023-02-28T00:00:00.000000000",
          "2023-03-01T00:00:00.000000000",
          "2023-03-02T00:00:00.000000000",
          "2023-03-03T00:00:00.000000000",
          "2023-03-04T00:00:00.000000000",
          "2023-03-05T00:00:00.000000000",
          "2023-03-06T00:00:00.000000000",
          "2023-03-07T00:00:00.000000000",
          "2023-03-08T00:00:00.000000000",
          "2023-03-09T00:00:00.000000000",
          "2023-03-10T00:00:00.000000000",
          "2023-03-11T00:00:00.000000000",
          "2023-03-12T00:00:00.000000000",
          "2023-03-13T00:00:00.000000000",
          "2023-03-14T00:00:00.000000000",
          "2023-03-15T00:00:00.000000000",
          "2023-03-16T00:00:00.000000000",
          "2023-03-17T00:00:00.000000000",
          "2023-03-18T00:00:00.000000000",
          "2023-03-19T00:00:00.000000000",
          "2023-03-20T00:00:00.000000000",
          "2023-03-21T00:00:00.000000000",
          "2023-03-22T00:00:00.000000000",
          "2023-03-23T00:00:00.000000000",
          "2023-03-24T00:00:00.000000000",
          "2023-03-25T00:00:00.000000000",
          "2023-03-26T00:00:00.000000000",
          "2023-03-27T00:00:00.000000000",
          "2023-03-28T00:00:00.000000000",
          "2023-03-29T00:00:00.000000000",
          "2023-03-30T00:00:00.000000000",
          "2023-03-31T00:00:00.000000000",
          "2023-04-01T00:00:00.000000000",
          "2023-04-02T00:00:00.000000000",
          "2023-04-03T00:00:00.000000000",
          "2023-04-04T00:00:00.000000000",
          "2023-04-05T00:00:00.000000000",
          "2023-04-06T00:00:00.000000000",
          "2023-04-07T00:00:00.000000000",
          "2023-04-08T00:00:00.000000000",
          "2023-04-09T00:00:00.000000000",
          "2023-04-10T00:00:00.000000000",
          "2023-04-11T00:00:00.000000000",
          "2023-04-12T00:00:00.000000000",
          "2023-04-13T00:00:00.000000000",
          "2023-04-14T00:00:00.000000000",
          "2023-04-15T00:00:00.000000000",
          "2023-04-16T00:00:00.000000000",
          "2023-04-17T00:00:00.000000000",
          "2023-04-18T00:00:00.000000000",
          "2023-04-19T00:00:00.000000000",
          "2023-04-20T00:00:00.000000000",
          "2023-04-21T00:00:00.000000000",
          "2023-04-22T00:00:00.000000000",
          "2023-04-23T00:00:00.000000000",
          "2023-04-24T00:00:00.000000000",
          "2023-04-25T00:00:00.000000000",
          "2023-04-26T00:00:00.000000000",
          "2023-04-27T00:00:00.000000000",
          "2023-04-28T00:00:00.000000000"
         ],
         "xaxis": "x",
         "y": {
          "bdata": "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",
          "dtype": "f8"
         },
         "yaxis": "y"
        },
        {
         "fill": "tonexty",
         "fillcolor": "rgba(0, 114, 178, 0.2)",
         "line": {
          "color": "rgba(0, 114, 178, 0.2)",
          "width": 0
         },
         "mode": "lines",
         "name": "trend_lower",
         "type": "scatter",
         "x": [
          "2021-01-01T00:00:00.000000000",
          "2021-01-02T00:00:00.000000000",
          "2021-01-03T00:00:00.000000000",
          "2021-01-04T00:00:00.000000000",
          "2021-01-05T00:00:00.000000000",
          "2021-01-06T00:00:00.000000000",
          "2021-01-07T00:00:00.000000000",
          "2021-01-08T00:00:00.000000000",
          "2021-01-09T00:00:00.000000000",
          "2021-01-10T00:00:00.000000000",
          "2021-01-11T00:00:00.000000000",
          "2021-01-12T00:00:00.000000000",
          "2021-01-13T00:00:00.000000000",
          "2021-01-14T00:00:00.000000000",
          "2021-01-15T00:00:00.000000000",
          "2021-01-16T00:00:00.000000000",
          "2021-01-17T00:00:00.000000000",
          "2021-01-18T00:00:00.000000000",
          "2021-01-19T00:00:00.000000000",
          "2021-01-20T00:00:00.000000000",
          "2021-01-21T00:00:00.000000000",
          "2021-01-22T00:00:00.000000000",
          "2021-01-23T00:00:00.000000000",
          "2021-01-24T00:00:00.000000000",
          "2021-01-25T00:00:00.000000000",
          "2021-01-26T00:00:00.000000000",
          "2021-01-27T00:00:00.000000000",
          "2021-01-28T00:00:00.000000000",
          "2021-01-29T00:00:00.000000000",
          "2021-01-30T00:00:00.000000000",
          "2021-01-31T00:00:00.000000000",
          "2021-02-01T00:00:00.000000000",
          "2021-02-02T00:00:00.000000000",
          "2021-02-03T00:00:00.000000000",
          "2021-02-04T00:00:00.000000000",
          "2021-02-05T00:00:00.000000000",
          "2021-02-06T00:00:00.000000000",
          "2021-02-07T00:00:00.000000000",
          "2021-02-08T00:00:00.000000000",
          "2021-02-09T00:00:00.000000000",
          "2021-02-10T00:00:00.000000000",
          "2021-02-11T00:00:00.000000000",
          "2021-02-12T00:00:00.000000000",
          "2021-02-13T00:00:00.000000000",
          "2021-02-14T00:00:00.000000000",
          "2021-02-15T00:00:00.000000000",
          "2021-02-16T00:00:00.000000000",
          "2021-02-17T00:00:00.000000000",
          "2021-02-18T00:00:00.000000000",
          "2021-02-19T00:00:00.000000000",
          "2021-02-20T00:00:00.000000000",
          "2021-02-21T00:00:00.000000000",
          "2021-02-22T00:00:00.000000000",
          "2021-02-23T00:00:00.000000000",
          "2021-02-24T00:00:00.000000000",
          "2021-02-25T00:00:00.000000000",
          "2021-02-26T00:00:00.000000000",
          "2021-02-27T00:00:00.000000000",
          "2021-02-28T00:00:00.000000000",
          "2021-03-01T00:00:00.000000000",
          "2021-03-02T00:00:00.000000000",
          "2021-03-03T00:00:00.000000000",
          "2021-03-04T00:00:00.000000000",
          "2021-03-05T00:00:00.000000000",
          "2021-03-06T00:00:00.000000000",
          "2021-03-07T00:00:00.000000000",
          "2021-03-08T00:00:00.000000000",
          "2021-03-09T00:00:00.000000000",
          "2021-03-10T00:00:00.000000000",
          "2021-03-11T00:00:00.000000000",
          "2021-03-12T00:00:00.000000000",
          "2021-03-13T00:00:00.000000000",
          "2021-03-14T00:00:00.000000000",
          "2021-03-15T00:00:00.000000000",
          "2021-03-16T00:00:00.000000000",
          "2021-03-17T00:00:00.000000000",
          "2021-03-18T00:00:00.000000000",
          "2021-03-19T00:00:00.000000000",
          "2021-03-20T00:00:00.000000000",
          "2021-03-21T00:00:00.000000000",
          "2021-03-22T00:00:00.000000000",
          "2021-03-23T00:00:00.000000000",
          "2021-03-24T00:00:00.000000000",
          "2021-03-25T00:00:00.000000000",
          "2021-03-26T00:00:00.000000000",
          "2021-03-27T00:00:00.000000000",
          "2021-03-28T00:00:00.000000000",
          "2021-03-29T00:00:00.000000000",
          "2021-03-30T00:00:00.000000000",
          "2021-03-31T00:00:00.000000000",
          "2021-04-01T00:00:00.000000000",
          "2021-04-02T00:00:00.000000000",
          "2021-04-03T00:00:00.000000000",
          "2021-04-04T00:00:00.000000000",
          "2021-04-05T00:00:00.000000000",
          "2021-04-06T00:00:00.000000000",
          "2021-04-07T00:00:00.000000000",
          "2021-04-08T00:00:00.000000000",
          "2021-04-09T00:00:00.000000000",
          "2021-04-10T00:00:00.000000000",
          "2021-04-11T00:00:00.000000000",
          "2021-04-12T00:00:00.000000000",
          "2021-04-13T00:00:00.000000000",
          "2021-04-14T00:00:00.000000000",
          "2021-04-15T00:00:00.000000000",
          "2021-04-16T00:00:00.000000000",
          "2021-04-17T00:00:00.000000000",
          "2021-04-18T00:00:00.000000000",
          "2021-04-19T00:00:00.000000000",
          "2021-04-20T00:00:00.000000000",
          "2021-04-21T00:00:00.000000000",
          "2021-04-22T00:00:00.000000000",
          "2021-04-23T00:00:00.000000000",
          "2021-04-24T00:00:00.000000000",
          "2021-04-25T00:00:00.000000000",
          "2021-04-26T00:00:00.000000000",
          "2021-04-27T00:00:00.000000000",
          "2021-04-28T00:00:00.000000000",
          "2021-04-29T00:00:00.000000000",
          "2021-04-30T00:00:00.000000000",
          "2021-05-01T00:00:00.000000000",
          "2021-05-02T00:00:00.000000000",
          "2021-05-03T00:00:00.000000000",
          "2021-05-04T00:00:00.000000000",
          "2021-05-05T00:00:00.000000000",
          "2021-05-06T00:00:00.000000000",
          "2021-05-07T00:00:00.000000000",
          "2021-05-08T00:00:00.000000000",
          "2021-05-09T00:00:00.000000000",
          "2021-05-10T00:00:00.000000000",
          "2021-05-11T00:00:00.000000000",
          "2021-05-12T00:00:00.000000000",
          "2021-05-13T00:00:00.000000000",
          "2021-05-14T00:00:00.000000000",
          "2021-05-15T00:00:00.000000000",
          "2021-05-16T00:00:00.000000000",
          "2021-05-17T00:00:00.000000000",
          "2021-05-18T00:00:00.000000000",
          "2021-05-19T00:00:00.000000000",
          "2021-05-20T00:00:00.000000000",
          "2021-05-21T00:00:00.000000000",
          "2021-05-22T00:00:00.000000000",
          "2021-05-23T00:00:00.000000000",
          "2021-05-24T00:00:00.000000000",
          "2021-05-25T00:00:00.000000000",
          "2021-05-26T00:00:00.000000000",
          "2021-05-27T00:00:00.000000000",
          "2021-05-28T00:00:00.000000000",
          "2021-05-29T00:00:00.000000000",
          "2021-05-30T00:00:00.000000000",
          "2021-05-31T00:00:00.000000000",
          "2021-06-01T00:00:00.000000000",
          "2021-06-02T00:00:00.000000000",
          "2021-06-03T00:00:00.000000000",
          "2021-06-04T00:00:00.000000000",
          "2021-06-05T00:00:00.000000000",
          "2021-06-06T00:00:00.000000000",
          "2021-06-07T00:00:00.000000000",
          "2021-06-08T00:00:00.000000000",
          "2021-06-09T00:00:00.000000000",
          "2021-06-10T00:00:00.000000000",
          "2021-06-11T00:00:00.000000000",
          "2021-06-12T00:00:00.000000000",
          "2021-06-13T00:00:00.000000000",
          "2021-06-14T00:00:00.000000000",
          "2021-06-15T00:00:00.000000000",
          "2021-06-16T00:00:00.000000000",
          "2021-06-17T00:00:00.000000000",
          "2021-06-18T00:00:00.000000000",
          "2021-06-19T00:00:00.000000000",
          "2021-06-20T00:00:00.000000000",
          "2021-06-21T00:00:00.000000000",
          "2021-06-22T00:00:00.000000000",
          "2021-06-23T00:00:00.000000000",
          "2021-06-24T00:00:00.000000000",
          "2021-06-25T00:00:00.000000000",
          "2021-06-26T00:00:00.000000000",
          "2021-06-27T00:00:00.000000000",
          "2021-06-28T00:00:00.000000000",
          "2021-06-29T00:00:00.000000000",
          "2021-06-30T00:00:00.000000000",
          "2021-07-01T00:00:00.000000000",
          "2021-07-02T00:00:00.000000000",
          "2021-07-03T00:00:00.000000000",
          "2021-07-04T00:00:00.000000000",
          "2021-07-05T00:00:00.000000000",
          "2021-07-06T00:00:00.000000000",
          "2021-07-07T00:00:00.000000000",
          "2021-07-08T00:00:00.000000000",
          "2021-07-09T00:00:00.000000000",
          "2021-07-10T00:00:00.000000000",
          "2021-07-11T00:00:00.000000000",
          "2021-07-12T00:00:00.000000000",
          "2021-07-13T00:00:00.000000000",
          "2021-07-14T00:00:00.000000000",
          "2021-07-15T00:00:00.000000000",
          "2021-07-16T00:00:00.000000000",
          "2021-07-17T00:00:00.000000000",
          "2021-07-18T00:00:00.000000000",
          "2021-07-19T00:00:00.000000000",
          "2021-07-20T00:00:00.000000000",
          "2021-07-21T00:00:00.000000000",
          "2021-07-22T00:00:00.000000000",
          "2021-07-23T00:00:00.000000000",
          "2021-07-24T00:00:00.000000000",
          "2021-07-25T00:00:00.000000000",
          "2021-07-26T00:00:00.000000000",
          "2021-07-27T00:00:00.000000000",
          "2021-07-28T00:00:00.000000000",
          "2021-07-29T00:00:00.000000000",
          "2021-07-30T00:00:00.000000000",
          "2021-07-31T00:00:00.000000000",
          "2021-08-01T00:00:00.000000000",
          "2021-08-02T00:00:00.000000000",
          "2021-08-03T00:00:00.000000000",
          "2021-08-04T00:00:00.000000000",
          "2021-08-05T00:00:00.000000000",
          "2021-08-06T00:00:00.000000000",
          "2021-08-07T00:00:00.000000000",
          "2021-08-08T00:00:00.000000000",
          "2021-08-09T00:00:00.000000000",
          "2021-08-10T00:00:00.000000000",
          "2021-08-11T00:00:00.000000000",
          "2021-08-12T00:00:00.000000000",
          "2021-08-13T00:00:00.000000000",
          "2021-08-14T00:00:00.000000000",
          "2021-08-15T00:00:00.000000000",
          "2021-08-16T00:00:00.000000000",
          "2021-08-17T00:00:00.000000000",
          "2021-08-18T00:00:00.000000000",
          "2021-08-19T00:00:00.000000000",
          "2021-08-20T00:00:00.000000000",
          "2021-08-21T00:00:00.000000000",
          "2021-08-22T00:00:00.000000000",
          "2021-08-23T00:00:00.000000000",
          "2021-08-24T00:00:00.000000000",
          "2021-08-25T00:00:00.000000000",
          "2021-08-26T00:00:00.000000000",
          "2021-08-27T00:00:00.000000000",
          "2021-08-28T00:00:00.000000000",
          "2021-08-29T00:00:00.000000000",
          "2021-08-30T00:00:00.000000000",
          "2021-08-31T00:00:00.000000000",
          "2021-09-01T00:00:00.000000000",
          "2021-09-02T00:00:00.000000000",
          "2021-09-03T00:00:00.000000000",
          "2021-09-04T00:00:00.000000000",
          "2021-09-05T00:00:00.000000000",
          "2021-09-06T00:00:00.000000000",
          "2021-09-07T00:00:00.000000000",
          "2021-09-08T00:00:00.000000000",
          "2021-09-09T00:00:00.000000000",
          "2021-09-10T00:00:00.000000000",
          "2021-09-11T00:00:00.000000000",
          "2021-09-12T00:00:00.000000000",
          "2021-09-13T00:00:00.000000000",
          "2021-09-14T00:00:00.000000000",
          "2021-09-15T00:00:00.000000000",
          "2021-09-16T00:00:00.000000000",
          "2021-09-17T00:00:00.000000000",
          "2021-09-18T00:00:00.000000000",
          "2021-09-19T00:00:00.000000000",
          "2021-09-20T00:00:00.000000000",
          "2021-09-21T00:00:00.000000000",
          "2021-09-22T00:00:00.000000000",
          "2021-09-23T00:00:00.000000000",
          "2021-09-24T00:00:00.000000000",
          "2021-09-25T00:00:00.000000000",
          "2021-09-26T00:00:00.000000000",
          "2021-09-27T00:00:00.000000000",
          "2021-09-28T00:00:00.000000000",
          "2021-09-29T00:00:00.000000000",
          "2021-09-30T00:00:00.000000000",
          "2021-10-01T00:00:00.000000000",
          "2021-10-02T00:00:00.000000000",
          "2021-10-03T00:00:00.000000000",
          "2021-10-04T00:00:00.000000000",
          "2021-10-05T00:00:00.000000000",
          "2021-10-06T00:00:00.000000000",
          "2021-10-07T00:00:00.000000000",
          "2021-10-08T00:00:00.000000000",
          "2021-10-09T00:00:00.000000000",
          "2021-10-10T00:00:00.000000000",
          "2021-10-11T00:00:00.000000000",
          "2021-10-12T00:00:00.000000000",
          "2021-10-13T00:00:00.000000000",
          "2021-10-14T00:00:00.000000000",
          "2021-10-15T00:00:00.000000000",
          "2021-10-16T00:00:00.000000000",
          "2021-10-17T00:00:00.000000000",
          "2021-10-18T00:00:00.000000000",
          "2021-10-19T00:00:00.000000000",
          "2021-10-20T00:00:00.000000000",
          "2021-10-21T00:00:00.000000000",
          "2021-10-22T00:00:00.000000000",
          "2021-10-23T00:00:00.000000000",
          "2021-10-24T00:00:00.000000000",
          "2021-10-25T00:00:00.000000000",
          "2021-10-26T00:00:00.000000000",
          "2021-10-27T00:00:00.000000000",
          "2021-10-28T00:00:00.000000000",
          "2021-10-29T00:00:00.000000000",
          "2021-10-30T00:00:00.000000000",
          "2021-10-31T00:00:00.000000000",
          "2021-11-01T00:00:00.000000000",
          "2021-11-02T00:00:00.000000000",
          "2021-11-03T00:00:00.000000000",
          "2021-11-04T00:00:00.000000000",
          "2021-11-05T00:00:00.000000000",
          "2021-11-06T00:00:00.000000000",
          "2021-11-07T00:00:00.000000000",
          "2021-11-08T00:00:00.000000000",
          "2021-11-09T00:00:00.000000000",
          "2021-11-10T00:00:00.000000000",
          "2021-11-11T00:00:00.000000000",
          "2021-11-12T00:00:00.000000000",
          "2021-11-13T00:00:00.000000000",
          "2021-11-14T00:00:00.000000000",
          "2021-11-15T00:00:00.000000000",
          "2021-11-16T00:00:00.000000000",
          "2021-11-17T00:00:00.000000000",
          "2021-11-18T00:00:00.000000000",
          "2021-11-19T00:00:00.000000000",
          "2021-11-20T00:00:00.000000000",
          "2021-11-21T00:00:00.000000000",
          "2021-11-22T00:00:00.000000000",
          "2021-11-23T00:00:00.000000000",
          "2021-11-24T00:00:00.000000000",
          "2021-11-25T00:00:00.000000000",
          "2021-11-26T00:00:00.000000000",
          "2021-11-27T00:00:00.000000000",
          "2021-11-28T00:00:00.000000000",
          "2021-11-29T00:00:00.000000000",
          "2021-11-30T00:00:00.000000000",
          "2021-12-01T00:00:00.000000000",
          "2021-12-02T00:00:00.000000000",
          "2021-12-03T00:00:00.000000000",
          "2021-12-04T00:00:00.000000000",
          "2021-12-05T00:00:00.000000000",
          "2021-12-06T00:00:00.000000000",
          "2021-12-07T00:00:00.000000000",
          "2021-12-08T00:00:00.000000000",
          "2021-12-09T00:00:00.000000000",
          "2021-12-10T00:00:00.000000000",
          "2021-12-11T00:00:00.000000000",
          "2021-12-12T00:00:00.000000000",
          "2021-12-13T00:00:00.000000000",
          "2021-12-14T00:00:00.000000000",
          "2021-12-15T00:00:00.000000000",
          "2021-12-16T00:00:00.000000000",
          "2021-12-17T00:00:00.000000000",
          "2021-12-18T00:00:00.000000000",
          "2021-12-19T00:00:00.000000000",
          "2021-12-20T00:00:00.000000000",
          "2021-12-21T00:00:00.000000000",
          "2021-12-22T00:00:00.000000000",
          "2021-12-23T00:00:00.000000000",
          "2021-12-24T00:00:00.000000000",
          "2021-12-25T00:00:00.000000000",
          "2021-12-26T00:00:00.000000000",
          "2021-12-27T00:00:00.000000000",
          "2021-12-28T00:00:00.000000000",
          "2021-12-29T00:00:00.000000000",
          "2021-12-30T00:00:00.000000000",
          "2021-12-31T00:00:00.000000000",
          "2022-01-01T00:00:00.000000000",
          "2022-01-02T00:00:00.000000000",
          "2022-01-03T00:00:00.000000000",
          "2022-01-04T00:00:00.000000000",
          "2022-01-05T00:00:00.000000000",
          "2022-01-06T00:00:00.000000000",
          "2022-01-07T00:00:00.000000000",
          "2022-01-08T00:00:00.000000000",
          "2022-01-09T00:00:00.000000000",
          "2022-01-10T00:00:00.000000000",
          "2022-01-11T00:00:00.000000000",
          "2022-01-12T00:00:00.000000000",
          "2022-01-13T00:00:00.000000000",
          "2022-01-14T00:00:00.000000000",
          "2022-01-15T00:00:00.000000000",
          "2022-01-16T00:00:00.000000000",
          "2022-01-17T00:00:00.000000000",
          "2022-01-18T00:00:00.000000000",
          "2022-01-19T00:00:00.000000000",
          "2022-01-20T00:00:00.000000000",
          "2022-01-21T00:00:00.000000000",
          "2022-01-22T00:00:00.000000000",
          "2022-01-23T00:00:00.000000000",
          "2022-01-24T00:00:00.000000000",
          "2022-01-25T00:00:00.000000000",
          "2022-01-26T00:00:00.000000000",
          "2022-01-27T00:00:00.000000000",
          "2022-01-28T00:00:00.000000000",
          "2022-01-29T00:00:00.000000000",
          "2022-01-30T00:00:00.000000000",
          "2022-01-31T00:00:00.000000000",
          "2022-02-01T00:00:00.000000000",
          "2022-02-02T00:00:00.000000000",
          "2022-02-03T00:00:00.000000000",
          "2022-02-04T00:00:00.000000000",
          "2022-02-05T00:00:00.000000000",
          "2022-02-06T00:00:00.000000000",
          "2022-02-07T00:00:00.000000000",
          "2022-02-08T00:00:00.000000000",
          "2022-02-09T00:00:00.000000000",
          "2022-02-10T00:00:00.000000000",
          "2022-02-11T00:00:00.000000000",
          "2022-02-12T00:00:00.000000000",
          "2022-02-13T00:00:00.000000000",
          "2022-02-14T00:00:00.000000000",
          "2022-02-15T00:00:00.000000000",
          "2022-02-16T00:00:00.000000000",
          "2022-02-17T00:00:00.000000000",
          "2022-02-18T00:00:00.000000000",
          "2022-02-19T00:00:00.000000000",
          "2022-02-20T00:00:00.000000000",
          "2022-02-21T00:00:00.000000000",
          "2022-02-22T00:00:00.000000000",
          "2022-02-23T00:00:00.000000000",
          "2022-02-24T00:00:00.000000000",
          "2022-02-25T00:00:00.000000000",
          "2022-02-26T00:00:00.000000000",
          "2022-02-27T00:00:00.000000000",
          "2022-02-28T00:00:00.000000000",
          "2022-03-01T00:00:00.000000000",
          "2022-03-02T00:00:00.000000000",
          "2022-03-03T00:00:00.000000000",
          "2022-03-04T00:00:00.000000000",
          "2022-03-05T00:00:00.000000000",
          "2022-03-06T00:00:00.000000000",
          "2022-03-07T00:00:00.000000000",
          "2022-03-08T00:00:00.000000000",
          "2022-03-09T00:00:00.000000000",
          "2022-03-10T00:00:00.000000000",
          "2022-03-11T00:00:00.000000000",
          "2022-03-12T00:00:00.000000000",
          "2022-03-13T00:00:00.000000000",
          "2022-03-14T00:00:00.000000000",
          "2022-03-15T00:00:00.000000000",
          "2022-03-16T00:00:00.000000000",
          "2022-03-17T00:00:00.000000000",
          "2022-03-18T00:00:00.000000000",
          "2022-03-19T00:00:00.000000000",
          "2022-03-20T00:00:00.000000000",
          "2022-03-21T00:00:00.000000000",
          "2022-03-22T00:00:00.000000000",
          "2022-03-23T00:00:00.000000000",
          "2022-03-24T00:00:00.000000000",
          "2022-03-25T00:00:00.000000000",
          "2022-03-26T00:00:00.000000000",
          "2022-03-27T00:00:00.000000000",
          "2022-03-28T00:00:00.000000000",
          "2022-03-29T00:00:00.000000000",
          "2022-03-30T00:00:00.000000000",
          "2022-03-31T00:00:00.000000000",
          "2022-04-01T00:00:00.000000000",
          "2022-04-02T00:00:00.000000000",
          "2022-04-03T00:00:00.000000000",
          "2022-04-04T00:00:00.000000000",
          "2022-04-05T00:00:00.000000000",
          "2022-04-06T00:00:00.000000000",
          "2022-04-07T00:00:00.000000000",
          "2022-04-08T00:00:00.000000000",
          "2022-04-09T00:00:00.000000000",
          "2022-04-10T00:00:00.000000000",
          "2022-04-11T00:00:00.000000000",
          "2022-04-12T00:00:00.000000000",
          "2022-04-13T00:00:00.000000000",
          "2022-04-14T00:00:00.000000000",
          "2022-04-15T00:00:00.000000000",
          "2022-04-16T00:00:00.000000000",
          "2022-04-17T00:00:00.000000000",
          "2022-04-18T00:00:00.000000000",
          "2022-04-19T00:00:00.000000000",
          "2022-04-20T00:00:00.000000000",
          "2022-04-21T00:00:00.000000000",
          "2022-04-22T00:00:00.000000000",
          "2022-04-23T00:00:00.000000000",
          "2022-04-24T00:00:00.000000000",
          "2022-04-25T00:00:00.000000000",
          "2022-04-26T00:00:00.000000000",
          "2022-04-27T00:00:00.000000000",
          "2022-04-28T00:00:00.000000000",
          "2022-04-29T00:00:00.000000000",
          "2022-04-30T00:00:00.000000000",
          "2022-05-01T00:00:00.000000000",
          "2022-05-02T00:00:00.000000000",
          "2022-05-03T00:00:00.000000000",
          "2022-05-04T00:00:00.000000000",
          "2022-05-05T00:00:00.000000000",
          "2022-05-06T00:00:00.000000000",
          "2022-05-07T00:00:00.000000000",
          "2022-05-08T00:00:00.000000000",
          "2022-05-09T00:00:00.000000000",
          "2022-05-10T00:00:00.000000000",
          "2022-05-11T00:00:00.000000000",
          "2022-05-12T00:00:00.000000000",
          "2022-05-13T00:00:00.000000000",
          "2022-05-14T00:00:00.000000000",
          "2022-05-15T00:00:00.000000000",
          "2022-05-16T00:00:00.000000000",
          "2022-05-17T00:00:00.000000000",
          "2022-05-18T00:00:00.000000000",
          "2022-05-19T00:00:00.000000000",
          "2022-05-20T00:00:00.000000000",
          "2022-05-21T00:00:00.000000000",
          "2022-05-22T00:00:00.000000000",
          "2022-05-23T00:00:00.000000000",
          "2022-05-24T00:00:00.000000000",
          "2022-05-25T00:00:00.000000000",
          "2022-05-26T00:00:00.000000000",
          "2022-05-27T00:00:00.000000000",
          "2022-05-28T00:00:00.000000000",
          "2022-05-29T00:00:00.000000000",
          "2022-05-30T00:00:00.000000000",
          "2022-05-31T00:00:00.000000000",
          "2022-06-01T00:00:00.000000000",
          "2022-06-02T00:00:00.000000000",
          "2022-06-03T00:00:00.000000000",
          "2022-06-04T00:00:00.000000000",
          "2022-06-05T00:00:00.000000000",
          "2022-06-06T00:00:00.000000000",
          "2022-06-07T00:00:00.000000000",
          "2022-06-08T00:00:00.000000000",
          "2022-06-09T00:00:00.000000000",
          "2022-06-10T00:00:00.000000000",
          "2022-06-11T00:00:00.000000000",
          "2022-06-12T00:00:00.000000000",
          "2022-06-13T00:00:00.000000000",
          "2022-06-14T00:00:00.000000000",
          "2022-06-15T00:00:00.000000000",
          "2022-06-16T00:00:00.000000000",
          "2022-06-17T00:00:00.000000000",
          "2022-06-18T00:00:00.000000000",
          "2022-06-19T00:00:00.000000000",
          "2022-06-20T00:00:00.000000000",
          "2022-06-21T00:00:00.000000000",
          "2022-06-22T00:00:00.000000000",
          "2022-06-23T00:00:00.000000000",
          "2022-06-24T00:00:00.000000000",
          "2022-06-25T00:00:00.000000000",
          "2022-06-26T00:00:00.000000000",
          "2022-06-27T00:00:00.000000000",
          "2022-06-28T00:00:00.000000000",
          "2022-06-29T00:00:00.000000000",
          "2022-06-30T00:00:00.000000000",
          "2022-07-01T00:00:00.000000000",
          "2022-07-02T00:00:00.000000000",
          "2022-07-03T00:00:00.000000000",
          "2022-07-04T00:00:00.000000000",
          "2022-07-05T00:00:00.000000000",
          "2022-07-06T00:00:00.000000000",
          "2022-07-07T00:00:00.000000000",
          "2022-07-08T00:00:00.000000000",
          "2022-07-09T00:00:00.000000000",
          "2022-07-10T00:00:00.000000000",
          "2022-07-11T00:00:00.000000000",
          "2022-07-12T00:00:00.000000000",
          "2022-07-13T00:00:00.000000000",
          "2022-07-14T00:00:00.000000000",
          "2022-07-15T00:00:00.000000000",
          "2022-07-16T00:00:00.000000000",
          "2022-07-17T00:00:00.000000000",
          "2022-07-18T00:00:00.000000000",
          "2022-07-19T00:00:00.000000000",
          "2022-07-20T00:00:00.000000000",
          "2022-07-21T00:00:00.000000000",
          "2022-07-22T00:00:00.000000000",
          "2022-07-23T00:00:00.000000000",
          "2022-07-24T00:00:00.000000000",
          "2022-07-25T00:00:00.000000000",
          "2022-07-26T00:00:00.000000000",
          "2022-07-27T00:00:00.000000000",
          "2022-07-28T00:00:00.000000000",
          "2022-07-29T00:00:00.000000000",
          "2022-07-30T00:00:00.000000000",
          "2022-07-31T00:00:00.000000000",
          "2022-08-01T00:00:00.000000000",
          "2022-08-02T00:00:00.000000000",
          "2022-08-03T00:00:00.000000000",
          "2022-08-04T00:00:00.000000000",
          "2022-08-05T00:00:00.000000000",
          "2022-08-06T00:00:00.000000000",
          "2022-08-07T00:00:00.000000000",
          "2022-08-08T00:00:00.000000000",
          "2022-08-09T00:00:00.000000000",
          "2022-08-10T00:00:00.000000000",
          "2022-08-11T00:00:00.000000000",
          "2022-08-12T00:00:00.000000000",
          "2022-08-13T00:00:00.000000000",
          "2022-08-14T00:00:00.000000000",
          "2022-08-15T00:00:00.000000000",
          "2022-08-16T00:00:00.000000000",
          "2022-08-17T00:00:00.000000000",
          "2022-08-18T00:00:00.000000000",
          "2022-08-19T00:00:00.000000000",
          "2022-08-20T00:00:00.000000000",
          "2022-08-21T00:00:00.000000000",
          "2022-08-22T00:00:00.000000000",
          "2022-08-23T00:00:00.000000000",
          "2022-08-24T00:00:00.000000000",
          "2022-08-25T00:00:00.000000000",
          "2022-08-26T00:00:00.000000000",
          "2022-08-27T00:00:00.000000000",
          "2022-08-28T00:00:00.000000000",
          "2022-08-29T00:00:00.000000000",
          "2022-08-30T00:00:00.000000000",
          "2022-08-31T00:00:00.000000000",
          "2022-09-01T00:00:00.000000000",
          "2022-09-02T00:00:00.000000000",
          "2022-09-03T00:00:00.000000000",
          "2022-09-04T00:00:00.000000000",
          "2022-09-05T00:00:00.000000000",
          "2022-09-06T00:00:00.000000000",
          "2022-09-07T00:00:00.000000000",
          "2022-09-08T00:00:00.000000000",
          "2022-09-09T00:00:00.000000000",
          "2022-09-10T00:00:00.000000000",
          "2022-09-11T00:00:00.000000000",
          "2022-09-12T00:00:00.000000000",
          "2022-09-13T00:00:00.000000000",
          "2022-09-14T00:00:00.000000000",
          "2022-09-15T00:00:00.000000000",
          "2022-09-16T00:00:00.000000000",
          "2022-09-17T00:00:00.000000000",
          "2022-09-18T00:00:00.000000000",
          "2022-09-19T00:00:00.000000000",
          "2022-09-20T00:00:00.000000000",
          "2022-09-21T00:00:00.000000000",
          "2022-09-22T00:00:00.000000000",
          "2022-09-23T00:00:00.000000000",
          "2022-09-24T00:00:00.000000000",
          "2022-09-25T00:00:00.000000000",
          "2022-09-26T00:00:00.000000000",
          "2022-09-27T00:00:00.000000000",
          "2022-09-28T00:00:00.000000000",
          "2022-09-29T00:00:00.000000000",
          "2022-09-30T00:00:00.000000000",
          "2022-10-01T00:00:00.000000000",
          "2022-10-02T00:00:00.000000000",
          "2022-10-03T00:00:00.000000000",
          "2022-10-04T00:00:00.000000000",
          "2022-10-05T00:00:00.000000000",
          "2022-10-06T00:00:00.000000000",
          "2022-10-07T00:00:00.000000000",
          "2022-10-08T00:00:00.000000000",
          "2022-10-09T00:00:00.000000000",
          "2022-10-10T00:00:00.000000000",
          "2022-10-11T00:00:00.000000000",
          "2022-10-12T00:00:00.000000000",
          "2022-10-13T00:00:00.000000000",
          "2022-10-14T00:00:00.000000000",
          "2022-10-15T00:00:00.000000000",
          "2022-10-16T00:00:00.000000000",
          "2022-10-17T00:00:00.000000000",
          "2022-10-18T00:00:00.000000000",
          "2022-10-19T00:00:00.000000000",
          "2022-10-20T00:00:00.000000000",
          "2022-10-21T00:00:00.000000000",
          "2022-10-22T00:00:00.000000000",
          "2022-10-23T00:00:00.000000000",
          "2022-10-24T00:00:00.000000000",
          "2022-10-25T00:00:00.000000000",
          "2022-10-26T00:00:00.000000000",
          "2022-10-27T00:00:00.000000000",
          "2022-10-28T00:00:00.000000000",
          "2022-10-29T00:00:00.000000000",
          "2022-10-30T00:00:00.000000000",
          "2022-10-31T00:00:00.000000000",
          "2022-11-01T00:00:00.000000000",
          "2022-11-02T00:00:00.000000000",
          "2022-11-03T00:00:00.000000000",
          "2022-11-04T00:00:00.000000000",
          "2022-11-05T00:00:00.000000000",
          "2022-11-06T00:00:00.000000000",
          "2022-11-07T00:00:00.000000000",
          "2022-11-08T00:00:00.000000000",
          "2022-11-09T00:00:00.000000000",
          "2022-11-10T00:00:00.000000000",
          "2022-11-11T00:00:00.000000000",
          "2022-11-12T00:00:00.000000000",
          "2022-11-13T00:00:00.000000000",
          "2022-11-14T00:00:00.000000000",
          "2022-11-15T00:00:00.000000000",
          "2022-11-16T00:00:00.000000000",
          "2022-11-17T00:00:00.000000000",
          "2022-11-18T00:00:00.000000000",
          "2022-11-19T00:00:00.000000000",
          "2022-11-20T00:00:00.000000000",
          "2022-11-21T00:00:00.000000000",
          "2022-11-22T00:00:00.000000000",
          "2022-11-23T00:00:00.000000000",
          "2022-11-24T00:00:00.000000000",
          "2022-11-25T00:00:00.000000000",
          "2022-11-26T00:00:00.000000000",
          "2022-11-27T00:00:00.000000000",
          "2022-11-28T00:00:00.000000000",
          "2022-11-29T00:00:00.000000000",
          "2022-11-30T00:00:00.000000000",
          "2022-12-01T00:00:00.000000000",
          "2022-12-02T00:00:00.000000000",
          "2022-12-03T00:00:00.000000000",
          "2022-12-04T00:00:00.000000000",
          "2022-12-05T00:00:00.000000000",
          "2022-12-06T00:00:00.000000000",
          "2022-12-07T00:00:00.000000000",
          "2022-12-08T00:00:00.000000000",
          "2022-12-09T00:00:00.000000000",
          "2022-12-10T00:00:00.000000000",
          "2022-12-11T00:00:00.000000000",
          "2022-12-12T00:00:00.000000000",
          "2022-12-13T00:00:00.000000000",
          "2022-12-14T00:00:00.000000000",
          "2022-12-15T00:00:00.000000000",
          "2022-12-16T00:00:00.000000000",
          "2022-12-17T00:00:00.000000000",
          "2022-12-18T00:00:00.000000000",
          "2022-12-19T00:00:00.000000000",
          "2022-12-20T00:00:00.000000000",
          "2022-12-21T00:00:00.000000000",
          "2022-12-22T00:00:00.000000000",
          "2022-12-23T00:00:00.000000000",
          "2022-12-24T00:00:00.000000000",
          "2022-12-25T00:00:00.000000000",
          "2022-12-26T00:00:00.000000000",
          "2022-12-27T00:00:00.000000000",
          "2022-12-28T00:00:00.000000000",
          "2022-12-29T00:00:00.000000000",
          "2022-12-30T00:00:00.000000000",
          "2022-12-31T00:00:00.000000000",
          "2023-01-01T00:00:00.000000000",
          "2023-01-02T00:00:00.000000000",
          "2023-01-03T00:00:00.000000000",
          "2023-01-04T00:00:00.000000000",
          "2023-01-05T00:00:00.000000000",
          "2023-01-06T00:00:00.000000000",
          "2023-01-07T00:00:00.000000000",
          "2023-01-08T00:00:00.000000000",
          "2023-01-09T00:00:00.000000000",
          "2023-01-10T00:00:00.000000000",
          "2023-01-11T00:00:00.000000000",
          "2023-01-12T00:00:00.000000000",
          "2023-01-13T00:00:00.000000000",
          "2023-01-14T00:00:00.000000000",
          "2023-01-15T00:00:00.000000000",
          "2023-01-16T00:00:00.000000000",
          "2023-01-17T00:00:00.000000000",
          "2023-01-18T00:00:00.000000000",
          "2023-01-19T00:00:00.000000000",
          "2023-01-20T00:00:00.000000000",
          "2023-01-21T00:00:00.000000000",
          "2023-01-22T00:00:00.000000000",
          "2023-01-23T00:00:00.000000000",
          "2023-01-24T00:00:00.000000000",
          "2023-01-25T00:00:00.000000000",
          "2023-01-26T00:00:00.000000000",
          "2023-01-27T00:00:00.000000000",
          "2023-01-28T00:00:00.000000000",
          "2023-01-29T00:00:00.000000000",
          "2023-01-30T00:00:00.000000000",
          "2023-01-31T00:00:00.000000000",
          "2023-02-01T00:00:00.000000000",
          "2023-02-02T00:00:00.000000000",
          "2023-02-03T00:00:00.000000000",
          "2023-02-04T00:00:00.000000000",
          "2023-02-05T00:00:00.000000000",
          "2023-02-06T00:00:00.000000000",
          "2023-02-07T00:00:00.000000000",
          "2023-02-08T00:00:00.000000000",
          "2023-02-09T00:00:00.000000000",
          "2023-02-10T00:00:00.000000000",
          "2023-02-11T00:00:00.000000000",
          "2023-02-12T00:00:00.000000000",
          "2023-02-13T00:00:00.000000000",
          "2023-02-14T00:00:00.000000000",
          "2023-02-15T00:00:00.000000000",
          "2023-02-16T00:00:00.000000000",
          "2023-02-17T00:00:00.000000000",
          "2023-02-18T00:00:00.000000000",
          "2023-02-19T00:00:00.000000000",
          "2023-02-20T00:00:00.000000000",
          "2023-02-21T00:00:00.000000000",
          "2023-02-22T00:00:00.000000000",
          "2023-02-23T00:00:00.000000000",
          "2023-02-24T00:00:00.000000000",
          "2023-02-25T00:00:00.000000000",
          "2023-02-26T00:00:00.000000000",
          "2023-02-27T00:00:00.000000000",
          "2023-02-28T00:00:00.000000000",
          "2023-03-01T00:00:00.000000000",
          "2023-03-02T00:00:00.000000000",
          "2023-03-03T00:00:00.000000000",
          "2023-03-04T00:00:00.000000000",
          "2023-03-05T00:00:00.000000000",
          "2023-03-06T00:00:00.000000000",
          "2023-03-07T00:00:00.000000000",
          "2023-03-08T00:00:00.000000000",
          "2023-03-09T00:00:00.000000000",
          "2023-03-10T00:00:00.000000000",
          "2023-03-11T00:00:00.000000000",
          "2023-03-12T00:00:00.000000000",
          "2023-03-13T00:00:00.000000000",
          "2023-03-14T00:00:00.000000000",
          "2023-03-15T00:00:00.000000000",
          "2023-03-16T00:00:00.000000000",
          "2023-03-17T00:00:00.000000000",
          "2023-03-18T00:00:00.000000000",
          "2023-03-19T00:00:00.000000000",
          "2023-03-20T00:00:00.000000000",
          "2023-03-21T00:00:00.000000000",
          "2023-03-22T00:00:00.000000000",
          "2023-03-23T00:00:00.000000000",
          "2023-03-24T00:00:00.000000000",
          "2023-03-25T00:00:00.000000000",
          "2023-03-26T00:00:00.000000000",
          "2023-03-27T00:00:00.000000000",
          "2023-03-28T00:00:00.000000000",
          "2023-03-29T00:00:00.000000000",
          "2023-03-30T00:00:00.000000000",
          "2023-03-31T00:00:00.000000000",
          "2023-04-01T00:00:00.000000000",
          "2023-04-02T00:00:00.000000000",
          "2023-04-03T00:00:00.000000000",
          "2023-04-04T00:00:00.000000000",
          "2023-04-05T00:00:00.000000000",
          "2023-04-06T00:00:00.000000000",
          "2023-04-07T00:00:00.000000000",
          "2023-04-08T00:00:00.000000000",
          "2023-04-09T00:00:00.000000000",
          "2023-04-10T00:00:00.000000000",
          "2023-04-11T00:00:00.000000000",
          "2023-04-12T00:00:00.000000000",
          "2023-04-13T00:00:00.000000000",
          "2023-04-14T00:00:00.000000000",
          "2023-04-15T00:00:00.000000000",
          "2023-04-16T00:00:00.000000000",
          "2023-04-17T00:00:00.000000000",
          "2023-04-18T00:00:00.000000000",
          "2023-04-19T00:00:00.000000000",
          "2023-04-20T00:00:00.000000000",
          "2023-04-21T00:00:00.000000000",
          "2023-04-22T00:00:00.000000000",
          "2023-04-23T00:00:00.000000000",
          "2023-04-24T00:00:00.000000000",
          "2023-04-25T00:00:00.000000000",
          "2023-04-26T00:00:00.000000000",
          "2023-04-27T00:00:00.000000000",
          "2023-04-28T00:00:00.000000000"
         ],
         "xaxis": "x",
         "y": {
          "bdata": "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",
          "dtype": "f8"
         },
         "yaxis": "y"
        },
        {
         "line": {
          "color": "#0072B2",
          "width": 2
         },
         "mode": "lines",
         "name": "holidays",
         "text": [
          "New Year's Day",
          "",
          "",
          "",
          "",
          "",
          "",
          "",
          "",
          "",
          "",
          "",
          "",
          "",
          "",
          "",
          "",
          "",
          "",
          "",
          "",
          "",
          "",
          "",
          "",
          "",
          "",
          "",
          "",
          "",
          "",
          "",
          "",
          "",
          "",
          "",
          "",
          "",
          "",
          "",
          "",
          "",
          "",
          "",
          "",
          "",
          "",
          "",
          "",
          "",
          "",
          "",
          "",
          "",
          "",
          "",
          "",
          "",
          "",
          "",
          "",
          "",
          "",
          "",
          "",
          "",
          "",
          "",
          "",
          "",
          "",
          "",
          "",
          "",
          "",
          "",
          "",
          "",
          "",
          "",
          "",
          "",
          "",
          "",
          "",
          "",
          "",
          "",
          "",
          "",
          "",
          "",
          "",
          "Easter Monday-1",
          "Easter Monday",
          "",
          "",
          "",
          "",
          "",
          "",
          "",
          "",
          "",
          "",
          "",
          "",
          "",
          "",
          "",
          "",
          "",
          "",
          "",
          "",
          "",
          "",
          "",
          "",
          "Labor Day-1",
          "Labor Day",
          "",
          "",
          "",
          "",
          "",
          "Victory Day-1",
          "Victory Day",
          "",
          "",
          "",
          "Ascension Day-1",
          "Ascension Day",
          "",
          "",
          "",
          "",
          "",
          "",
          "",
          "",
          "",
          "Whit Monday-1",
          "Whit Monday",
          "",
          "",
          "",
          "",
          "",
          "",
          "",
          "",
          "",
          "",
          "",
          "",
          "",
          "",
          "",
          "",
          "",
          "",
          "",
          "",
          "",
          "",
          "",
          "",
          "",
          "",
          "",
          "",
          "",
          "",
          "",
          "",
          "",
          "",
          "",
          "",
          "",
          "",
          "",
          "",
          "",
          "",
          "",
          "",
          "",
          "",
          "",
          "",
          "",
          "National Day-1",
          "National Day",
          "",
          "",
          "",
          "",
          "",
          "",
          "",
          "",
          "",
          "",
          "",
          "",
          "",
          "",
          "",
          "",
          "",
          "",
          "",
          "",
          "",
          "",
          "",
          "",
          "",
          "",
          "",
          "",
          "",
          "",
          "Assumption Day-1",
          "Assumption Day",
          "",
          "",
          "",
          "",
          "",
          "",
          "",
          "",
          "",
          "",
          "",
          "",
          "",
          "",
          "",
          "",
          "",
          "",
          "",
          "",
          "",
          "",
          "",
          "",
          "",
          "",
          "",
          "",
          "",
          "",
          "",
          "",
          "",
          "",
          "",
          "",
          "",
          "",
          "",
          "",
          "",
          "",
          "",
          "",
          "",
          "",
          "",
          "",
          "",
          "",
          "",
          "",
          "",
          "",
          "",
          "",
          "",
          "",
          "",
          "",
          "",
          "",
          "",
          "",
          "",
          "",
          "",
          "",
          "",
          "",
          "",
          "",
          "",
          "",
          "",
          "",
          "All Saints' Day-1",
          "All Saints' Day",
          "",
          "",
          "",
          "",
          "",
          "",
          "",
          "",
          "Armistice Day-1",
          "Armistice Day",
          "",
          "",
          "",
          "",
          "",
          "",
          "",
          "",
          "",
          "",
          "",
          "",
          "",
          "",
          "",
          "",
          "",
          "",
          "",
          "",
          "",
          "",
          "",
          "",
          "",
          "",
          "",
          "",
          "",
          "",
          "",
          "",
          "",
          "",
          "",
          "",
          "",
          "",
          "",
          "",
          "",
          "",
          "Christmas Day-1",
          "Christmas Day",
          "",
          "",
          "",
          "",
          "",
          "New Year's Day-1",
          "New Year's Day",
          "",
          "",
          "",
          "",
          "",
          "",
          "",
          "",
          "",
          "",
          "",
          "",
          "",
          "",
          "",
          "",
          "",
          "",
          "",
          "",
          "",
          "",
          "",
          "",
          "",
          "",
          "",
          "",
          "",
          "",
          "",
          "",
          "",
          "",
          "",
          "",
          "",
          "",
          "",
          "",
          "",
          "",
          "",
          "",
          "",
          "",
          "",
          "",
          "",
          "",
          "",
          "",
          "",
          "",
          "",
          "",
          "",
          "",
          "",
          "",
          "",
          "",
          "",
          "",
          "",
          "",
          "",
          "",
          "",
          "",
          "",
          "",
          "",
          "",
          "",
          "",
          "",
          "",
          "",
          "",
          "",
          "",
          "",
          "",
          "",
          "",
          "",
          "",
          "",
          "",
          "",
          "",
          "",
          "",
          "",
          "",
          "",
          "",
          "",
          "",
          "",
          "",
          "",
          "",
          "",
          "Easter Monday-1",
          "Easter Monday",
          "",
          "",
          "",
          "",
          "",
          "",
          "",
          "",
          "",
          "",
          "",
          "Labor Day-1",
          "Labor Day",
          "",
          "",
          "",
          "",
          "",
          "Victory Day-1",
          "Victory Day",
          "",
          "",
          "",
          "",
          "",
          "",
          "",
          "",
          "",
          "",
          "",
          "",
          "",
          "",
          "",
          "",
          "Ascension Day-1",
          "Ascension Day",
          "",
          "",
          "",
          "",
          "",
          "",
          "",
          "",
          "",
          "Whit Monday-1",
          "Whit Monday",
          "",
          "",
          "",
          "",
          "",
          "",
          "",
          "",
          "",
          "",
          "",
          "",
          "",
          "",
          "",
          "",
          "",
          "",
          "",
          "",
          "",
          "",
          "",
          "",
          "",
          "",
          "",
          "",
          "",
          "",
          "",
          "",
          "",
          "",
          "",
          "",
          "National Day-1",
          "National Day",
          "",
          "",
          "",
          "",
          "",
          "",
          "",
          "",
          "",
          "",
          "",
          "",
          "",
          "",
          "",
          "",
          "",
          "",
          "",
          "",
          "",
          "",
          "",
          "",
          "",
          "",
          "",
          "",
          "",
          "",
          "Assumption Day-1",
          "Assumption Day",
          "",
          "",
          "",
          "",
          "",
          "",
          "",
          "",
          "",
          "",
          "",
          "",
          "",
          "",
          "",
          "",
          "",
          "",
          "",
          "",
          "",
          "",
          "",
          "",
          "",
          "",
          "",
          "",
          "",
          "",
          "",
          "",
          "",
          "",
          "",
          "",
          "",
          "",
          "",
          "",
          "",
          "",
          "",
          "",
          "",
          "",
          "",
          "",
          "",
          "",
          "",
          "",
          "",
          "",
          "",
          "",
          "",
          "",
          "",
          "",
          "",
          "",
          "",
          "",
          "",
          "",
          "",
          "",
          "",
          "",
          "",
          "",
          "",
          "",
          "",
          "",
          "All Saints' Day-1",
          "All Saints' Day",
          "",
          "",
          "",
          "",
          "",
          "",
          "",
          "",
          "Armistice Day-1",
          "Armistice Day",
          "",
          "",
          "",
          "",
          "",
          "",
          "",
          "",
          "",
          "",
          "",
          "",
          "",
          "",
          "",
          "",
          "",
          "",
          "",
          "",
          "",
          "",
          "",
          "",
          "",
          "",
          "",
          "",
          "",
          "",
          "",
          "",
          "",
          "",
          "",
          "",
          "",
          "",
          "",
          "",
          "",
          "",
          "Christmas Day-1",
          "Christmas Day",
          "",
          "",
          "",
          "",
          "",
          "New Year's Day-1",
          "New Year's Day",
          "",
          "",
          "",
          "",
          "",
          "",
          "",
          "",
          "",
          "",
          "",
          "",
          "",
          "",
          "",
          "",
          "",
          "",
          "",
          "",
          "",
          "",
          "",
          "",
          "",
          "",
          "",
          "",
          "",
          "",
          "",
          "",
          "",
          "",
          "",
          "",
          "",
          "",
          "",
          "",
          "",
          "",
          "",
          "",
          "",
          "",
          "",
          "",
          "",
          "",
          "",
          "",
          "",
          "",
          "",
          "",
          "",
          "",
          "",
          "",
          "",
          "",
          "",
          "",
          "",
          "",
          "",
          "",
          "",
          "",
          "",
          "",
          "",
          "",
          "",
          "",
          "",
          "",
          "",
          "",
          "",
          "",
          "",
          "",
          "",
          "",
          "",
          "",
          "",
          "",
          "",
          "",
          "",
          "",
          "",
          "",
          "",
          "Easter Monday-1",
          "Easter Monday",
          "",
          "",
          "",
          "",
          "",
          "",
          "",
          "",
          "",
          "",
          "",
          "",
          "",
          "",
          "",
          "",
          "",
          ""
         ],
         "type": "scatter",
         "x": [
          "2021-01-01T00:00:00.000000000",
          "2021-01-02T00:00:00.000000000",
          "2021-01-03T00:00:00.000000000",
          "2021-01-04T00:00:00.000000000",
          "2021-01-05T00:00:00.000000000",
          "2021-01-06T00:00:00.000000000",
          "2021-01-07T00:00:00.000000000",
          "2021-01-08T00:00:00.000000000",
          "2021-01-09T00:00:00.000000000",
          "2021-01-10T00:00:00.000000000",
          "2021-01-11T00:00:00.000000000",
          "2021-01-12T00:00:00.000000000",
          "2021-01-13T00:00:00.000000000",
          "2021-01-14T00:00:00.000000000",
          "2021-01-15T00:00:00.000000000",
          "2021-01-16T00:00:00.000000000",
          "2021-01-17T00:00:00.000000000",
          "2021-01-18T00:00:00.000000000",
          "2021-01-19T00:00:00.000000000",
          "2021-01-20T00:00:00.000000000",
          "2021-01-21T00:00:00.000000000",
          "2021-01-22T00:00:00.000000000",
          "2021-01-23T00:00:00.000000000",
          "2021-01-24T00:00:00.000000000",
          "2021-01-25T00:00:00.000000000",
          "2021-01-26T00:00:00.000000000",
          "2021-01-27T00:00:00.000000000",
          "2021-01-28T00:00:00.000000000",
          "2021-01-29T00:00:00.000000000",
          "2021-01-30T00:00:00.000000000",
          "2021-01-31T00:00:00.000000000",
          "2021-02-01T00:00:00.000000000",
          "2021-02-02T00:00:00.000000000",
          "2021-02-03T00:00:00.000000000",
          "2021-02-04T00:00:00.000000000",
          "2021-02-05T00:00:00.000000000",
          "2021-02-06T00:00:00.000000000",
          "2021-02-07T00:00:00.000000000",
          "2021-02-08T00:00:00.000000000",
          "2021-02-09T00:00:00.000000000",
          "2021-02-10T00:00:00.000000000",
          "2021-02-11T00:00:00.000000000",
          "2021-02-12T00:00:00.000000000",
          "2021-02-13T00:00:00.000000000",
          "2021-02-14T00:00:00.000000000",
          "2021-02-15T00:00:00.000000000",
          "2021-02-16T00:00:00.000000000",
          "2021-02-17T00:00:00.000000000",
          "2021-02-18T00:00:00.000000000",
          "2021-02-19T00:00:00.000000000",
          "2021-02-20T00:00:00.000000000",
          "2021-02-21T00:00:00.000000000",
          "2021-02-22T00:00:00.000000000",
          "2021-02-23T00:00:00.000000000",
          "2021-02-24T00:00:00.000000000",
          "2021-02-25T00:00:00.000000000",
          "2021-02-26T00:00:00.000000000",
          "2021-02-27T00:00:00.000000000",
          "2021-02-28T00:00:00.000000000",
          "2021-03-01T00:00:00.000000000",
          "2021-03-02T00:00:00.000000000",
          "2021-03-03T00:00:00.000000000",
          "2021-03-04T00:00:00.000000000",
          "2021-03-05T00:00:00.000000000",
          "2021-03-06T00:00:00.000000000",
          "2021-03-07T00:00:00.000000000",
          "2021-03-08T00:00:00.000000000",
          "2021-03-09T00:00:00.000000000",
          "2021-03-10T00:00:00.000000000",
          "2021-03-11T00:00:00.000000000",
          "2021-03-12T00:00:00.000000000",
          "2021-03-13T00:00:00.000000000",
          "2021-03-14T00:00:00.000000000",
          "2021-03-15T00:00:00.000000000",
          "2021-03-16T00:00:00.000000000",
          "2021-03-17T00:00:00.000000000",
          "2021-03-18T00:00:00.000000000",
          "2021-03-19T00:00:00.000000000",
          "2021-03-20T00:00:00.000000000",
          "2021-03-21T00:00:00.000000000",
          "2021-03-22T00:00:00.000000000",
          "2021-03-23T00:00:00.000000000",
          "2021-03-24T00:00:00.000000000",
          "2021-03-25T00:00:00.000000000",
          "2021-03-26T00:00:00.000000000",
          "2021-03-27T00:00:00.000000000",
          "2021-03-28T00:00:00.000000000",
          "2021-03-29T00:00:00.000000000",
          "2021-03-30T00:00:00.000000000",
          "2021-03-31T00:00:00.000000000",
          "2021-04-01T00:00:00.000000000",
          "2021-04-02T00:00:00.000000000",
          "2021-04-03T00:00:00.000000000",
          "2021-04-04T00:00:00.000000000",
          "2021-04-05T00:00:00.000000000",
          "2021-04-06T00:00:00.000000000",
          "2021-04-07T00:00:00.000000000",
          "2021-04-08T00:00:00.000000000",
          "2021-04-09T00:00:00.000000000",
          "2021-04-10T00:00:00.000000000",
          "2021-04-11T00:00:00.000000000",
          "2021-04-12T00:00:00.000000000",
          "2021-04-13T00:00:00.000000000",
          "2021-04-14T00:00:00.000000000",
          "2021-04-15T00:00:00.000000000",
          "2021-04-16T00:00:00.000000000",
          "2021-04-17T00:00:00.000000000",
          "2021-04-18T00:00:00.000000000",
          "2021-04-19T00:00:00.000000000",
          "2021-04-20T00:00:00.000000000",
          "2021-04-21T00:00:00.000000000",
          "2021-04-22T00:00:00.000000000",
          "2021-04-23T00:00:00.000000000",
          "2021-04-24T00:00:00.000000000",
          "2021-04-25T00:00:00.000000000",
          "2021-04-26T00:00:00.000000000",
          "2021-04-27T00:00:00.000000000",
          "2021-04-28T00:00:00.000000000",
          "2021-04-29T00:00:00.000000000",
          "2021-04-30T00:00:00.000000000",
          "2021-05-01T00:00:00.000000000",
          "2021-05-02T00:00:00.000000000",
          "2021-05-03T00:00:00.000000000",
          "2021-05-04T00:00:00.000000000",
          "2021-05-05T00:00:00.000000000",
          "2021-05-06T00:00:00.000000000",
          "2021-05-07T00:00:00.000000000",
          "2021-05-08T00:00:00.000000000",
          "2021-05-09T00:00:00.000000000",
          "2021-05-10T00:00:00.000000000",
          "2021-05-11T00:00:00.000000000",
          "2021-05-12T00:00:00.000000000",
          "2021-05-13T00:00:00.000000000",
          "2021-05-14T00:00:00.000000000",
          "2021-05-15T00:00:00.000000000",
          "2021-05-16T00:00:00.000000000",
          "2021-05-17T00:00:00.000000000",
          "2021-05-18T00:00:00.000000000",
          "2021-05-19T00:00:00.000000000",
          "2021-05-20T00:00:00.000000000",
          "2021-05-21T00:00:00.000000000",
          "2021-05-22T00:00:00.000000000",
          "2021-05-23T00:00:00.000000000",
          "2021-05-24T00:00:00.000000000",
          "2021-05-25T00:00:00.000000000",
          "2021-05-26T00:00:00.000000000",
          "2021-05-27T00:00:00.000000000",
          "2021-05-28T00:00:00.000000000",
          "2021-05-29T00:00:00.000000000",
          "2021-05-30T00:00:00.000000000",
          "2021-05-31T00:00:00.000000000",
          "2021-06-01T00:00:00.000000000",
          "2021-06-02T00:00:00.000000000",
          "2021-06-03T00:00:00.000000000",
          "2021-06-04T00:00:00.000000000",
          "2021-06-05T00:00:00.000000000",
          "2021-06-06T00:00:00.000000000",
          "2021-06-07T00:00:00.000000000",
          "2021-06-08T00:00:00.000000000",
          "2021-06-09T00:00:00.000000000",
          "2021-06-10T00:00:00.000000000",
          "2021-06-11T00:00:00.000000000",
          "2021-06-12T00:00:00.000000000",
          "2021-06-13T00:00:00.000000000",
          "2021-06-14T00:00:00.000000000",
          "2021-06-15T00:00:00.000000000",
          "2021-06-16T00:00:00.000000000",
          "2021-06-17T00:00:00.000000000",
          "2021-06-18T00:00:00.000000000",
          "2021-06-19T00:00:00.000000000",
          "2021-06-20T00:00:00.000000000",
          "2021-06-21T00:00:00.000000000",
          "2021-06-22T00:00:00.000000000",
          "2021-06-23T00:00:00.000000000",
          "2021-06-24T00:00:00.000000000",
          "2021-06-25T00:00:00.000000000",
          "2021-06-26T00:00:00.000000000",
          "2021-06-27T00:00:00.000000000",
          "2021-06-28T00:00:00.000000000",
          "2021-06-29T00:00:00.000000000",
          "2021-06-30T00:00:00.000000000",
          "2021-07-01T00:00:00.000000000",
          "2021-07-02T00:00:00.000000000",
          "2021-07-03T00:00:00.000000000",
          "2021-07-04T00:00:00.000000000",
          "2021-07-05T00:00:00.000000000",
          "2021-07-06T00:00:00.000000000",
          "2021-07-07T00:00:00.000000000",
          "2021-07-08T00:00:00.000000000",
          "2021-07-09T00:00:00.000000000",
          "2021-07-10T00:00:00.000000000",
          "2021-07-11T00:00:00.000000000",
          "2021-07-12T00:00:00.000000000",
          "2021-07-13T00:00:00.000000000",
          "2021-07-14T00:00:00.000000000",
          "2021-07-15T00:00:00.000000000",
          "2021-07-16T00:00:00.000000000",
          "2021-07-17T00:00:00.000000000",
          "2021-07-18T00:00:00.000000000",
          "2021-07-19T00:00:00.000000000",
          "2021-07-20T00:00:00.000000000",
          "2021-07-21T00:00:00.000000000",
          "2021-07-22T00:00:00.000000000",
          "2021-07-23T00:00:00.000000000",
          "2021-07-24T00:00:00.000000000",
          "2021-07-25T00:00:00.000000000",
          "2021-07-26T00:00:00.000000000",
          "2021-07-27T00:00:00.000000000",
          "2021-07-28T00:00:00.000000000",
          "2021-07-29T00:00:00.000000000",
          "2021-07-30T00:00:00.000000000",
          "2021-07-31T00:00:00.000000000",
          "2021-08-01T00:00:00.000000000",
          "2021-08-02T00:00:00.000000000",
          "2021-08-03T00:00:00.000000000",
          "2021-08-04T00:00:00.000000000",
          "2021-08-05T00:00:00.000000000",
          "2021-08-06T00:00:00.000000000",
          "2021-08-07T00:00:00.000000000",
          "2021-08-08T00:00:00.000000000",
          "2021-08-09T00:00:00.000000000",
          "2021-08-10T00:00:00.000000000",
          "2021-08-11T00:00:00.000000000",
          "2021-08-12T00:00:00.000000000",
          "2021-08-13T00:00:00.000000000",
          "2021-08-14T00:00:00.000000000",
          "2021-08-15T00:00:00.000000000",
          "2021-08-16T00:00:00.000000000",
          "2021-08-17T00:00:00.000000000",
          "2021-08-18T00:00:00.000000000",
          "2021-08-19T00:00:00.000000000",
          "2021-08-20T00:00:00.000000000",
          "2021-08-21T00:00:00.000000000",
          "2021-08-22T00:00:00.000000000",
          "2021-08-23T00:00:00.000000000",
          "2021-08-24T00:00:00.000000000",
          "2021-08-25T00:00:00.000000000",
          "2021-08-26T00:00:00.000000000",
          "2021-08-27T00:00:00.000000000",
          "2021-08-28T00:00:00.000000000",
          "2021-08-29T00:00:00.000000000",
          "2021-08-30T00:00:00.000000000",
          "2021-08-31T00:00:00.000000000",
          "2021-09-01T00:00:00.000000000",
          "2021-09-02T00:00:00.000000000",
          "2021-09-03T00:00:00.000000000",
          "2021-09-04T00:00:00.000000000",
          "2021-09-05T00:00:00.000000000",
          "2021-09-06T00:00:00.000000000",
          "2021-09-07T00:00:00.000000000",
          "2021-09-08T00:00:00.000000000",
          "2021-09-09T00:00:00.000000000",
          "2021-09-10T00:00:00.000000000",
          "2021-09-11T00:00:00.000000000",
          "2021-09-12T00:00:00.000000000",
          "2021-09-13T00:00:00.000000000",
          "2021-09-14T00:00:00.000000000",
          "2021-09-15T00:00:00.000000000",
          "2021-09-16T00:00:00.000000000",
          "2021-09-17T00:00:00.000000000",
          "2021-09-18T00:00:00.000000000",
          "2021-09-19T00:00:00.000000000",
          "2021-09-20T00:00:00.000000000",
          "2021-09-21T00:00:00.000000000",
          "2021-09-22T00:00:00.000000000",
          "2021-09-23T00:00:00.000000000",
          "2021-09-24T00:00:00.000000000",
          "2021-09-25T00:00:00.000000000",
          "2021-09-26T00:00:00.000000000",
          "2021-09-27T00:00:00.000000000",
          "2021-09-28T00:00:00.000000000",
          "2021-09-29T00:00:00.000000000",
          "2021-09-30T00:00:00.000000000",
          "2021-10-01T00:00:00.000000000",
          "2021-10-02T00:00:00.000000000",
          "2021-10-03T00:00:00.000000000",
          "2021-10-04T00:00:00.000000000",
          "2021-10-05T00:00:00.000000000",
          "2021-10-06T00:00:00.000000000",
          "2021-10-07T00:00:00.000000000",
          "2021-10-08T00:00:00.000000000",
          "2021-10-09T00:00:00.000000000",
          "2021-10-10T00:00:00.000000000",
          "2021-10-11T00:00:00.000000000",
          "2021-10-12T00:00:00.000000000",
          "2021-10-13T00:00:00.000000000",
          "2021-10-14T00:00:00.000000000",
          "2021-10-15T00:00:00.000000000",
          "2021-10-16T00:00:00.000000000",
          "2021-10-17T00:00:00.000000000",
          "2021-10-18T00:00:00.000000000",
          "2021-10-19T00:00:00.000000000",
          "2021-10-20T00:00:00.000000000",
          "2021-10-21T00:00:00.000000000",
          "2021-10-22T00:00:00.000000000",
          "2021-10-23T00:00:00.000000000",
          "2021-10-24T00:00:00.000000000",
          "2021-10-25T00:00:00.000000000",
          "2021-10-26T00:00:00.000000000",
          "2021-10-27T00:00:00.000000000",
          "2021-10-28T00:00:00.000000000",
          "2021-10-29T00:00:00.000000000",
          "2021-10-30T00:00:00.000000000",
          "2021-10-31T00:00:00.000000000",
          "2021-11-01T00:00:00.000000000",
          "2021-11-02T00:00:00.000000000",
          "2021-11-03T00:00:00.000000000",
          "2021-11-04T00:00:00.000000000",
          "2021-11-05T00:00:00.000000000",
          "2021-11-06T00:00:00.000000000",
          "2021-11-07T00:00:00.000000000",
          "2021-11-08T00:00:00.000000000",
          "2021-11-09T00:00:00.000000000",
          "2021-11-10T00:00:00.000000000",
          "2021-11-11T00:00:00.000000000",
          "2021-11-12T00:00:00.000000000",
          "2021-11-13T00:00:00.000000000",
          "2021-11-14T00:00:00.000000000",
          "2021-11-15T00:00:00.000000000",
          "2021-11-16T00:00:00.000000000",
          "2021-11-17T00:00:00.000000000",
          "2021-11-18T00:00:00.000000000",
          "2021-11-19T00:00:00.000000000",
          "2021-11-20T00:00:00.000000000",
          "2021-11-21T00:00:00.000000000",
          "2021-11-22T00:00:00.000000000",
          "2021-11-23T00:00:00.000000000",
          "2021-11-24T00:00:00.000000000",
          "2021-11-25T00:00:00.000000000",
          "2021-11-26T00:00:00.000000000",
          "2021-11-27T00:00:00.000000000",
          "2021-11-28T00:00:00.000000000",
          "2021-11-29T00:00:00.000000000",
          "2021-11-30T00:00:00.000000000",
          "2021-12-01T00:00:00.000000000",
          "2021-12-02T00:00:00.000000000",
          "2021-12-03T00:00:00.000000000",
          "2021-12-04T00:00:00.000000000",
          "2021-12-05T00:00:00.000000000",
          "2021-12-06T00:00:00.000000000",
          "2021-12-07T00:00:00.000000000",
          "2021-12-08T00:00:00.000000000",
          "2021-12-09T00:00:00.000000000",
          "2021-12-10T00:00:00.000000000",
          "2021-12-11T00:00:00.000000000",
          "2021-12-12T00:00:00.000000000",
          "2021-12-13T00:00:00.000000000",
          "2021-12-14T00:00:00.000000000",
          "2021-12-15T00:00:00.000000000",
          "2021-12-16T00:00:00.000000000",
          "2021-12-17T00:00:00.000000000",
          "2021-12-18T00:00:00.000000000",
          "2021-12-19T00:00:00.000000000",
          "2021-12-20T00:00:00.000000000",
          "2021-12-21T00:00:00.000000000",
          "2021-12-22T00:00:00.000000000",
          "2021-12-23T00:00:00.000000000",
          "2021-12-24T00:00:00.000000000",
          "2021-12-25T00:00:00.000000000",
          "2021-12-26T00:00:00.000000000",
          "2021-12-27T00:00:00.000000000",
          "2021-12-28T00:00:00.000000000",
          "2021-12-29T00:00:00.000000000",
          "2021-12-30T00:00:00.000000000",
          "2021-12-31T00:00:00.000000000",
          "2022-01-01T00:00:00.000000000",
          "2022-01-02T00:00:00.000000000",
          "2022-01-03T00:00:00.000000000",
          "2022-01-04T00:00:00.000000000",
          "2022-01-05T00:00:00.000000000",
          "2022-01-06T00:00:00.000000000",
          "2022-01-07T00:00:00.000000000",
          "2022-01-08T00:00:00.000000000",
          "2022-01-09T00:00:00.000000000",
          "2022-01-10T00:00:00.000000000",
          "2022-01-11T00:00:00.000000000",
          "2022-01-12T00:00:00.000000000",
          "2022-01-13T00:00:00.000000000",
          "2022-01-14T00:00:00.000000000",
          "2022-01-15T00:00:00.000000000",
          "2022-01-16T00:00:00.000000000",
          "2022-01-17T00:00:00.000000000",
          "2022-01-18T00:00:00.000000000",
          "2022-01-19T00:00:00.000000000",
          "2022-01-20T00:00:00.000000000",
          "2022-01-21T00:00:00.000000000",
          "2022-01-22T00:00:00.000000000",
          "2022-01-23T00:00:00.000000000",
          "2022-01-24T00:00:00.000000000",
          "2022-01-25T00:00:00.000000000",
          "2022-01-26T00:00:00.000000000",
          "2022-01-27T00:00:00.000000000",
          "2022-01-28T00:00:00.000000000",
          "2022-01-29T00:00:00.000000000",
          "2022-01-30T00:00:00.000000000",
          "2022-01-31T00:00:00.000000000",
          "2022-02-01T00:00:00.000000000",
          "2022-02-02T00:00:00.000000000",
          "2022-02-03T00:00:00.000000000",
          "2022-02-04T00:00:00.000000000",
          "2022-02-05T00:00:00.000000000",
          "2022-02-06T00:00:00.000000000",
          "2022-02-07T00:00:00.000000000",
          "2022-02-08T00:00:00.000000000",
          "2022-02-09T00:00:00.000000000",
          "2022-02-10T00:00:00.000000000",
          "2022-02-11T00:00:00.000000000",
          "2022-02-12T00:00:00.000000000",
          "2022-02-13T00:00:00.000000000",
          "2022-02-14T00:00:00.000000000",
          "2022-02-15T00:00:00.000000000",
          "2022-02-16T00:00:00.000000000",
          "2022-02-17T00:00:00.000000000",
          "2022-02-18T00:00:00.000000000",
          "2022-02-19T00:00:00.000000000",
          "2022-02-20T00:00:00.000000000",
          "2022-02-21T00:00:00.000000000",
          "2022-02-22T00:00:00.000000000",
          "2022-02-23T00:00:00.000000000",
          "2022-02-24T00:00:00.000000000",
          "2022-02-25T00:00:00.000000000",
          "2022-02-26T00:00:00.000000000",
          "2022-02-27T00:00:00.000000000",
          "2022-02-28T00:00:00.000000000",
          "2022-03-01T00:00:00.000000000",
          "2022-03-02T00:00:00.000000000",
          "2022-03-03T00:00:00.000000000",
          "2022-03-04T00:00:00.000000000",
          "2022-03-05T00:00:00.000000000",
          "2022-03-06T00:00:00.000000000",
          "2022-03-07T00:00:00.000000000",
          "2022-03-08T00:00:00.000000000",
          "2022-03-09T00:00:00.000000000",
          "2022-03-10T00:00:00.000000000",
          "2022-03-11T00:00:00.000000000",
          "2022-03-12T00:00:00.000000000",
          "2022-03-13T00:00:00.000000000",
          "2022-03-14T00:00:00.000000000",
          "2022-03-15T00:00:00.000000000",
          "2022-03-16T00:00:00.000000000",
          "2022-03-17T00:00:00.000000000",
          "2022-03-18T00:00:00.000000000",
          "2022-03-19T00:00:00.000000000",
          "2022-03-20T00:00:00.000000000",
          "2022-03-21T00:00:00.000000000",
          "2022-03-22T00:00:00.000000000",
          "2022-03-23T00:00:00.000000000",
          "2022-03-24T00:00:00.000000000",
          "2022-03-25T00:00:00.000000000",
          "2022-03-26T00:00:00.000000000",
          "2022-03-27T00:00:00.000000000",
          "2022-03-28T00:00:00.000000000",
          "2022-03-29T00:00:00.000000000",
          "2022-03-30T00:00:00.000000000",
          "2022-03-31T00:00:00.000000000",
          "2022-04-01T00:00:00.000000000",
          "2022-04-02T00:00:00.000000000",
          "2022-04-03T00:00:00.000000000",
          "2022-04-04T00:00:00.000000000",
          "2022-04-05T00:00:00.000000000",
          "2022-04-06T00:00:00.000000000",
          "2022-04-07T00:00:00.000000000",
          "2022-04-08T00:00:00.000000000",
          "2022-04-09T00:00:00.000000000",
          "2022-04-10T00:00:00.000000000",
          "2022-04-11T00:00:00.000000000",
          "2022-04-12T00:00:00.000000000",
          "2022-04-13T00:00:00.000000000",
          "2022-04-14T00:00:00.000000000",
          "2022-04-15T00:00:00.000000000",
          "2022-04-16T00:00:00.000000000",
          "2022-04-17T00:00:00.000000000",
          "2022-04-18T00:00:00.000000000",
          "2022-04-19T00:00:00.000000000",
          "2022-04-20T00:00:00.000000000",
          "2022-04-21T00:00:00.000000000",
          "2022-04-22T00:00:00.000000000",
          "2022-04-23T00:00:00.000000000",
          "2022-04-24T00:00:00.000000000",
          "2022-04-25T00:00:00.000000000",
          "2022-04-26T00:00:00.000000000",
          "2022-04-27T00:00:00.000000000",
          "2022-04-28T00:00:00.000000000",
          "2022-04-29T00:00:00.000000000",
          "2022-04-30T00:00:00.000000000",
          "2022-05-01T00:00:00.000000000",
          "2022-05-02T00:00:00.000000000",
          "2022-05-03T00:00:00.000000000",
          "2022-05-04T00:00:00.000000000",
          "2022-05-05T00:00:00.000000000",
          "2022-05-06T00:00:00.000000000",
          "2022-05-07T00:00:00.000000000",
          "2022-05-08T00:00:00.000000000",
          "2022-05-09T00:00:00.000000000",
          "2022-05-10T00:00:00.000000000",
          "2022-05-11T00:00:00.000000000",
          "2022-05-12T00:00:00.000000000",
          "2022-05-13T00:00:00.000000000",
          "2022-05-14T00:00:00.000000000",
          "2022-05-15T00:00:00.000000000",
          "2022-05-16T00:00:00.000000000",
          "2022-05-17T00:00:00.000000000",
          "2022-05-18T00:00:00.000000000",
          "2022-05-19T00:00:00.000000000",
          "2022-05-20T00:00:00.000000000",
          "2022-05-21T00:00:00.000000000",
          "2022-05-22T00:00:00.000000000",
          "2022-05-23T00:00:00.000000000",
          "2022-05-24T00:00:00.000000000",
          "2022-05-25T00:00:00.000000000",
          "2022-05-26T00:00:00.000000000",
          "2022-05-27T00:00:00.000000000",
          "2022-05-28T00:00:00.000000000",
          "2022-05-29T00:00:00.000000000",
          "2022-05-30T00:00:00.000000000",
          "2022-05-31T00:00:00.000000000",
          "2022-06-01T00:00:00.000000000",
          "2022-06-02T00:00:00.000000000",
          "2022-06-03T00:00:00.000000000",
          "2022-06-04T00:00:00.000000000",
          "2022-06-05T00:00:00.000000000",
          "2022-06-06T00:00:00.000000000",
          "2022-06-07T00:00:00.000000000",
          "2022-06-08T00:00:00.000000000",
          "2022-06-09T00:00:00.000000000",
          "2022-06-10T00:00:00.000000000",
          "2022-06-11T00:00:00.000000000",
          "2022-06-12T00:00:00.000000000",
          "2022-06-13T00:00:00.000000000",
          "2022-06-14T00:00:00.000000000",
          "2022-06-15T00:00:00.000000000",
          "2022-06-16T00:00:00.000000000",
          "2022-06-17T00:00:00.000000000",
          "2022-06-18T00:00:00.000000000",
          "2022-06-19T00:00:00.000000000",
          "2022-06-20T00:00:00.000000000",
          "2022-06-21T00:00:00.000000000",
          "2022-06-22T00:00:00.000000000",
          "2022-06-23T00:00:00.000000000",
          "2022-06-24T00:00:00.000000000",
          "2022-06-25T00:00:00.000000000",
          "2022-06-26T00:00:00.000000000",
          "2022-06-27T00:00:00.000000000",
          "2022-06-28T00:00:00.000000000",
          "2022-06-29T00:00:00.000000000",
          "2022-06-30T00:00:00.000000000",
          "2022-07-01T00:00:00.000000000",
          "2022-07-02T00:00:00.000000000",
          "2022-07-03T00:00:00.000000000",
          "2022-07-04T00:00:00.000000000",
          "2022-07-05T00:00:00.000000000",
          "2022-07-06T00:00:00.000000000",
          "2022-07-07T00:00:00.000000000",
          "2022-07-08T00:00:00.000000000",
          "2022-07-09T00:00:00.000000000",
          "2022-07-10T00:00:00.000000000",
          "2022-07-11T00:00:00.000000000",
          "2022-07-12T00:00:00.000000000",
          "2022-07-13T00:00:00.000000000",
          "2022-07-14T00:00:00.000000000",
          "2022-07-15T00:00:00.000000000",
          "2022-07-16T00:00:00.000000000",
          "2022-07-17T00:00:00.000000000",
          "2022-07-18T00:00:00.000000000",
          "2022-07-19T00:00:00.000000000",
          "2022-07-20T00:00:00.000000000",
          "2022-07-21T00:00:00.000000000",
          "2022-07-22T00:00:00.000000000",
          "2022-07-23T00:00:00.000000000",
          "2022-07-24T00:00:00.000000000",
          "2022-07-25T00:00:00.000000000",
          "2022-07-26T00:00:00.000000000",
          "2022-07-27T00:00:00.000000000",
          "2022-07-28T00:00:00.000000000",
          "2022-07-29T00:00:00.000000000",
          "2022-07-30T00:00:00.000000000",
          "2022-07-31T00:00:00.000000000",
          "2022-08-01T00:00:00.000000000",
          "2022-08-02T00:00:00.000000000",
          "2022-08-03T00:00:00.000000000",
          "2022-08-04T00:00:00.000000000",
          "2022-08-05T00:00:00.000000000",
          "2022-08-06T00:00:00.000000000",
          "2022-08-07T00:00:00.000000000",
          "2022-08-08T00:00:00.000000000",
          "2022-08-09T00:00:00.000000000",
          "2022-08-10T00:00:00.000000000",
          "2022-08-11T00:00:00.000000000",
          "2022-08-12T00:00:00.000000000",
          "2022-08-13T00:00:00.000000000",
          "2022-08-14T00:00:00.000000000",
          "2022-08-15T00:00:00.000000000",
          "2022-08-16T00:00:00.000000000",
          "2022-08-17T00:00:00.000000000",
          "2022-08-18T00:00:00.000000000",
          "2022-08-19T00:00:00.000000000",
          "2022-08-20T00:00:00.000000000",
          "2022-08-21T00:00:00.000000000",
          "2022-08-22T00:00:00.000000000",
          "2022-08-23T00:00:00.000000000",
          "2022-08-24T00:00:00.000000000",
          "2022-08-25T00:00:00.000000000",
          "2022-08-26T00:00:00.000000000",
          "2022-08-27T00:00:00.000000000",
          "2022-08-28T00:00:00.000000000",
          "2022-08-29T00:00:00.000000000",
          "2022-08-30T00:00:00.000000000",
          "2022-08-31T00:00:00.000000000",
          "2022-09-01T00:00:00.000000000",
          "2022-09-02T00:00:00.000000000",
          "2022-09-03T00:00:00.000000000",
          "2022-09-04T00:00:00.000000000",
          "2022-09-05T00:00:00.000000000",
          "2022-09-06T00:00:00.000000000",
          "2022-09-07T00:00:00.000000000",
          "2022-09-08T00:00:00.000000000",
          "2022-09-09T00:00:00.000000000",
          "2022-09-10T00:00:00.000000000",
          "2022-09-11T00:00:00.000000000",
          "2022-09-12T00:00:00.000000000",
          "2022-09-13T00:00:00.000000000",
          "2022-09-14T00:00:00.000000000",
          "2022-09-15T00:00:00.000000000",
          "2022-09-16T00:00:00.000000000",
          "2022-09-17T00:00:00.000000000",
          "2022-09-18T00:00:00.000000000",
          "2022-09-19T00:00:00.000000000",
          "2022-09-20T00:00:00.000000000",
          "2022-09-21T00:00:00.000000000",
          "2022-09-22T00:00:00.000000000",
          "2022-09-23T00:00:00.000000000",
          "2022-09-24T00:00:00.000000000",
          "2022-09-25T00:00:00.000000000",
          "2022-09-26T00:00:00.000000000",
          "2022-09-27T00:00:00.000000000",
          "2022-09-28T00:00:00.000000000",
          "2022-09-29T00:00:00.000000000",
          "2022-09-30T00:00:00.000000000",
          "2022-10-01T00:00:00.000000000",
          "2022-10-02T00:00:00.000000000",
          "2022-10-03T00:00:00.000000000",
          "2022-10-04T00:00:00.000000000",
          "2022-10-05T00:00:00.000000000",
          "2022-10-06T00:00:00.000000000",
          "2022-10-07T00:00:00.000000000",
          "2022-10-08T00:00:00.000000000",
          "2022-10-09T00:00:00.000000000",
          "2022-10-10T00:00:00.000000000",
          "2022-10-11T00:00:00.000000000",
          "2022-10-12T00:00:00.000000000",
          "2022-10-13T00:00:00.000000000",
          "2022-10-14T00:00:00.000000000",
          "2022-10-15T00:00:00.000000000",
          "2022-10-16T00:00:00.000000000",
          "2022-10-17T00:00:00.000000000",
          "2022-10-18T00:00:00.000000000",
          "2022-10-19T00:00:00.000000000",
          "2022-10-20T00:00:00.000000000",
          "2022-10-21T00:00:00.000000000",
          "2022-10-22T00:00:00.000000000",
          "2022-10-23T00:00:00.000000000",
          "2022-10-24T00:00:00.000000000",
          "2022-10-25T00:00:00.000000000",
          "2022-10-26T00:00:00.000000000",
          "2022-10-27T00:00:00.000000000",
          "2022-10-28T00:00:00.000000000",
          "2022-10-29T00:00:00.000000000",
          "2022-10-30T00:00:00.000000000",
          "2022-10-31T00:00:00.000000000",
          "2022-11-01T00:00:00.000000000",
          "2022-11-02T00:00:00.000000000",
          "2022-11-03T00:00:00.000000000",
          "2022-11-04T00:00:00.000000000",
          "2022-11-05T00:00:00.000000000",
          "2022-11-06T00:00:00.000000000",
          "2022-11-07T00:00:00.000000000",
          "2022-11-08T00:00:00.000000000",
          "2022-11-09T00:00:00.000000000",
          "2022-11-10T00:00:00.000000000",
          "2022-11-11T00:00:00.000000000",
          "2022-11-12T00:00:00.000000000",
          "2022-11-13T00:00:00.000000000",
          "2022-11-14T00:00:00.000000000",
          "2022-11-15T00:00:00.000000000",
          "2022-11-16T00:00:00.000000000",
          "2022-11-17T00:00:00.000000000",
          "2022-11-18T00:00:00.000000000",
          "2022-11-19T00:00:00.000000000",
          "2022-11-20T00:00:00.000000000",
          "2022-11-21T00:00:00.000000000",
          "2022-11-22T00:00:00.000000000",
          "2022-11-23T00:00:00.000000000",
          "2022-11-24T00:00:00.000000000",
          "2022-11-25T00:00:00.000000000",
          "2022-11-26T00:00:00.000000000",
          "2022-11-27T00:00:00.000000000",
          "2022-11-28T00:00:00.000000000",
          "2022-11-29T00:00:00.000000000",
          "2022-11-30T00:00:00.000000000",
          "2022-12-01T00:00:00.000000000",
          "2022-12-02T00:00:00.000000000",
          "2022-12-03T00:00:00.000000000",
          "2022-12-04T00:00:00.000000000",
          "2022-12-05T00:00:00.000000000",
          "2022-12-06T00:00:00.000000000",
          "2022-12-07T00:00:00.000000000",
          "2022-12-08T00:00:00.000000000",
          "2022-12-09T00:00:00.000000000",
          "2022-12-10T00:00:00.000000000",
          "2022-12-11T00:00:00.000000000",
          "2022-12-12T00:00:00.000000000",
          "2022-12-13T00:00:00.000000000",
          "2022-12-14T00:00:00.000000000",
          "2022-12-15T00:00:00.000000000",
          "2022-12-16T00:00:00.000000000",
          "2022-12-17T00:00:00.000000000",
          "2022-12-18T00:00:00.000000000",
          "2022-12-19T00:00:00.000000000",
          "2022-12-20T00:00:00.000000000",
          "2022-12-21T00:00:00.000000000",
          "2022-12-22T00:00:00.000000000",
          "2022-12-23T00:00:00.000000000",
          "2022-12-24T00:00:00.000000000",
          "2022-12-25T00:00:00.000000000",
          "2022-12-26T00:00:00.000000000",
          "2022-12-27T00:00:00.000000000",
          "2022-12-28T00:00:00.000000000",
          "2022-12-29T00:00:00.000000000",
          "2022-12-30T00:00:00.000000000",
          "2022-12-31T00:00:00.000000000",
          "2023-01-01T00:00:00.000000000",
          "2023-01-02T00:00:00.000000000",
          "2023-01-03T00:00:00.000000000",
          "2023-01-04T00:00:00.000000000",
          "2023-01-05T00:00:00.000000000",
          "2023-01-06T00:00:00.000000000",
          "2023-01-07T00:00:00.000000000",
          "2023-01-08T00:00:00.000000000",
          "2023-01-09T00:00:00.000000000",
          "2023-01-10T00:00:00.000000000",
          "2023-01-11T00:00:00.000000000",
          "2023-01-12T00:00:00.000000000",
          "2023-01-13T00:00:00.000000000",
          "2023-01-14T00:00:00.000000000",
          "2023-01-15T00:00:00.000000000",
          "2023-01-16T00:00:00.000000000",
          "2023-01-17T00:00:00.000000000",
          "2023-01-18T00:00:00.000000000",
          "2023-01-19T00:00:00.000000000",
          "2023-01-20T00:00:00.000000000",
          "2023-01-21T00:00:00.000000000",
          "2023-01-22T00:00:00.000000000",
          "2023-01-23T00:00:00.000000000",
          "2023-01-24T00:00:00.000000000",
          "2023-01-25T00:00:00.000000000",
          "2023-01-26T00:00:00.000000000",
          "2023-01-27T00:00:00.000000000",
          "2023-01-28T00:00:00.000000000",
          "2023-01-29T00:00:00.000000000",
          "2023-01-30T00:00:00.000000000",
          "2023-01-31T00:00:00.000000000",
          "2023-02-01T00:00:00.000000000",
          "2023-02-02T00:00:00.000000000",
          "2023-02-03T00:00:00.000000000",
          "2023-02-04T00:00:00.000000000",
          "2023-02-05T00:00:00.000000000",
          "2023-02-06T00:00:00.000000000",
          "2023-02-07T00:00:00.000000000",
          "2023-02-08T00:00:00.000000000",
          "2023-02-09T00:00:00.000000000",
          "2023-02-10T00:00:00.000000000",
          "2023-02-11T00:00:00.000000000",
          "2023-02-12T00:00:00.000000000",
          "2023-02-13T00:00:00.000000000",
          "2023-02-14T00:00:00.000000000",
          "2023-02-15T00:00:00.000000000",
          "2023-02-16T00:00:00.000000000",
          "2023-02-17T00:00:00.000000000",
          "2023-02-18T00:00:00.000000000",
          "2023-02-19T00:00:00.000000000",
          "2023-02-20T00:00:00.000000000",
          "2023-02-21T00:00:00.000000000",
          "2023-02-22T00:00:00.000000000",
          "2023-02-23T00:00:00.000000000",
          "2023-02-24T00:00:00.000000000",
          "2023-02-25T00:00:00.000000000",
          "2023-02-26T00:00:00.000000000",
          "2023-02-27T00:00:00.000000000",
          "2023-02-28T00:00:00.000000000",
          "2023-03-01T00:00:00.000000000",
          "2023-03-02T00:00:00.000000000",
          "2023-03-03T00:00:00.000000000",
          "2023-03-04T00:00:00.000000000",
          "2023-03-05T00:00:00.000000000",
          "2023-03-06T00:00:00.000000000",
          "2023-03-07T00:00:00.000000000",
          "2023-03-08T00:00:00.000000000",
          "2023-03-09T00:00:00.000000000",
          "2023-03-10T00:00:00.000000000",
          "2023-03-11T00:00:00.000000000",
          "2023-03-12T00:00:00.000000000",
          "2023-03-13T00:00:00.000000000",
          "2023-03-14T00:00:00.000000000",
          "2023-03-15T00:00:00.000000000",
          "2023-03-16T00:00:00.000000000",
          "2023-03-17T00:00:00.000000000",
          "2023-03-18T00:00:00.000000000",
          "2023-03-19T00:00:00.000000000",
          "2023-03-20T00:00:00.000000000",
          "2023-03-21T00:00:00.000000000",
          "2023-03-22T00:00:00.000000000",
          "2023-03-23T00:00:00.000000000",
          "2023-03-24T00:00:00.000000000",
          "2023-03-25T00:00:00.000000000",
          "2023-03-26T00:00:00.000000000",
          "2023-03-27T00:00:00.000000000",
          "2023-03-28T00:00:00.000000000",
          "2023-03-29T00:00:00.000000000",
          "2023-03-30T00:00:00.000000000",
          "2023-03-31T00:00:00.000000000",
          "2023-04-01T00:00:00.000000000",
          "2023-04-02T00:00:00.000000000",
          "2023-04-03T00:00:00.000000000",
          "2023-04-04T00:00:00.000000000",
          "2023-04-05T00:00:00.000000000",
          "2023-04-06T00:00:00.000000000",
          "2023-04-07T00:00:00.000000000",
          "2023-04-08T00:00:00.000000000",
          "2023-04-09T00:00:00.000000000",
          "2023-04-10T00:00:00.000000000",
          "2023-04-11T00:00:00.000000000",
          "2023-04-12T00:00:00.000000000",
          "2023-04-13T00:00:00.000000000",
          "2023-04-14T00:00:00.000000000",
          "2023-04-15T00:00:00.000000000",
          "2023-04-16T00:00:00.000000000",
          "2023-04-17T00:00:00.000000000",
          "2023-04-18T00:00:00.000000000",
          "2023-04-19T00:00:00.000000000",
          "2023-04-20T00:00:00.000000000",
          "2023-04-21T00:00:00.000000000",
          "2023-04-22T00:00:00.000000000",
          "2023-04-23T00:00:00.000000000",
          "2023-04-24T00:00:00.000000000",
          "2023-04-25T00:00:00.000000000",
          "2023-04-26T00:00:00.000000000",
          "2023-04-27T00:00:00.000000000",
          "2023-04-28T00:00:00.000000000"
         ],
         "xaxis": "x2",
         "y": {
          "bdata": "2tt3VnzKkUAAAAAAAAAAAAAAAAAAAAAAAAAAAAAAAAAAAAAAAAAAAAAAAAAAAAAAAAAAAAAAAAAAAAAAAAAAAAAAAAAAAAAAAAAAAAAAAAAAAAAAAAAAAAAAAAAAAAAAAAAAAAAAAAAAAAAAAAAAAAAAAAAAAAAAAAAAAAAAAAAAAAAAAAAAAAAAAAAAAAAAAAAAAAAAAAAAAAAAAAAAAAAAAAAAAAAAAAAAAAAAAAAAAAAAAAAAAAAAAAAAAAAAAAAAAAAAAAAAAAAAAAAAAAAAAAAAAAAAAAAAAAAAAAAAAAAAAAAAAAAAAAAAAAAAAAAAAAAAAAAAAAAAAAAAAAAAAAAAAAAAAAAAAAAAAAAAAAAAAAAAAAAAAAAAAAAAAAAAAAAAAAAAAAAAAAAAAAAAAAAAAAAAAAAAAAAAAAAAAAAAAAAAAAAAAAAAAAAAAAAAAAAAAAAAAAAAAAAAAAAAAAAAAAAAAAAAAAAAAAAAAAAAAAAAAAAAAAAAAAAAAAAAAAAAAAAAAAAAAAAAAAAAAAAAAAAAAAAAAAAAAAAAAAAAAAAAAAAAAAAAAAAAAAAAAAAAAAAAAAAAAAAAAAAAAAAAAAAAAAAAAAAAAAAAAAAAAAAAAAAAAAAAAAAAAAAAAAAAAAAAAAAAAAAAAAAAAAAAAAAAAAAAAAAAAAAAAAAAAAAAAAAAAAAAAAAAAAAAAAAAAAAAAAAAAAAAAAAAAAAAAAAAAAAAAAAAAAAAAAAAAAAAAAAAAAAAAAAAAAAAAAAAAAAAAAAAAAAAAAAAAAAAAAAAAAAAAAAAAAAAAAAAAAAAAAAAAAAAAAAAAAAAAAAAAAAAAAAAAAAAAAAAAAAAAAAAAAAAAAAAAAAAAAAAAAAAAAAAAAAAAAAAAAAAAAAAAAAAAAAAAAAAAAAAAAAAAAAAAAAAAAAAAAAAAAAAAAAAAAAAAAAAAAAAAAAAAAAAAAAAAAAAAAAAAAAAAAAAAAAAOQxBaVPmgEBFk9W+OleGQAAAAAAAAAAAAAAAAAAAAAAAAAAAAAAAAAAAAAAAAAAAAAAAAAAAAAAAAAAAAAAAAAAAAAAAAAAAAAAAAAAAAAAAAAAAAAAAAAAAAAAAAAAAAAAAAAAAAAAAAAAAAAAAAAAAAAAAAAAAAAAAAAAAAAAAAAAAAAAAAAAAAAAAAAAAAAAAAAAAAAAAAAAAAAAAAAAAAAAAAAAAAAAAAAAAAAAAAAAAAAAAAAAAAAAAAAAAAAAAAAAAAAAAAAAAAAAAAD97w7fPllRAZW+EoF78ZkAAAAAAAAAAAAAAAAAAAAAAAAAAAAAAAAAAAAAAAAAAAAAAAAAAAAAA3gNTUQWKYsBgc4Dz8V8+wAAAAAAAAAAAAAAAAAAAAAAAAAAAAAAAAPPSqBvD6FpAMfJomXvsi0AAAAAAAAAAAAAAAAAAAAAAAAAAAAAAAAAAAAAAAAAAAAAAAAAAAAAAAAAAAAAAAAAAAAAAAAAAAAAAAAAAAAAAAAAAAAAAAADtRElIZPd/QJ28I76O64ZAAAAAAAAAAAAAAAAAAAAAAAAAAAAAAAAAAAAAAAAAAAAAAAAAAAAAAAAAAAAAAAAAAAAAAAAAAAAAAAAAAAAAAAAAAAAAAAAAAAAAAAAAAAAAAAAAAAAAAAAAAAAAAAAAAAAAAAAAAAAAAAAAAAAAAAAAAAAAAAAAAAAAAAAAAAAAAAAAAAAAAAAAAAAAAAAAAAAAAAAAAAAAAAAAAAAAAAAAAAAAAAAAAAAAAAAAAAAAAAAAAAAAAAAAAAAAAAAAAAAAAAAAAAAAAAAAAAAAAAAAAAAAAAAAAAAAAAAAAAAAAAAAAAAAAAAAAAAAAAAAAAAAAAAAAAAAAAAAAAAAAAAAAAAAAAAAAAAAAAAAAAAAAAAAAAAAAAAAAAAAAAAAAAAAAAAAAAAAAAAAAAAAAAAAAAAAAAAAAAAAAAAAAAAAAAAAAAAAAAAAAAAAAAAAAAAAAAAAAAAAAAAAAAAAAAAAAAAAAAAAAAAAAAAAAAAAAAAAAAAAAAAAAAAAAAAAAAAAAAAAAAAIjHlGcKhEQAm0hTEj2YRAAAAAAAAAAAAAAAAAAAAAAAAAAAAAAAAAAAAAAAAAAAAAAAAAAAAAAAAAAAAAAAAAAAAAAAAAAAAAAAAAAAAAAAAAAAAAAAAAAAAAAAAAAAAAAAAAAAAAAAAAAAAAAAAAAAAAAAAAAAAAAAAAAAAAAAAAAAAAAAAAAAAAAAAAAAAAAAAAAAAAAAAAAAAAAAAAAAAAAAAAAAAAAAAAAAAAAAAAAAAAAAAAAAAAAAAAAAAAAAAAAAAAAAAAAAAAAAAAAAAAAAAAAAAAAAAAAAAAAAAAAAAAAAAAAAAAAAAAAAAAAAAAAAAAAAAAAAAAAAAAzZg4qBPke0CW/JmLiXyAQAAAAAAAAAAAAAAAAAAAAAAAAAAAAAAAAAAAAAAAAAAAAAAAAAAAAAAAAAAAAAAAAAAAAAAAAAAAAAAAAAAAAAAAAAAAAAAAAAAAAAAAAAAAAAAAAAAAAAAAAAAAAAAAAAAAAAAAAAAAAAAAAAAAAAAAAAAAAAAAAAAAAAAAAAAAAAAAAAAAAAAAAAAAAAAAAAAAAAAAAAAAAAAAAAAAAAAAAAAAAAAAAAAAAAAAAAAAAAAAAAAAAAAAAAAAAAAAAAAAAAAAAAAAAAAAAAAAAAAAAAAAAAAAAAAAAAAAAAAAAAAAAAAAAAAAAAAAAAAAAAAAAAAAAAAAAAAAAAAAAAAAAAAAAAAAAAAAAAAAAAAAAAAAAAAAAAAAAAAAAAAAAAAAAAAAAAAAAAAAAAAAAAAAAAAAAAAAAAAAAAAAAAAAAAAAAAAAAAAAAAAAAAAAAAAAAAAAAAAAAAAAAAAAAAAAAAAAAAAAAAAAAAAAAAAAAAAAAAAAAAAAAAAAAAAAAAAAAAAAAAAAAAAAAAAAAAAAAAAAAAAAAAAAAAAAAAAAAAAAAAAAAAAAAAAAAAAAAAAAAAAAAAAAAAAAAAAAAAAAAAAAAAAAAAAAAAAAAAAAAAAAAAAAAAAAAAAAAAAAAAAAAAAAAAAAAAAAAAAAAAAAAAAAAAAAAAAAAAAAAAAAAAAAAAAAAAAAAAAAAAAAAAAAAAAAAAAAAAAAAAAAAAAAAAAAAAAAAAAAAAAAAAAAAAAAAAAAAAAAAAAAAAAAAAAAAAAAAAAAAAAAAAAAAAAAAAAAAAAAAAAAAAAAAAAAN8kDT2nVaUB/pyRGGr+DQAAAAAAAAAAAAAAAAAAAAAAAAAAAAAAAAAAAAAAAAAAAAAAAAAAAAAAAAAAAAAAAAAAAAAAAAAAAAAAAAAAAAACVr08pRLpCQCo9DffVhGlAAAAAAAAAAAAAAAAAAAAAAAAAAAAAAAAAAAAAAAAAAAAAAAAAAAAAAAAAAAAAAAAAAAAAAAAAAAAAAAAAAAAAAAAAAAAAAAAAAAAAAAAAAAAAAAAAAAAAAAAAAAAAAAAAAAAAAAAAAAAAAAAAAAAAAAAAAAAAAAAAAAAAAAAAAAAAAAAAAAAAAAAAAAAAAAAAAAAAAAAAAAAAAAAAAAAAAAAAAAAAAAAAAAAAAAAAAAAAAAAAAAAAAAAAAAAAAAAAAAAAAAAAAAAAAAAAAAAAAAAAAAAAAAAAAAAAAAAAAAAAAAAAAAAAAAAAAAAAAAAAAAAAAAAAAAAAAAAAAAAAAAAAAAAAAAAAAAAAAAAAAAAAAAAAAAAAAAAAAAAAAAAAAAAAAAAAAAAAAAAAAAAAAAAAAAAAAAAAAAAAAAAAAAAAAAAAAAAAAAAAAAAAAAAAPSdittEhkkBTWmauH0hcQAAAAAAAAAAAAAAAAAAAAAAAAAAAAAAAAAAAAAAAAAAAAAAAAAAAAACez9szNnOOQNrbd1Z8ypFAAAAAAAAAAAAAAAAAAAAAAAAAAAAAAAAAAAAAAAAAAAAAAAAAAAAAAAAAAAAAAAAAAAAAAAAAAAAAAAAAAAAAAAAAAAAAAAAAAAAAAAAAAAAAAAAAAAAAAAAAAAAAAAAAAAAAAAAAAAAAAAAAAAAAAAAAAAAAAAAAAAAAAAAAAAAAAAAAAAAAAAAAAAAAAAAAAAAAAAAAAAAAAAAAAAAAAAAAAAAAAAAAAAAAAAAAAAAAAAAAAAAAAAAAAAAAAAAAAAAAAAAAAAAAAAAAAAAAAAAAAAAAAAAAAAAAAAAAAAAAAAAAAAAAAAAAAAAAAAAAAAAAAAAAAAAAAAAAAAAAAAAAAAAAAAAAAAAAAAAAAAAAAAAAAAAAAAAAAAAAAAAAAAAAAAAAAAAAAAAAAAAAAAAAAAAAAAAAAAAAAAAAAAAAAAAAAAAAAAAAAAAAAAAAAAAAAAAAAAAAAAAAAAAAAAAAAAAAAAAAAAAAAAAAAAAAAAAAAAAAAAAAAAAAAAAAAAAAAAAAAAAAAAAAAAAAAAAAAAAAAAAAAAAAAAAAAAAAAAAAAAAAAAAAAAAAAAAAAAAAAAAAAAAAAAAAAAAAAAAAAAAAAAAAAAAAAAAAAAAAAAAAAAAAAAAAAAAAAAAAAAAAAAAAAAAAAAAAAAAAAAAAAAAAAAAAAAAAAAAAAAAAAAAAAAAAAAAAAAAAAAAAAAAAAAAAAAAAAAAAAAAAAAAAAAAAAAAAAAAAAAAAAAAAAAAAAAAAAAAAAAAAAAAAAAAAAAAAAAAAAAAAAAAAAAAAAAAAAAAAAAAAAAAAAAAAAAAAAAAAAAAAAAAAAAAAAAAAAAAAAAAAAAAAAAAAAAAAAAAAAAAAAAAAAAAAAAAAAAAAAAAAAAAAAAAAAAAAAAAAAAAAAAAAAAAAAAAAAAAAAAAAAAAAAAAAAAAAAAAAAAAAAAAAAAAAAAAAAAAAAAAAAAAAAAAAAAAAAAAAAAAAAAAAAAAAAAAAAAAAAAAAAAAAAAAAAAAAAAAAAAAAAAAAAAAAAAAAAAAAAAAAAAAAAAAAAAAAAAAAAAAAAAAAAAAAAAAAAAAAAAAAAAAAAAAAAAAAAAAAAAAAAAAAAAAAAAAAAAAAOQxBaVPmgEBFk9W+OleGQAAAAAAAAAAAAAAAAAAAAAAAAAAAAAAAAAAAAAAAAAAAAAAAAAAAAAAAAAAAAAAAAAAAAAAAAAAAAAAAAAAAAAAAAAAAAAAAAAAAAAAAAAAAAAAAAAAAAAA/e8O3z5ZUQGVvhKBe/GZAAAAAAAAAAAAAAAAAAAAAAAAAAAAAAAAAAAAAAAAAAAAAAAAAAAAAAN4DU1EFimLAYHOA8/FfPsAAAAAAAAAAAAAAAAAAAAAAAAAAAAAAAAAAAAAAAAAAAAAAAAAAAAAAAAAAAAAAAAAAAAAAAAAAAAAAAAAAAAAAAAAAAAAAAAAAAAAAAAAAAAAAAAAAAAAAAAAAAAAAAAAAAAAAAAAAAAAAAAAAAAAAAAAAAAAAAAAAAAAAAAAAAPPSqBvD6FpAMfJomXvsi0AAAAAAAAAAAAAAAAAAAAAAAAAAAAAAAAAAAAAAAAAAAAAAAAAAAAAAAAAAAAAAAAAAAAAAAAAAAAAAAAAAAAAAAAAAAAAAAADtRElIZPd/QJ28I76O64ZAAAAAAAAAAAAAAAAAAAAAAAAAAAAAAAAAAAAAAAAAAAAAAAAAAAAAAAAAAAAAAAAAAAAAAAAAAAAAAAAAAAAAAAAAAAAAAAAAAAAAAAAAAAAAAAAAAAAAAAAAAAAAAAAAAAAAAAAAAAAAAAAAAAAAAAAAAAAAAAAAAAAAAAAAAAAAAAAAAAAAAAAAAAAAAAAAAAAAAAAAAAAAAAAAAAAAAAAAAAAAAAAAAAAAAAAAAAAAAAAAAAAAAAAAAAAAAAAAAAAAAAAAAAAAAAAAAAAAAAAAAAAAAAAAAAAAAAAAAAAAAAAAAAAAAAAAAAAAAAAAAAAAAAAAAAAAAAAAAAAAAAAAAAAAAAAAAAAAAAAAAAAAAAAAAAAAAAAAAAAAAAAACIx5RnCoREAJtIUxI9mEQAAAAAAAAAAAAAAAAAAAAAAAAAAAAAAAAAAAAAAAAAAAAAAAAAAAAAAAAAAAAAAAAAAAAAAAAAAAAAAAAAAAAAAAAAAAAAAAAAAAAAAAAAAAAAAAAAAAAAAAAAAAAAAAAAAAAAAAAAAAAAAAAAAAAAAAAAAAAAAAAAAAAAAAAAAAAAAAAAAAAAAAAAAAAAAAAAAAAAAAAAAAAAAAAAAAAAAAAAAAAAAAAAAAAAAAAAAAAAAAAAAAAAAAAAAAAAAAAAAAAAAAAAAAAAAAAAAAAAAAAAAAAAAAAAAAAAAAAAAAAAAAAAAAAAAAAAAAAAAAAM2YOKgT5HtAlvyZi4l8gEAAAAAAAAAAAAAAAAAAAAAAAAAAAAAAAAAAAAAAAAAAAAAAAAAAAAAAAAAAAAAAAAAAAAAAAAAAAAAAAAAAAAAAAAAAAAAAAAAAAAAAAAAAAAAAAAAAAAAAAAAAAAAAAAAAAAAAAAAAAAAAAAAAAAAAAAAAAAAAAAAAAAAAAAAAAAAAAAAAAAAAAAAAAAAAAAAAAAAAAAAAAAAAAAAAAAAAAAAAAAAAAAAAAAAAAAAAAAAAAAAAAAAAAAAAAAAAAAAAAAAAAAAAAAAAAAAAAAAAAAAAAAAAAAAAAAAAAAAAAAAAAAAAAAAAAAAAAAAAAAAAAAAAAAAAAAAAAAAAAAAAAAAAAAAAAAAAAAAAAAAAAAAAAAAAAAAAAAAAAAAAAAAAAAAAAAAAAAAAAAAAAAAAAAAAAAAAAAAAAAAAAAAAAAAAAAAAAAAAAAAAAAAAAAAAAAAAAAAAAAAAAAAAAAAAAAAAAAAAAAAAAAAAAAAAAAAAAAAAAAAAAAAAAAAAAAAAAAAAAAAAAAAAAAAAAAAAAAAAAAAAAAAAAAAAAAAAAAAAAAAAAAAAAAAAAAAAAAAAAAAAAAAAAAAAAAAAAAAAAAAAAAAAAAAAAAAAAAAAAAAAAAAAAAAAAAAAAAAAAAAAAAAAAAAAAAAAAAAAAAAAAAAAAAAAAAAAAAAAAAAAAAAAAAAAAAAAAAAAAAAAAAAAAAAAAAAAAAAAAAAAAAAAAAAAAAAAAAAAAAAAAAAAAAAAAAAAAAAAAAAAAAAAAAAAAAAAAAAAAAAAAAAAAAAAAAAAAAAAAAAAAAAAAAAAADfJA09p1WlAf6ckRhq/g0AAAAAAAAAAAAAAAAAAAAAAAAAAAAAAAAAAAAAAAAAAAAAAAAAAAAAAAAAAAAAAAAAAAAAAAAAAAAAAAAAAAAAAla9PKUS6QkAqPQ331YRpQAAAAAAAAAAAAAAAAAAAAAAAAAAAAAAAAAAAAAAAAAAAAAAAAAAAAAAAAAAAAAAAAAAAAAAAAAAAAAAAAAAAAAAAAAAAAAAAAAAAAAAAAAAAAAAAAAAAAAAAAAAAAAAAAAAAAAAAAAAAAAAAAAAAAAAAAAAAAAAAAAAAAAAAAAAAAAAAAAAAAAAAAAAAAAAAAAAAAAAAAAAAAAAAAAAAAAAAAAAAAAAAAAAAAAAAAAAAAAAAAAAAAAAAAAAAAAAAAAAAAAAAAAAAAAAAAAAAAAAAAAAAAAAAAAAAAAAAAAAAAAAAAAAAAAAAAAAAAAAAAAAAAAAAAAAAAAAAAAAAAAAAAAAAAAAAAAAAAAAAAAAAAAAAAAAAAAAAAAAAAAAAAAAAAAAAAAAAAAAAAAAAAAAAAAAAAAAAAAAAAAAAAAAAAAAAAAAAAAAAAAAAAAAAAD0nYrbRIZJAU1pmrh9IXEAAAAAAAAAAAAAAAAAAAAAAAAAAAAAAAAAAAAAAAAAAAAAAAAAAAAAAns/bMzZzjkDa23dWfMqRQAAAAAAAAAAAAAAAAAAAAAAAAAAAAAAAAAAAAAAAAAAAAAAAAAAAAAAAAAAAAAAAAAAAAAAAAAAAAAAAAAAAAAAAAAAAAAAAAAAAAAAAAAAAAAAAAAAAAAAAAAAAAAAAAAAAAAAAAAAAAAAAAAAAAAAAAAAAAAAAAAAAAAAAAAAAAAAAAAAAAAAAAAAAAAAAAAAAAAAAAAAAAAAAAAAAAAAAAAAAAAAAAAAAAAAAAAAAAAAAAAAAAAAAAAAAAAAAAAAAAAAAAAAAAAAAAAAAAAAAAAAAAAAAAAAAAAAAAAAAAAAAAAAAAAAAAAAAAAAAAAAAAAAAAAAAAAAAAAAAAAAAAAAAAAAAAAAAAAAAAAAAAAAAAAAAAAAAAAAAAAAAAAAAAAAAAAAAAAAAAAAAAAAAAAAAAAAAAAAAAAAAAAAAAAAAAAAAAAAAAAAAAAAAAAAAAAAAAAAAAAAAAAAAAAAAAAAAAAAAAAAAAAAAAAAAAAAAAAAAAAAAAAAAAAAAAAAAAAAAAAAAAAAAAAAAAAAAAAAAAAAAAAAAAAAAAAAAAAAAAAAAAAAAAAAAAAAAAAAAAAAAAAAAAAAAAAAAAAAAAAAAAAAAAAAAAAAAAAAAAAAAAAAAAAAAAAAAAAAAAAAAAAAAAAAAAAAAAAAAAAAAAAAAAAAAAAAAAAAAAAAAAAAAAAAAAAAAAAAAAAAAAAAAAAAAAAAAAAAAAAAAAAAAAAAAAAAAAAAAAAAAAAAAAAAAAAAAAAAAAAAAAAAAAAAAAAAAAAAAAAAAAAAAAAAAAAAAAAAAAAAAAAAAAAAAAAAAAAAAAAAAAAAAAAAAAAAAAAAAAAAAAAAAAAAAAAAAAAAAAAAAAAAAAAAAAAAAAAAAAAAAAAAAAAAAAAAAAAAAAAAAAAAAAAAAAAAAAAAAAAAAAAAAAAAAAAAAAAAAAAAAAAAAAAAAAAAAAAAAAAAAAAAAAAAAAAAAAAAAAAAAAAAAAAAAAAAAAAAAAAAAAAAAAAAAAAAAAAAAAAAAAAAAAAAAAAAAOQxBaVPmgEBFk9W+OleGQAAAAAAAAAAAAAAAAAAAAAAAAAAAAAAAAAAAAAAAAAAAAAAAAAAAAAAAAAAAAAAAAAAAAAAAAAAAAAAAAAAAAAAAAAAAAAAAAAAAAAAAAAAAAAAAAAAAAAAAAAAAAAAAAAAAAAAAAAAAAAAAAAAAAAAAAAAAAAAAAAAAAAAAAAAAAAAAAAAAAAAAAAAAAAAAAA==",
          "dtype": "f8"
         },
         "yaxis": "y2"
        },
        {
         "line": {
          "color": "#0072B2",
          "width": 2
         },
         "mode": "lines",
         "name": "Weekly Seasonality",
         "type": "scatter",
         "x": [
          "2017-01-01T00:00:00.000000000",
          "2017-01-02T00:00:00.000000000",
          "2017-01-03T00:00:00.000000000",
          "2017-01-04T00:00:00.000000000",
          "2017-01-05T00:00:00.000000000",
          "2017-01-06T00:00:00.000000000",
          "2017-01-07T00:00:00.000000000"
         ],
         "xaxis": "x3",
         "y": {
          "bdata": "Wqr8sChJfEDDD4iXHB1ZwJGojukAiWHALhUj9ELYYcBL9w9acFhhwKKTHkk/WlHAQuobxhBjYUA=",
          "dtype": "f8"
         },
         "yaxis": "y3"
        },
        {
         "line": {
          "color": "#0072B2",
          "width": 2
         },
         "mode": "lines",
         "name": "Yearly Seasonality",
         "type": "scatter",
         "x": [
          "2017-01-01T00:00:00.000000000",
          "2017-01-02T00:00:00.000000000",
          "2017-01-03T00:00:00.000000000",
          "2017-01-04T00:00:00.000000000",
          "2017-01-05T00:00:00.000000000",
          "2017-01-06T00:00:00.000000000",
          "2017-01-07T00:00:00.000000000",
          "2017-01-08T00:00:00.000000000",
          "2017-01-09T00:00:00.000000000",
          "2017-01-10T00:00:00.000000000",
          "2017-01-11T00:00:00.000000000",
          "2017-01-12T00:00:00.000000000",
          "2017-01-13T00:00:00.000000000",
          "2017-01-14T00:00:00.000000000",
          "2017-01-15T00:00:00.000000000",
          "2017-01-16T00:00:00.000000000",
          "2017-01-17T00:00:00.000000000",
          "2017-01-18T00:00:00.000000000",
          "2017-01-19T00:00:00.000000000",
          "2017-01-20T00:00:00.000000000",
          "2017-01-21T00:00:00.000000000",
          "2017-01-22T00:00:00.000000000",
          "2017-01-23T00:00:00.000000000",
          "2017-01-24T00:00:00.000000000",
          "2017-01-25T00:00:00.000000000",
          "2017-01-26T00:00:00.000000000",
          "2017-01-27T00:00:00.000000000",
          "2017-01-28T00:00:00.000000000",
          "2017-01-29T00:00:00.000000000",
          "2017-01-30T00:00:00.000000000",
          "2017-01-31T00:00:00.000000000",
          "2017-02-01T00:00:00.000000000",
          "2017-02-02T00:00:00.000000000",
          "2017-02-03T00:00:00.000000000",
          "2017-02-04T00:00:00.000000000",
          "2017-02-05T00:00:00.000000000",
          "2017-02-06T00:00:00.000000000",
          "2017-02-07T00:00:00.000000000",
          "2017-02-08T00:00:00.000000000",
          "2017-02-09T00:00:00.000000000",
          "2017-02-10T00:00:00.000000000",
          "2017-02-11T00:00:00.000000000",
          "2017-02-12T00:00:00.000000000",
          "2017-02-13T00:00:00.000000000",
          "2017-02-14T00:00:00.000000000",
          "2017-02-15T00:00:00.000000000",
          "2017-02-16T00:00:00.000000000",
          "2017-02-17T00:00:00.000000000",
          "2017-02-18T00:00:00.000000000",
          "2017-02-19T00:00:00.000000000",
          "2017-02-20T00:00:00.000000000",
          "2017-02-21T00:00:00.000000000",
          "2017-02-22T00:00:00.000000000",
          "2017-02-23T00:00:00.000000000",
          "2017-02-24T00:00:00.000000000",
          "2017-02-25T00:00:00.000000000",
          "2017-02-26T00:00:00.000000000",
          "2017-02-27T00:00:00.000000000",
          "2017-02-28T00:00:00.000000000",
          "2017-03-01T00:00:00.000000000",
          "2017-03-02T00:00:00.000000000",
          "2017-03-03T00:00:00.000000000",
          "2017-03-04T00:00:00.000000000",
          "2017-03-05T00:00:00.000000000",
          "2017-03-06T00:00:00.000000000",
          "2017-03-07T00:00:00.000000000",
          "2017-03-08T00:00:00.000000000",
          "2017-03-09T00:00:00.000000000",
          "2017-03-10T00:00:00.000000000",
          "2017-03-11T00:00:00.000000000",
          "2017-03-12T00:00:00.000000000",
          "2017-03-13T00:00:00.000000000",
          "2017-03-14T00:00:00.000000000",
          "2017-03-15T00:00:00.000000000",
          "2017-03-16T00:00:00.000000000",
          "2017-03-17T00:00:00.000000000",
          "2017-03-18T00:00:00.000000000",
          "2017-03-19T00:00:00.000000000",
          "2017-03-20T00:00:00.000000000",
          "2017-03-21T00:00:00.000000000",
          "2017-03-22T00:00:00.000000000",
          "2017-03-23T00:00:00.000000000",
          "2017-03-24T00:00:00.000000000",
          "2017-03-25T00:00:00.000000000",
          "2017-03-26T00:00:00.000000000",
          "2017-03-27T00:00:00.000000000",
          "2017-03-28T00:00:00.000000000",
          "2017-03-29T00:00:00.000000000",
          "2017-03-30T00:00:00.000000000",
          "2017-03-31T00:00:00.000000000",
          "2017-04-01T00:00:00.000000000",
          "2017-04-02T00:00:00.000000000",
          "2017-04-03T00:00:00.000000000",
          "2017-04-04T00:00:00.000000000",
          "2017-04-05T00:00:00.000000000",
          "2017-04-06T00:00:00.000000000",
          "2017-04-07T00:00:00.000000000",
          "2017-04-08T00:00:00.000000000",
          "2017-04-09T00:00:00.000000000",
          "2017-04-10T00:00:00.000000000",
          "2017-04-11T00:00:00.000000000",
          "2017-04-12T00:00:00.000000000",
          "2017-04-13T00:00:00.000000000",
          "2017-04-14T00:00:00.000000000",
          "2017-04-15T00:00:00.000000000",
          "2017-04-16T00:00:00.000000000",
          "2017-04-17T00:00:00.000000000",
          "2017-04-18T00:00:00.000000000",
          "2017-04-19T00:00:00.000000000",
          "2017-04-20T00:00:00.000000000",
          "2017-04-21T00:00:00.000000000",
          "2017-04-22T00:00:00.000000000",
          "2017-04-23T00:00:00.000000000",
          "2017-04-24T00:00:00.000000000",
          "2017-04-25T00:00:00.000000000",
          "2017-04-26T00:00:00.000000000",
          "2017-04-27T00:00:00.000000000",
          "2017-04-28T00:00:00.000000000",
          "2017-04-29T00:00:00.000000000",
          "2017-04-30T00:00:00.000000000",
          "2017-05-01T00:00:00.000000000",
          "2017-05-02T00:00:00.000000000",
          "2017-05-03T00:00:00.000000000",
          "2017-05-04T00:00:00.000000000",
          "2017-05-05T00:00:00.000000000",
          "2017-05-06T00:00:00.000000000",
          "2017-05-07T00:00:00.000000000",
          "2017-05-08T00:00:00.000000000",
          "2017-05-09T00:00:00.000000000",
          "2017-05-10T00:00:00.000000000",
          "2017-05-11T00:00:00.000000000",
          "2017-05-12T00:00:00.000000000",
          "2017-05-13T00:00:00.000000000",
          "2017-05-14T00:00:00.000000000",
          "2017-05-15T00:00:00.000000000",
          "2017-05-16T00:00:00.000000000",
          "2017-05-17T00:00:00.000000000",
          "2017-05-18T00:00:00.000000000",
          "2017-05-19T00:00:00.000000000",
          "2017-05-20T00:00:00.000000000",
          "2017-05-21T00:00:00.000000000",
          "2017-05-22T00:00:00.000000000",
          "2017-05-23T00:00:00.000000000",
          "2017-05-24T00:00:00.000000000",
          "2017-05-25T00:00:00.000000000",
          "2017-05-26T00:00:00.000000000",
          "2017-05-27T00:00:00.000000000",
          "2017-05-28T00:00:00.000000000",
          "2017-05-29T00:00:00.000000000",
          "2017-05-30T00:00:00.000000000",
          "2017-05-31T00:00:00.000000000",
          "2017-06-01T00:00:00.000000000",
          "2017-06-02T00:00:00.000000000",
          "2017-06-03T00:00:00.000000000",
          "2017-06-04T00:00:00.000000000",
          "2017-06-05T00:00:00.000000000",
          "2017-06-06T00:00:00.000000000",
          "2017-06-07T00:00:00.000000000",
          "2017-06-08T00:00:00.000000000",
          "2017-06-09T00:00:00.000000000",
          "2017-06-10T00:00:00.000000000",
          "2017-06-11T00:00:00.000000000",
          "2017-06-12T00:00:00.000000000",
          "2017-06-13T00:00:00.000000000",
          "2017-06-14T00:00:00.000000000",
          "2017-06-15T00:00:00.000000000",
          "2017-06-16T00:00:00.000000000",
          "2017-06-17T00:00:00.000000000",
          "2017-06-18T00:00:00.000000000",
          "2017-06-19T00:00:00.000000000",
          "2017-06-20T00:00:00.000000000",
          "2017-06-21T00:00:00.000000000",
          "2017-06-22T00:00:00.000000000",
          "2017-06-23T00:00:00.000000000",
          "2017-06-24T00:00:00.000000000",
          "2017-06-25T00:00:00.000000000",
          "2017-06-26T00:00:00.000000000",
          "2017-06-27T00:00:00.000000000",
          "2017-06-28T00:00:00.000000000",
          "2017-06-29T00:00:00.000000000",
          "2017-06-30T00:00:00.000000000",
          "2017-07-01T00:00:00.000000000",
          "2017-07-02T00:00:00.000000000",
          "2017-07-03T00:00:00.000000000",
          "2017-07-04T00:00:00.000000000",
          "2017-07-05T00:00:00.000000000",
          "2017-07-06T00:00:00.000000000",
          "2017-07-07T00:00:00.000000000",
          "2017-07-08T00:00:00.000000000",
          "2017-07-09T00:00:00.000000000",
          "2017-07-10T00:00:00.000000000",
          "2017-07-11T00:00:00.000000000",
          "2017-07-12T00:00:00.000000000",
          "2017-07-13T00:00:00.000000000",
          "2017-07-14T00:00:00.000000000",
          "2017-07-15T00:00:00.000000000",
          "2017-07-16T00:00:00.000000000",
          "2017-07-17T00:00:00.000000000",
          "2017-07-18T00:00:00.000000000",
          "2017-07-19T00:00:00.000000000",
          "2017-07-20T00:00:00.000000000",
          "2017-07-21T00:00:00.000000000",
          "2017-07-22T00:00:00.000000000",
          "2017-07-23T00:00:00.000000000",
          "2017-07-24T00:00:00.000000000",
          "2017-07-25T00:00:00.000000000",
          "2017-07-26T00:00:00.000000000",
          "2017-07-27T00:00:00.000000000",
          "2017-07-28T00:00:00.000000000",
          "2017-07-29T00:00:00.000000000",
          "2017-07-30T00:00:00.000000000",
          "2017-07-31T00:00:00.000000000",
          "2017-08-01T00:00:00.000000000",
          "2017-08-02T00:00:00.000000000",
          "2017-08-03T00:00:00.000000000",
          "2017-08-04T00:00:00.000000000",
          "2017-08-05T00:00:00.000000000",
          "2017-08-06T00:00:00.000000000",
          "2017-08-07T00:00:00.000000000",
          "2017-08-08T00:00:00.000000000",
          "2017-08-09T00:00:00.000000000",
          "2017-08-10T00:00:00.000000000",
          "2017-08-11T00:00:00.000000000",
          "2017-08-12T00:00:00.000000000",
          "2017-08-13T00:00:00.000000000",
          "2017-08-14T00:00:00.000000000",
          "2017-08-15T00:00:00.000000000",
          "2017-08-16T00:00:00.000000000",
          "2017-08-17T00:00:00.000000000",
          "2017-08-18T00:00:00.000000000",
          "2017-08-19T00:00:00.000000000",
          "2017-08-20T00:00:00.000000000",
          "2017-08-21T00:00:00.000000000",
          "2017-08-22T00:00:00.000000000",
          "2017-08-23T00:00:00.000000000",
          "2017-08-24T00:00:00.000000000",
          "2017-08-25T00:00:00.000000000",
          "2017-08-26T00:00:00.000000000",
          "2017-08-27T00:00:00.000000000",
          "2017-08-28T00:00:00.000000000",
          "2017-08-29T00:00:00.000000000",
          "2017-08-30T00:00:00.000000000",
          "2017-08-31T00:00:00.000000000",
          "2017-09-01T00:00:00.000000000",
          "2017-09-02T00:00:00.000000000",
          "2017-09-03T00:00:00.000000000",
          "2017-09-04T00:00:00.000000000",
          "2017-09-05T00:00:00.000000000",
          "2017-09-06T00:00:00.000000000",
          "2017-09-07T00:00:00.000000000",
          "2017-09-08T00:00:00.000000000",
          "2017-09-09T00:00:00.000000000",
          "2017-09-10T00:00:00.000000000",
          "2017-09-11T00:00:00.000000000",
          "2017-09-12T00:00:00.000000000",
          "2017-09-13T00:00:00.000000000",
          "2017-09-14T00:00:00.000000000",
          "2017-09-15T00:00:00.000000000",
          "2017-09-16T00:00:00.000000000",
          "2017-09-17T00:00:00.000000000",
          "2017-09-18T00:00:00.000000000",
          "2017-09-19T00:00:00.000000000",
          "2017-09-20T00:00:00.000000000",
          "2017-09-21T00:00:00.000000000",
          "2017-09-22T00:00:00.000000000",
          "2017-09-23T00:00:00.000000000",
          "2017-09-24T00:00:00.000000000",
          "2017-09-25T00:00:00.000000000",
          "2017-09-26T00:00:00.000000000",
          "2017-09-27T00:00:00.000000000",
          "2017-09-28T00:00:00.000000000",
          "2017-09-29T00:00:00.000000000",
          "2017-09-30T00:00:00.000000000",
          "2017-10-01T00:00:00.000000000",
          "2017-10-02T00:00:00.000000000",
          "2017-10-03T00:00:00.000000000",
          "2017-10-04T00:00:00.000000000",
          "2017-10-05T00:00:00.000000000",
          "2017-10-06T00:00:00.000000000",
          "2017-10-07T00:00:00.000000000",
          "2017-10-08T00:00:00.000000000",
          "2017-10-09T00:00:00.000000000",
          "2017-10-10T00:00:00.000000000",
          "2017-10-11T00:00:00.000000000",
          "2017-10-12T00:00:00.000000000",
          "2017-10-13T00:00:00.000000000",
          "2017-10-14T00:00:00.000000000",
          "2017-10-15T00:00:00.000000000",
          "2017-10-16T00:00:00.000000000",
          "2017-10-17T00:00:00.000000000",
          "2017-10-18T00:00:00.000000000",
          "2017-10-19T00:00:00.000000000",
          "2017-10-20T00:00:00.000000000",
          "2017-10-21T00:00:00.000000000",
          "2017-10-22T00:00:00.000000000",
          "2017-10-23T00:00:00.000000000",
          "2017-10-24T00:00:00.000000000",
          "2017-10-25T00:00:00.000000000",
          "2017-10-26T00:00:00.000000000",
          "2017-10-27T00:00:00.000000000",
          "2017-10-28T00:00:00.000000000",
          "2017-10-29T00:00:00.000000000",
          "2017-10-30T00:00:00.000000000",
          "2017-10-31T00:00:00.000000000",
          "2017-11-01T00:00:00.000000000",
          "2017-11-02T00:00:00.000000000",
          "2017-11-03T00:00:00.000000000",
          "2017-11-04T00:00:00.000000000",
          "2017-11-05T00:00:00.000000000",
          "2017-11-06T00:00:00.000000000",
          "2017-11-07T00:00:00.000000000",
          "2017-11-08T00:00:00.000000000",
          "2017-11-09T00:00:00.000000000",
          "2017-11-10T00:00:00.000000000",
          "2017-11-11T00:00:00.000000000",
          "2017-11-12T00:00:00.000000000",
          "2017-11-13T00:00:00.000000000",
          "2017-11-14T00:00:00.000000000",
          "2017-11-15T00:00:00.000000000",
          "2017-11-16T00:00:00.000000000",
          "2017-11-17T00:00:00.000000000",
          "2017-11-18T00:00:00.000000000",
          "2017-11-19T00:00:00.000000000",
          "2017-11-20T00:00:00.000000000",
          "2017-11-21T00:00:00.000000000",
          "2017-11-22T00:00:00.000000000",
          "2017-11-23T00:00:00.000000000",
          "2017-11-24T00:00:00.000000000",
          "2017-11-25T00:00:00.000000000",
          "2017-11-26T00:00:00.000000000",
          "2017-11-27T00:00:00.000000000",
          "2017-11-28T00:00:00.000000000",
          "2017-11-29T00:00:00.000000000",
          "2017-11-30T00:00:00.000000000",
          "2017-12-01T00:00:00.000000000",
          "2017-12-02T00:00:00.000000000",
          "2017-12-03T00:00:00.000000000",
          "2017-12-04T00:00:00.000000000",
          "2017-12-05T00:00:00.000000000",
          "2017-12-06T00:00:00.000000000",
          "2017-12-07T00:00:00.000000000",
          "2017-12-08T00:00:00.000000000",
          "2017-12-09T00:00:00.000000000",
          "2017-12-10T00:00:00.000000000",
          "2017-12-11T00:00:00.000000000",
          "2017-12-12T00:00:00.000000000",
          "2017-12-13T00:00:00.000000000",
          "2017-12-14T00:00:00.000000000",
          "2017-12-15T00:00:00.000000000",
          "2017-12-16T00:00:00.000000000",
          "2017-12-17T00:00:00.000000000",
          "2017-12-18T00:00:00.000000000",
          "2017-12-19T00:00:00.000000000",
          "2017-12-20T00:00:00.000000000",
          "2017-12-21T00:00:00.000000000",
          "2017-12-22T00:00:00.000000000",
          "2017-12-23T00:00:00.000000000",
          "2017-12-24T00:00:00.000000000",
          "2017-12-25T00:00:00.000000000",
          "2017-12-26T00:00:00.000000000",
          "2017-12-27T00:00:00.000000000",
          "2017-12-28T00:00:00.000000000",
          "2017-12-29T00:00:00.000000000",
          "2017-12-30T00:00:00.000000000",
          "2017-12-31T00:00:00.000000000"
         ],
         "xaxis": "x4",
         "y": {
          "bdata": "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",
          "dtype": "f8"
         },
         "yaxis": "y4"
        }
       ],
       "layout": {
        "height": 800,
        "showlegend": false,
        "template": {
         "data": {
          "bar": [
           {
            "error_x": {
             "color": "#2a3f5f"
            },
            "error_y": {
             "color": "#2a3f5f"
            },
            "marker": {
             "line": {
              "color": "#E5ECF6",
              "width": 0.5
             },
             "pattern": {
              "fillmode": "overlay",
              "size": 10,
              "solidity": 0.2
             }
            },
            "type": "bar"
           }
          ],
          "barpolar": [
           {
            "marker": {
             "line": {
              "color": "#E5ECF6",
              "width": 0.5
             },
             "pattern": {
              "fillmode": "overlay",
              "size": 10,
              "solidity": 0.2
             }
            },
            "type": "barpolar"
           }
          ],
          "carpet": [
           {
            "aaxis": {
             "endlinecolor": "#2a3f5f",
             "gridcolor": "white",
             "linecolor": "white",
             "minorgridcolor": "white",
             "startlinecolor": "#2a3f5f"
            },
            "baxis": {
             "endlinecolor": "#2a3f5f",
             "gridcolor": "white",
             "linecolor": "white",
             "minorgridcolor": "white",
             "startlinecolor": "#2a3f5f"
            },
            "type": "carpet"
           }
          ],
          "choropleth": [
           {
            "colorbar": {
             "outlinewidth": 0,
             "ticks": ""
            },
            "type": "choropleth"
           }
          ],
          "contour": [
           {
            "colorbar": {
             "outlinewidth": 0,
             "ticks": ""
            },
            "colorscale": [
             [
              0,
              "#0d0887"
             ],
             [
              0.1111111111111111,
              "#46039f"
             ],
             [
              0.2222222222222222,
              "#7201a8"
             ],
             [
              0.3333333333333333,
              "#9c179e"
             ],
             [
              0.4444444444444444,
              "#bd3786"
             ],
             [
              0.5555555555555556,
              "#d8576b"
             ],
             [
              0.6666666666666666,
              "#ed7953"
             ],
             [
              0.7777777777777778,
              "#fb9f3a"
             ],
             [
              0.8888888888888888,
              "#fdca26"
             ],
             [
              1,
              "#f0f921"
             ]
            ],
            "type": "contour"
           }
          ],
          "contourcarpet": [
           {
            "colorbar": {
             "outlinewidth": 0,
             "ticks": ""
            },
            "type": "contourcarpet"
           }
          ],
          "heatmap": [
           {
            "colorbar": {
             "outlinewidth": 0,
             "ticks": ""
            },
            "colorscale": [
             [
              0,
              "#0d0887"
             ],
             [
              0.1111111111111111,
              "#46039f"
             ],
             [
              0.2222222222222222,
              "#7201a8"
             ],
             [
              0.3333333333333333,
              "#9c179e"
             ],
             [
              0.4444444444444444,
              "#bd3786"
             ],
             [
              0.5555555555555556,
              "#d8576b"
             ],
             [
              0.6666666666666666,
              "#ed7953"
             ],
             [
              0.7777777777777778,
              "#fb9f3a"
             ],
             [
              0.8888888888888888,
              "#fdca26"
             ],
             [
              1,
              "#f0f921"
             ]
            ],
            "type": "heatmap"
           }
          ],
          "histogram": [
           {
            "marker": {
             "pattern": {
              "fillmode": "overlay",
              "size": 10,
              "solidity": 0.2
             }
            },
            "type": "histogram"
           }
          ],
          "histogram2d": [
           {
            "colorbar": {
             "outlinewidth": 0,
             "ticks": ""
            },
            "colorscale": [
             [
              0,
              "#0d0887"
             ],
             [
              0.1111111111111111,
              "#46039f"
             ],
             [
              0.2222222222222222,
              "#7201a8"
             ],
             [
              0.3333333333333333,
              "#9c179e"
             ],
             [
              0.4444444444444444,
              "#bd3786"
             ],
             [
              0.5555555555555556,
              "#d8576b"
             ],
             [
              0.6666666666666666,
              "#ed7953"
             ],
             [
              0.7777777777777778,
              "#fb9f3a"
             ],
             [
              0.8888888888888888,
              "#fdca26"
             ],
             [
              1,
              "#f0f921"
             ]
            ],
            "type": "histogram2d"
           }
          ],
          "histogram2dcontour": [
           {
            "colorbar": {
             "outlinewidth": 0,
             "ticks": ""
            },
            "colorscale": [
             [
              0,
              "#0d0887"
             ],
             [
              0.1111111111111111,
              "#46039f"
             ],
             [
              0.2222222222222222,
              "#7201a8"
             ],
             [
              0.3333333333333333,
              "#9c179e"
             ],
             [
              0.4444444444444444,
              "#bd3786"
             ],
             [
              0.5555555555555556,
              "#d8576b"
             ],
             [
              0.6666666666666666,
              "#ed7953"
             ],
             [
              0.7777777777777778,
              "#fb9f3a"
             ],
             [
              0.8888888888888888,
              "#fdca26"
             ],
             [
              1,
              "#f0f921"
             ]
            ],
            "type": "histogram2dcontour"
           }
          ],
          "mesh3d": [
           {
            "colorbar": {
             "outlinewidth": 0,
             "ticks": ""
            },
            "type": "mesh3d"
           }
          ],
          "parcoords": [
           {
            "line": {
             "colorbar": {
              "outlinewidth": 0,
              "ticks": ""
             }
            },
            "type": "parcoords"
           }
          ],
          "pie": [
           {
            "automargin": true,
            "type": "pie"
           }
          ],
          "scatter": [
           {
            "fillpattern": {
             "fillmode": "overlay",
             "size": 10,
             "solidity": 0.2
            },
            "type": "scatter"
           }
          ],
          "scatter3d": [
           {
            "line": {
             "colorbar": {
              "outlinewidth": 0,
              "ticks": ""
             }
            },
            "marker": {
             "colorbar": {
              "outlinewidth": 0,
              "ticks": ""
             }
            },
            "type": "scatter3d"
           }
          ],
          "scattercarpet": [
           {
            "marker": {
             "colorbar": {
              "outlinewidth": 0,
              "ticks": ""
             }
            },
            "type": "scattercarpet"
           }
          ],
          "scattergeo": [
           {
            "marker": {
             "colorbar": {
              "outlinewidth": 0,
              "ticks": ""
             }
            },
            "type": "scattergeo"
           }
          ],
          "scattergl": [
           {
            "marker": {
             "colorbar": {
              "outlinewidth": 0,
              "ticks": ""
             }
            },
            "type": "scattergl"
           }
          ],
          "scattermap": [
           {
            "marker": {
             "colorbar": {
              "outlinewidth": 0,
              "ticks": ""
             }
            },
            "type": "scattermap"
           }
          ],
          "scattermapbox": [
           {
            "marker": {
             "colorbar": {
              "outlinewidth": 0,
              "ticks": ""
             }
            },
            "type": "scattermapbox"
           }
          ],
          "scatterpolar": [
           {
            "marker": {
             "colorbar": {
              "outlinewidth": 0,
              "ticks": ""
             }
            },
            "type": "scatterpolar"
           }
          ],
          "scatterpolargl": [
           {
            "marker": {
             "colorbar": {
              "outlinewidth": 0,
              "ticks": ""
             }
            },
            "type": "scatterpolargl"
           }
          ],
          "scatterternary": [
           {
            "marker": {
             "colorbar": {
              "outlinewidth": 0,
              "ticks": ""
             }
            },
            "type": "scatterternary"
           }
          ],
          "surface": [
           {
            "colorbar": {
             "outlinewidth": 0,
             "ticks": ""
            },
            "colorscale": [
             [
              0,
              "#0d0887"
             ],
             [
              0.1111111111111111,
              "#46039f"
             ],
             [
              0.2222222222222222,
              "#7201a8"
             ],
             [
              0.3333333333333333,
              "#9c179e"
             ],
             [
              0.4444444444444444,
              "#bd3786"
             ],
             [
              0.5555555555555556,
              "#d8576b"
             ],
             [
              0.6666666666666666,
              "#ed7953"
             ],
             [
              0.7777777777777778,
              "#fb9f3a"
             ],
             [
              0.8888888888888888,
              "#fdca26"
             ],
             [
              1,
              "#f0f921"
             ]
            ],
            "type": "surface"
           }
          ],
          "table": [
           {
            "cells": {
             "fill": {
              "color": "#EBF0F8"
             },
             "line": {
              "color": "white"
             }
            },
            "header": {
             "fill": {
              "color": "#C8D4E3"
             },
             "line": {
              "color": "white"
             }
            },
            "type": "table"
           }
          ]
         },
         "layout": {
          "annotationdefaults": {
           "arrowcolor": "#2a3f5f",
           "arrowhead": 0,
           "arrowwidth": 1
          },
          "autotypenumbers": "strict",
          "coloraxis": {
           "colorbar": {
            "outlinewidth": 0,
            "ticks": ""
           }
          },
          "colorscale": {
           "diverging": [
            [
             0,
             "#8e0152"
            ],
            [
             0.1,
             "#c51b7d"
            ],
            [
             0.2,
             "#de77ae"
            ],
            [
             0.3,
             "#f1b6da"
            ],
            [
             0.4,
             "#fde0ef"
            ],
            [
             0.5,
             "#f7f7f7"
            ],
            [
             0.6,
             "#e6f5d0"
            ],
            [
             0.7,
             "#b8e186"
            ],
            [
             0.8,
             "#7fbc41"
            ],
            [
             0.9,
             "#4d9221"
            ],
            [
             1,
             "#276419"
            ]
           ],
           "sequential": [
            [
             0,
             "#0d0887"
            ],
            [
             0.1111111111111111,
             "#46039f"
            ],
            [
             0.2222222222222222,
             "#7201a8"
            ],
            [
             0.3333333333333333,
             "#9c179e"
            ],
            [
             0.4444444444444444,
             "#bd3786"
            ],
            [
             0.5555555555555556,
             "#d8576b"
            ],
            [
             0.6666666666666666,
             "#ed7953"
            ],
            [
             0.7777777777777778,
             "#fb9f3a"
            ],
            [
             0.8888888888888888,
             "#fdca26"
            ],
            [
             1,
             "#f0f921"
            ]
           ],
           "sequentialminus": [
            [
             0,
             "#0d0887"
            ],
            [
             0.1111111111111111,
             "#46039f"
            ],
            [
             0.2222222222222222,
             "#7201a8"
            ],
            [
             0.3333333333333333,
             "#9c179e"
            ],
            [
             0.4444444444444444,
             "#bd3786"
            ],
            [
             0.5555555555555556,
             "#d8576b"
            ],
            [
             0.6666666666666666,
             "#ed7953"
            ],
            [
             0.7777777777777778,
             "#fb9f3a"
            ],
            [
             0.8888888888888888,
             "#fdca26"
            ],
            [
             1,
             "#f0f921"
            ]
           ]
          },
          "colorway": [
           "#636efa",
           "#EF553B",
           "#00cc96",
           "#ab63fa",
           "#FFA15A",
           "#19d3f3",
           "#FF6692",
           "#B6E880",
           "#FF97FF",
           "#FECB52"
          ],
          "font": {
           "color": "#2a3f5f"
          },
          "geo": {
           "bgcolor": "white",
           "lakecolor": "white",
           "landcolor": "#E5ECF6",
           "showlakes": true,
           "showland": true,
           "subunitcolor": "white"
          },
          "hoverlabel": {
           "align": "left"
          },
          "hovermode": "closest",
          "mapbox": {
           "style": "light"
          },
          "paper_bgcolor": "white",
          "plot_bgcolor": "#E5ECF6",
          "polar": {
           "angularaxis": {
            "gridcolor": "white",
            "linecolor": "white",
            "ticks": ""
           },
           "bgcolor": "#E5ECF6",
           "radialaxis": {
            "gridcolor": "white",
            "linecolor": "white",
            "ticks": ""
           }
          },
          "scene": {
           "xaxis": {
            "backgroundcolor": "#E5ECF6",
            "gridcolor": "white",
            "gridwidth": 2,
            "linecolor": "white",
            "showbackground": true,
            "ticks": "",
            "zerolinecolor": "white"
           },
           "yaxis": {
            "backgroundcolor": "#E5ECF6",
            "gridcolor": "white",
            "gridwidth": 2,
            "linecolor": "white",
            "showbackground": true,
            "ticks": "",
            "zerolinecolor": "white"
           },
           "zaxis": {
            "backgroundcolor": "#E5ECF6",
            "gridcolor": "white",
            "gridwidth": 2,
            "linecolor": "white",
            "showbackground": true,
            "ticks": "",
            "zerolinecolor": "white"
           }
          },
          "shapedefaults": {
           "line": {
            "color": "#2a3f5f"
           }
          },
          "ternary": {
           "aaxis": {
            "gridcolor": "white",
            "linecolor": "white",
            "ticks": ""
           },
           "baxis": {
            "gridcolor": "white",
            "linecolor": "white",
            "ticks": ""
           },
           "bgcolor": "#E5ECF6",
           "caxis": {
            "gridcolor": "white",
            "linecolor": "white",
            "ticks": ""
           }
          },
          "title": {
           "x": 0.05
          },
          "xaxis": {
           "automargin": true,
           "gridcolor": "white",
           "linecolor": "white",
           "ticks": "",
           "title": {
            "standoff": 15
           },
           "zerolinecolor": "white",
           "zerolinewidth": 2
          },
          "yaxis": {
           "automargin": true,
           "gridcolor": "white",
           "linecolor": "white",
           "ticks": "",
           "title": {
            "standoff": 15
           },
           "zerolinecolor": "white",
           "zerolinewidth": 2
          }
         }
        },
        "width": 900,
        "xaxis": {
         "anchor": "y",
         "domain": [
          0,
          1
         ],
         "range": [
          "2020-11-19T15:36:00",
          "2023-06-09T08:24:00"
         ],
         "type": "date"
        },
        "xaxis2": {
         "anchor": "y2",
         "domain": [
          0,
          1
         ],
         "range": [
          "2020-11-19T15:36:00",
          "2023-06-09T08:24:00"
         ],
         "type": "date"
        },
        "xaxis3": {
         "anchor": "y3",
         "domain": [
          0,
          1
         ],
         "range": [
          "2016-12-31T16:48:00",
          "2017-01-07T07:12:00"
         ],
         "tickformat": "%A",
         "type": "date"
        },
        "xaxis4": {
         "anchor": "y4",
         "domain": [
          0,
          1
         ],
         "range": [
          "2016-12-13T19:12:00",
          "2018-01-18T04:48:00"
         ],
         "tickformat": "%B %e",
         "type": "date"
        },
        "yaxis": {
         "anchor": "x",
         "domain": [
          0.80625,
          1
         ],
         "rangemode": "normal",
         "title": {
          "text": "trend"
         },
         "zerolinecolor": "#AAA"
        },
        "yaxis2": {
         "anchor": "x2",
         "domain": [
          0.5375,
          0.73125
         ],
         "rangemode": "tozero",
         "title": {
          "text": "holidays"
         },
         "zerolinecolor": "#AAA"
        },
        "yaxis3": {
         "anchor": "x3",
         "domain": [
          0.26875,
          0.4625
         ],
         "title": {
          "text": "Weekly Seasonality"
         },
         "zerolinecolor": "#AAA"
        },
        "yaxis4": {
         "anchor": "x4",
         "domain": [
          0,
          0.19375
         ],
         "title": {
          "text": "Yearly Seasonality"
         },
         "zerolinecolor": "#AAA"
        }
       }
      }
     },
     "metadata": {},
     "output_type": "display_data"
    }
   ],
   "source": [
    "figure2 = plot_components_plotly(prophet,forecast)\n",
    "figure2"
   ]
  },
  {
   "cell_type": "markdown",
   "id": "a39e15e0",
   "metadata": {},
   "source": [
    "## Monthly Average Sales from Actual Data"
   ]
  },
  {
   "cell_type": "code",
   "execution_count": 288,
   "id": "7d5d3dde",
   "metadata": {},
   "outputs": [
    {
     "name": "stdout",
     "output_type": "stream",
     "text": [
      "  Month        y\n",
      "6   Oct  738.956\n",
      "5   Nov  662.268\n",
      "1   Dec  743.892\n",
      "3   Jan  645.571\n",
      "2   Feb  720.620\n",
      "4   Mar  713.807\n",
      "0   Apr  856.773\n"
     ]
    }
   ],
   "source": [
    "original = final_df[\n",
    "    (final_df['ds'].dt.year.isin([2021, 2022])) &\n",
    "    (final_df['ds'].dt.month.isin([1, 2, 3, 4, 10, 11, 12]))\n",
    "].copy()\n",
    "\n",
    "# Add Month column\n",
    "original[\"Month\"] = original[\"ds\"].dt.strftime(\"%b\")\n",
    "\n",
    "# Group by month and compute average sales\n",
    "original_monthly_avg = (\n",
    "    original.groupby(\"Month\")[\"y\"]\n",
    "    .mean()\n",
    "    .reset_index()\n",
    "    .sort_values(by=\"Month\", key=lambda x: pd.Categorical(x, [\"Oct\", \"Nov\", \"Dec\", \"Jan\", \"Feb\", \"Mar\"]))\n",
    ")\n",
    "\n",
    "original_monthly_avg['y'] = original_monthly_avg['y'].round(3)\n",
    "\n",
    "print(original_monthly_avg)"
   ]
  },
  {
   "cell_type": "markdown",
   "id": "ff67a223",
   "metadata": {},
   "source": [
    "## Monthly Average Sales from Daily Forecasted Sales"
   ]
  },
  {
   "cell_type": "code",
   "execution_count": 289,
   "id": "30842fc1",
   "metadata": {},
   "outputs": [
    {
     "name": "stdout",
     "output_type": "stream",
     "text": [
      "  Month     yhat\n",
      "6   Oct  829.785\n",
      "5   Nov  774.061\n",
      "1   Dec  858.993\n",
      "3   Jan  686.485\n",
      "2   Feb  758.161\n",
      "4   Mar  778.199\n",
      "0   Apr  935.304\n"
     ]
    }
   ],
   "source": [
    "forecast_sub = forecast[\n",
    "    (forecast['ds'].dt.year.isin([2022, 2023])) &\n",
    "    (forecast['ds'].dt.month.isin([1, 2, 3, 4, 10, 11, 12]))\n",
    "].copy()\n",
    "\n",
    "forecast_sub[\"Month\"] = forecast_sub[\"ds\"].dt.strftime(\"%b\")\n",
    "\n",
    "forecast_monthly_avg = (\n",
    "    forecast_sub.groupby(\"Month\")[\"yhat\"]\n",
    "    .mean()\n",
    "    .reset_index()\n",
    "    .sort_values(by=\"Month\", key=lambda x: pd.Categorical(x, [\"Oct\", \"Nov\", \"Dec\", \"Jan\", \"Feb\", \"Mar\"]))\n",
    ")\n",
    "\n",
    "forecast_monthly_avg['yhat'] = forecast_monthly_avg['yhat'].round(3)\n",
    "\n",
    "print(forecast_monthly_avg)\n"
   ]
  },
  {
   "cell_type": "markdown",
   "id": "3c6e88fc",
   "metadata": {},
   "source": [
    "## Average Sales per month Compared"
   ]
  },
  {
   "cell_type": "code",
   "execution_count": 290,
   "id": "e5cedd69",
   "metadata": {},
   "outputs": [
    {
     "data": {
      "application/vnd.plotly.v1+json": {
       "config": {
        "plotlyServerURL": "https://plot.ly"
       },
       "data": [
        {
         "hovertemplate": "Type=Actual(2021-2022)<br>Month=%{x}<br>Avg_Sales=%{text}<extra></extra>",
         "legendgroup": "Actual(2021-2022)",
         "marker": {
          "color": "#636efa",
          "pattern": {
           "shape": ""
          }
         },
         "name": "Actual(2021-2022)",
         "orientation": "v",
         "showlegend": true,
         "text": {
          "bdata": "z/dT46UXh0CgGi/dJLKEQEJg5dAiP4dAIbByaJEshEApXI/C9YSGQPp+arx0ToZAd76fGi/GikA=",
          "dtype": "f8"
         },
         "textposition": "auto",
         "type": "bar",
         "x": [
          "Oct",
          "Nov",
          "Dec",
          "Jan",
          "Feb",
          "Mar",
          "Apr"
         ],
         "xaxis": "x",
         "y": {
          "bdata": "z/dT46UXh0CgGi/dJLKEQEJg5dAiP4dAIbByaJEshEApXI/C9YSGQPp+arx0ToZAd76fGi/GikA=",
          "dtype": "f8"
         },
         "yaxis": "y"
        },
        {
         "hovertemplate": "Type=Forecast(2022-2023)<br>Month=%{x}<br>Avg_Sales=%{text}<extra></extra>",
         "legendgroup": "Forecast(2022-2023)",
         "marker": {
          "color": "#EF553B",
          "pattern": {
           "shape": ""
          }
         },
         "name": "Forecast(2022-2023)",
         "orientation": "v",
         "showlegend": true,
         "text": {
          "bdata": "4XoUrkfuiUBzaJHtfDCIQG3n+6nx14pAexSuR+FzhUA/NV66SbGHQDvfT42XUYhA30+Nl246jUA=",
          "dtype": "f8"
         },
         "textposition": "auto",
         "type": "bar",
         "x": [
          "Oct",
          "Nov",
          "Dec",
          "Jan",
          "Feb",
          "Mar",
          "Apr"
         ],
         "xaxis": "x",
         "y": {
          "bdata": "4XoUrkfuiUBzaJHtfDCIQG3n+6nx14pAexSuR+FzhUA/NV66SbGHQDvfT42XUYhA30+Nl246jUA=",
          "dtype": "f8"
         },
         "yaxis": "y"
        }
       ],
       "layout": {
        "barmode": "stack",
        "legend": {
         "title": {
          "text": "Type"
         },
         "tracegroupgap": 0
        },
        "template": {
         "data": {
          "bar": [
           {
            "error_x": {
             "color": "#2a3f5f"
            },
            "error_y": {
             "color": "#2a3f5f"
            },
            "marker": {
             "line": {
              "color": "#E5ECF6",
              "width": 0.5
             },
             "pattern": {
              "fillmode": "overlay",
              "size": 10,
              "solidity": 0.2
             }
            },
            "type": "bar"
           }
          ],
          "barpolar": [
           {
            "marker": {
             "line": {
              "color": "#E5ECF6",
              "width": 0.5
             },
             "pattern": {
              "fillmode": "overlay",
              "size": 10,
              "solidity": 0.2
             }
            },
            "type": "barpolar"
           }
          ],
          "carpet": [
           {
            "aaxis": {
             "endlinecolor": "#2a3f5f",
             "gridcolor": "white",
             "linecolor": "white",
             "minorgridcolor": "white",
             "startlinecolor": "#2a3f5f"
            },
            "baxis": {
             "endlinecolor": "#2a3f5f",
             "gridcolor": "white",
             "linecolor": "white",
             "minorgridcolor": "white",
             "startlinecolor": "#2a3f5f"
            },
            "type": "carpet"
           }
          ],
          "choropleth": [
           {
            "colorbar": {
             "outlinewidth": 0,
             "ticks": ""
            },
            "type": "choropleth"
           }
          ],
          "contour": [
           {
            "colorbar": {
             "outlinewidth": 0,
             "ticks": ""
            },
            "colorscale": [
             [
              0,
              "#0d0887"
             ],
             [
              0.1111111111111111,
              "#46039f"
             ],
             [
              0.2222222222222222,
              "#7201a8"
             ],
             [
              0.3333333333333333,
              "#9c179e"
             ],
             [
              0.4444444444444444,
              "#bd3786"
             ],
             [
              0.5555555555555556,
              "#d8576b"
             ],
             [
              0.6666666666666666,
              "#ed7953"
             ],
             [
              0.7777777777777778,
              "#fb9f3a"
             ],
             [
              0.8888888888888888,
              "#fdca26"
             ],
             [
              1,
              "#f0f921"
             ]
            ],
            "type": "contour"
           }
          ],
          "contourcarpet": [
           {
            "colorbar": {
             "outlinewidth": 0,
             "ticks": ""
            },
            "type": "contourcarpet"
           }
          ],
          "heatmap": [
           {
            "colorbar": {
             "outlinewidth": 0,
             "ticks": ""
            },
            "colorscale": [
             [
              0,
              "#0d0887"
             ],
             [
              0.1111111111111111,
              "#46039f"
             ],
             [
              0.2222222222222222,
              "#7201a8"
             ],
             [
              0.3333333333333333,
              "#9c179e"
             ],
             [
              0.4444444444444444,
              "#bd3786"
             ],
             [
              0.5555555555555556,
              "#d8576b"
             ],
             [
              0.6666666666666666,
              "#ed7953"
             ],
             [
              0.7777777777777778,
              "#fb9f3a"
             ],
             [
              0.8888888888888888,
              "#fdca26"
             ],
             [
              1,
              "#f0f921"
             ]
            ],
            "type": "heatmap"
           }
          ],
          "histogram": [
           {
            "marker": {
             "pattern": {
              "fillmode": "overlay",
              "size": 10,
              "solidity": 0.2
             }
            },
            "type": "histogram"
           }
          ],
          "histogram2d": [
           {
            "colorbar": {
             "outlinewidth": 0,
             "ticks": ""
            },
            "colorscale": [
             [
              0,
              "#0d0887"
             ],
             [
              0.1111111111111111,
              "#46039f"
             ],
             [
              0.2222222222222222,
              "#7201a8"
             ],
             [
              0.3333333333333333,
              "#9c179e"
             ],
             [
              0.4444444444444444,
              "#bd3786"
             ],
             [
              0.5555555555555556,
              "#d8576b"
             ],
             [
              0.6666666666666666,
              "#ed7953"
             ],
             [
              0.7777777777777778,
              "#fb9f3a"
             ],
             [
              0.8888888888888888,
              "#fdca26"
             ],
             [
              1,
              "#f0f921"
             ]
            ],
            "type": "histogram2d"
           }
          ],
          "histogram2dcontour": [
           {
            "colorbar": {
             "outlinewidth": 0,
             "ticks": ""
            },
            "colorscale": [
             [
              0,
              "#0d0887"
             ],
             [
              0.1111111111111111,
              "#46039f"
             ],
             [
              0.2222222222222222,
              "#7201a8"
             ],
             [
              0.3333333333333333,
              "#9c179e"
             ],
             [
              0.4444444444444444,
              "#bd3786"
             ],
             [
              0.5555555555555556,
              "#d8576b"
             ],
             [
              0.6666666666666666,
              "#ed7953"
             ],
             [
              0.7777777777777778,
              "#fb9f3a"
             ],
             [
              0.8888888888888888,
              "#fdca26"
             ],
             [
              1,
              "#f0f921"
             ]
            ],
            "type": "histogram2dcontour"
           }
          ],
          "mesh3d": [
           {
            "colorbar": {
             "outlinewidth": 0,
             "ticks": ""
            },
            "type": "mesh3d"
           }
          ],
          "parcoords": [
           {
            "line": {
             "colorbar": {
              "outlinewidth": 0,
              "ticks": ""
             }
            },
            "type": "parcoords"
           }
          ],
          "pie": [
           {
            "automargin": true,
            "type": "pie"
           }
          ],
          "scatter": [
           {
            "fillpattern": {
             "fillmode": "overlay",
             "size": 10,
             "solidity": 0.2
            },
            "type": "scatter"
           }
          ],
          "scatter3d": [
           {
            "line": {
             "colorbar": {
              "outlinewidth": 0,
              "ticks": ""
             }
            },
            "marker": {
             "colorbar": {
              "outlinewidth": 0,
              "ticks": ""
             }
            },
            "type": "scatter3d"
           }
          ],
          "scattercarpet": [
           {
            "marker": {
             "colorbar": {
              "outlinewidth": 0,
              "ticks": ""
             }
            },
            "type": "scattercarpet"
           }
          ],
          "scattergeo": [
           {
            "marker": {
             "colorbar": {
              "outlinewidth": 0,
              "ticks": ""
             }
            },
            "type": "scattergeo"
           }
          ],
          "scattergl": [
           {
            "marker": {
             "colorbar": {
              "outlinewidth": 0,
              "ticks": ""
             }
            },
            "type": "scattergl"
           }
          ],
          "scattermap": [
           {
            "marker": {
             "colorbar": {
              "outlinewidth": 0,
              "ticks": ""
             }
            },
            "type": "scattermap"
           }
          ],
          "scattermapbox": [
           {
            "marker": {
             "colorbar": {
              "outlinewidth": 0,
              "ticks": ""
             }
            },
            "type": "scattermapbox"
           }
          ],
          "scatterpolar": [
           {
            "marker": {
             "colorbar": {
              "outlinewidth": 0,
              "ticks": ""
             }
            },
            "type": "scatterpolar"
           }
          ],
          "scatterpolargl": [
           {
            "marker": {
             "colorbar": {
              "outlinewidth": 0,
              "ticks": ""
             }
            },
            "type": "scatterpolargl"
           }
          ],
          "scatterternary": [
           {
            "marker": {
             "colorbar": {
              "outlinewidth": 0,
              "ticks": ""
             }
            },
            "type": "scatterternary"
           }
          ],
          "surface": [
           {
            "colorbar": {
             "outlinewidth": 0,
             "ticks": ""
            },
            "colorscale": [
             [
              0,
              "#0d0887"
             ],
             [
              0.1111111111111111,
              "#46039f"
             ],
             [
              0.2222222222222222,
              "#7201a8"
             ],
             [
              0.3333333333333333,
              "#9c179e"
             ],
             [
              0.4444444444444444,
              "#bd3786"
             ],
             [
              0.5555555555555556,
              "#d8576b"
             ],
             [
              0.6666666666666666,
              "#ed7953"
             ],
             [
              0.7777777777777778,
              "#fb9f3a"
             ],
             [
              0.8888888888888888,
              "#fdca26"
             ],
             [
              1,
              "#f0f921"
             ]
            ],
            "type": "surface"
           }
          ],
          "table": [
           {
            "cells": {
             "fill": {
              "color": "#EBF0F8"
             },
             "line": {
              "color": "white"
             }
            },
            "header": {
             "fill": {
              "color": "#C8D4E3"
             },
             "line": {
              "color": "white"
             }
            },
            "type": "table"
           }
          ]
         },
         "layout": {
          "annotationdefaults": {
           "arrowcolor": "#2a3f5f",
           "arrowhead": 0,
           "arrowwidth": 1
          },
          "autotypenumbers": "strict",
          "coloraxis": {
           "colorbar": {
            "outlinewidth": 0,
            "ticks": ""
           }
          },
          "colorscale": {
           "diverging": [
            [
             0,
             "#8e0152"
            ],
            [
             0.1,
             "#c51b7d"
            ],
            [
             0.2,
             "#de77ae"
            ],
            [
             0.3,
             "#f1b6da"
            ],
            [
             0.4,
             "#fde0ef"
            ],
            [
             0.5,
             "#f7f7f7"
            ],
            [
             0.6,
             "#e6f5d0"
            ],
            [
             0.7,
             "#b8e186"
            ],
            [
             0.8,
             "#7fbc41"
            ],
            [
             0.9,
             "#4d9221"
            ],
            [
             1,
             "#276419"
            ]
           ],
           "sequential": [
            [
             0,
             "#0d0887"
            ],
            [
             0.1111111111111111,
             "#46039f"
            ],
            [
             0.2222222222222222,
             "#7201a8"
            ],
            [
             0.3333333333333333,
             "#9c179e"
            ],
            [
             0.4444444444444444,
             "#bd3786"
            ],
            [
             0.5555555555555556,
             "#d8576b"
            ],
            [
             0.6666666666666666,
             "#ed7953"
            ],
            [
             0.7777777777777778,
             "#fb9f3a"
            ],
            [
             0.8888888888888888,
             "#fdca26"
            ],
            [
             1,
             "#f0f921"
            ]
           ],
           "sequentialminus": [
            [
             0,
             "#0d0887"
            ],
            [
             0.1111111111111111,
             "#46039f"
            ],
            [
             0.2222222222222222,
             "#7201a8"
            ],
            [
             0.3333333333333333,
             "#9c179e"
            ],
            [
             0.4444444444444444,
             "#bd3786"
            ],
            [
             0.5555555555555556,
             "#d8576b"
            ],
            [
             0.6666666666666666,
             "#ed7953"
            ],
            [
             0.7777777777777778,
             "#fb9f3a"
            ],
            [
             0.8888888888888888,
             "#fdca26"
            ],
            [
             1,
             "#f0f921"
            ]
           ]
          },
          "colorway": [
           "#636efa",
           "#EF553B",
           "#00cc96",
           "#ab63fa",
           "#FFA15A",
           "#19d3f3",
           "#FF6692",
           "#B6E880",
           "#FF97FF",
           "#FECB52"
          ],
          "font": {
           "color": "#2a3f5f"
          },
          "geo": {
           "bgcolor": "white",
           "lakecolor": "white",
           "landcolor": "#E5ECF6",
           "showlakes": true,
           "showland": true,
           "subunitcolor": "white"
          },
          "hoverlabel": {
           "align": "left"
          },
          "hovermode": "closest",
          "mapbox": {
           "style": "light"
          },
          "paper_bgcolor": "white",
          "plot_bgcolor": "#E5ECF6",
          "polar": {
           "angularaxis": {
            "gridcolor": "white",
            "linecolor": "white",
            "ticks": ""
           },
           "bgcolor": "#E5ECF6",
           "radialaxis": {
            "gridcolor": "white",
            "linecolor": "white",
            "ticks": ""
           }
          },
          "scene": {
           "xaxis": {
            "backgroundcolor": "#E5ECF6",
            "gridcolor": "white",
            "gridwidth": 2,
            "linecolor": "white",
            "showbackground": true,
            "ticks": "",
            "zerolinecolor": "white"
           },
           "yaxis": {
            "backgroundcolor": "#E5ECF6",
            "gridcolor": "white",
            "gridwidth": 2,
            "linecolor": "white",
            "showbackground": true,
            "ticks": "",
            "zerolinecolor": "white"
           },
           "zaxis": {
            "backgroundcolor": "#E5ECF6",
            "gridcolor": "white",
            "gridwidth": 2,
            "linecolor": "white",
            "showbackground": true,
            "ticks": "",
            "zerolinecolor": "white"
           }
          },
          "shapedefaults": {
           "line": {
            "color": "#2a3f5f"
           }
          },
          "ternary": {
           "aaxis": {
            "gridcolor": "white",
            "linecolor": "white",
            "ticks": ""
           },
           "baxis": {
            "gridcolor": "white",
            "linecolor": "white",
            "ticks": ""
           },
           "bgcolor": "#E5ECF6",
           "caxis": {
            "gridcolor": "white",
            "linecolor": "white",
            "ticks": ""
           }
          },
          "title": {
           "x": 0.05
          },
          "xaxis": {
           "automargin": true,
           "gridcolor": "white",
           "linecolor": "white",
           "ticks": "",
           "title": {
            "standoff": 15
           },
           "zerolinecolor": "white",
           "zerolinewidth": 2
          },
          "yaxis": {
           "automargin": true,
           "gridcolor": "white",
           "linecolor": "white",
           "ticks": "",
           "title": {
            "standoff": 15
           },
           "zerolinecolor": "white",
           "zerolinewidth": 2
          }
         }
        },
        "title": {
         "text": "Average Sales (Actual vs Forecast)"
        },
        "xaxis": {
         "anchor": "y",
         "domain": [
          0,
          1
         ],
         "title": {
          "text": "Month"
         }
        },
        "yaxis": {
         "anchor": "x",
         "domain": [
          0,
          1
         ],
         "title": {
          "text": "Avg_Sales"
         }
        }
       }
      }
     },
     "metadata": {},
     "output_type": "display_data"
    }
   ],
   "source": [
    "plot_df = original_monthly_avg.merge(forecast_monthly_avg, on=\"Month\", how=\"inner\")\n",
    "plot_df_melt = plot_df.melt(id_vars=\"Month\", value_vars=[\"y\", \"yhat\"], var_name=\"Type\", value_name=\"Avg_Sales\")\n",
    "plot_df_melt[\"Type\"] = plot_df_melt[\"Type\"].map({\"y\": \"Actual(2021-2022)\", \"yhat\": \"Forecast(2022-2023)\"})\n",
    "\n",
    "fig = px.bar(\n",
    "    plot_df_melt,\n",
    "    x=\"Month\",\n",
    "    y=\"Avg_Sales\",\n",
    "    color=\"Type\",\n",
    "    barmode=\"stack\",\n",
    "    text=\"Avg_Sales\",\n",
    "    title=\"Average Sales (Actual vs Forecast)\"\n",
    ")\n",
    "fig.show()"
   ]
  },
  {
   "cell_type": "code",
   "execution_count": 291,
   "id": "13defa98",
   "metadata": {},
   "outputs": [],
   "source": [
    "# import pickle\n",
    "# filename = 'D:\\GenAIForecastExplain\\cake_model.pkl'\n",
    "# with open(filename, 'wb') as file:\n",
    "#     pickle.dump(prophet, file)"
   ]
  },
  {
   "cell_type": "code",
   "execution_count": 292,
   "id": "89cda200",
   "metadata": {},
   "outputs": [],
   "source": [
    "# holidays_df"
   ]
  },
  {
   "cell_type": "code",
   "execution_count": 293,
   "id": "a6ba92fa",
   "metadata": {},
   "outputs": [],
   "source": [
    "# print(forecast[['ds','yhat']])"
   ]
  },
  {
   "cell_type": "code",
   "execution_count": 294,
   "id": "8efd6b69",
   "metadata": {},
   "outputs": [],
   "source": [
    "# print(final_df)"
   ]
  },
  {
   "cell_type": "code",
   "execution_count": 295,
   "id": "3b982e03",
   "metadata": {},
   "outputs": [],
   "source": [
    "# holiday_names = [x for x in holidays_df['holiday']]\n",
    "# for holiday in holiday_names:\n",
    "#     holiday_names_in_forecast = forecast.columns[forecast.columns.str.startswith(holiday)].tolist()\n",
    "\n",
    "# # Drop those columns\n",
    "# forecast_no_holidays = forecast.drop(columns=holiday_names, axis=1)\n",
    "# forecast_no_holidays[['ds','trend','yhat_upper','yhat','yhat_lower']]"
   ]
  }
 ],
 "metadata": {
  "kernelspec": {
   "display_name": "Python 3",
   "language": "python",
   "name": "python3"
  },
  "language_info": {
   "codemirror_mode": {
    "name": "ipython",
    "version": 3
   },
   "file_extension": ".py",
   "mimetype": "text/x-python",
   "name": "python",
   "nbconvert_exporter": "python",
   "pygments_lexer": "ipython3",
   "version": "3.13.5"
  }
 },
 "nbformat": 4,
 "nbformat_minor": 5
}
